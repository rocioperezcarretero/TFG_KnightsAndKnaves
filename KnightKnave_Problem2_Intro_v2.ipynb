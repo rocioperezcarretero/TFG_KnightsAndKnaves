{
 "cells": [
  {
   "cell_type": "code",
   "execution_count": 1,
   "metadata": {},
   "outputs": [
    {
     "data": {
      "text/plain": [
       "defined \u001b[32mtype\u001b[39m \u001b[36m∨\u001b[39m\r\n",
       "defined \u001b[32mtype\u001b[39m \u001b[36m∧\u001b[39m\r\n",
       "defined \u001b[32mtype\u001b[39m \u001b[36m⟶\u001b[39m\r\n",
       "defined \u001b[32mtype\u001b[39m \u001b[36m⊥\u001b[39m\r\n",
       "defined \u001b[32mtype\u001b[39m \u001b[36mTrue\u001b[39m\r\n",
       "defined \u001b[32mtype\u001b[39m \u001b[36m¬\u001b[39m"
      ]
     },
     "execution_count": 1,
     "metadata": {},
     "output_type": "execute_result"
    }
   ],
   "source": [
    "type ∨[P, Q] = Either[P, Q]\n",
    "type ∧[P, Q] = Tuple2[P, Q]\n",
    "type ⟶[P, Q] = P => Q\n",
    "type ⊥ = Nothing\n",
    "type True = Unit\n",
    "type ¬[P] = P => ⊥"
   ]
  },
  {
   "cell_type": "code",
   "execution_count": 2,
   "metadata": {},
   "outputs": [
    {
     "data": {
      "text/plain": [
       "defined \u001b[32mtype\u001b[39m \u001b[36mOr\u001b[39m\r\n",
       "defined \u001b[32mtype\u001b[39m \u001b[36mAnd\u001b[39m\r\n",
       "defined \u001b[32mtype\u001b[39m \u001b[36mImplies\u001b[39m\r\n",
       "defined \u001b[32mtype\u001b[39m \u001b[36mFalse\u001b[39m\r\n",
       "defined \u001b[32mtype\u001b[39m \u001b[36mTrue\u001b[39m\r\n",
       "defined \u001b[32mtype\u001b[39m \u001b[36mNot\u001b[39m"
      ]
     },
     "execution_count": 2,
     "metadata": {},
     "output_type": "execute_result"
    }
   ],
   "source": [
    "type Or[P, Q] = Either[P, Q]\n",
    "type And[P, Q] = Tuple2[P, Q]\n",
    "type Implies[P, Q] = P => Q\n",
    "type False = Nothing\n",
    "type True = Unit\n",
    "type Not[P] = P => ⊥"
   ]
  },
  {
   "cell_type": "code",
   "execution_count": 3,
   "metadata": {},
   "outputs": [
    {
     "data": {
      "text/plain": [
       "defined \u001b[32mclass\u001b[39m \u001b[36mInhabitant\u001b[39m"
      ]
     },
     "execution_count": 3,
     "metadata": {},
     "output_type": "execute_result"
    }
   ],
   "source": [
    "class Inhabitant{ x => \n",
    "    // Knight(x) -- `x` is a Knight\n",
    "    // \n",
    "    type Knight\n",
    "    \n",
    "    // Knave(x) -- `x` is a Knave (i.e. is not a Knight)\n",
    "    // \n",
    "    type Knave = ¬[Knight]\n",
    "    \n",
    "    // Says(x, P) -- `x` says that `P` holds, i.e. asserts proposition `P`\n",
    "    // \n",
    "    type Says[P]\n",
    "}"
   ]
  },
  {
   "cell_type": "code",
   "execution_count": 4,
   "metadata": {},
   "outputs": [
    {
     "data": {
      "text/plain": [
       "defined \u001b[32mtrait\u001b[39m \u001b[36mKnightsKnaves\u001b[39m"
      ]
     },
     "execution_count": 4,
     "metadata": {},
     "output_type": "execute_result"
    }
   ],
   "source": [
    "trait KnightsKnaves{\n",
    "    // P1. Inhabitants are knights or knaves\n",
    "    // \n",
    "    //     ∀ x. Inhabitant(x) ⟶ Knight(x) ∨ Knave(x) \n",
    "    // \n",
    "    def P1(x: Inhabitant): x.Knight ∨ x.Knave\n",
    "    \n",
    "    // In Scala 3\n",
    "    // val P1: (x: Inhabitant) => Either[x.Knight, x.Knave]\n",
    "    \n",
    "    // P2. Knights are truth tellers\n",
    "    // \n",
    "    //     ∀ P. ∀ x. Knight(x) ⟶ Says(x, P) ⟶ P\n",
    "    // \n",
    "    def P2[P](x: Inhabitant): x.Knight => x.Says[P] => P\n",
    "    \n",
    "    // In Scala 3\n",
    "    // val P2: [P] => (x: Inhabitant) => x.Knight => x.Says[P] => P\n",
    "    \n",
    "    // P3. Knaves are persistent liers\n",
    "    // \n",
    "    //     ∀ P. ∀ x. Knight(x) ⟶ Says(x, P) ⟶ ¬P\n",
    "    // \n",
    "    def P3[P](x: Inhabitant): x.Knave => x.Says[P] => ¬[P]\n",
    "}"
   ]
  },
  {
   "cell_type": "markdown",
   "metadata": {},
   "source": [
    "# Puzzles Introducción\n",
    "\n",
    "Primero se consideran 5 preguntas que servirán como introduccion a la logica \n",
    "knight-knave para aquellos que no estén familiarizados con ella y como un\n",
    "breve curso recordatorio para los que lo están."
   ]
  },
  {
   "cell_type": "markdown",
   "metadata": {},
   "source": [
    "#### 2. Is it possible for an inhabitant of the island to claim that he and his brother are both knaves?\n",
    "\n",
    "This question has provoked a good deal of controversy! Some claim that anyone who says that he and his brother are both knaves is certainly claiming that he is a knave, which is not possible, as we have seen in the answer to Question 1. Therefore, they conclude, no inhabitant can claim that he and his brother are both knaves.\n",
    "\n",
    "This argument is wrong! Suppose an inhabitant A is a knave and his brother B is a knight. Then it is false that he and his brother are both knaves, hence he, as a knave, is certainly capable of making that false statement. Therefore it is possible for an inhabitant to claim that he and his brother are both knaves, but only if he is a knave and his brother is a knight.\n",
    "\n",
    "This illustrates a curious principle about the logic of lying and truth-telling: Normally, if a truthful person claims that both of two statements are true, then he will certainly claim that each of the statements is true separately. But with a constant liar, the matter is different. Consider the following two statements: (1) My brother is a knave; (2) I am a knave. A\n",
    "knave could claim that (1) and (2) together are both true, provided his brother is actually a knight, but he cannot claim (1) and claim (2)  separately, since he cannot claim (2). Again, a knave could say: \"I am a knave and two plus two is five, \" but he cannot separately claim: (1) \"I am a knave\"; (2) \"Two plus two is five.\""
   ]
  },
  {
   "cell_type": "code",
   "execution_count": 8,
   "metadata": {},
   "outputs": [],
   "source": [
    "/* \n",
    "Es posible para un habitante de la isla afirmar que él y su hermano son ambos knaves?¿\n",
    "\n",
    "Si A es un knave y su hermano B es un Knight:\n",
    "El predicado A y B son ambos knaves es FALSO, pero al ser A un knave (que siempre miente), podria afirmar que A y B \n",
    "son ambos knaves\n",
    "\n",
    "Por tanto la signatura es:\n",
    "\n",
    "x.dice[(x.knave and y.knave)] => (se cumple solo si) x.knave and y.knight\n",
    "\n",
    "x.Says[(x.Knave,y.Knave)] => (x.Knave,y.Knight)\n",
    "\n",
    "*/"
   ]
  },
  {
   "cell_type": "code",
   "execution_count": 15,
   "metadata": {},
   "outputs": [
    {
     "data": {
      "text/plain": [
       "defined \u001b[32mfunction\u001b[39m \u001b[36mpuzzle2\u001b[39m"
      ]
     },
     "execution_count": 15,
     "metadata": {},
     "output_type": "execute_result"
    }
   ],
   "source": [
    "// POSIBLE SOLUCION - VERSION 3\n",
    "\n",
    "def puzzle2(premises: KnightsKnaves)(x: Inhabitant)(y: Inhabitant): x.Says[(x.Knave,y.Knave)] => (x.Knave,y.Knight) = \n",
    "    ({xSay: x.Says[(x.Knave,y.Knave)] => \n",
    "        (premises.P1(x) match{\n",
    "            case Left(xKnight: x.Knight) =>\n",
    "                // def P2[P](x: Inhabitant): x.Knight => x.Says[P] => P\n",
    "                val x_L1: x.Knight => x.Says[(x.Knave,y.Knave)] => (x.Knave,y.Knave) = premises.P2[(x.Knave,y.Knave)](x)\n",
    "                val x_L2: x.Says[(x.Knave,y.Knave)] => (x.Knave,y.Knave) = x_L1(xKnight)\n",
    "                val x_L3: (x.Knave,y.Knave) = x_L2(xSay)\n",
    "                x_L3._1: x.Knave\n",
    "                x_L3._2: y.Knave\n",
    "                \n",
    "                val x_L4: x.Knight => Nothing = x_L3._1\n",
    "                (x_L3._1, x_L4(xKnight)) : (x.Knave,y.Knight)\n",
    "            \n",
    "            case Right(xKnave: x.Knave) =>\n",
    "                \n",
    "                //def P3[P](x: Inhabitant): x.Knave => x.Says[P] => ¬[P]\n",
    "                val x_R1: x.Knave => x.Says[(x.Knave,y.Knave)] => ¬[(x.Knave,y.Knave)] = premises.P3[(x.Knave,y.Knave)](x)\n",
    "                val x_R2: x.Says[(x.Knave,y.Knave)] => ¬[(x.Knave,y.Knave)] = x_R1(xKnave)\n",
    "                //val x_R3: ¬[(x.Knave,y.Knave)] = x_R2(xSay)\n",
    "                val x_R3: ((x.Knave,y.Knave)) => Nothing = x_R2(xSay)\n",
    "                \n",
    "                //Para usar la funcion x_R3 necesito una tupla con x.Knave que ya lo tengo y con y.Knave que no lo tengo\n",
    "                //Por eso necesito usar la P1 con (y) y poder sacar el y.Knave\n",
    "            \n",
    "                (premises.P1(y) match{\n",
    "                    // Siempre que se hace un pattern matching hay que poner ambas ramas\n",
    "                    case Left(yKnight: y.Knight) => (xKnave, yKnight) : (x.Knave,y.Knight)\n",
    "                    // En el caso de Left, ya tengo el y.Knight asi que he obtenido la tupla (x.Knave,y.Knight)\n",
    "                    case Right(yKnave: y.Knave) => x_R3((xKnave, yKnave)) : (x.Knave,y.Knight)\n",
    "                    // En el caso del Right, solo tengo el x.Knave pero NO el y.Knight, pero puedo obtener un Nothing \n",
    "                    // en lugar de la tupla (x.Knave,y.Knight), porque el tipo Nothing es equivalente al tipo (x.Knave,y.Knight)\n",
    "                }): (x.Knave,y.Knight) // Esta definicion de datos se puede quitar\n",
    "                \n",
    "        }): (x.Knave,y.Knight)\n",
    "    })"
   ]
  },
  {
   "cell_type": "code",
   "execution_count": 16,
   "metadata": {},
   "outputs": [
    {
     "data": {
      "text/plain": [
       "defined \u001b[32mfunction\u001b[39m \u001b[36mpuzzle2\u001b[39m"
      ]
     },
     "execution_count": 16,
     "metadata": {},
     "output_type": "execute_result"
    }
   ],
   "source": [
    "// POSIBLE SOLUCION - VERSION 3 - SIMPLIFICADO\n",
    "\n",
    "def puzzle2(premises: KnightsKnaves)(x: Inhabitant)(y: Inhabitant): x.Says[(x.Knave,y.Knave)] => (x.Knave,y.Knight) = \n",
    "    ({xSay => \n",
    "        (premises.P1(x) match{\n",
    "            case Left(xKnight) =>\n",
    "                val x_L1: x.Knight => x.Says[(x.Knave,y.Knave)] => (x.Knave,y.Knave) = premises.P2[(x.Knave,y.Knave)](x)\n",
    "                val x_L2: x.Says[(x.Knave,y.Knave)] => (x.Knave,y.Knave) = x_L1(xKnight)\n",
    "                val x_L3: (x.Knave,y.Knave) = x_L2(xSay)\n",
    "                val x_L4: x.Knight => Nothing = x_L3._1 //Esto se puede obviar\n",
    "                (x_L3._1, x_L4(xKnight)) //Obviando x_L4, podemos sacar x_L3._1(xKnight) : (x.Knave,y.Knight)\n",
    "                (x_L3._1, x_L4(xKnight)) // x_L3._1(xKnight) : (x.Knave,y.Knight)\n",
    "                \n",
    "            \n",
    "            case Right(xKnave) =>\n",
    "                val x_R1: x.Knave => x.Says[(x.Knave,y.Knave)] => ¬[(x.Knave,y.Knave)] = premises.P3[(x.Knave,y.Knave)](x)\n",
    "                val x_R2: x.Says[(x.Knave,y.Knave)] => ¬[(x.Knave,y.Knave)] = x_R1(xKnave)\n",
    "                val x_R3: ((x.Knave,y.Knave)) => Nothing = x_R2(xSay)\n",
    "                \n",
    "                premises.P1(y) match{\n",
    "                    case Left(yKnight) => (xKnave, yKnight) \n",
    "                    case Right(yKnave) => x_R3((xKnave, yKnave)) \n",
    "                }\n",
    "                \n",
    "        })\n",
    "    })"
   ]
  },
  {
   "cell_type": "code",
   "execution_count": 19,
   "metadata": {},
   "outputs": [
    {
     "name": "stderr",
     "output_type": "stream",
     "text": [
      "cmd19.sc:8: type mismatch;\n",
      " found   : x.Says[(x.Knave, y.Knave)]\n",
      "    (which expands to)  x.Says[(x.Knight => Nothing, y.Knight => Nothing)]\n",
      " required: x.Says[ammonite.$sess.cmd17.wrapper.cmd1.Not[?]]\n",
      "    (which expands to)  x.Says[? => Nothing]\n",
      "                val aux1 = premises.noKnightLies(x)(xIsKnight)(xSaysXisKnaveYisKnave: x.Says[(x.Knave,y.Knave)]): (x.Knight => Nothing, y.Knight => Nothing)\n",
      "                                                                                    ^Compilation Failed"
     ]
    },
    {
     "ename": "",
     "evalue": "",
     "output_type": "error",
     "traceback": [
      "Compilation Failed"
     ]
    }
   ],
   "source": [
    "// Sugar version\n",
    "/*\n",
    "def puzzle2(premises: KnightsKnaves)(x: Inhabitant)(y: Inhabitant): x.Says[(x.Knave,y.Knave)] => (x.Knave,y.Knight) = \n",
    "    ({xSay => \n",
    "        (premises.P1(x) match{\n",
    "            case Left(xKnight) =>\n",
    "                val x_L1: x.Knight => x.Says[(x.Knave,y.Knave)] => (x.Knave,y.Knave) = premises.P2[(x.Knave,y.Knave)](x)\n",
    "                val x_L2: x.Says[(x.Knave,y.Knave)] => (x.Knave,y.Knave) = x_L1(xKnight)\n",
    "                val x_L3: (x.Knave,y.Knave) = x_L2(xSay)\n",
    "                val x_L4: x.Knight => Nothing = x_L3._1 //Esto se puede obviar\n",
    "                (x_L3._1, x_L4(xKnight)) //Obviando x_L4, podemos sacar x_L3._1(xKnight) : (x.Knave,y.Knight)\n",
    "            \n",
    "            case Right(xKnave) =>\n",
    "                val x_R1: x.Knave => x.Says[(x.Knave,y.Knave)] => ¬[(x.Knave,y.Knave)] = premises.P3[(x.Knave,y.Knave)](x)\n",
    "                val x_R2: x.Says[(x.Knave,y.Knave)] => ¬[(x.Knave,y.Knave)] = x_R1(xKnave)\n",
    "                val x_R3: ((x.Knave,y.Knave)) => Nothing = x_R2(xSay)\n",
    "                \n",
    "                premises.P1(y) match{\n",
    "                    case Left(yKnight) => (xKnave, yKnight) \n",
    "                    case Right(yKnave) => x_R3((xKnave, yKnave)) \n",
    "                }\n",
    "                \n",
    "        })\n",
    "    })\n",
    "\n",
    "*/\n",
    "\n",
    "def puzzle2(premises: KnightsKnaves)(x: Inhabitant)(y: Inhabitant): x.Says[(x.Knave,y.Knave)] => (x.Knave,y.Knight) = \n",
    "    xSaysXisKnaveYisKnave =>\n",
    "    //({xSay =>\n",
    "        premises.eitherKnightOrKnave(x).fold(\n",
    "        //(premises.P1(x) match{    \n",
    "            { xIsKnight => \n",
    "            //case Left(xKnight) =>\n",
    "                //def P2[P](x: Inhabitant): x.Knight => x.Says[P] => P\n",
    "                val aux1 = premises.noKnightLies(x)(xIsKnight)(xSaysXisKnaveYisKnave: x.Says[(x.Knave,y.Knave)]): (x.Knave,y.Knave)\n",
    "                //aux._1: x.Knave y aux._2: y.Knave\n",
    "                aux1._1(xIsKnight)\n",
    "            },\n",
    "            { xIsKnave => \n",
    "            //case Right(xKnave) =>\n",
    "                //def P3[P](x: Inhabitant): x.Knave => x.Says[P] => ¬[P]\n",
    "                val aux2 = premises.noKnaveTellsTruth(x)(xIsKnave)(xSaysXisKnaveYisKnave: x.Says[(x.Knave,y.Knave)]): Not[(x.Knave,y.Knave)]\n",
    "                premises.eitherKnightOrKnave(y).fold(\n",
    "                //premises.P1(y) match{\n",
    "                    yIsKnight =>\n",
    "                    //case Left(yKnight) => (xKnave, yKnight) \n",
    "                        (xIsKnave, yIsKnight),\n",
    "                    yIsKnave =>\n",
    "                    //case Right(yKnave) => x_R3((xKnave, yKnave)) \n",
    "                        aux2((xIsKnave, yIsKnave))\n",
    "                )\n",
    "            }\n",
    "    )"
   ]
  }
 ],
 "metadata": {
  "kernelspec": {
   "display_name": "Scala",
   "language": "scala",
   "name": "scala"
  },
  "language_info": {
   "codemirror_mode": "text/x-scala",
   "file_extension": ".sc",
   "mimetype": "text/x-scala",
   "name": "scala",
   "nbconvert_exporter": "script",
   "version": "2.13.3"
  }
 },
 "nbformat": 4,
 "nbformat_minor": 4
}
