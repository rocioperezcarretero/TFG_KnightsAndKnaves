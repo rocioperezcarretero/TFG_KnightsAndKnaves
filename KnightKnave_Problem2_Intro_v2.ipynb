{
 "cells": [
  {
   "cell_type": "code",
   "execution_count": 1,
   "metadata": {},
   "outputs": [
    {
     "data": {
      "text/plain": [
       "defined \u001b[32mtype\u001b[39m \u001b[36m∨\u001b[39m\r\n",
       "defined \u001b[32mtype\u001b[39m \u001b[36m∧\u001b[39m\r\n",
       "defined \u001b[32mtype\u001b[39m \u001b[36m⟶\u001b[39m\r\n",
       "defined \u001b[32mtype\u001b[39m \u001b[36m⊥\u001b[39m\r\n",
       "defined \u001b[32mtype\u001b[39m \u001b[36mTrue\u001b[39m\r\n",
       "defined \u001b[32mtype\u001b[39m \u001b[36m¬\u001b[39m"
      ]
     },
     "execution_count": 1,
     "metadata": {},
     "output_type": "execute_result"
    }
   ],
   "source": [
    "type ∨[P, Q] = Either[P, Q]\n",
    "type ∧[P, Q] = Tuple2[P, Q]\n",
    "type ⟶[P, Q] = P => Q\n",
    "type ⊥ = Nothing\n",
    "type True = Unit\n",
    "type ¬[P] = P => ⊥"
   ]
  },
  {
   "cell_type": "code",
   "execution_count": 2,
   "metadata": {},
   "outputs": [
    {
     "data": {
      "text/plain": [
       "defined \u001b[32mtype\u001b[39m \u001b[36mOr\u001b[39m\r\n",
       "defined \u001b[32mtype\u001b[39m \u001b[36mAnd\u001b[39m\r\n",
       "defined \u001b[32mtype\u001b[39m \u001b[36mImplies\u001b[39m\r\n",
       "defined \u001b[32mtype\u001b[39m \u001b[36mFalse\u001b[39m\r\n",
       "defined \u001b[32mtype\u001b[39m \u001b[36mTrue\u001b[39m\r\n",
       "defined \u001b[32mtype\u001b[39m \u001b[36mNot\u001b[39m"
      ]
     },
     "execution_count": 2,
     "metadata": {},
     "output_type": "execute_result"
    }
   ],
   "source": [
    "type Or[P, Q] = Either[P, Q]\n",
    "type And[P, Q] = Tuple2[P, Q]\n",
    "type Implies[P, Q] = P => Q\n",
    "type False = Nothing\n",
    "type True = Unit\n",
    "type Not[P] = P => ⊥"
   ]
  },
  {
   "cell_type": "code",
   "execution_count": 3,
   "metadata": {},
   "outputs": [
    {
     "data": {
      "text/plain": [
       "defined \u001b[32mclass\u001b[39m \u001b[36mInhabitant\u001b[39m"
      ]
     },
     "execution_count": 3,
     "metadata": {},
     "output_type": "execute_result"
    }
   ],
   "source": [
    "class Inhabitant{ x => \n",
    "    // Knight(x) -- `x` is a Knight\n",
    "    // \n",
    "    type Knight\n",
    "    \n",
    "    // Knave(x) -- `x` is a Knave (i.e. is not a Knight)\n",
    "    // \n",
    "    type Knave = ¬[Knight]\n",
    "    \n",
    "    // Says(x, P) -- `x` says that `P` holds, i.e. asserts proposition `P`\n",
    "    // \n",
    "    type Says[P]\n",
    "}"
   ]
  },
  {
   "cell_type": "code",
   "execution_count": 4,
   "metadata": {},
   "outputs": [
    {
     "data": {
      "text/plain": [
       "defined \u001b[32mtrait\u001b[39m \u001b[36mKnightsKnaves\u001b[39m"
      ]
     },
     "execution_count": 4,
     "metadata": {},
     "output_type": "execute_result"
    }
   ],
   "source": [
    "trait KnightsKnaves{\n",
    "    // P1. Inhabitants are knights or knaves\n",
    "    // \n",
    "    //     ∀ x. Inhabitant(x) ⟶ Knight(x) ∨ Knave(x) \n",
    "    // \n",
    "    def P1(x: Inhabitant): x.Knight ∨ x.Knave\n",
    "    \n",
    "    // In Scala 3\n",
    "    // val P1: (x: Inhabitant) => Either[x.Knight, x.Knave]\n",
    "    \n",
    "    // P2. Knights are truth tellers\n",
    "    // \n",
    "    //     ∀ P. ∀ x. Knight(x) ⟶ Says(x, P) ⟶ P\n",
    "    // \n",
    "    def P2[P](x: Inhabitant): x.Knight => x.Says[P] => P\n",
    "    \n",
    "    // In Scala 3\n",
    "    // val P2: [P] => (x: Inhabitant) => x.Knight => x.Says[P] => P\n",
    "    \n",
    "    // P3. Knaves are persistent liers\n",
    "    // \n",
    "    //     ∀ P. ∀ x. Knight(x) ⟶ Says(x, P) ⟶ ¬P\n",
    "    // \n",
    "    def P3[P](x: Inhabitant): x.Knave => x.Says[P] => ¬[P]\n",
    "}"
   ]
  },
  {
   "cell_type": "markdown",
   "metadata": {},
   "source": [
    "# Puzzle 1 - Ejemplo.\n",
    "Is it possible for any inhabitant of this island to claim that he is a knave?\n",
    "\n",
    "\n",
    "No; no inhabitant can claim to be a knave because no knight would lie and say he is a knave and no knave would truthfully admit to being a knave."
   ]
  },
  {
   "cell_type": "code",
   "execution_count": 5,
   "metadata": {},
   "outputs": [
    {
     "data": {
      "text/plain": [
       "defined \u001b[32mfunction\u001b[39m \u001b[36mpuzzle1\u001b[39m"
      ]
     },
     "execution_count": 5,
     "metadata": {},
     "output_type": "execute_result"
    }
   ],
   "source": [
    "// { P1, P2, P3 } ⊢ ∀ x. Inhabitant(x) ⟶ ¬Says(x, Knave(x))\n",
    "\n",
    "def puzzle1(premises: KnightsKnaves)(x: Inhabitant): ¬[x.Says[x.Knave]] = \n",
    "    // 1. Says(x, Knave(x))                                       ; hypothesis\n",
    "    ((_1: x.Says[x.Knave]) => \n",
    "         (premises.P1(x) match {\n",
    "             // 2. Knight(x)                                      ; hypothesis\n",
    "             case Left(_2: x.Knight) => \n",
    "                 //   3. Knight(x) → Says(x, Knave(x)) → Knave(x) ; P2[Knave(x),x]\n",
    "                 val _3: x.Knight => x.Says[x.Knave] => x.Knave = premises.P2[x.Knave](x)\n",
    "                 //   4. Says(x, Knave(x)) → Knave(x)             ; ⟶E(3,2)\n",
    "                 val _4: x.Says[x.Knave] => x.Knave = _3(_2)\n",
    "                 //   5. Knave(x)                                 ; ⟶E(4,1)\n",
    "                 //   5. ¬ Knight(x)                              ; ≝ Knave\n",
    "                 //   5. Knight(x) → ⊥                            ; ≝ ¬ \n",
    "                 val _5: x.Knight => ⊥ = _4(_1)\n",
    "                 //   6. ⊥                                        ; ⟶E(5,2)\n",
    "                 _5(_2) : ⊥\n",
    "\n",
    "             //  _7. Knave(x)                                     ; hypothesis\n",
    "             case Right(_7: x.Knave) => \n",
    "                 //   8. Knave(x) → Says(x, Knave(x)) → ¬ Knave(x) ; P3[Knave(x),x]\n",
    "                 val _8: x.Knave => x.Says[x.Knave] => ¬[x.Knave] = premises.P3[x.Knave](x)\n",
    "                 //   9. Says(x, Knave(x)) → ¬ Knave(x)            ; ⟶E(8,7)\n",
    "                 val _9: x.Says[x.Knave] => ¬[x.Knave] = _8(_7)\n",
    "                 //   10. ¬ Knave(x)                               ; ⟶E(9,1)\n",
    "                 //   10. Knave(x) → ⊥                             ; ≝ ¬ \n",
    "                 val _10: x.Knave => ⊥ = _9(_1)\n",
    "                 //  11. ⊥                                         ; ⟶E(10,7)\n",
    "                 _10(_7) : ⊥\n",
    "\n",
    "        // _12. ⊥                                                  ; ∨E(P1, 2-6, 7-11)\n",
    "        }) : False\n",
    "\n",
    "    // _13. Says(x, Knave(x)) ⟶ ⊥                                  ; ⟶I(1-12)\n",
    "    // _13. ¬ Says(x, Knave(x))                                    ; ≝ ¬ \n",
    "    ) : ¬[x.Says[x.Knave]]"
   ]
  },
  {
   "cell_type": "code",
   "execution_count": 6,
   "metadata": {},
   "outputs": [
    {
     "data": {
      "text/plain": [
       "defined \u001b[32mfunction\u001b[39m \u001b[36mpuzzle1\u001b[39m"
      ]
     },
     "execution_count": 6,
     "metadata": {},
     "output_type": "execute_result"
    }
   ],
   "source": [
    "// { P1, P2, P3 } ⊢ ∀ x. Inhabitant(x) ⟶ ¬Says(x, Knave(x))\n",
    "\n",
    "def puzzle1(premises: KnightsKnaves)(x: Inhabitant): x.Says[x.Knave] => Nothing =\n",
    "    // 1. Says(x, Knave(x))                                       ; hypothesis\n",
    "    ((_1: x.Says[x.Knave]) => \n",
    "         (premises.P1(x) match {\n",
    "             // 2. Knight(x)                                      ; hypothesis\n",
    "             case Left(_2: x.Knight) => \n",
    "                 //   3. Knight(x) → Says(x, Knave(x)) → Knave(x) ; P2[Knave(x),x]\n",
    "                 val _3: x.Knight => x.Says[x.Knave] => x.Knave = premises.P2[x.Knave](x)\n",
    "                 //   4. Says(x, Knave(x)) → Knave(x)             ; ⟶E(3,2)\n",
    "                 val _4: x.Says[x.Knave] => x.Knave = _3(_2)\n",
    "                 //   5. Knave(x)                                 ; ⟶E(4,1)\n",
    "                 //   5. ¬ Knight(x)                              ; ≝ Knave\n",
    "                 //   5. Knight(x) → ⊥                            ; ≝ ¬ \n",
    "                 val _5: x.Knight => ⊥ = _4(_1)\n",
    "                 //   6. ⊥                                        ; ⟶E(5,2)\n",
    "                 _5(_2) : ⊥\n",
    "\n",
    "             //  _7. Knave(x)                                     ; hypothesis\n",
    "             case Right(_7: x.Knave) => \n",
    "                 //   8. Knave(x) → Says(x, Knave(x)) → ¬ Knave(x) ; P3[Knave(x),x]\n",
    "                 val _8: x.Knave => x.Says[x.Knave] => ¬[x.Knave] = premises.P3[x.Knave](x)\n",
    "                 //   9. Says(x, Knave(x)) → ¬ Knave(x)            ; ⟶E(8,7)\n",
    "                 val _9: x.Says[x.Knave] => ¬[x.Knave] = _8(_7)\n",
    "                 //   10. ¬ Knave(x)                               ; ⟶E(9,1)\n",
    "                 //   10. Knave(x) → ⊥                             ; ≝ ¬ \n",
    "                 val _10: x.Knave => ⊥ = _9(_1)\n",
    "                 //  11. ⊥                                         ; ⟶E(10,7)\n",
    "                 _10(_7) : ⊥\n",
    "\n",
    "        // _12. ⊥                                                  ; ∨E(P1, 2-6, 7-11)\n",
    "        }) : False\n",
    "\n",
    "    // _13. Says(x, Knave(x)) ⟶ ⊥                                  ; ⟶I(1-12)\n",
    "    // _13. ¬ Says(x, Knave(x))                                    ; ≝ ¬ \n",
    "    ) : ¬[x.Says[x.Knave]]"
   ]
  },
  {
   "cell_type": "code",
   "execution_count": 7,
   "metadata": {},
   "outputs": [
    {
     "data": {
      "text/plain": [
       "defined \u001b[32mclass\u001b[39m \u001b[36mSomeSugar\u001b[39m"
      ]
     },
     "execution_count": 7,
     "metadata": {},
     "output_type": "execute_result"
    }
   ],
   "source": [
    "implicit class SomeSugar(P: KnightsKnaves){    \n",
    "    def eitherKnightOrKnave(x: Inhabitant): x.Knight Or x.Knave = P.P1(x)\n",
    "    def knightsAreTruthTellers[P](x: Inhabitant) = P.P2[P](x)\n",
    "    def knavesAreLiers[P](x: Inhabitant) = P.P3[P](x)\n",
    "    \n",
    "    def noKnightLies[P](x: Inhabitant): x.Knight => x.Says[Not[P]] => P => False = \n",
    "        xIsKnight => xSaysNotP => p => \n",
    "            P.P2[Not[P]](x)(xIsKnight)(xSaysNotP)(p)\n",
    "    \n",
    "    def noKnaveTellsTruth[P](x: Inhabitant): x.Knave => x.Says[P] => P => False = \n",
    "        xIsKnave => xSaysP => p => \n",
    "            P.P3[P](x)(xIsKnave)(xSaysP)(p)\n",
    "}"
   ]
  },
  {
   "cell_type": "code",
   "execution_count": 8,
   "metadata": {},
   "outputs": [
    {
     "data": {
      "text/plain": [
       "defined \u001b[32mfunction\u001b[39m \u001b[36mpuzzle1\u001b[39m"
      ]
     },
     "execution_count": 8,
     "metadata": {},
     "output_type": "execute_result"
    }
   ],
   "source": [
    "// { P1, P2, P3 } ⊢ ∀ x. Inhabitant(x) ⟶ ¬ Says(x, Knave(x))\n",
    "\n",
    "def puzzle1(premises: KnightsKnaves)(x: Inhabitant): Not[x.Says[x.Knave]] =\n",
    "    xSaysIsKnave =>\n",
    "        premises.eitherKnightOrKnave(x).fold(\n",
    "            xIsKnight => \n",
    "                // no knight would lie\n",
    "                premises.noKnightLies(x)(xIsKnight)(xSaysIsKnave)(xIsKnight),\n",
    "            xIsKnave => \n",
    "                // no knave would tell the truth\n",
    "                premises.noKnaveTellsTruth(x)(xIsKnave)(xSaysIsKnave)(xIsKnave)\n",
    "        )"
   ]
  },
  {
   "cell_type": "markdown",
   "metadata": {},
   "source": [
    "# Puzzles Introducción\n",
    "\n",
    "Primero se consideran 5 preguntas que servirán como introduccion a la logica \n",
    "knight-knave para aquellos que no estén familiarizados con ella y como un\n",
    "breve curso recordatorio para los que lo están."
   ]
  },
  {
   "cell_type": "markdown",
   "metadata": {},
   "source": [
    "#### 2. Is it possible for an inhabitant of the island to claim that he and his brother are both knaves?\n",
    "\n",
    "This question has provoked a good deal of controversy! Some claim that anyone who says that he and his brother are both knaves is certainly claiming that he is a knave, which is not possible, as we have seen in the answer to Question 1. Therefore, they conclude, no inhabitant can claim that he and his brother are both knaves.\n",
    "\n",
    "This argument is wrong! Suppose an inhabitant A is a knave and his brother B is a knight. Then it is false that he and his brother are both knaves, hence he, as a knave, is certainly capable of making that false statement. Therefore it is possible for an inhabitant to claim that he and his brother are both knaves, but only if he is a knave and his brother is a knight.\n",
    "\n",
    "This illustrates a curious principle about the logic of lying and truth-telling: Normally, if a truthful person claims that both of two statements are true, then he will certainly claim that each of the statements is true separately. But with a constant liar, the matter is different. Consider the following two statements: (1) My brother is a knave; (2) I am a knave. A\n",
    "knave could claim that (1) and (2) together are both true, provided his brother is actually a knight, but he cannot claim (1) and claim (2)  separately, since he cannot claim (2). Again, a knave could say: \"I am a knave and two plus two is five, \" but he cannot separately claim: (1) \"I am a knave\"; (2) \"Two plus two is five.\""
   ]
  },
  {
   "cell_type": "code",
   "execution_count": 9,
   "metadata": {},
   "outputs": [
    {
     "data": {
      "text/plain": [
       "defined \u001b[32mfunction\u001b[39m \u001b[36mpuzzle2\u001b[39m"
      ]
     },
     "execution_count": 9,
     "metadata": {},
     "output_type": "execute_result"
    }
   ],
   "source": [
    "def puzzle2(premises: KnightsKnaves)(x: Inhabitant)(y: Inhabitant): x.Says[And[x.Knave, y.Knave]] = ???"
   ]
  },
  {
   "cell_type": "code",
   "execution_count": 10,
   "metadata": {},
   "outputs": [
    {
     "data": {
      "text/plain": [
       "defined \u001b[32mfunction\u001b[39m \u001b[36mpuzzle2\u001b[39m"
      ]
     },
     "execution_count": 10,
     "metadata": {},
     "output_type": "execute_result"
    }
   ],
   "source": [
    "def puzzle2(premises: KnightsKnaves)(x: Inhabitant)(y: Inhabitant): x.Says[x.Knave And y.Knave] => x.Knave And y.Knight = ???"
   ]
  },
  {
   "cell_type": "code",
   "execution_count": 11,
   "metadata": {},
   "outputs": [
    {
     "data": {
      "text/plain": [
       "defined \u001b[32mfunction\u001b[39m \u001b[36mpuzzle2\u001b[39m"
      ]
     },
     "execution_count": 11,
     "metadata": {},
     "output_type": "execute_result"
    }
   ],
   "source": [
    "// POSIBLE SOLUCION - NUEVA VERSION \n",
    "\n",
    "def puzzle2(premises: KnightsKnaves)(x: Inhabitant)(y: Inhabitant): x.Says[(x.Knave,y.Knave)] => (x.Knave,y.Knight) = \n",
    "    ({xSay: x.Says[(x.Knave,y.Knave)] => \n",
    "        (premises.P1(x) match{\n",
    "            case Left(xKnight: x.Knight) =>\n",
    "                // def P2[P](x: Inhabitant): x.Knight => x.Says[P] => P\n",
    "                val x_L1: x.Knight => x.Says[(x.Knave,y.Knave)] => (x.Knave,y.Knave) = premises.P2[(x.Knave,y.Knave)](x)\n",
    "                val x_L2: x.Says[(x.Knave,y.Knave)] => (x.Knave,y.Knave) = x_L1(xKnight)\n",
    "                val x_L3: (x.Knave,y.Knave) = x_L2(xSay)\n",
    "                x_L3._1: x.Knave\n",
    "                x_L3._2: y.Knave\n",
    "                \n",
    "                val x_L4: x.Knight => Nothing = x_L3._1\n",
    "                (x_L3._1, x_L4(xKnight)) : (x.Knave,y.Knight)\n",
    "            \n",
    "            case Right(xKnave: x.Knave) =>\n",
    "                //¿Las definiciones aqui son necesarias? Al final no lo uso para nada\n",
    "                //def P3[P](x: Inhabitant): x.Knave => x.Says[P] => ¬[P]\n",
    "                val x_R1: x.Knave => x.Says[(x.Knave,y.Knave)] => ¬[(x.Knave,y.Knave)] = premises.P3[(x.Knave,y.Knave)](x)\n",
    "                val x_R2: x.Says[(x.Knave,y.Knave)] => ¬[(x.Knave,y.Knave)] = x_R1(xKnave)\n",
    "                //val x_R3: ¬[(x.Knave,y.Knave)] = x_R2(xSay)\n",
    "                val x_R3: ((x.Knave,y.Knave)) => Nothing = x_R2(xSay)\n",
    "                //De x_4R no puedo sacar un valor de Nothing aun porque no tengo un valor real de x.Knight en la rama Right\n",
    "                val x_4R: x.Knight => Nothing = xKnave\n",
    "            \n",
    "                (xKnave, ({premises.P1(y) match{\n",
    "                                case Left(yKnight: y.Knight) => \n",
    "                                    yKnight : y.Knight\n",
    "                                /* ¿Tengo que desarrollar esta rama?\n",
    "                                case Right(yKnave: y.Knave) => \n",
    "                                    ??? : y.Knight\n",
    "                                */\n",
    "                                }\n",
    "                          }): y.Knight) : (x.Knave,y.Knight)\n",
    "        }): (x.Knave,y.Knight)})"
   ]
  },
  {
   "cell_type": "code",
   "execution_count": 12,
   "metadata": {},
   "outputs": [
    {
     "data": {
      "text/plain": [
       "defined \u001b[32mfunction\u001b[39m \u001b[36mpuzzle2\u001b[39m"
      ]
     },
     "execution_count": 12,
     "metadata": {},
     "output_type": "execute_result"
    }
   ],
   "source": [
    "// POSIBLE SOLUCION - NUEVA VERSION - SIMPLIFICADO\n",
    "\n",
    "def puzzle2(premises: KnightsKnaves)(x: Inhabitant)(y: Inhabitant): x.Says[(x.Knave,y.Knave)] => (x.Knave,y.Knight) = \n",
    "    ({xSay: x.Says[(x.Knave,y.Knave)] => \n",
    "        (premises.P1(x) match{\n",
    "            case Left(xKnight: x.Knight) =>\n",
    "                val x_L1: x.Knight => x.Says[(x.Knave,y.Knave)] => (x.Knave,y.Knave) = premises.P2[(x.Knave,y.Knave)](x)\n",
    "                val x_L2: x.Says[(x.Knave,y.Knave)] => (x.Knave,y.Knave) = x_L1(xKnight)\n",
    "                val x_L3: (x.Knave,y.Knave) = x_L2(xSay)\n",
    "                val x_L4: x.Knight => Nothing = x_L3._1\n",
    "                (x_L3._1, x_L4(xKnight))\n",
    "            \n",
    "            case Right(xKnave: x.Knave) =>\n",
    "                val x_R1: x.Knave => x.Says[(x.Knave,y.Knave)] => ¬[(x.Knave,y.Knave)] = premises.P3[(x.Knave,y.Knave)](x)\n",
    "                val x_R2: x.Says[(x.Knave,y.Knave)] => ¬[(x.Knave,y.Knave)] = x_R1(xKnave)\n",
    "                val x_R3: ((x.Knave,y.Knave)) => Nothing = x_R2(xSay)\n",
    "                val x_4R: x.Knight => Nothing = xKnave\n",
    "            \n",
    "                (xKnave, ({premises.P1(y) match{\n",
    "                                case Left(yKnight: y.Knight) => \n",
    "                                    yKnight : y.Knight\n",
    "                                /* ¿Tengo que desarrollar esta rama?\n",
    "                                case Right(yKnave: y.Knave) => \n",
    "                                    ??? : y.Knight\n",
    "                                */\n",
    "                                }\n",
    "                          }): y.Knight) : (x.Knave,y.Knight)\n",
    "        }): (x.Knave,y.Knight)})"
   ]
  },
  {
   "cell_type": "code",
   "execution_count": null,
   "metadata": {},
   "outputs": [],
   "source": []
  },
  {
   "cell_type": "code",
   "execution_count": 13,
   "metadata": {},
   "outputs": [
    {
     "data": {
      "text/plain": [
       "defined \u001b[32mfunction\u001b[39m \u001b[36mpuzzle2\u001b[39m"
      ]
     },
     "execution_count": 13,
     "metadata": {},
     "output_type": "execute_result"
    }
   ],
   "source": [
    "// SIMPLIFICADO\n",
    "def puzzle2(premises: KnightsKnaves)(x: Inhabitant)(y: Inhabitant): x.Says[(x.Knave,y.Knave)] => (x.Knave,y.Knight) = \n",
    "    (premises.P1(x) match {\n",
    "        case Left(xKnight) => \n",
    "            (xsaysL) => \n",
    "                val x_1L: x.Knight => x.Says[(x.Knave,y.Knave)] => (x.Knave,y.Knave) = premises.P2[(x.Knave,y.Knave)](x)\n",
    "                val x_2L: x.Says[(x.Knave,y.Knave)] => (x.Knave,y.Knave) = x_1L(xKnight)\n",
    "                val x_3L: ((x.Knave,y.Knave)) = x_2L(xsaysL)\n",
    "                x_3L._1: x.Knave\n",
    "                x_3L._2: y.Knave\n",
    "                val x_4L: x.Knight => Nothing = x_3L._1\n",
    "                (x_3L._1, x_4L(xKnight))\n",
    "                        \n",
    "        case Right(xKnave) => \n",
    "            (xsaysR) => \n",
    "                val x_1R: x.Knave => x.Says[(x.Knave,y.Knave)] => Not[(x.Knave,y.Knave)] = premises.P3[(x.Knave,y.Knave)](x)\n",
    "                val x_2R: x.Says[(x.Knave,y.Knave)] => Not[(x.Knave,y.Knave)] = x_1R(xKnave)\n",
    "                val x_3R: ((x.Knave,y.Knave)) => Nothing = x_2R(xsaysR)\n",
    "                val x_4R: x.Knight => Nothing = xKnave\n",
    "                premises.P1(y) match{\n",
    "                    case Left(yKnight) =>\n",
    "                        (ysaysL: y.Says[(x.Knave,y.Knave)]) => (xKnave, yKnight)\n",
    "                    case Right(yKnave) =>\n",
    "                        (ysaysR: y.Says[(x.Knave,y.Knave)]) => \n",
    "                            val y_1R: y.Knave => \n",
    "                                        y.Says[(x.Knave,y.Knave)] => \n",
    "                                            Not[(x.Knave,y.Knave)] = premises.P3[(x.Knave,y.Knave)](y)\n",
    "                            val y_2R: y.Says[(x.Knave,y.Knave)] => Not[(x.Knave,y.Knave)] = y_1R(yKnave)\n",
    "                            val y_3R: Not[(x.Knave,y.Knave)] = y_2R(ysaysR)\n",
    "                            y_3R(xKnave, yKnave)\n",
    "                            (xKnave, y_3R(xKnave, yKnave))\n",
    "                }\n",
    "                (xKnave, ??? : y.Knight)\n",
    "    })"
   ]
  },
  {
   "cell_type": "code",
   "execution_count": null,
   "metadata": {},
   "outputs": [],
   "source": []
  },
  {
   "cell_type": "code",
   "execution_count": null,
   "metadata": {},
   "outputs": [],
   "source": []
  },
  {
   "cell_type": "code",
   "execution_count": 14,
   "metadata": {},
   "outputs": [
    {
     "data": {
      "text/plain": [
       "defined \u001b[32mfunction\u001b[39m \u001b[36mpuzzle2\u001b[39m"
      ]
     },
     "execution_count": 14,
     "metadata": {},
     "output_type": "execute_result"
    }
   ],
   "source": [
    "// POSIBLE SOLUCION - NUEVA VERSION \n",
    "\n",
    "def puzzle2(premises: KnightsKnaves)(x: Inhabitant)(y: Inhabitant): x.Says[(x.Knave,y.Knave)] => (x.Knave,y.Knight) = \n",
    "    ({xSay: x.Says[(x.Knave,y.Knave)] => \n",
    "        (premises.P1(x) match{\n",
    "            case Left(xKnight: x.Knight) =>\n",
    "                // def P2[P](x: Inhabitant): x.Knight => x.Says[P] => P\n",
    "                val x_L1: x.Knight => x.Says[(x.Knave,y.Knave)] => (x.Knave,y.Knave) = premises.P2[(x.Knave,y.Knave)](x)\n",
    "                val x_L2: x.Says[(x.Knave,y.Knave)] => (x.Knave,y.Knave) = x_L1(xKnight)\n",
    "                val x_L3: (x.Knave,y.Knave) = x_L2(xSay)\n",
    "                x_L3._1: x.Knave\n",
    "                x_L3._2: y.Knave\n",
    "                \n",
    "                val x_L4: x.Knight => Nothing = x_L3._1\n",
    "                (x_L3._1, x_L4(xKnight)) : (x.Knave,y.Knight)\n",
    "            \n",
    "            case Right(xKnave: x.Knave) =>\n",
    "                //¿Las definiciones aqui son necesarias? Al final no lo uso para nada\n",
    "                //def P3[P](x: Inhabitant): x.Knave => x.Says[P] => ¬[P]\n",
    "                val x_R1: x.Knave => x.Says[(x.Knave,y.Knave)] => ¬[(x.Knave,y.Knave)] = premises.P3[(x.Knave,y.Knave)](x)\n",
    "                val x_R2: x.Says[(x.Knave,y.Knave)] => ¬[(x.Knave,y.Knave)] = x_R1(xKnave)\n",
    "                //val x_R3: ¬[(x.Knave,y.Knave)] = x_R2(xSay)\n",
    "                val x_R3: ((x.Knave,y.Knave)) => Nothing = x_R2(xSay)\n",
    "                \n",
    "                //Para usar la funcion x_R3 necesito una tupla con x.Knave que ya lo tengo y con y.Knave que no lo tengo\n",
    "                //Por eso necesito usar la P1 con (y) y poder sacar el y.Knave\n",
    "            \n",
    "                x_R3(xKnave,(premises.P1(y) match{\n",
    "                                case Right(yKnave: y.Knave) => \n",
    "                                    yKnave : y.Knave\n",
    "                                }) : y.Knave) : Nothing\n",
    "                \n",
    "                (xKnave, x_R3(xKnave,(premises.P1(y) match{\n",
    "                                case Right(yKnave: y.Knave) => \n",
    "                                    yKnave : y.Knave\n",
    "                                }) : y.Knave)) : (x.Knave,y.Knight)\n",
    "        }): (x.Knave,y.Knight)})"
   ]
  },
  {
   "cell_type": "code",
   "execution_count": 18,
   "metadata": {},
   "outputs": [
    {
     "data": {
      "text/plain": [
       "defined \u001b[32mfunction\u001b[39m \u001b[36mpuzzle2\u001b[39m"
      ]
     },
     "execution_count": 18,
     "metadata": {},
     "output_type": "execute_result"
    }
   ],
   "source": [
    "// POSIBLE SOLUCION - NUEVA VERSION - SIMPLIFICADO\n",
    "\n",
    "def puzzle2(premises: KnightsKnaves)(x: Inhabitant)(y: Inhabitant): x.Says[(x.Knave,y.Knave)] => (x.Knave,y.Knight) = \n",
    "    ({xSay => \n",
    "        (premises.P1(x) match{\n",
    "            case Left(xKnight) =>\n",
    "                val x_L1: x.Knight => x.Says[(x.Knave,y.Knave)] => (x.Knave,y.Knave) = premises.P2[(x.Knave,y.Knave)](x)\n",
    "                val x_L2: x.Says[(x.Knave,y.Knave)] => (x.Knave,y.Knave) = x_L1(xKnight)\n",
    "                val x_L3: (x.Knave,y.Knave) = x_L2(xSay)\n",
    "                val x_L4: x.Knight => Nothing = x_L3._1\n",
    "                (x_L3._1, x_L4(xKnight))\n",
    "            \n",
    "            case Right(xKnave) =>\n",
    "                val x_R1: x.Knave => x.Says[(x.Knave,y.Knave)] => ¬[(x.Knave,y.Knave)] = premises.P3[(x.Knave,y.Knave)](x)\n",
    "                val x_R2: x.Says[(x.Knave,y.Knave)] => ¬[(x.Knave,y.Knave)] = x_R1(xKnave)\n",
    "                val x_R3: ((x.Knave,y.Knave)) => Nothing = x_R2(xSay)\n",
    "                \n",
    "                //Para usar la funcion x_R3 necesito una tupla con x.Knave que ya lo tengo y con y.Knave que no lo tengo\n",
    "                //Por eso necesito usar la P1 con (y) y poder sacar el y.Knave\n",
    "            \n",
    "                (xKnave, x_R3(xKnave,(premises.P1(y) match{\n",
    "                                case Right(yKnave: y.Knave) => \n",
    "                                    yKnave : y.Knave\n",
    "                                }) : y.Knave)) : (x.Knave,y.Knight)\n",
    "        })\n",
    "    })"
   ]
  },
  {
   "cell_type": "code",
   "execution_count": null,
   "metadata": {},
   "outputs": [],
   "source": []
  }
 ],
 "metadata": {
  "kernelspec": {
   "display_name": "Scala",
   "language": "scala",
   "name": "scala"
  },
  "language_info": {
   "codemirror_mode": "text/x-scala",
   "file_extension": ".sc",
   "mimetype": "text/x-scala",
   "name": "scala",
   "nbconvert_exporter": "script",
   "version": "2.13.3"
  }
 },
 "nbformat": 4,
 "nbformat_minor": 4
}
