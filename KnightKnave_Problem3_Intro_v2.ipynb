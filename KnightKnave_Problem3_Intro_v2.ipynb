{
 "cells": [
  {
   "cell_type": "code",
   "execution_count": 1,
   "metadata": {},
   "outputs": [
    {
     "data": {
      "text/plain": [
       "defined \u001b[32mtype\u001b[39m \u001b[36m∨\u001b[39m\r\n",
       "defined \u001b[32mtype\u001b[39m \u001b[36m∧\u001b[39m\r\n",
       "defined \u001b[32mtype\u001b[39m \u001b[36m⟶\u001b[39m\r\n",
       "defined \u001b[32mtype\u001b[39m \u001b[36m⊥\u001b[39m\r\n",
       "defined \u001b[32mtype\u001b[39m \u001b[36mTrue\u001b[39m\r\n",
       "defined \u001b[32mtype\u001b[39m \u001b[36m¬\u001b[39m"
      ]
     },
     "execution_count": 1,
     "metadata": {},
     "output_type": "execute_result"
    }
   ],
   "source": [
    "type ∨[P, Q] = Either[P, Q]\n",
    "type ∧[P, Q] = Tuple2[P, Q]\n",
    "type ⟶[P, Q] = P => Q\n",
    "type ⊥ = Nothing\n",
    "type True = Unit\n",
    "type ¬[P] = P => ⊥"
   ]
  },
  {
   "cell_type": "code",
   "execution_count": 2,
   "metadata": {},
   "outputs": [
    {
     "data": {
      "text/plain": [
       "defined \u001b[32mtype\u001b[39m \u001b[36mOr\u001b[39m\r\n",
       "defined \u001b[32mtype\u001b[39m \u001b[36mAnd\u001b[39m\r\n",
       "defined \u001b[32mtype\u001b[39m \u001b[36mImplies\u001b[39m\r\n",
       "defined \u001b[32mtype\u001b[39m \u001b[36mFalse\u001b[39m\r\n",
       "defined \u001b[32mtype\u001b[39m \u001b[36mTrue\u001b[39m\r\n",
       "defined \u001b[32mtype\u001b[39m \u001b[36mNot\u001b[39m"
      ]
     },
     "execution_count": 2,
     "metadata": {},
     "output_type": "execute_result"
    }
   ],
   "source": [
    "type Or[P, Q] = Either[P, Q]\n",
    "type And[P, Q] = Tuple2[P, Q]\n",
    "type Implies[P, Q] = P => Q\n",
    "type False = Nothing\n",
    "type True = Unit\n",
    "type Not[P] = P => ⊥"
   ]
  },
  {
   "cell_type": "code",
   "execution_count": 3,
   "metadata": {},
   "outputs": [
    {
     "data": {
      "text/plain": [
       "defined \u001b[32mclass\u001b[39m \u001b[36mInhabitant\u001b[39m"
      ]
     },
     "execution_count": 3,
     "metadata": {},
     "output_type": "execute_result"
    }
   ],
   "source": [
    "class Inhabitant{ x => \n",
    "    // Knight(x) -- `x` is a Knight\n",
    "    // \n",
    "    type Knight\n",
    "    \n",
    "    // Knave(x) -- `x` is a Knave (i.e. is not a Knight)\n",
    "    // \n",
    "    type Knave = ¬[Knight]\n",
    "    \n",
    "    // Says(x, P) -- `x` says that `P` holds, i.e. asserts proposition `P`\n",
    "    // \n",
    "    type Says[P]\n",
    "}"
   ]
  },
  {
   "cell_type": "code",
   "execution_count": 4,
   "metadata": {},
   "outputs": [
    {
     "data": {
      "text/plain": [
       "defined \u001b[32mtrait\u001b[39m \u001b[36mKnightsKnaves\u001b[39m"
      ]
     },
     "execution_count": 4,
     "metadata": {},
     "output_type": "execute_result"
    }
   ],
   "source": [
    "trait KnightsKnaves{\n",
    "    // P1. Inhabitants are knights or knaves\n",
    "    // \n",
    "    //     ∀ x. Inhabitant(x) ⟶ Knight(x) ∨ Knave(x) \n",
    "    // \n",
    "    def P1(x: Inhabitant): x.Knight ∨ x.Knave\n",
    "    \n",
    "    // In Scala 3\n",
    "    // val P1: (x: Inhabitant) => Either[x.Knight, x.Knave]\n",
    "    \n",
    "    // P2. Knights are truth tellers\n",
    "    // \n",
    "    //     ∀ P. ∀ x. Knight(x) ⟶ Says(x, P) ⟶ P\n",
    "    // \n",
    "    def P2[P](x: Inhabitant): x.Knight => x.Says[P] => P\n",
    "    \n",
    "    // In Scala 3\n",
    "    // val P2: [P] => (x: Inhabitant) => x.Knight => x.Says[P] => P\n",
    "    \n",
    "    // P3. Knaves are persistent liers\n",
    "    // \n",
    "    //     ∀ P. ∀ x. Knight(x) ⟶ Says(x, P) ⟶ ¬P\n",
    "    // \n",
    "    def P3[P](x: Inhabitant): x.Knave => x.Says[P] => ¬[P]\n",
    "}"
   ]
  },
  {
   "cell_type": "code",
   "execution_count": 9,
   "metadata": {},
   "outputs": [
    {
     "data": {
      "text/plain": [
       "defined \u001b[32mclass\u001b[39m \u001b[36mSomeSugar\u001b[39m"
      ]
     },
     "execution_count": 9,
     "metadata": {},
     "output_type": "execute_result"
    }
   ],
   "source": [
    "implicit class SomeSugar(P: KnightsKnaves){    \n",
    "    def eitherKnightOrKnave(x: Inhabitant): x.Knight Or x.Knave = P.P1(x)\n",
    "    def knightsAreTruthTellers[P](x: Inhabitant) = P.P2[P](x)\n",
    "    def knavesAreLiers[P](x: Inhabitant) = P.P3[P](x)\n",
    "    \n",
    "    def noKnightLies[P](x: Inhabitant): x.Knight => x.Says[Not[P]] => P => False = \n",
    "        xIsKnight => xSaysNotP => p => \n",
    "            P.P2[Not[P]](x)(xIsKnight)(xSaysNotP)(p)\n",
    "    \n",
    "    def noKnaveTellsTruth[P](x: Inhabitant): x.Knave => x.Says[P] => P => False = \n",
    "        xIsKnave => xSaysP => p => \n",
    "            P.P3[P](x)(xIsKnave)(xSaysP)(p)\n",
    "}"
   ]
  },
  {
   "cell_type": "code",
   "execution_count": 10,
   "metadata": {},
   "outputs": [
    {
     "data": {
      "text/plain": [
       "defined \u001b[32mfunction\u001b[39m \u001b[36mpuzzle1\u001b[39m"
      ]
     },
     "execution_count": 10,
     "metadata": {},
     "output_type": "execute_result"
    }
   ],
   "source": [
    "// { P1, P2, P3 } ⊢ ∀ x. Inhabitant(x) ⟶ ¬ Says(x, Knave(x))\n",
    "\n",
    "def puzzle1(premises: KnightsKnaves)(x: Inhabitant): Not[x.Says[x.Knave]] =\n",
    "    xSaysIsKnave =>\n",
    "        premises.eitherKnightOrKnave(x).fold(\n",
    "            xIsKnight => \n",
    "                // no knight would lie\n",
    "                premises.noKnightLies(x)(xIsKnight)(xSaysIsKnave)(xIsKnight),\n",
    "            xIsKnave => \n",
    "                // no knave would tell the truth\n",
    "                premises.noKnaveTellsTruth(x)(xIsKnave)(xSaysIsKnave)(xIsKnave)\n",
    "        )"
   ]
  },
  {
   "cell_type": "code",
   "execution_count": null,
   "metadata": {},
   "outputs": [],
   "source": []
  },
  {
   "cell_type": "code",
   "execution_count": null,
   "metadata": {},
   "outputs": [],
   "source": []
  },
  {
   "cell_type": "markdown",
   "metadata": {},
   "source": [
    "# Puzzles Introducción\n",
    "\n",
    "Primero se consideran 5 preguntas que servirán como introduccion a la logica \n",
    "knight-knave para aquellos que no estén familiarizados con ella y como un\n",
    "breve curso recordatorio para los que lo están."
   ]
  },
  {
   "cell_type": "markdown",
   "metadata": {},
   "source": [
    "#### 3. Suppose an inhabitant A says about himself and his brother B: \"At least one of us is a knave.\" What type is A and what type is B?\n",
    "\n",
    "A says that, of A and B, at least one is a knave. If A were a knave, then it would be true that at least one of A and B is a knave and we would have a knave making a true statement, which is not possible. Therefore A must be a\n",
    "knight. Since he is a knight, his statement is true, hence at least one really is a knave. It is then B who must be the knave.\n",
    "So A is a knight and B is a knave."
   ]
  },
  {
   "cell_type": "code",
   "execution_count": 5,
   "metadata": {},
   "outputs": [
    {
     "data": {
      "text/plain": [
       "defined \u001b[32mfunction\u001b[39m \u001b[36mpuzzle3\u001b[39m"
      ]
     },
     "execution_count": 5,
     "metadata": {},
     "output_type": "execute_result"
    }
   ],
   "source": [
    "def puzzle3(premises: KnightsKnaves)(x: Inhabitant)(y: Inhabitant): \n",
    "    x.Says[Either[x.Knave, y.Knave]] => (x.Knight,y.Knave) = ???\n",
    "    /*\n",
    "    O X es Knave o Y es Knave. En la premisa solo dice que al menos uno es Knave. No dice al menos uno es Knave y el otro\n",
    "    es Knight o viceversa.\n",
    "    \n",
    "    Al menos uno de ellos es un Knave (uno u otro):\n",
    "    1.- X es Knave\n",
    "    2.- Y es Knave\n",
    "    \n",
    "    \"Uno u otro\" -> Either[(x.Knave,y.Knave)]\n",
    "    \n",
    "    */\n",
    "\n"
   ]
  },
  {
   "cell_type": "code",
   "execution_count": 6,
   "metadata": {},
   "outputs": [
    {
     "data": {
      "text/plain": [
       "defined \u001b[32mfunction\u001b[39m \u001b[36mpuzzle3\u001b[39m"
      ]
     },
     "execution_count": 6,
     "metadata": {},
     "output_type": "execute_result"
    }
   ],
   "source": [
    "//VERSION 2\n",
    "\n",
    "def puzzle3(premises: KnightsKnaves)(x: Inhabitant)(y: Inhabitant): \n",
    "    x.Says[Either[x.Knave, y.Knave]] => (x.Knight,y.Knave) = \n",
    "        ({xSays : x.Says[Either[x.Knave, y.Knave]] => \n",
    "            ??? : (x.Knight,y.Knave)})"
   ]
  },
  {
   "cell_type": "code",
   "execution_count": 7,
   "metadata": {},
   "outputs": [
    {
     "data": {
      "text/plain": [
       "defined \u001b[32mfunction\u001b[39m \u001b[36mpuzzle3\u001b[39m"
      ]
     },
     "execution_count": 7,
     "metadata": {},
     "output_type": "execute_result"
    }
   ],
   "source": [
    "//VERSION 2\n",
    "\n",
    "def puzzle3(premises: KnightsKnaves)(x: Inhabitant)(y: Inhabitant): \n",
    "    x.Says[Either[x.Knave, y.Knave]] => (x.Knight,y.Knave) = \n",
    "        ({xSays : x.Says[Either[x.Knave, y.Knave]] => \n",
    "            (premises.P1(x) match{\n",
    "                case Left(xKnight: x.Knight) =>\n",
    "                // def P2[P](x: Inhabitant): x.Knight => x.Says[P] => P\n",
    "                    val x_1L: x.Knight =>\n",
    "                                x.Says[Either[x.Knave, y.Knave]] => Either[x.Knave, y.Knave] = premises.P2[Either[x.Knave, y.Knave]](x)\n",
    "                    val x_2L: x.Says[Either[x.Knave, y.Knave]] => Either[x.Knave, y.Knave] = x_1L(xKnight)\n",
    "                    val x_3L: Either[x.Knave, y.Knave] = x_2L(xSays)\n",
    "                    \n",
    "                    (xKnight: x.Knight, (x_3L match{\n",
    "                        case Left(xKnave: x.Knave) => \n",
    "                            val aux_contradiccion: x.Knight => Nothing = xKnave\n",
    "                            aux_contradiccion(xKnight) : y.Knave\n",
    "                        case Right(yKnave: y.Knave) => \n",
    "                            yKnave : y.Knave\n",
    "                    }): y.Knave) : (x.Knight,y.Knave)\n",
    "                                \n",
    "                case Right(xKnave: x.Knave) =>\n",
    "                //def P3[P](x: Inhabitant): x.Knave => x.Says[P] => ¬[P]\n",
    "                    val x_1R: x.Knave => x.Says[Either[x.Knave, y.Knave]] => Not[Either[x.Knave, y.Knave]] = premises.P3[Either[x.Knave, y.Knave]](x)\n",
    "                    val x_2R: x.Says[Either[x.Knave, y.Knave]] => Not[Either[x.Knave, y.Knave]] = x_1R(xKnave)\n",
    "                    //val x_3R: Not[Either[x.Knave, y.Knave]] = x_2R(xSays)\n",
    "                \n",
    "                    val x_3R: Either[x.Knave, y.Knave] => Nothing = x_2R(xSays)\n",
    "                    //Si a la funcion x_3R le pasas o un x.Knave o un y.Knave devuelve Nothing \n",
    "                    //Aqui tengo P que es \"Either[x.Knave, y.Knave]\" y tengo Not[P] que es \"x_2R(xSays)\",\n",
    "                    //por tanto he demonstrado la contradiccion\n",
    "                    x_3R(Left(xKnave)): Nothing\n",
    "               \n",
    "                (x_3R(Left(xKnave)), x_3R(Left(xKnave))) : (x.Knight,y.Knave)\n",
    "                \n",
    "            }) : (x.Knight,y.Knave)})"
   ]
  },
  {
   "cell_type": "code",
   "execution_count": 8,
   "metadata": {},
   "outputs": [
    {
     "data": {
      "text/plain": [
       "defined \u001b[32mfunction\u001b[39m \u001b[36mpuzzle3\u001b[39m"
      ]
     },
     "execution_count": 8,
     "metadata": {},
     "output_type": "execute_result"
    }
   ],
   "source": [
    "//VERSION 2 - SIMPLIFICADA \n",
    "\n",
    "def puzzle3(premises: KnightsKnaves)(x: Inhabitant)(y: Inhabitant): \n",
    "    x.Says[Either[x.Knave, y.Knave]] => (x.Knight,y.Knave) = \n",
    "        ({xSays => \n",
    "            (premises.P1(x) match{\n",
    "                case Left(xKnight) =>\n",
    "                    val x_1L: x.Knight =>\n",
    "                                x.Says[Either[x.Knave, y.Knave]] => Either[x.Knave, y.Knave] = premises.P2[Either[x.Knave, y.Knave]](x)\n",
    "                    val x_2L: x.Says[Either[x.Knave, y.Knave]] => Either[x.Knave, y.Knave] = x_1L(xKnight)\n",
    "                    val x_3L: Either[x.Knave, y.Knave] = x_2L(xSays)\n",
    "                    \n",
    "                    x_3L match{\n",
    "                        case Left(xKnave: x.Knave) => xKnave(xKnight) : (x.Knight,y.Knave)\n",
    "                        case Right(yKnave: y.Knave) => (xKnight, yKnave) : (x.Knight,y.Knave)\n",
    "                    }\n",
    "                case Right(xKnave) =>\n",
    "                    val x_1R: x.Knave => x.Says[Either[x.Knave, y.Knave]] => Not[Either[x.Knave, y.Knave]] = premises.P3[Either[x.Knave, y.Knave]](x)\n",
    "                    val x_2R: x.Says[Either[x.Knave, y.Knave]] => Not[Either[x.Knave, y.Knave]] = x_1R(xKnave)\n",
    "                    val x_3R: Either[x.Knave, y.Knave] => Nothing = x_2R(xSays)\n",
    "                                   \n",
    "                    //(x_3R(Left(xKnave)), x_3R(Left(xKnave)))\n",
    "                    x_3R(Left(xKnave)): (x.Knight,y.Knave)\n",
    "            }) \n",
    "        })"
   ]
  },
  {
   "cell_type": "code",
   "execution_count": 10,
   "metadata": {},
   "outputs": [
    {
     "name": "stderr",
     "output_type": "stream",
     "text": [
      "cmd10.sc:10: type mismatch;\n",
      " found   : x.Says[Either[x.Knave,y.Knave]]\n",
      "    (which expands to)  x.Says[Either[x.Knight => Nothing,y.Knight => Nothing]]\n",
      " required: x.Says[ammonite.$sess.cmd8.wrapper.cmd1.Not[?]]\n",
      "    (which expands to)  x.Says[? => Nothing]\n",
      "                    val aux1 = premises.noKnightLies(x)(xIsKnight)(xSay_xKnaveOryKnave: x.Says[Either[x.Knave, y.Knave]]): Either[x.Knave, y.Knave]\n",
      "                                                                                      ^Compilation Failed"
     ]
    },
    {
     "ename": "",
     "evalue": "",
     "output_type": "error",
     "traceback": [
      "Compilation Failed"
     ]
    }
   ],
   "source": [
    "//Sugar version\n",
    "\n",
    "/*def puzzle3(premises: KnightsKnaves)(x: Inhabitant)(y: Inhabitant): \n",
    "    x.Says[Either[x.Knave, y.Knave]] => (x.Knight,y.Knave) = \n",
    "        ({xSays => \n",
    "            (premises.P1(x) match{\n",
    "                case Left(xKnight) =>\n",
    "                    val x_1L: x.Knight =>\n",
    "                                x.Says[Either[x.Knave, y.Knave]] => Either[x.Knave, y.Knave] = premises.P2[Either[x.Knave, y.Knave]](x)\n",
    "                    val x_2L: x.Says[Either[x.Knave, y.Knave]] => Either[x.Knave, y.Knave] = x_1L(xKnight)\n",
    "                    val x_3L: Either[x.Knave, y.Knave] = x_2L(xSays)\n",
    "                    \n",
    "                    x_3L match{\n",
    "                        case Left(xKnave: x.Knave) => xKnave(xKnight) : (x.Knight,y.Knave)\n",
    "                        case Right(yKnave: y.Knave) => (xKnight, yKnave) : (x.Knight,y.Knave)\n",
    "                    }\n",
    "                case Right(xKnave) =>\n",
    "                    val x_1R: x.Knave => x.Says[Either[x.Knave, y.Knave]] => Not[Either[x.Knave, y.Knave]] = premises.P3[Either[x.Knave, y.Knave]](x)\n",
    "                    val x_2R: x.Says[Either[x.Knave, y.Knave]] => Not[Either[x.Knave, y.Knave]] = x_1R(xKnave)\n",
    "                    val x_3R: Either[x.Knave, y.Knave] => Nothing = x_2R(xSays)\n",
    "                                   \n",
    "                    (x_3R(Left(xKnave)), x_3R(Left(xKnave)))\n",
    "            }) \n",
    "        })\n",
    "*/\n",
    "\n",
    "def puzzle3(premises: KnightsKnaves)(x: Inhabitant)(y: Inhabitant): \n",
    "    x.Says[Either[x.Knave, y.Knave]] => (x.Knight,y.Knave) = \n",
    "        xSay_xKnaveOryKnave =>\n",
    "        //({xSays =>\n",
    "            premises.eitherKnightOrKnave(x).fold(\n",
    "            //(premises.P1(x) match{\n",
    "                { xIsKnight =>\n",
    "                //case Left(xKnight) =>\n",
    "                    //def P2[P](x: Inhabitant): x.Knight => x.Says[P] => P\n",
    "                    val aux1 = premises.noKnightLies(x)(xIsKnight)(xSay_xKnaveOryKnave: x.Says[Either[x.Knave, y.Knave]]): Either[x.Knave, y.Knave]\n",
    "                    aux1 match{\n",
    "                        case Left(xKnave) => xKnave(xIsKnight)\n",
    "                        case Right(yKnave) => (xIsKnight, yKnave)\n",
    "                    }\n",
    "                },\n",
    "                { xIsKnave =>\n",
    "                //case Right(xKnave) =>\n",
    "                    //def P3[P](x: Inhabitant): x.Knave => x.Says[P] => ¬[P]\n",
    "                    val aux2 = premises.noKnaveTellsTruth(x)(xIsKnave)(xSay_xKnaveOryKnave: x.Says[Either[x.Knave, y.Knave]]): Not[Either[x.Knave, y.Knave]]\n",
    "                    aux2(Left(xIsKnave))   \n",
    "                }\n",
    "            \n",
    "            )"
   ]
  },
  {
   "cell_type": "code",
   "execution_count": null,
   "metadata": {},
   "outputs": [],
   "source": []
  },
  {
   "cell_type": "code",
   "execution_count": null,
   "metadata": {},
   "outputs": [],
   "source": []
  }
 ],
 "metadata": {
  "kernelspec": {
   "display_name": "Scala",
   "language": "scala",
   "name": "scala"
  },
  "language_info": {
   "codemirror_mode": "text/x-scala",
   "file_extension": ".sc",
   "mimetype": "text/x-scala",
   "name": "scala",
   "nbconvert_exporter": "script",
   "version": "2.13.3"
  }
 },
 "nbformat": 4,
 "nbformat_minor": 4
}
