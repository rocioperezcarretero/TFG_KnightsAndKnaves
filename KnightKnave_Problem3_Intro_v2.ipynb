{
 "cells": [
  {
   "cell_type": "code",
   "execution_count": 1,
   "metadata": {},
   "outputs": [
    {
     "data": {
      "text/plain": [
       "defined \u001b[32mtype\u001b[39m \u001b[36m∨\u001b[39m\r\n",
       "defined \u001b[32mtype\u001b[39m \u001b[36m∧\u001b[39m\r\n",
       "defined \u001b[32mtype\u001b[39m \u001b[36m⟶\u001b[39m\r\n",
       "defined \u001b[32mtype\u001b[39m \u001b[36m⊥\u001b[39m\r\n",
       "defined \u001b[32mtype\u001b[39m \u001b[36mTrue\u001b[39m\r\n",
       "defined \u001b[32mtype\u001b[39m \u001b[36m¬\u001b[39m"
      ]
     },
     "execution_count": 1,
     "metadata": {},
     "output_type": "execute_result"
    }
   ],
   "source": [
    "type ∨[P, Q] = Either[P, Q]\n",
    "type ∧[P, Q] = Tuple2[P, Q]\n",
    "type ⟶[P, Q] = P => Q\n",
    "type ⊥ = Nothing\n",
    "type True = Unit\n",
    "type ¬[P] = P => ⊥"
   ]
  },
  {
   "cell_type": "code",
   "execution_count": 2,
   "metadata": {},
   "outputs": [
    {
     "data": {
      "text/plain": [
       "defined \u001b[32mtype\u001b[39m \u001b[36mOr\u001b[39m\r\n",
       "defined \u001b[32mtype\u001b[39m \u001b[36mAnd\u001b[39m\r\n",
       "defined \u001b[32mtype\u001b[39m \u001b[36mImplies\u001b[39m\r\n",
       "defined \u001b[32mtype\u001b[39m \u001b[36mFalse\u001b[39m\r\n",
       "defined \u001b[32mtype\u001b[39m \u001b[36mTrue\u001b[39m\r\n",
       "defined \u001b[32mtype\u001b[39m \u001b[36mNot\u001b[39m"
      ]
     },
     "execution_count": 2,
     "metadata": {},
     "output_type": "execute_result"
    }
   ],
   "source": [
    "type Or[P, Q] = Either[P, Q]\n",
    "type And[P, Q] = Tuple2[P, Q]\n",
    "type Implies[P, Q] = P => Q\n",
    "type False = Nothing\n",
    "type True = Unit\n",
    "type Not[P] = P => ⊥"
   ]
  },
  {
   "cell_type": "code",
   "execution_count": 3,
   "metadata": {},
   "outputs": [
    {
     "data": {
      "text/plain": [
       "defined \u001b[32mclass\u001b[39m \u001b[36mInhabitant\u001b[39m"
      ]
     },
     "execution_count": 3,
     "metadata": {},
     "output_type": "execute_result"
    }
   ],
   "source": [
    "class Inhabitant{ x => \n",
    "    // Knight(x) -- `x` is a Knight\n",
    "    // \n",
    "    type Knight\n",
    "    \n",
    "    // Knave(x) -- `x` is a Knave (i.e. is not a Knight)\n",
    "    // \n",
    "    type Knave = ¬[Knight]\n",
    "    \n",
    "    // Says(x, P) -- `x` says that `P` holds, i.e. asserts proposition `P`\n",
    "    // \n",
    "    type Says[P]\n",
    "}"
   ]
  },
  {
   "cell_type": "code",
   "execution_count": 4,
   "metadata": {},
   "outputs": [
    {
     "data": {
      "text/plain": [
       "defined \u001b[32mtrait\u001b[39m \u001b[36mKnightsKnaves\u001b[39m"
      ]
     },
     "execution_count": 4,
     "metadata": {},
     "output_type": "execute_result"
    }
   ],
   "source": [
    "trait KnightsKnaves{\n",
    "    // P1. Inhabitants are knights or knaves\n",
    "    // \n",
    "    //     ∀ x. Inhabitant(x) ⟶ Knight(x) ∨ Knave(x) \n",
    "    // \n",
    "    def P1(x: Inhabitant): x.Knight ∨ x.Knave\n",
    "    \n",
    "    // In Scala 3\n",
    "    // val P1: (x: Inhabitant) => Either[x.Knight, x.Knave]\n",
    "    \n",
    "    // P2. Knights are truth tellers\n",
    "    // \n",
    "    //     ∀ P. ∀ x. Knight(x) ⟶ Says(x, P) ⟶ P\n",
    "    // \n",
    "    def P2[P](x: Inhabitant): x.Knight => x.Says[P] => P\n",
    "    \n",
    "    // In Scala 3\n",
    "    // val P2: [P] => (x: Inhabitant) => x.Knight => x.Says[P] => P\n",
    "    \n",
    "    // P3. Knaves are persistent liers\n",
    "    // \n",
    "    //     ∀ P. ∀ x. Knight(x) ⟶ Says(x, P) ⟶ ¬P\n",
    "    // \n",
    "    def P3[P](x: Inhabitant): x.Knave => x.Says[P] => ¬[P]\n",
    "}"
   ]
  },
  {
   "cell_type": "markdown",
   "metadata": {},
   "source": [
    "# Puzzle 1 - Ejemplo.\n",
    "Is it possible for any inhabitant of this island to claim that he is a knave?\n",
    "\n",
    "\n",
    "No; no inhabitant can claim to be a knave because no knight would lie and say he is a knave and no knave would truthfully admit to being a knave."
   ]
  },
  {
   "cell_type": "code",
   "execution_count": 5,
   "metadata": {},
   "outputs": [
    {
     "data": {
      "text/plain": [
       "defined \u001b[32mfunction\u001b[39m \u001b[36mpuzzle1\u001b[39m"
      ]
     },
     "execution_count": 5,
     "metadata": {},
     "output_type": "execute_result"
    }
   ],
   "source": [
    "// { P1, P2, P3 } ⊢ ∀ x. Inhabitant(x) ⟶ ¬Says(x, Knave(x))\n",
    "\n",
    "def puzzle1(premises: KnightsKnaves)(x: Inhabitant): ¬[x.Says[x.Knave]] = \n",
    "    // 1. Says(x, Knave(x))                                       ; hypothesis\n",
    "    ((_1: x.Says[x.Knave]) => \n",
    "         (premises.P1(x) match {\n",
    "             // 2. Knight(x)                                      ; hypothesis\n",
    "             case Left(_2: x.Knight) => \n",
    "                 //   3. Knight(x) → Says(x, Knave(x)) → Knave(x) ; P2[Knave(x),x]\n",
    "                 val _3: x.Knight => x.Says[x.Knave] => x.Knave = premises.P2[x.Knave](x)\n",
    "                 //   4. Says(x, Knave(x)) → Knave(x)             ; ⟶E(3,2)\n",
    "                 val _4: x.Says[x.Knave] => x.Knave = _3(_2)\n",
    "                 //   5. Knave(x)                                 ; ⟶E(4,1)\n",
    "                 //   5. ¬ Knight(x)                              ; ≝ Knave\n",
    "                 //   5. Knight(x) → ⊥                            ; ≝ ¬ \n",
    "                 val _5: x.Knight => ⊥ = _4(_1)\n",
    "                 //   6. ⊥                                        ; ⟶E(5,2)\n",
    "                 _5(_2) : ⊥\n",
    "\n",
    "             //  _7. Knave(x)                                     ; hypothesis\n",
    "             case Right(_7: x.Knave) => \n",
    "                 //   8. Knave(x) → Says(x, Knave(x)) → ¬ Knave(x) ; P3[Knave(x),x]\n",
    "                 val _8: x.Knave => x.Says[x.Knave] => ¬[x.Knave] = premises.P3[x.Knave](x)\n",
    "                 //   9. Says(x, Knave(x)) → ¬ Knave(x)            ; ⟶E(8,7)\n",
    "                 val _9: x.Says[x.Knave] => ¬[x.Knave] = _8(_7)\n",
    "                 //   10. ¬ Knave(x)                               ; ⟶E(9,1)\n",
    "                 //   10. Knave(x) → ⊥                             ; ≝ ¬ \n",
    "                 val _10: x.Knave => ⊥ = _9(_1)\n",
    "                 //  11. ⊥                                         ; ⟶E(10,7)\n",
    "                 _10(_7) : ⊥\n",
    "\n",
    "        // _12. ⊥                                                  ; ∨E(P1, 2-6, 7-11)\n",
    "        }) : False\n",
    "\n",
    "    // _13. Says(x, Knave(x)) ⟶ ⊥                                  ; ⟶I(1-12)\n",
    "    // _13. ¬ Says(x, Knave(x))                                    ; ≝ ¬ \n",
    "    ) : ¬[x.Says[x.Knave]]"
   ]
  },
  {
   "cell_type": "code",
   "execution_count": 6,
   "metadata": {},
   "outputs": [
    {
     "data": {
      "text/plain": [
       "defined \u001b[32mfunction\u001b[39m \u001b[36mpuzzle1\u001b[39m"
      ]
     },
     "execution_count": 6,
     "metadata": {},
     "output_type": "execute_result"
    }
   ],
   "source": [
    "// { P1, P2, P3 } ⊢ ∀ x. Inhabitant(x) ⟶ ¬Says(x, Knave(x))\n",
    "\n",
    "def puzzle1(premises: KnightsKnaves)(x: Inhabitant): x.Says[x.Knave] => Nothing =\n",
    "    // 1. Says(x, Knave(x))                                       ; hypothesis\n",
    "    ((_1: x.Says[x.Knave]) => \n",
    "         (premises.P1(x) match {\n",
    "             // 2. Knight(x)                                      ; hypothesis\n",
    "             case Left(_2: x.Knight) => \n",
    "                 //   3. Knight(x) → Says(x, Knave(x)) → Knave(x) ; P2[Knave(x),x]\n",
    "                 val _3: x.Knight => x.Says[x.Knave] => x.Knave = premises.P2[x.Knave](x)\n",
    "                 //   4. Says(x, Knave(x)) → Knave(x)             ; ⟶E(3,2)\n",
    "                 val _4: x.Says[x.Knave] => x.Knave = _3(_2)\n",
    "                 //   5. Knave(x)                                 ; ⟶E(4,1)\n",
    "                 //   5. ¬ Knight(x)                              ; ≝ Knave\n",
    "                 //   5. Knight(x) → ⊥                            ; ≝ ¬ \n",
    "                 val _5: x.Knight => ⊥ = _4(_1)\n",
    "                 //   6. ⊥                                        ; ⟶E(5,2)\n",
    "                 _5(_2) : ⊥\n",
    "\n",
    "             //  _7. Knave(x)                                     ; hypothesis\n",
    "             case Right(_7: x.Knave) => \n",
    "                 //   8. Knave(x) → Says(x, Knave(x)) → ¬ Knave(x) ; P3[Knave(x),x]\n",
    "                 val _8: x.Knave => x.Says[x.Knave] => ¬[x.Knave] = premises.P3[x.Knave](x)\n",
    "                 //   9. Says(x, Knave(x)) → ¬ Knave(x)            ; ⟶E(8,7)\n",
    "                 val _9: x.Says[x.Knave] => ¬[x.Knave] = _8(_7)\n",
    "                 //   10. ¬ Knave(x)                               ; ⟶E(9,1)\n",
    "                 //   10. Knave(x) → ⊥                             ; ≝ ¬ \n",
    "                 val _10: x.Knave => ⊥ = _9(_1)\n",
    "                 //  11. ⊥                                         ; ⟶E(10,7)\n",
    "                 _10(_7) : ⊥\n",
    "\n",
    "        // _12. ⊥                                                  ; ∨E(P1, 2-6, 7-11)\n",
    "        }) : False\n",
    "\n",
    "    // _13. Says(x, Knave(x)) ⟶ ⊥                                  ; ⟶I(1-12)\n",
    "    // _13. ¬ Says(x, Knave(x))                                    ; ≝ ¬ \n",
    "    ) : ¬[x.Says[x.Knave]]"
   ]
  },
  {
   "cell_type": "code",
   "execution_count": 7,
   "metadata": {},
   "outputs": [
    {
     "data": {
      "text/plain": [
       "defined \u001b[32mclass\u001b[39m \u001b[36mSomeSugar\u001b[39m"
      ]
     },
     "execution_count": 7,
     "metadata": {},
     "output_type": "execute_result"
    }
   ],
   "source": [
    "implicit class SomeSugar(P: KnightsKnaves){    \n",
    "    def eitherKnightOrKnave(x: Inhabitant): x.Knight Or x.Knave = P.P1(x)\n",
    "    def knightsAreTruthTellers[P](x: Inhabitant) = P.P2[P](x)\n",
    "    def knavesAreLiers[P](x: Inhabitant) = P.P3[P](x)\n",
    "    \n",
    "    def noKnightLies[P](x: Inhabitant): x.Knight => x.Says[Not[P]] => P => False = \n",
    "        xIsKnight => xSaysNotP => p => \n",
    "            P.P2[Not[P]](x)(xIsKnight)(xSaysNotP)(p)\n",
    "    \n",
    "    def noKnaveTellsTruth[P](x: Inhabitant): x.Knave => x.Says[P] => P => False = \n",
    "        xIsKnave => xSaysP => p => \n",
    "            P.P3[P](x)(xIsKnave)(xSaysP)(p)\n",
    "}"
   ]
  },
  {
   "cell_type": "code",
   "execution_count": 8,
   "metadata": {},
   "outputs": [
    {
     "data": {
      "text/plain": [
       "defined \u001b[32mfunction\u001b[39m \u001b[36mpuzzle1\u001b[39m"
      ]
     },
     "execution_count": 8,
     "metadata": {},
     "output_type": "execute_result"
    }
   ],
   "source": [
    "// { P1, P2, P3 } ⊢ ∀ x. Inhabitant(x) ⟶ ¬ Says(x, Knave(x))\n",
    "\n",
    "def puzzle1(premises: KnightsKnaves)(x: Inhabitant): Not[x.Says[x.Knave]] =\n",
    "    xSaysIsKnave =>\n",
    "        premises.eitherKnightOrKnave(x).fold(\n",
    "            xIsKnight => \n",
    "                // no knight would lie\n",
    "                premises.noKnightLies(x)(xIsKnight)(xSaysIsKnave)(xIsKnight),\n",
    "            xIsKnave => \n",
    "                // no knave would tell the truth\n",
    "                premises.noKnaveTellsTruth(x)(xIsKnave)(xSaysIsKnave)(xIsKnave)\n",
    "        )"
   ]
  },
  {
   "cell_type": "markdown",
   "metadata": {},
   "source": [
    "# Puzzles Introducción\n",
    "\n",
    "Primero se consideran 5 preguntas que servirán como introduccion a la logica \n",
    "knight-knave para aquellos que no estén familiarizados con ella y como un\n",
    "breve curso recordatorio para los que lo están."
   ]
  },
  {
   "cell_type": "markdown",
   "metadata": {},
   "source": [
    "#### 3. Suppose an inhabitant A says about himself and his brother B: \"At least one of us is a knave.\" What type is A and what type is B?\n",
    "\n",
    "A says that, of A and B, at least one is a knave. If A were a knave, then it would be true that at least one of A and B is a knave and we would have a knave making a true statement, which is not possible. Therefore A must be a\n",
    "knight. Since he is a knight, his statement is true, hence at least one really is a knave. It is then B who must be the knave.\n",
    "So A is a knight and B is a knave."
   ]
  },
  {
   "cell_type": "code",
   "execution_count": 9,
   "metadata": {},
   "outputs": [
    {
     "data": {
      "text/plain": [
       "defined \u001b[32mfunction\u001b[39m \u001b[36mpuzzle3\u001b[39m"
      ]
     },
     "execution_count": 9,
     "metadata": {},
     "output_type": "execute_result"
    }
   ],
   "source": [
    "def puzzle3(premises: KnightsKnaves)(x: Inhabitant)(y: Inhabitant): \n",
    "    x.Says[Either[x.Knave, y.Knave]] => (x.Knight,y.Knave) = ???\n",
    "    /*\n",
    "    O X es Knave o Y es Knave. En la premisa solo dice que al menos uno es Knave. No dice al menos uno es Knave y el otro\n",
    "    es Knight o viceversa.\n",
    "    */\n",
    "    //x.Says[Either[Either[(x.Knave,y.Knight),(x.Knight,y.Knave)],(x.Knave,y.Knave)]] => (x.Knight,y.Knave) = ???\n",
    "    /* Al menos uno de ellos es un Knave (uno u otro, o ambos):\n",
    "    1.- X es Knave\n",
    "    2.- Y es Knave\n",
    "    3.- X e Y son Knave\n",
    "    \n",
    "    \"Uno u otro\" -> Either[(x.Knave,y.Knight),(x.Knight,y.Knave)]\n",
    "    \"O ambos\" -> Del resultado del \"Either[(x.Knave,y.Knight),(x.Knight,y.Knave)]\" sacaremos una de las partes del \n",
    "    ultimo Either junto a \"[Either[...],(x.Knave,y.Knave)]]\"\n",
    "    */\n",
    "\n"
   ]
  },
  {
   "cell_type": "code",
   "execution_count": 10,
   "metadata": {},
   "outputs": [
    {
     "data": {
      "text/plain": [
       "defined \u001b[32mfunction\u001b[39m \u001b[36mpuzzle3\u001b[39m"
      ]
     },
     "execution_count": 10,
     "metadata": {},
     "output_type": "execute_result"
    }
   ],
   "source": [
    "def puzzle3(premises: KnightsKnaves)(x: Inhabitant)(y: Inhabitant): \n",
    "    x.Says[Either[Either[(x.Knave,y.Knight),(x.Knight,y.Knave)],(x.Knave,y.Knave)]] => (x.Knight,y.Knave) = ???"
   ]
  },
  {
   "cell_type": "code",
   "execution_count": 11,
   "metadata": {},
   "outputs": [
    {
     "data": {
      "text/plain": [
       "defined \u001b[32mfunction\u001b[39m \u001b[36mpuzzle3\u001b[39m"
      ]
     },
     "execution_count": 11,
     "metadata": {},
     "output_type": "execute_result"
    }
   ],
   "source": [
    "// VERSION 1\n",
    "\n",
    "def puzzle3(premises: KnightsKnaves)(x: Inhabitant)(y: Inhabitant): \n",
    "    x.Says[Either[Either[(x.Knave,y.Knight),(x.Knight,y.Knave)],(x.Knave,y.Knave)]] => (x.Knight,y.Knave) = \n",
    "    ({xSay: x.Says[Either[Either[(x.Knave,y.Knight),(x.Knight,y.Knave)],(x.Knave,y.Knave)]] => \n",
    "        (premises.P1(x) match{\n",
    "            case Left(xKnight: x.Knight) => \n",
    "                // def P2[P](x: Inhabitant): x.Knight => x.Says[P] => P\n",
    "                val x_1L: x.Knight => \n",
    "                            x.Says[Either[Either[(x.Knave,y.Knight),(x.Knight,y.Knave)],(x.Knave,y.Knave)]] => \n",
    "                                Either[Either[(x.Knave,y.Knight),(x.Knight,y.Knave)],(x.Knave,y.Knave)] = premises.P2[Either[Either[(x.Knave,y.Knight),(x.Knight,y.Knave)],(x.Knave,y.Knave)]](x)\n",
    "                val x_2L: x.Says[Either[Either[(x.Knave,y.Knight),(x.Knight,y.Knave)],(x.Knave,y.Knave)]] => \n",
    "                                Either[Either[(x.Knave,y.Knight),(x.Knight,y.Knave)],(x.Knave,y.Knave)] = x_1L(xKnight)\n",
    "                val x_3L: Either[Either[(x.Knave,y.Knight),(x.Knight,y.Knave)],(x.Knave,y.Knave)] = x_2L(xSay)\n",
    "                \n",
    "                (x_3L match{\n",
    "                    case Left(x_3L_left: Either[(x.Knave,y.Knight),(x.Knight,y.Knave)]) => \n",
    "                        (x_3L_left match{\n",
    "                            case Left(x_3L_left_L: (x.Knave,y.Knight)) => \n",
    "                                val xcontradiccion: x.Knight => Nothing = x_3L_left_L._1\n",
    "                                (xKnight, xcontradiccion(xKnight)) : (x.Knight,y.Knave)\n",
    "                            case Right(x_3L_left_R: (x.Knight,y.Knave)) =>\n",
    "                                x_3L_left_R : (x.Knight,y.Knave)\n",
    "                        }) : (x.Knight,y.Knave)\n",
    "                    case Right(x_3L_right: (x.Knave,y.Knave)) => \n",
    "                        (xKnight, x_3L_right._2) : (x.Knight,y.Knave)\n",
    "                }) : (x.Knight,y.Knave)\n",
    "            \n",
    "            case Right(xKnave: x.Knave) => \n",
    "                //def P3[P](x: Inhabitant): x.Knave => x.Says[P] => ¬[P]\n",
    "                val x_1R: x.Knave => \n",
    "                            x.Says[Either[Either[(x.Knave,y.Knight),(x.Knight,y.Knave)],(x.Knave,y.Knave)]] => \n",
    "                                ¬[Either[Either[(x.Knave,y.Knight),(x.Knight,y.Knave)],(x.Knave,y.Knave)]] = premises.P3[Either[Either[(x.Knave,y.Knight),(x.Knight,y.Knave)],(x.Knave,y.Knave)]](x)\n",
    "                val x_2R: x.Says[Either[Either[(x.Knave,y.Knight),(x.Knight,y.Knave)],(x.Knave,y.Knave)]] => \n",
    "                                ¬[Either[Either[(x.Knave,y.Knight),(x.Knight,y.Knave)],(x.Knave,y.Knave)]] = x_1R(xKnave)\n",
    "                //val x_3R: ¬[Either[Either[(x.Knave,y.Knight),(x.Knight,y.Knave)],(x.Knave,y.Knave)]] = x_2R(xSay)\n",
    "                val x_3R: Either[Either[(x.Knave,y.Knight),(x.Knight,y.Knave)],(x.Knave,y.Knave)] => Nothing = x_2R(xSay)\n",
    "            \n",
    "                // Mi x_2R(xSay) es mi Not[P] del P3[P]\n",
    "                // Si tengo P y Not[P] entonces tengo una contradiccion. Eso es lo que tengo que encontrar.\n",
    "                /*\n",
    "                \n",
    "                Teniendo el \"Either[Either[(x.Knave,y.Knight),(x.Knight,y.Knave)],(x.Knave,y.Knave)] => Nothing\"\n",
    "                Si aplico P1 y P2 a y, puedo sacar \"(x.Knave,y.Knight)\" para y = Knight y puedo sacar \n",
    "                \"(x.Knave,y.Knave)\" para y = Knave. Osea seria sacar P, que P puede ser:\n",
    "                (x.Knave,y.Knight) - Left, Left\n",
    "                (x.Knight,y.Knave) - Left, Right\n",
    "                (x.Knave,y.Knave) - Right\n",
    "                \n",
    "                Y ya con esto, si tengo P (cualquiera de las 3) y tengo Not[P] que es \"x_2R(xSay)\" entonces tengo una\n",
    "                contradiccion.\n",
    "                \n",
    "                */\n",
    "                \n",
    "                {x_4R: Either[Either[(x.Knave,y.Knight),(x.Knight,y.Knave)],(x.Knave,y.Knave)] => \n",
    "                        (x_4R match{\n",
    "                            case Left(x_4R_left) => \n",
    "                                (x_4R_left match{\n",
    "                                    // ¿Es necesaria la rama Left?\n",
    "                                    /*\n",
    "                                    case Left(x_4R_left_left: (x.Knave,y.Knight)) =>\n",
    "                                        \n",
    "                                        ??? : Nothing*/\n",
    "                                    case Right(x_4R_left_right) =>\n",
    "                                        val x_4R_left_right_contradiccion: x.Knight => Nothing = xKnave\n",
    "                                        x_4R_left_right_contradiccion(x_4R_left_right._1)\n",
    "                                }) : Nothing\n",
    "                            // ¿Es necesaria la rama Right? ¿Como saco una contradiccion?\n",
    "                            /*\n",
    "                            case Right(x_4R_right: (x.Knave,y.Knave)) =>\n",
    "                                \n",
    "                                ??? : Nothing*/\n",
    "                }) : Nothing}\n",
    "                \n",
    "                \n",
    "                ??? : (x.Knight,y.Knave)\n",
    "        })\n",
    "        \n",
    "        \n",
    "    ??? : (x.Knight,y.Knave)})"
   ]
  },
  {
   "cell_type": "code",
   "execution_count": 12,
   "metadata": {},
   "outputs": [
    {
     "data": {
      "text/plain": [
       "defined \u001b[32mfunction\u001b[39m \u001b[36mpuzzle3\u001b[39m"
      ]
     },
     "execution_count": 12,
     "metadata": {},
     "output_type": "execute_result"
    }
   ],
   "source": [
    "// VERSION 1\n",
    "\n",
    "def puzzle3(premises: KnightsKnaves)(x: Inhabitant)(y: Inhabitant): \n",
    "    x.Says[Either[Either[(x.Knave,y.Knight),(x.Knight,y.Knave)],(x.Knave,y.Knave)]] => (x.Knight,y.Knave) = \n",
    "    ({xSay: x.Says[Either[Either[(x.Knave,y.Knight),(x.Knight,y.Knave)],(x.Knave,y.Knave)]] => \n",
    "        (premises.P1(x) match{\n",
    "            case Left(xKnight: x.Knight) => \n",
    "                // def P2[P](x: Inhabitant): x.Knight => x.Says[P] => P\n",
    "                val x_1L: x.Knight => \n",
    "                            x.Says[Either[Either[(x.Knave,y.Knight),(x.Knight,y.Knave)],(x.Knave,y.Knave)]] => \n",
    "                                Either[Either[(x.Knave,y.Knight),(x.Knight,y.Knave)],(x.Knave,y.Knave)] = premises.P2[Either[Either[(x.Knave,y.Knight),(x.Knight,y.Knave)],(x.Knave,y.Knave)]](x)\n",
    "                val x_2L: x.Says[Either[Either[(x.Knave,y.Knight),(x.Knight,y.Knave)],(x.Knave,y.Knave)]] => \n",
    "                                Either[Either[(x.Knave,y.Knight),(x.Knight,y.Knave)],(x.Knave,y.Knave)] = x_1L(xKnight)\n",
    "                val x_3L: Either[Either[(x.Knave,y.Knight),(x.Knight,y.Knave)],(x.Knave,y.Knave)] = x_2L(xSay)\n",
    "                \n",
    "                (x_3L match{\n",
    "                    case Left(x_3L_left: Either[(x.Knave,y.Knight),(x.Knight,y.Knave)]) => \n",
    "                        (x_3L_left match{\n",
    "                            case Left(x_3L_left_L: (x.Knave,y.Knight)) => \n",
    "                                val xcontradiccion: x.Knight => Nothing = x_3L_left_L._1\n",
    "                                (xKnight, xcontradiccion(xKnight)) : (x.Knight,y.Knave)\n",
    "                            case Right(x_3L_left_R: (x.Knight,y.Knave)) =>\n",
    "                                x_3L_left_R : (x.Knight,y.Knave)\n",
    "                        }) : (x.Knight,y.Knave)\n",
    "                    case Right(x_3L_right: (x.Knave,y.Knave)) => \n",
    "                        (xKnight, x_3L_right._2) : (x.Knight,y.Knave)\n",
    "                }) : (x.Knight,y.Knave)\n",
    "            \n",
    "            case Right(xKnave: x.Knave) => \n",
    "                //def P3[P](x: Inhabitant): x.Knave => x.Says[P] => ¬[P]\n",
    "                val x_1R: x.Knave => \n",
    "                            x.Says[Either[Either[(x.Knave,y.Knight),(x.Knight,y.Knave)],(x.Knave,y.Knave)]] => \n",
    "                                ¬[Either[Either[(x.Knave,y.Knight),(x.Knight,y.Knave)],(x.Knave,y.Knave)]] = premises.P3[Either[Either[(x.Knave,y.Knight),(x.Knight,y.Knave)],(x.Knave,y.Knave)]](x)\n",
    "                val x_2R: x.Says[Either[Either[(x.Knave,y.Knight),(x.Knight,y.Knave)],(x.Knave,y.Knave)]] => \n",
    "                                ¬[Either[Either[(x.Knave,y.Knight),(x.Knight,y.Knave)],(x.Knave,y.Knave)]] = x_1R(xKnave)\n",
    "                //val x_3R: ¬[Either[Either[(x.Knave,y.Knight),(x.Knight,y.Knave)],(x.Knave,y.Knave)]] = x_2R(xSay)\n",
    "                val x_3R: Either[Either[(x.Knave,y.Knight),(x.Knight,y.Knave)],(x.Knave,y.Knave)] => Nothing = x_2R(xSay)\n",
    "                \n",
    "                x_4R: Either[Either[(x.Knave,y.Knight),(x.Knight,y.Knave)],(x.Knave,y.Knave)] => \n",
    "                        (x_4R match{\n",
    "                            case Left(_) => \n",
    "                                x_3R(x_4R) : Nothing\n",
    "                            case Right(_) =>\n",
    "                                x_3R(x_4R) : Nothing\n",
    "                        }) : Nothing\n",
    "                // ¿Porqué teniendo ya algo de tipo (x.Knight,y.Knave) no puedo quitar las ultimas ??? ?\n",
    "                // ¿Si no obtengo solucion en esta rama es porque la respuesta correcta es solo si x es Knight ?\n",
    "                (x_2R(xSay)(x_4R), x_2R(xSay)(x_4R)): (x.Knight,y.Knave)\n",
    "                //(x_3R(x_4R): x.Knight, x_3R(x_4R): y.Knave) : (x.Knight,y.Knave) \n",
    "            \n",
    "        })\n",
    "    ??? : (x.Knight,y.Knave)})"
   ]
  },
  {
   "cell_type": "code",
   "execution_count": 13,
   "metadata": {},
   "outputs": [
    {
     "data": {
      "text/plain": [
       "defined \u001b[32mfunction\u001b[39m \u001b[36mpuzzle3\u001b[39m"
      ]
     },
     "execution_count": 13,
     "metadata": {},
     "output_type": "execute_result"
    }
   ],
   "source": [
    "// SIMPLIFICADO VERSION 1\n",
    "def puzzle3(premises: KnightsKnaves)(x: Inhabitant)(y: Inhabitant): \n",
    "    x.Says[Either[Either[(x.Knave,y.Knight),(x.Knight,y.Knave)],(x.Knave,y.Knave)]] => (x.Knight,y.Knave) = \n",
    "    (premises.P1(x) match {\n",
    "        case Left(xKnight) => \n",
    "            (xsaysL) => \n",
    "                    val x_1L: x.Knight => \n",
    "                            x.Says[Either[Either[(x.Knave,y.Knight),(x.Knight,y.Knave)],(x.Knave,y.Knave)]] => \n",
    "                                Either[Either[(x.Knave,y.Knight),(x.Knight,y.Knave)],(x.Knave,y.Knave)] = premises.P2[Either[Either[(x.Knave,y.Knight),(x.Knight,y.Knave)],(x.Knave,y.Knave)]](x)\n",
    "                    val x_2L: x.Says[Either[Either[(x.Knave,y.Knight),(x.Knight,y.Knave)],(x.Knave,y.Knave)]] => \n",
    "                                Either[Either[(x.Knave,y.Knight),(x.Knight,y.Knave)],(x.Knave,y.Knave)] = x_1L(xKnight)\n",
    "                    val x_3L: Either[Either[(x.Knave,y.Knight),(x.Knight,y.Knave)],(x.Knave,y.Knave)] = x_2L(xsaysL)\n",
    "                    (x_3L match{\n",
    "                        case Left(x_3L_left) => \n",
    "                            (x_3L_left match{\n",
    "                                case Left(x_3L_left_left) => \n",
    "                                    val xcontradiccion: x.Knight => Nothing = x_3L_left_left._1\n",
    "                                    (xKnight, xcontradiccion(xKnight))\n",
    "                                case Right(x_3L_left_right) => \n",
    "                                    x_3L_left_right\n",
    "                            }) : (x.Knight,y.Knave)\n",
    "                        case Right(x_3L_right) => \n",
    "                            (xKnight, x_3L_right._2)\n",
    "                    }) : (x.Knight,y.Knave)\n",
    "        \n",
    "        case Right(xKnave: x.Knave) => \n",
    "            (xsaysR) => \n",
    "                    val x_1R: x.Knave => \n",
    "                            x.Says[Either[Either[(x.Knave,y.Knight),(x.Knight,y.Knave)],(x.Knave,y.Knave)]] => \n",
    "                                Not[Either[Either[(x.Knave,y.Knight),(x.Knight,y.Knave)],(x.Knave,y.Knave)]] = premises.P3[Either[Either[(x.Knave,y.Knight),(x.Knight,y.Knave)],(x.Knave,y.Knave)]](x)\n",
    "                    val x_2R: x.Says[Either[Either[(x.Knave,y.Knight),(x.Knight,y.Knave)],(x.Knave,y.Knave)]] => \n",
    "                                Not[Either[Either[(x.Knave,y.Knight),(x.Knight,y.Knave)],(x.Knave,y.Knave)]] = x_1R(xKnave)\n",
    "                    val x_3R: Either[Either[(x.Knave,y.Knight),(x.Knight,y.Knave)],(x.Knave,y.Knave)] => Nothing = x_2R(xsaysR)\n",
    "                    \n",
    "                    {x_4R: Either[Either[(x.Knave,y.Knight),(x.Knight,y.Knave)],(x.Knave,y.Knave)] => \n",
    "                        (x_4R match{\n",
    "                            case Left(x_4R_left) => \n",
    "                                (x_4R_left match{\n",
    "                                    // ¿Es necesaria la rama Left?\n",
    "                                    /*\n",
    "                                    case Left(x_4R_left_left: (x.Knave,y.Knight)) =>\n",
    "                                        \n",
    "                                        ??? : Nothing*/\n",
    "                                    case Right(x_4R_left_right) =>\n",
    "                                        val x_4R_left_right_contradiccion: x.Knight => Nothing = xKnave\n",
    "                                        x_4R_left_right_contradiccion(x_4R_left_right._1)\n",
    "                                }) : Nothing\n",
    "                            // ¿Es necesaria la rama Right? ¿Como saco una contradiccion?\n",
    "                            /*\n",
    "                            case Right(x_4R_right: (x.Knave,y.Knave)) =>\n",
    "                                \n",
    "                                ??? : Nothing*/\n",
    "                        }) : Nothing}\n",
    "            ??? : (x.Knight,y.Knave)\n",
    "        \n",
    "    }): (x.Says[Either[Either[(x.Knave,y.Knight),(x.Knight,y.Knave)],(x.Knave,y.Knave)]] => (x.Knight,y.Knave))"
   ]
  },
  {
   "cell_type": "code",
   "execution_count": 14,
   "metadata": {},
   "outputs": [
    {
     "data": {
      "text/plain": [
       "defined \u001b[32mfunction\u001b[39m \u001b[36mpuzzle3\u001b[39m"
      ]
     },
     "execution_count": 14,
     "metadata": {},
     "output_type": "execute_result"
    }
   ],
   "source": [
    "//VERSION 2\n",
    "\n",
    "def puzzle3(premises: KnightsKnaves)(x: Inhabitant)(y: Inhabitant): \n",
    "    x.Says[Either[x.Knave, y.Knave]] => (x.Knight,y.Knave) = ???\n",
    "    /*\n",
    "    CORRECCION JUANMA:\n",
    "    \n",
    "    A dice \"At least one of us is a knave\".\n",
    "    Case 1) Suponemos que A es Knight:\n",
    "    \n",
    "    Como A es Knight, dice la verdad, por tanto \"At least one of us is a knave\" se cumple. Asi que si A es Knight, quiere\n",
    "    decir que B sera Knave.\n",
    "    \n",
    "    Case 2) Suponemos que A es Knave:\n",
    "    \n",
    "    Como A es Knave, quiere decir que siempre miente. Asi que, \"At least one of us is a knave\" lo tomamos como que es mentira.\n",
    "    Lo que significa que A y B son ambos knights, lo cual es una contradiccion porque A es knave. Asi que no es posible que\n",
    "    A sea un Knave.\n",
    "    \n",
    "    Conclusion, \"At least one of us is a knave\" se cumple si A es knight y B es knave.    \n",
    "    _________________________\n",
    "    \n",
    "    O X es Knave o Y es Knave. En la premisa solo dice que al menos uno es Knave. No dice al menos uno es Knave y el otro\n",
    "    es Knight o viceversa.\n",
    "    */\n",
    "    //x.Says[Either[Either[(x.Knave,y.Knight),(x.Knight,y.Knave)],(x.Knave,y.Knave)]] => (x.Knight,y.Knave) = ???\n",
    "    /* Al menos uno de ellos es un Knave (uno u otro, o ambos):\n",
    "    1.- X es Knave\n",
    "    2.- Y es Knave\n",
    "    3.- X e Y son Knave\n",
    "    \n",
    "    \"Uno u otro\" -> Either[(x.Knave,y.Knight),(x.Knight,y.Knave)]\n",
    "    \"O ambos\" -> Del resultado del \"Either[(x.Knave,y.Knight),(x.Knight,y.Knave)]\" sacaremos una de las partes del \n",
    "    ultimo Either junto a \"[Either[...],(x.Knave,y.Knave)]]\"\n",
    "    */\n",
    "\n"
   ]
  },
  {
   "cell_type": "code",
   "execution_count": 15,
   "metadata": {},
   "outputs": [
    {
     "data": {
      "text/plain": [
       "defined \u001b[32mfunction\u001b[39m \u001b[36mpuzzle3\u001b[39m"
      ]
     },
     "execution_count": 15,
     "metadata": {},
     "output_type": "execute_result"
    }
   ],
   "source": [
    "//VERSION 2\n",
    "\n",
    "def puzzle3(premises: KnightsKnaves)(x: Inhabitant)(y: Inhabitant): \n",
    "    x.Says[Either[x.Knave, y.Knave]] => (x.Knight,y.Knave) = \n",
    "        ({xSays : x.Says[Either[x.Knave, y.Knave]] => \n",
    "            ??? : (x.Knight,y.Knave)})"
   ]
  },
  {
   "cell_type": "code",
   "execution_count": 16,
   "metadata": {},
   "outputs": [
    {
     "data": {
      "text/plain": [
       "defined \u001b[32mfunction\u001b[39m \u001b[36mpuzzle3\u001b[39m"
      ]
     },
     "execution_count": 16,
     "metadata": {},
     "output_type": "execute_result"
    }
   ],
   "source": [
    "//VERSION 2\n",
    "\n",
    "def puzzle3(premises: KnightsKnaves)(x: Inhabitant)(y: Inhabitant): \n",
    "    x.Says[Either[x.Knave, y.Knave]] => (x.Knight,y.Knave) = \n",
    "        ({xSays : x.Says[Either[x.Knave, y.Knave]] => \n",
    "            (premises.P1(x) match{\n",
    "                case Left(xKnight: x.Knight) =>\n",
    "                // def P2[P](x: Inhabitant): x.Knight => x.Says[P] => P\n",
    "                    val x_1L: x.Knight =>\n",
    "                                x.Says[Either[x.Knave, y.Knave]] => Either[x.Knave, y.Knave] = premises.P2[Either[x.Knave, y.Knave]](x)\n",
    "                    val x_2L: x.Says[Either[x.Knave, y.Knave]] => Either[x.Knave, y.Knave] = x_1L(xKnight)\n",
    "                    val x_3L: Either[x.Knave, y.Knave] = x_2L(xSays)\n",
    "                    \n",
    "                    (xKnight: x.Knight, (x_3L match{\n",
    "                        case Left(xKnave: x.Knave) => \n",
    "                            val aux_contradiccion: x.Knight => Nothing = xKnave\n",
    "                            aux_contradiccion(xKnight) : y.Knave\n",
    "                        case Right(yKnave: y.Knave) => \n",
    "                            yKnave : y.Knave\n",
    "                    }): y.Knave) : (x.Knight,y.Knave)\n",
    "                                \n",
    "                case Right(xKnave: x.Knave) =>\n",
    "                //def P3[P](x: Inhabitant): x.Knave => x.Says[P] => ¬[P]\n",
    "                    val x_1R: x.Knave => x.Says[Either[x.Knave, y.Knave]] => Not[Either[x.Knave, y.Knave]] = premises.P3[Either[x.Knave, y.Knave]](x)\n",
    "                    val x_2R: x.Says[Either[x.Knave, y.Knave]] => Not[Either[x.Knave, y.Knave]] = x_1R(xKnave)\n",
    "                    //val x_3R: Not[Either[x.Knave, y.Knave]] = x_2R(xSays)\n",
    "                \n",
    "                    val x_3R: Either[x.Knave, y.Knave] => Nothing = x_2R(xSays)\n",
    "                    //Si a la funcion x_3R le pasas o un x.Knave o un y.Knave devuelve Nothing \n",
    "                    //Aqui tengo P que es \"Either[x.Knave, y.Knave]\" y tengo Not[P] que es \"x_2R(xSays)\",\n",
    "                    //por tanto he demonstrado la contradiccion\n",
    "                    x_3R(Left(xKnave)): Nothing\n",
    "               \n",
    "                (x_3R(Left(xKnave)), x_3R(Left(xKnave))) : (x.Knight,y.Knave)\n",
    "                \n",
    "            }) : (x.Knight,y.Knave)})"
   ]
  },
  {
   "cell_type": "code",
   "execution_count": 17,
   "metadata": {},
   "outputs": [
    {
     "data": {
      "text/plain": [
       "defined \u001b[32mfunction\u001b[39m \u001b[36mpuzzle3\u001b[39m"
      ]
     },
     "execution_count": 17,
     "metadata": {},
     "output_type": "execute_result"
    }
   ],
   "source": [
    "//VERSION 2 - SIMPLIFICADA\n",
    "\n",
    "def puzzle3(premises: KnightsKnaves)(x: Inhabitant)(y: Inhabitant): \n",
    "    x.Says[Either[x.Knave, y.Knave]] => (x.Knight,y.Knave) = \n",
    "        ({xSays => \n",
    "            (premises.P1(x) match{\n",
    "                case Left(xKnight) =>\n",
    "                    val x_1L: x.Knight =>\n",
    "                                x.Says[Either[x.Knave, y.Knave]] => Either[x.Knave, y.Knave] = premises.P2[Either[x.Knave, y.Knave]](x)\n",
    "                    val x_2L: x.Says[Either[x.Knave, y.Knave]] => Either[x.Knave, y.Knave] = x_1L(xKnight)\n",
    "                    val x_3L: Either[x.Knave, y.Knave] = x_2L(xSays)\n",
    "                    \n",
    "                    (xKnight, (x_3L match{\n",
    "                        case Left(xKnave: x.Knave) => \n",
    "                            val aux_contradiccion: x.Knight => Nothing = xKnave\n",
    "                            aux_contradiccion(xKnight) : y.Knave\n",
    "                        case Right(yKnave: y.Knave) => \n",
    "                            yKnave : y.Knave\n",
    "                    }))\n",
    "                                \n",
    "                case Right(xKnave) =>\n",
    "                    val x_1R: x.Knave => x.Says[Either[x.Knave, y.Knave]] => Not[Either[x.Knave, y.Knave]] = premises.P3[Either[x.Knave, y.Knave]](x)\n",
    "                    val x_2R: x.Says[Either[x.Knave, y.Knave]] => Not[Either[x.Knave, y.Knave]] = x_1R(xKnave)\n",
    "                    val x_3R: Either[x.Knave, y.Knave] => Nothing = x_2R(xSays)\n",
    "                                   \n",
    "                    (x_3R(Left(xKnave)), x_3R(Left(xKnave)))\n",
    "            }) \n",
    "        })"
   ]
  },
  {
   "cell_type": "code",
   "execution_count": 22,
   "metadata": {},
   "outputs": [
    {
     "data": {
      "text/plain": [
       "defined \u001b[32mfunction\u001b[39m \u001b[36mpuzzle3\u001b[39m"
      ]
     },
     "execution_count": 22,
     "metadata": {},
     "output_type": "execute_result"
    }
   ],
   "source": [
    "//VERSION 2 - SIMPLIFICADA 2.0\n",
    "\n",
    "def puzzle3(premises: KnightsKnaves)(x: Inhabitant)(y: Inhabitant): \n",
    "    x.Says[Either[x.Knave, y.Knave]] => (x.Knight,y.Knave) = \n",
    "        ({xSays => \n",
    "            (premises.P1(x) match{\n",
    "                case Left(xKnight) =>\n",
    "                    val x_1L: x.Knight =>\n",
    "                                x.Says[Either[x.Knave, y.Knave]] => Either[x.Knave, y.Knave] = premises.P2[Either[x.Knave, y.Knave]](x)\n",
    "                    val x_2L: x.Says[Either[x.Knave, y.Knave]] => Either[x.Knave, y.Knave] = x_1L(xKnight)\n",
    "                    val x_3L: Either[x.Knave, y.Knave] = x_2L(xSays)\n",
    "                    \n",
    "                    x_3L match{\n",
    "                        case Left(xKnave: x.Knave) => xKnave(xKnight) : (x.Knight,y.Knave)\n",
    "                        case Right(yKnave: y.Knave) => (xKnight, yKnave) : (x.Knight,y.Knave)\n",
    "                    }\n",
    "                case Right(xKnave) =>\n",
    "                    val x_1R: x.Knave => x.Says[Either[x.Knave, y.Knave]] => Not[Either[x.Knave, y.Knave]] = premises.P3[Either[x.Knave, y.Knave]](x)\n",
    "                    val x_2R: x.Says[Either[x.Knave, y.Knave]] => Not[Either[x.Knave, y.Knave]] = x_1R(xKnave)\n",
    "                    val x_3R: Either[x.Knave, y.Knave] => Nothing = x_2R(xSays)\n",
    "                                   \n",
    "                    //(x_3R(Left(xKnave)), x_3R(Left(xKnave)))\n",
    "                    x_3R(Left(xKnave)): (x.Knight,y.Knave)\n",
    "            }) \n",
    "        })"
   ]
  },
  {
   "cell_type": "code",
   "execution_count": 22,
   "metadata": {},
   "outputs": [
    {
     "name": "stderr",
     "output_type": "stream",
     "text": [
      "(console):35:21 expected \")\"\r\n",
      "//Sugar version\n",
      "\n",
      "/*def puzzle3(premises: KnightsKnaves)(x: Inhabitant)(y: Inhabitant): \n",
      "    x.Says[Either[x.Knave, y.Knave]] => (x.Knight,y.Knave) = \n",
      "        ({xSays => \n",
      "            (premises.P1(x) match{\n",
      "                case Left(xKnight) =>\n",
      "                    val x_1L: x.Knight =>\n",
      "                                x.Says[Either[x.Knave, y.Knave]] => Either[x.Knave, y.Knave] = premises.P2[Either[x.Knave, y.Knave]](x)\n",
      "                    val x_2L: x.Says[Either[x.Knave, y.Knave]] => Either[x.Knave, y.Knave] = x_1L(xKnight)\n",
      "                    val x_3L: Either[x.Knave, y.Knave] = x_2L(xSays)\n",
      "                    \n",
      "                    x_3L match{\n",
      "                        case Left(xKnave: x.Knave) => xKnave(xKnight) : (x.Knight,y.Knave)\n",
      "                        case Right(yKnave: y.Knave) => (xKnight, yKnave) : (x.Knight,y.Knave)\n",
      "                    }\n",
      "                case Right(xKnave) =>\n",
      "                    val x_1R: x.Knave => x.Says[Either[x.Knave, y.Knave]] => Not[Either[x.Knave, y.Knave]] = premises.P3[Either[x.Knave, y.Knave]](x)\n",
      "                    val x_2R: x.Says[Either[x.Knave, y.Knave]] => Not[Either[x.Knave, y.Knave]] = x_1R(xKnave)\n",
      "                    val x_3R: Either[x.Knave, y.Knave] => Nothing = x_2R(xSays)\n",
      "                                   \n",
      "                    (x_3R(Left(xKnave)), x_3R(Left(xKnave)))\n",
      "            }) \n",
      "        })\n",
      "*/\n",
      "\n",
      "def puzzle3(premises: KnightsKnaves)(x: Inhabitant)(y: Inhabitant): \n",
      "    x.Says[Either[x.Knave, y.Knave]] => (x.Knight,y.Knave) = \n",
      "        xSay_xKnaveOryKnave =>\n",
      "        //({xSays =>\n",
      "            premises.eitherKnightOrKnave(x).fold(\n",
      "            //(premises.P1(x) match{\n",
      "                xIsKnight =>\n",
      "                //case Left(xKnight) =>\n",
      "                    val aux1 = premises.noKnightLies(x)(xIsKnight)(xSay_xKnaveOryKnave: x.Says[Either[x.Knave, y.Knave]]): Either[x.Knave, y.Knave]\n",
      "                    aux1 match{\n",
      "                        xKnave => xKnave(xIsKnight)\n",
      "                        yKnave => (xIsKnight, yKnave)\n",
      "                    }              \n",
      "                ,\n",
      "                xIsKnave =>\n",
      "                //case Right(xKnave) =>\n",
      "                    val aux2 = premises.no KnaveTellsTruth(x)(xIsKnave)(xSay_xKnaveOryKnave: x.Says[Either[x.Knave, y.Knave]]): Not[x.Says[Either[x.Knave, y.Knave]]]\n",
      "                    aux2(Left(xIsKnave))            \n",
      "            \n",
      "            )\r\n",
      "                                                                                                                                                                                                                                                                                                                                                                                                                                                                                                                                                                                                                                                                                                                                                                                                                                                                                                                                                                                                                                                                                                                                                                                                                                                                                                                                                                                                                                                                                                                                                                                                                                                                                                                                                                                           ^"
     ]
    },
    {
     "ename": "",
     "evalue": "",
     "output_type": "error",
     "traceback": [
      "(console):35:21 expected \")\"\r\n//Sugar version\n\n/*def puzzle3(premises: KnightsKnaves)(x: Inhabitant)(y: Inhabitant): \n    x.Says[Either[x.Knave, y.Knave]] => (x.Knight,y.Knave) = \n        ({xSays => \n            (premises.P1(x) match{\n                case Left(xKnight) =>\n                    val x_1L: x.Knight =>\n                                x.Says[Either[x.Knave, y.Knave]] => Either[x.Knave, y.Knave] = premises.P2[Either[x.Knave, y.Knave]](x)\n                    val x_2L: x.Says[Either[x.Knave, y.Knave]] => Either[x.Knave, y.Knave] = x_1L(xKnight)\n                    val x_3L: Either[x.Knave, y.Knave] = x_2L(xSays)\n                    \n                    x_3L match{\n                        case Left(xKnave: x.Knave) => xKnave(xKnight) : (x.Knight,y.Knave)\n                        case Right(yKnave: y.Knave) => (xKnight, yKnave) : (x.Knight,y.Knave)\n                    }\n                case Right(xKnave) =>\n                    val x_1R: x.Knave => x.Says[Either[x.Knave, y.Knave]] => Not[Either[x.Knave, y.Knave]] = premises.P3[Either[x.Knave, y.Knave]](x)\n                    val x_2R: x.Says[Either[x.Knave, y.Knave]] => Not[Either[x.Knave, y.Knave]] = x_1R(xKnave)\n                    val x_3R: Either[x.Knave, y.Knave] => Nothing = x_2R(xSays)\n                                   \n                    (x_3R(Left(xKnave)), x_3R(Left(xKnave)))\n            }) \n        })\n*/\n\ndef puzzle3(premises: KnightsKnaves)(x: Inhabitant)(y: Inhabitant): \n    x.Says[Either[x.Knave, y.Knave]] => (x.Knight,y.Knave) = \n        xSay_xKnaveOryKnave =>\n        //({xSays =>\n            premises.eitherKnightOrKnave(x).fold(\n            //(premises.P1(x) match{\n                xIsKnight =>\n                //case Left(xKnight) =>\n                    val aux1 = premises.noKnightLies(x)(xIsKnight)(xSay_xKnaveOryKnave: x.Says[Either[x.Knave, y.Knave]]): Either[x.Knave, y.Knave]\n                    aux1 match{\n                        xKnave => xKnave(xIsKnight)\n                        yKnave => (xIsKnight, yKnave)\n                    }              \n                ,\n                xIsKnave =>\n                //case Right(xKnave) =>\n                    val aux2 = premises.no KnaveTellsTruth(x)(xIsKnave)(xSay_xKnaveOryKnave: x.Says[Either[x.Knave, y.Knave]]): Not[x.Says[Either[x.Knave, y.Knave]]]\n                    aux2(Left(xIsKnave))            \n            \n            )\r\n                                                                                                                                                                                                                                                                                                                                                                                                                                                                                                                                                                                                                                                                                                                                                                                                                                                                                                                                                                                                                                                                                                                                                                                                                                                                                                                                                                                                                                                                                                                                                                                                                                                                                                                                                                                           ^"
     ]
    }
   ],
   "source": [
    "//Sugar version\n",
    "\n",
    "/*def puzzle3(premises: KnightsKnaves)(x: Inhabitant)(y: Inhabitant): \n",
    "    x.Says[Either[x.Knave, y.Knave]] => (x.Knight,y.Knave) = \n",
    "        ({xSays => \n",
    "            (premises.P1(x) match{\n",
    "                case Left(xKnight) =>\n",
    "                    val x_1L: x.Knight =>\n",
    "                                x.Says[Either[x.Knave, y.Knave]] => Either[x.Knave, y.Knave] = premises.P2[Either[x.Knave, y.Knave]](x)\n",
    "                    val x_2L: x.Says[Either[x.Knave, y.Knave]] => Either[x.Knave, y.Knave] = x_1L(xKnight)\n",
    "                    val x_3L: Either[x.Knave, y.Knave] = x_2L(xSays)\n",
    "                    \n",
    "                    x_3L match{\n",
    "                        case Left(xKnave: x.Knave) => xKnave(xKnight) : (x.Knight,y.Knave)\n",
    "                        case Right(yKnave: y.Knave) => (xKnight, yKnave) : (x.Knight,y.Knave)\n",
    "                    }\n",
    "                case Right(xKnave) =>\n",
    "                    val x_1R: x.Knave => x.Says[Either[x.Knave, y.Knave]] => Not[Either[x.Knave, y.Knave]] = premises.P3[Either[x.Knave, y.Knave]](x)\n",
    "                    val x_2R: x.Says[Either[x.Knave, y.Knave]] => Not[Either[x.Knave, y.Knave]] = x_1R(xKnave)\n",
    "                    val x_3R: Either[x.Knave, y.Knave] => Nothing = x_2R(xSays)\n",
    "                                   \n",
    "                    (x_3R(Left(xKnave)), x_3R(Left(xKnave)))\n",
    "            }) \n",
    "        })\n",
    "*/\n",
    "\n",
    "def puzzle3(premises: KnightsKnaves)(x: Inhabitant)(y: Inhabitant): \n",
    "    x.Says[Either[x.Knave, y.Knave]] => (x.Knight,y.Knave) = \n",
    "        xSay_xKnaveOryKnave =>\n",
    "        //({xSays =>\n",
    "            premises.eitherKnightOrKnave(x).fold(\n",
    "            //(premises.P1(x) match{\n",
    "                xIsKnight =>\n",
    "                //case Left(xKnight) =>\n",
    "                    val aux1 = premises.noKnightLies(x)(xIsKnight)(xSay_xKnaveOryKnave: x.Says[Either[x.Knave, y.Knave]]): Either[x.Knave, y.Knave]\n",
    "                    aux1 match{\n",
    "                        xKnave => xKnave(xIsKnight)\n",
    "                        yKnave => (xIsKnight, yKnave)\n",
    "                    }              \n",
    "                ,\n",
    "                xIsKnave =>\n",
    "                //case Right(xKnave) =>\n",
    "                    val aux2 = premises.no KnaveTellsTruth(x)(xIsKnave)(xSay_xKnaveOryKnave: x.Says[Either[x.Knave, y.Knave]]): Not[x.Says[Either[x.Knave, y.Knave]]]\n",
    "                    aux2(Left(xIsKnave))            \n",
    "            \n",
    "            )"
   ]
  },
  {
   "cell_type": "code",
   "execution_count": null,
   "metadata": {},
   "outputs": [],
   "source": []
  },
  {
   "cell_type": "code",
   "execution_count": null,
   "metadata": {},
   "outputs": [],
   "source": []
  }
 ],
 "metadata": {
  "kernelspec": {
   "display_name": "Scala",
   "language": "scala",
   "name": "scala"
  },
  "language_info": {
   "codemirror_mode": "text/x-scala",
   "file_extension": ".sc",
   "mimetype": "text/x-scala",
   "name": "scala",
   "nbconvert_exporter": "script",
   "version": "2.13.3"
  }
 },
 "nbformat": 4,
 "nbformat_minor": 4
}
