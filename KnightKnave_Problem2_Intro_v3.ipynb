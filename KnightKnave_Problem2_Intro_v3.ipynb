{
 "cells": [
  {
   "cell_type": "code",
   "execution_count": 1,
   "metadata": {},
   "outputs": [
    {
     "data": {
      "text/plain": [
       "defined \u001b[32mtype\u001b[39m \u001b[36m∨\u001b[39m\r\n",
       "defined \u001b[32mtype\u001b[39m \u001b[36m∧\u001b[39m\r\n",
       "defined \u001b[32mtype\u001b[39m \u001b[36m⟶\u001b[39m\r\n",
       "defined \u001b[32mtype\u001b[39m \u001b[36m⊥\u001b[39m\r\n",
       "defined \u001b[32mtype\u001b[39m \u001b[36mTrue\u001b[39m\r\n",
       "defined \u001b[32mtype\u001b[39m \u001b[36m¬\u001b[39m"
      ]
     },
     "execution_count": 1,
     "metadata": {},
     "output_type": "execute_result"
    }
   ],
   "source": [
    "type ∨[P, Q] = Either[P, Q]\n",
    "type ∧[P, Q] = Tuple2[P, Q]\n",
    "type ⟶[P, Q] = P => Q\n",
    "type ⊥ = Nothing\n",
    "type True = Unit\n",
    "type ¬[P] = P => ⊥"
   ]
  },
  {
   "cell_type": "code",
   "execution_count": 2,
   "metadata": {},
   "outputs": [
    {
     "data": {
      "text/plain": [
       "defined \u001b[32mtype\u001b[39m \u001b[36mOr\u001b[39m\r\n",
       "defined \u001b[32mtype\u001b[39m \u001b[36mAnd\u001b[39m\r\n",
       "defined \u001b[32mtype\u001b[39m \u001b[36mImplies\u001b[39m\r\n",
       "defined \u001b[32mtype\u001b[39m \u001b[36mFalse\u001b[39m\r\n",
       "defined \u001b[32mtype\u001b[39m \u001b[36mTrue\u001b[39m\r\n",
       "defined \u001b[32mtype\u001b[39m \u001b[36mNot\u001b[39m"
      ]
     },
     "execution_count": 2,
     "metadata": {},
     "output_type": "execute_result"
    }
   ],
   "source": [
    "type Or[P, Q] = Either[P, Q]\n",
    "type And[P, Q] = Tuple2[P, Q]\n",
    "type Implies[P, Q] = P => Q\n",
    "type False = Nothing\n",
    "type True = Unit\n",
    "type Not[P] = P => ⊥"
   ]
  },
  {
   "cell_type": "code",
   "execution_count": 3,
   "metadata": {},
   "outputs": [
    {
     "data": {
      "text/plain": [
       "defined \u001b[32mclass\u001b[39m \u001b[36mInhabitant\u001b[39m"
      ]
     },
     "execution_count": 3,
     "metadata": {},
     "output_type": "execute_result"
    }
   ],
   "source": [
    "class Inhabitant{ x => \n",
    "    // Knight(x) -- `x` is a Knight\n",
    "    // \n",
    "    type Knight\n",
    "    \n",
    "    // Knave(x) -- `x` is a Knave (i.e. is not a Knight)\n",
    "    // \n",
    "    type Knave = ¬[Knight]\n",
    "    \n",
    "    // Says(x, P) -- `x` says that `P` holds, i.e. asserts proposition `P`\n",
    "    // \n",
    "    type Says[P]\n",
    "}"
   ]
  },
  {
   "cell_type": "code",
   "execution_count": 4,
   "metadata": {},
   "outputs": [
    {
     "data": {
      "text/plain": [
       "defined \u001b[32mtrait\u001b[39m \u001b[36mKnightsKnaves\u001b[39m"
      ]
     },
     "execution_count": 4,
     "metadata": {},
     "output_type": "execute_result"
    }
   ],
   "source": [
    "trait KnightsKnaves{\n",
    "    // P1. Inhabitants are knights or knaves\n",
    "    // \n",
    "    //     ∀ x. Inhabitant(x) ⟶ Knight(x) ∨ Knave(x) \n",
    "    // \n",
    "    def P1(x: Inhabitant): x.Knight ∨ x.Knave\n",
    "    \n",
    "    // In Scala 3\n",
    "    // val P1: (x: Inhabitant) => Either[x.Knight, x.Knave]\n",
    "    \n",
    "    // P2. Knights are truth tellers\n",
    "    // \n",
    "    //     ∀ P. ∀ x. Knight(x) ⟶ Says(x, P) ⟶ P\n",
    "    // \n",
    "    def P2[P](x: Inhabitant): x.Knight => x.Says[P] => P\n",
    "    \n",
    "    // In Scala 3\n",
    "    // val P2: [P] => (x: Inhabitant) => x.Knight => x.Says[P] => P\n",
    "    \n",
    "    // P3. Knaves are persistent liers\n",
    "    // \n",
    "    //     ∀ P. ∀ x. Knight(x) ⟶ Says(x, P) ⟶ ¬P\n",
    "    // \n",
    "    def P3[P](x: Inhabitant): x.Knave => x.Says[P] => ¬[P]\n",
    "}"
   ]
  },
  {
   "cell_type": "markdown",
   "metadata": {},
   "source": [
    "# Puzzle 1 - Ejemplo.\n",
    "Is it possible for any inhabitant of this island to claim that he is a knave?\n",
    "\n",
    "\n",
    "No; no inhabitant can claim to be a knave because no knight would lie and say he is a knave and no knave would truthfully admit to being a knave."
   ]
  },
  {
   "cell_type": "code",
   "execution_count": 5,
   "metadata": {},
   "outputs": [
    {
     "data": {
      "text/plain": [
       "defined \u001b[32mfunction\u001b[39m \u001b[36mpuzzle1\u001b[39m"
      ]
     },
     "execution_count": 5,
     "metadata": {},
     "output_type": "execute_result"
    }
   ],
   "source": [
    "// { P1, P2, P3 } ⊢ ∀ x. Inhabitant(x) ⟶ ¬Says(x, Knave(x))\n",
    "\n",
    "def puzzle1(premises: KnightsKnaves)(x: Inhabitant): ¬[x.Says[x.Knave]] = \n",
    "    // 1. Says(x, Knave(x))                                       ; hypothesis\n",
    "    ((_1: x.Says[x.Knave]) => \n",
    "         (premises.P1(x) match {\n",
    "             // 2. Knight(x)                                      ; hypothesis\n",
    "             case Left(_2: x.Knight) => \n",
    "                 //   3. Knight(x) → Says(x, Knave(x)) → Knave(x) ; P2[Knave(x),x]\n",
    "                 val _3: x.Knight => x.Says[x.Knave] => x.Knave = premises.P2[x.Knave](x)\n",
    "                 //   4. Says(x, Knave(x)) → Knave(x)             ; ⟶E(3,2)\n",
    "                 val _4: x.Says[x.Knave] => x.Knave = _3(_2)\n",
    "                 //   5. Knave(x)                                 ; ⟶E(4,1)\n",
    "                 //   5. ¬ Knight(x)                              ; ≝ Knave\n",
    "                 //   5. Knight(x) → ⊥                            ; ≝ ¬ \n",
    "                 val _5: x.Knight => ⊥ = _4(_1)\n",
    "                 //   6. ⊥                                        ; ⟶E(5,2)\n",
    "                 _5(_2) : ⊥\n",
    "\n",
    "             //  _7. Knave(x)                                     ; hypothesis\n",
    "             case Right(_7: x.Knave) => \n",
    "                 //   8. Knave(x) → Says(x, Knave(x)) → ¬ Knave(x) ; P3[Knave(x),x]\n",
    "                 val _8: x.Knave => x.Says[x.Knave] => ¬[x.Knave] = premises.P3[x.Knave](x)\n",
    "                 //   9. Says(x, Knave(x)) → ¬ Knave(x)            ; ⟶E(8,7)\n",
    "                 val _9: x.Says[x.Knave] => ¬[x.Knave] = _8(_7)\n",
    "                 //   10. ¬ Knave(x)                               ; ⟶E(9,1)\n",
    "                 //   10. Knave(x) → ⊥                             ; ≝ ¬ \n",
    "                 val _10: x.Knave => ⊥ = _9(_1)\n",
    "                 //  11. ⊥                                         ; ⟶E(10,7)\n",
    "                 _10(_7) : ⊥\n",
    "\n",
    "        // _12. ⊥                                                  ; ∨E(P1, 2-6, 7-11)\n",
    "        }) : False\n",
    "\n",
    "    // _13. Says(x, Knave(x)) ⟶ ⊥                                  ; ⟶I(1-12)\n",
    "    // _13. ¬ Says(x, Knave(x))                                    ; ≝ ¬ \n",
    "    ) : ¬[x.Says[x.Knave]]"
   ]
  },
  {
   "cell_type": "code",
   "execution_count": 6,
   "metadata": {},
   "outputs": [
    {
     "data": {
      "text/plain": [
       "defined \u001b[32mfunction\u001b[39m \u001b[36mpuzzle1\u001b[39m"
      ]
     },
     "execution_count": 6,
     "metadata": {},
     "output_type": "execute_result"
    }
   ],
   "source": [
    "// { P1, P2, P3 } ⊢ ∀ x. Inhabitant(x) ⟶ ¬Says(x, Knave(x))\n",
    "\n",
    "def puzzle1(premises: KnightsKnaves)(x: Inhabitant): x.Says[x.Knave] => Nothing =\n",
    "    // 1. Says(x, Knave(x))                                       ; hypothesis\n",
    "    ((_1: x.Says[x.Knave]) => \n",
    "         (premises.P1(x) match {\n",
    "             // 2. Knight(x)                                      ; hypothesis\n",
    "             case Left(_2: x.Knight) => \n",
    "                 //   3. Knight(x) → Says(x, Knave(x)) → Knave(x) ; P2[Knave(x),x]\n",
    "                 val _3: x.Knight => x.Says[x.Knave] => x.Knave = premises.P2[x.Knave](x)\n",
    "                 //   4. Says(x, Knave(x)) → Knave(x)             ; ⟶E(3,2)\n",
    "                 val _4: x.Says[x.Knave] => x.Knave = _3(_2)\n",
    "                 //   5. Knave(x)                                 ; ⟶E(4,1)\n",
    "                 //   5. ¬ Knight(x)                              ; ≝ Knave\n",
    "                 //   5. Knight(x) → ⊥                            ; ≝ ¬ \n",
    "                 val _5: x.Knight => ⊥ = _4(_1)\n",
    "                 //   6. ⊥                                        ; ⟶E(5,2)\n",
    "                 _5(_2) : ⊥\n",
    "\n",
    "             //  _7. Knave(x)                                     ; hypothesis\n",
    "             case Right(_7: x.Knave) => \n",
    "                 //   8. Knave(x) → Says(x, Knave(x)) → ¬ Knave(x) ; P3[Knave(x),x]\n",
    "                 val _8: x.Knave => x.Says[x.Knave] => ¬[x.Knave] = premises.P3[x.Knave](x)\n",
    "                 //   9. Says(x, Knave(x)) → ¬ Knave(x)            ; ⟶E(8,7)\n",
    "                 val _9: x.Says[x.Knave] => ¬[x.Knave] = _8(_7)\n",
    "                 //   10. ¬ Knave(x)                               ; ⟶E(9,1)\n",
    "                 //   10. Knave(x) → ⊥                             ; ≝ ¬ \n",
    "                 val _10: x.Knave => ⊥ = _9(_1)\n",
    "                 //  11. ⊥                                         ; ⟶E(10,7)\n",
    "                 _10(_7) : ⊥\n",
    "\n",
    "        // _12. ⊥                                                  ; ∨E(P1, 2-6, 7-11)\n",
    "        }) : False\n",
    "\n",
    "    // _13. Says(x, Knave(x)) ⟶ ⊥                                  ; ⟶I(1-12)\n",
    "    // _13. ¬ Says(x, Knave(x))                                    ; ≝ ¬ \n",
    "    ) : ¬[x.Says[x.Knave]]"
   ]
  },
  {
   "cell_type": "code",
   "execution_count": 7,
   "metadata": {},
   "outputs": [
    {
     "data": {
      "text/plain": [
       "defined \u001b[32mclass\u001b[39m \u001b[36mSomeSugar\u001b[39m"
      ]
     },
     "execution_count": 7,
     "metadata": {},
     "output_type": "execute_result"
    }
   ],
   "source": [
    "implicit class SomeSugar(P: KnightsKnaves){    \n",
    "    def eitherKnightOrKnave(x: Inhabitant): x.Knight Or x.Knave = P.P1(x)\n",
    "    def knightsAreTruthTellers[P](x: Inhabitant) = P.P2[P](x)\n",
    "    def knavesAreLiers[P](x: Inhabitant) = P.P3[P](x)\n",
    "    \n",
    "    def noKnightLies[P](x: Inhabitant): x.Knight => x.Says[Not[P]] => P => False = \n",
    "        xIsKnight => xSaysNotP => p => \n",
    "            P.P2[Not[P]](x)(xIsKnight)(xSaysNotP)(p)\n",
    "    \n",
    "    def noKnaveTellsTruth[P](x: Inhabitant): x.Knave => x.Says[P] => P => False = \n",
    "        xIsKnave => xSaysP => p => \n",
    "            P.P3[P](x)(xIsKnave)(xSaysP)(p)\n",
    "}"
   ]
  },
  {
   "cell_type": "code",
   "execution_count": 8,
   "metadata": {},
   "outputs": [
    {
     "data": {
      "text/plain": [
       "defined \u001b[32mfunction\u001b[39m \u001b[36mpuzzle1\u001b[39m"
      ]
     },
     "execution_count": 8,
     "metadata": {},
     "output_type": "execute_result"
    }
   ],
   "source": [
    "// { P1, P2, P3 } ⊢ ∀ x. Inhabitant(x) ⟶ ¬ Says(x, Knave(x))\n",
    "\n",
    "def puzzle1(premises: KnightsKnaves)(x: Inhabitant): Not[x.Says[x.Knave]] =\n",
    "    xSaysIsKnave =>\n",
    "        premises.eitherKnightOrKnave(x).fold(\n",
    "            xIsKnight => \n",
    "                // no knight would lie\n",
    "                premises.noKnightLies(x)(xIsKnight)(xSaysIsKnave)(xIsKnight),\n",
    "            xIsKnave => \n",
    "                // no knave would tell the truth\n",
    "                premises.noKnaveTellsTruth(x)(xIsKnave)(xSaysIsKnave)(xIsKnave)\n",
    "        )"
   ]
  },
  {
   "cell_type": "markdown",
   "metadata": {},
   "source": [
    "# Puzzles Introducción\n",
    "\n",
    "Primero se consideran 5 preguntas que servirán como introduccion a la logica \n",
    "knight-knave para aquellos que no estén familiarizados con ella y como un\n",
    "breve curso recordatorio para los que lo están."
   ]
  },
  {
   "cell_type": "markdown",
   "metadata": {},
   "source": [
    "#### 2. Is it possible for an inhabitant of the island to claim that he and his brother are both knaves?\n",
    "\n",
    "This question has provoked a good deal of controversy! Some claim that anyone who says that he and his brother are both knaves is certainly claiming that he is a knave, which is not possible, as we have seen in the answer to Question 1. Therefore, they conclude, no inhabitant can claim that he and his brother are both knaves.\n",
    "\n",
    "This argument is wrong! Suppose an inhabitant A is a knave and his brother B is a knight. Then it is false that he and his brother are both knaves, hence he, as a knave, is certainly capable of making that false statement. Therefore it is possible for an inhabitant to claim that he and his brother are both knaves, but only if he is a knave and his brother is a knight.\n",
    "\n",
    "This illustrates a curious principle about the logic of lying and truth-telling: Normally, if a truthful person claims that both of two statements are true, then he will certainly claim that each of the statements is true separately. But with a constant liar, the matter is different. Consider the following two statements: (1) My brother is a knave; (2) I am a knave. A\n",
    "knave could claim that (1) and (2) together are both true, provided his brother is actually a knight, but he cannot claim (1) and claim (2)  separately, since he cannot claim (2). Again, a knave could say: \"I am a knave and two plus two is five, \" but he cannot separately claim: (1) \"I am a knave\"; (2) \"Two plus two is five.\""
   ]
  },
  {
   "cell_type": "code",
   "execution_count": 8,
   "metadata": {},
   "outputs": [],
   "source": [
    "/* \n",
    "Es posible para un habitante de la isla afirmar que él y su hermano son ambos knaves?¿\n",
    "\n",
    "Si A es un knave y su hermano B es un Knight:\n",
    "El predicado A y B son ambos knaves es FALSO, pero al ser A un knave (que siempre miente), podria afirmar que A y B \n",
    "son ambos knaves\n",
    "\n",
    "Por tanto la signatura es:\n",
    "\n",
    "x.dice[(x.knave and y.knave)] => (se cumple solo si) x.knave and y.knight\n",
    "\n",
    "x.Says[(x.Knave,y.Knave)] => (x.Knave,y.Knight)\n",
    "\n",
    "*/"
   ]
  },
  {
   "cell_type": "code",
   "execution_count": 15,
   "metadata": {},
   "outputs": [
    {
     "data": {
      "text/plain": [
       "defined \u001b[32mfunction\u001b[39m \u001b[36mpuzzle2\u001b[39m"
      ]
     },
     "execution_count": 15,
     "metadata": {},
     "output_type": "execute_result"
    }
   ],
   "source": [
    "def puzzle2(premises: KnightsKnaves)(x: Inhabitant)(y: Inhabitant): x.Says[And[x.Knave, y.Knave]] = ???"
   ]
  },
  {
   "cell_type": "code",
   "execution_count": 16,
   "metadata": {},
   "outputs": [
    {
     "data": {
      "text/plain": [
       "defined \u001b[32mfunction\u001b[39m \u001b[36mpuzzle2\u001b[39m"
      ]
     },
     "execution_count": 16,
     "metadata": {},
     "output_type": "execute_result"
    }
   ],
   "source": [
    "def puzzle2(premises: KnightsKnaves)(x: Inhabitant)(y: Inhabitant): x.Says[x.Knave And y.Knave] => x.Knave And y.Knight = ???"
   ]
  },
  {
   "cell_type": "code",
   "execution_count": 15,
   "metadata": {},
   "outputs": [
    {
     "data": {
      "text/plain": [
       "defined \u001b[32mfunction\u001b[39m \u001b[36mpuzzle2\u001b[39m"
      ]
     },
     "execution_count": 15,
     "metadata": {},
     "output_type": "execute_result"
    }
   ],
   "source": [
    "def puzzle2(premises: KnightsKnaves)(x: Inhabitant)(y: Inhabitant): x.Says[(x.Knave,y.Knave)] => (x.Knave,y.Knight) = \n",
    "    ({xSay: x.Says[(x.Knave,y.Knave)] => \n",
    "        (premises.P1(x) match{\n",
    "            case Left(xKnight: x.Knight) =>\n",
    "                // def P2[P](x: Inhabitant): x.Knight => x.Says[P] => P\n",
    "                val x_L1: x.Knight => x.Says[(x.Knave,y.Knave)] => (x.Knave,y.Knave) = premises.P2[(x.Knave,y.Knave)](x)\n",
    "                val x_L2: x.Says[(x.Knave,y.Knave)] => (x.Knave,y.Knave) = x_L1(xKnight)\n",
    "                val x_L3: (x.Knave,y.Knave) = x_L2(xSay)\n",
    "                x_L3._1: x.Knave\n",
    "                x_L3._2: y.Knave\n",
    "                \n",
    "                val x_L4: x.Knight => Nothing = x_L3._1\n",
    "                (x_L3._1, x_L4(xKnight)) : (x.Knave,y.Knight)\n",
    "            \n",
    "            case Right(xKnave: x.Knave) =>\n",
    "                \n",
    "                //def P3[P](x: Inhabitant): x.Knave => x.Says[P] => ¬[P]\n",
    "                val x_R1: x.Knave => x.Says[(x.Knave,y.Knave)] => ¬[(x.Knave,y.Knave)] = premises.P3[(x.Knave,y.Knave)](x)\n",
    "                val x_R2: x.Says[(x.Knave,y.Knave)] => ¬[(x.Knave,y.Knave)] = x_R1(xKnave)\n",
    "                //val x_R3: ¬[(x.Knave,y.Knave)] = x_R2(xSay)\n",
    "                val x_R3: ((x.Knave,y.Knave)) => Nothing = x_R2(xSay)\n",
    "                \n",
    "                //Para usar la funcion x_R3 necesito una tupla con x.Knave que ya lo tengo y con y.Knave que no lo tengo\n",
    "                //Por eso necesito usar la P1 con (y) y poder sacar el y.Knave\n",
    "            \n",
    "                (premises.P1(y) match{\n",
    "                    // Siempre que se hace un pattern matching hay que poner ambas ramas\n",
    "                    case Left(yKnight: y.Knight) => (xKnave, yKnight) : (x.Knave,y.Knight)\n",
    "                    // En el caso de Left, ya tengo el y.Knight asi que he obtenido la tupla (x.Knave,y.Knight)\n",
    "                    case Right(yKnave: y.Knave) => x_R3((xKnave, yKnave)) : (x.Knave,y.Knight)\n",
    "                    // En el caso del Right, solo tengo el x.Knave pero NO el y.Knight, pero puedo obtener un Nothing \n",
    "                    // en lugar de la tupla (x.Knave,y.Knight), porque el tipo Nothing es equivalente al tipo (x.Knave,y.Knight)\n",
    "                }): (x.Knave,y.Knight) // Esta definicion de datos se puede quitar\n",
    "                \n",
    "        }): (x.Knave,y.Knight)\n",
    "    })"
   ]
  },
  {
   "cell_type": "code",
   "execution_count": 20,
   "metadata": {},
   "outputs": [
    {
     "data": {
      "text/plain": [
       "defined \u001b[32mfunction\u001b[39m \u001b[36mpuzzle2\u001b[39m"
      ]
     },
     "execution_count": 20,
     "metadata": {},
     "output_type": "execute_result"
    }
   ],
   "source": [
    "//SIMPLIFICADO\n",
    "def puzzle2(premises: KnightsKnaves)(x: Inhabitant)(y: Inhabitant): x.Says[(x.Knave,y.Knave)] => (x.Knave,y.Knight) = \n",
    "    ({xSay => \n",
    "        (premises.P1(x) match{\n",
    "            case Left(xKnight) =>\n",
    "                val x_L1: x.Knight => x.Says[(x.Knave,y.Knave)] => (x.Knave,y.Knave) = premises.P2[(x.Knave,y.Knave)](x)\n",
    "                val x_L2: x.Says[(x.Knave,y.Knave)] => (x.Knave,y.Knave) = x_L1(xKnight)\n",
    "                val x_L3: (x.Knave,y.Knave) = x_L2(xSay)\n",
    "                val x_L4: x.Knight => Nothing = x_L3._1 //Esto se puede obviar\n",
    "                (x_L3._1, x_L4(xKnight)) //Obviando x_L4, podemos sacar x_L3._1(xKnight) : (x.Knave,y.Knight)\n",
    "                (x_L3._1, x_L4(xKnight)) // x_L3._1(xKnight) : (x.Knave,y.Knight)\n",
    "                \n",
    "            \n",
    "            case Right(xKnave) =>\n",
    "                val x_R1: x.Knave => x.Says[(x.Knave,y.Knave)] => ¬[(x.Knave,y.Knave)] = premises.P3[(x.Knave,y.Knave)](x)\n",
    "                val x_R2: x.Says[(x.Knave,y.Knave)] => ¬[(x.Knave,y.Knave)] = x_R1(xKnave)\n",
    "                val x_R3: ((x.Knave,y.Knave)) => Nothing = x_R2(xSay)\n",
    "                \n",
    "                premises.P1(y) match{\n",
    "                    case Left(yKnight) => (xKnave, yKnight) \n",
    "                    case Right(yKnave) => x_R3((xKnave, yKnave)) \n",
    "                }\n",
    "                \n",
    "        })\n",
    "    })"
   ]
  },
  {
   "cell_type": "code",
   "execution_count": 21,
   "metadata": {},
   "outputs": [
    {
     "data": {
      "text/plain": [
       "defined \u001b[32mfunction\u001b[39m \u001b[36mpuzzle2\u001b[39m"
      ]
     },
     "execution_count": 21,
     "metadata": {},
     "output_type": "execute_result"
    }
   ],
   "source": [
    "//SIMPLIFICADO - NUEVA DEFINICION DE DATOS\n",
    "\n",
    "def puzzle2(premises: KnightsKnaves)(x: Inhabitant)(y: Inhabitant): x.Says[(x.Knave,y.Knave)] => (x.Knave,y.Knight) = \n",
    "    ({xSay => \n",
    "        (premises.P1(x) match{\n",
    "            case Left(xKnight) =>\n",
    "                //val x_L1: x.Knight => x.Says[(x.Knave,y.Knave)] => (x.Knave,y.Knave) = premises.P2[(x.Knave,y.Knave)](x)\n",
    "                val x_L1 = premises.P2[(x.Knave,y.Knave)](x) : (x.Knight => x.Says[(x.Knave,y.Knave)] => (x.Knave,y.Knave))\n",
    "                //val x_L2: x.Says[(x.Knave,y.Knave)] => (x.Knave,y.Knave) = x_L1(xKnight)\n",
    "                val x_L2 = x_L1(xKnight) : (x.Says[(x.Knave,y.Knave)] => (x.Knave,y.Knave))\n",
    "                //val x_L3: (x.Knave,y.Knave) = x_L2(xSay)\n",
    "                val x_L3 = x_L2(xSay) : (x.Knave,y.Knave) // Equivale a val x_L3 = x_L1(xKnight)(xSay) : (x.Knave,y.Knave)\n",
    "                //val x_L4: x.Knight => Nothing = x_L3._1 //Esto se puede obviar\n",
    "                //(x_L3._1, x_L4(xKnight)) //Obviando x_L4, podemos sacar x_L3._1(xKnight) : (x.Knave,y.Knight)\n",
    "                //(x_L3._1, x_L4(xKnight)) // x_L3._1(xKnight) : (x.Knave,y.Knight)\n",
    "                \n",
    "                x_L3._1(xKnight) : (x.Knave,y.Knight)\n",
    "            \n",
    "            case Right(xKnave) =>\n",
    "                //val x_R1: x.Knave => x.Says[(x.Knave,y.Knave)] => ¬[(x.Knave,y.Knave)] = premises.P3[(x.Knave,y.Knave)](x)\n",
    "                val x_R1 = premises.P3[(x.Knave,y.Knave)](x) : (x.Knave => x.Says[(x.Knave,y.Knave)] => ¬[(x.Knave,y.Knave)])\n",
    "                //val x_R2: (x.Says[(x.Knave,y.Knave)] => ¬[(x.Knave,y.Knave)]) = x_R1(xKnave)\n",
    "                val x_R2 = x_R1(xKnave) : (x.Says[(x.Knave,y.Knave)] => ¬[(x.Knave,y.Knave)])\n",
    "                //val x_R3: ((x.Knave,y.Knave)) => Nothing = x_R2(xSay)\n",
    "                val x_R3 = x_R2(xSay) : (((x.Knave,y.Knave)) => Nothing)\n",
    "                \n",
    "                premises.P1(y) match{\n",
    "                    case Left(yKnight) => (xKnave, yKnight) \n",
    "                    case Right(yKnave) => x_R3((xKnave, yKnave)) \n",
    "                }\n",
    "                \n",
    "        })\n",
    "    })"
   ]
  },
  {
   "cell_type": "code",
   "execution_count": 22,
   "metadata": {},
   "outputs": [
    {
     "data": {
      "text/plain": [
       "defined \u001b[32mfunction\u001b[39m \u001b[36mpuzzle2\u001b[39m"
      ]
     },
     "execution_count": 22,
     "metadata": {},
     "output_type": "execute_result"
    }
   ],
   "source": [
    "// Sugar version\n",
    "\n",
    "def puzzle2(premises: KnightsKnaves)(x: Inhabitant)(y: Inhabitant): x.Says[(x.Knave,y.Knave)] => (x.Knave,y.Knight) = \n",
    "    xSays =>\n",
    "        premises.eitherKnightOrKnave(x).fold(           \n",
    "            xIsKnight => \n",
    "                (premises.knightsAreTruthTellers[(x.Knave,y.Knave)](x)(xIsKnight)(xSays))._1(xIsKnight)\n",
    "            ,\n",
    "            xIsKnave => {\n",
    "                premises.eitherKnightOrKnave(y).fold(\n",
    "                    yIsKnight => \n",
    "                        (xIsKnave, yIsKnight),\n",
    "                    yIsKnave =>\n",
    "                        premises.knavesAreLiers[(x.Knave,y.Knave)](x)(xIsKnave)(xSays)(xIsKnave, yIsKnave)\n",
    "                )\n",
    "            }\n",
    "        )"
   ]
  },
  {
   "cell_type": "code",
   "execution_count": null,
   "metadata": {},
   "outputs": [],
   "source": []
  }
 ],
 "metadata": {
  "kernelspec": {
   "display_name": "Scala",
   "language": "scala",
   "name": "scala"
  },
  "language_info": {
   "codemirror_mode": "text/x-scala",
   "file_extension": ".sc",
   "mimetype": "text/x-scala",
   "name": "scala",
   "nbconvert_exporter": "script",
   "version": "2.13.3"
  }
 },
 "nbformat": 4,
 "nbformat_minor": 4
}
