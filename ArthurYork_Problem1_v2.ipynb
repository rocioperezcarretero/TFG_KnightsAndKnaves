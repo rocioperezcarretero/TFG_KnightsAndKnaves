{
 "cells": [
  {
   "cell_type": "code",
   "execution_count": 23,
   "metadata": {},
   "outputs": [
    {
     "data": {
      "text/plain": [
       "defined \u001b[32mtype\u001b[39m \u001b[36m∨\u001b[39m\r\n",
       "defined \u001b[32mtype\u001b[39m \u001b[36m∧\u001b[39m\r\n",
       "defined \u001b[32mtype\u001b[39m \u001b[36m⟶\u001b[39m\r\n",
       "defined \u001b[32mtype\u001b[39m \u001b[36m⊥\u001b[39m\r\n",
       "defined \u001b[32mtype\u001b[39m \u001b[36mTrue\u001b[39m\r\n",
       "defined \u001b[32mtype\u001b[39m \u001b[36m¬\u001b[39m\r\n",
       "defined \u001b[32mtype\u001b[39m \u001b[36m⟷\u001b[39m"
      ]
     },
     "execution_count": 23,
     "metadata": {},
     "output_type": "execute_result"
    }
   ],
   "source": [
    "type ∨[P, Q] = Either[P, Q]\n",
    "type ∧[P, Q] = Tuple2[P, Q]\n",
    "type ⟶[P, Q] = P => Q\n",
    "type ⊥ = Nothing\n",
    "type True = Unit\n",
    "type ¬[P] = P => ⊥ \n",
    "type ⟷[P, Q] = (P => Q) ∧ (Q => P)"
   ]
  },
  {
   "cell_type": "code",
   "execution_count": 24,
   "metadata": {
    "scrolled": true
   },
   "outputs": [
    {
     "data": {
      "text/plain": [
       "defined \u001b[32mtype\u001b[39m \u001b[36mOr\u001b[39m\r\n",
       "defined \u001b[32mtype\u001b[39m \u001b[36mAnd\u001b[39m\r\n",
       "defined \u001b[32mtype\u001b[39m \u001b[36mImplies\u001b[39m\r\n",
       "defined \u001b[32mtype\u001b[39m \u001b[36mFalse\u001b[39m\r\n",
       "defined \u001b[32mtype\u001b[39m \u001b[36mTrue\u001b[39m\r\n",
       "defined \u001b[32mtype\u001b[39m \u001b[36mNot\u001b[39m\r\n",
       "defined \u001b[32mtype\u001b[39m \u001b[36m<=>\u001b[39m"
      ]
     },
     "execution_count": 24,
     "metadata": {},
     "output_type": "execute_result"
    }
   ],
   "source": [
    "type Or[P, Q] = Either[P, Q]\n",
    "type And[P, Q] = Tuple2[P, Q]\n",
    "type Implies[P, Q] = P => Q\n",
    "type False = Nothing\n",
    "type True = Unit\n",
    "type Not[P] = P => ⊥\n",
    "type <=>[P, Q] = (P => Q, Q => P)"
   ]
  },
  {
   "cell_type": "code",
   "execution_count": 25,
   "metadata": {},
   "outputs": [
    {
     "data": {
      "text/plain": [
       "defined \u001b[32mclass\u001b[39m \u001b[36mInhabitant\u001b[39m"
      ]
     },
     "execution_count": 25,
     "metadata": {},
     "output_type": "execute_result"
    }
   ],
   "source": [
    "class Inhabitant{ x => \n",
    "    // Knight(x) -- `x` is a Knight\n",
    "    // \n",
    "    type Knight\n",
    "    \n",
    "    // Knave(x) -- `x` is a Knave (i.e. is not a Knight)\n",
    "    // \n",
    "    type Knave = ¬[Knight]\n",
    "    \n",
    "    // Says(x, P) -- `x` says that `P` holds, i.e. asserts proposition `P`\n",
    "    // \n",
    "    type Says[P]\n",
    "    \n",
    "    // Tipo Arthur York\n",
    "    //\n",
    "    type Arthur\n",
    "}"
   ]
  },
  {
   "cell_type": "code",
   "execution_count": 29,
   "metadata": {},
   "outputs": [
    {
     "data": {
      "text/plain": [
       "defined \u001b[32mtrait\u001b[39m \u001b[36mKnightsKnaves\u001b[39m"
      ]
     },
     "execution_count": 29,
     "metadata": {},
     "output_type": "execute_result"
    }
   ],
   "source": [
    "trait KnightsKnaves{\n",
    "    // P1. Inhabitants are knights or knaves\n",
    "    // \n",
    "    //     ∀ x. Inhabitant(x) ⟶ Knight(x) ∨ Knave(x) \n",
    "    // \n",
    "    def P1(x: Inhabitant): x.Knight ∨ x.Knave\n",
    "    \n",
    "    // In Scala 3\n",
    "    // val P1: (x: Inhabitant) => Either[x.Knight, x.Knave]\n",
    "    \n",
    "    // P2. Knights are truth tellers\n",
    "    // \n",
    "    //     ∀ P. ∀ x. Knight(x) ⟶ Says(x, P) ⟶ P\n",
    "    // \n",
    "    def P2[P](x: Inhabitant): x.Knight => x.Says[P] => P\n",
    "    \n",
    "    // In Scala 3\n",
    "    // val P2: [P] => (x: Inhabitant) => x.Knight => x.Says[P] => P\n",
    "    \n",
    "    // P3. Knaves are persistent liers\n",
    "    // \n",
    "    //     ∀ P. ∀ x. Knight(x) ⟶ Says(x, P) ⟶ ¬P\n",
    "    // \n",
    "    def P3[P](x: Inhabitant): x.Knave => x.Says[P] => ¬[P]\n",
    "    \n",
    "    // P4. Si x dice que es Arthur York, sera un caballero porque dice la verdad - ¿?¿?\n",
    "    //def P4[P](x: Inhabitant): x.Arthur => x.Knight\n",
    "    \n",
    "    // Tip de Juanma\n",
    "    // Si el sujeto es Arthur, entonces si Arthur dice P, quiere decir que el sujeto dice P\n",
    "    def P4_1[P](x: Inhabitant)(arthur: Inhabitant): x.Arthur => arthur.Says[P] => x.Says[P]\n",
    "    // Si el sujeto es Arthur, entonces si Arthur es un Knight, quiere decir que el sujeto es un Knight\n",
    "    def P4_2[P](x: Inhabitant)(arthur: Inhabitant): x.Arthur => arthur.Knight => x.Knight\n",
    "}"
   ]
  },
  {
   "cell_type": "markdown",
   "metadata": {},
   "source": [
    "# Problem 1 - The First Trial.\n",
    "Inspector Craig of Scotland Yard—of whom you will read much in this book—was called to the Island of Knights and Knaves to help find a criminal named Arthur York. What made the process difficult was that it was not known whether Arthur York was a knight or a knave. \n",
    "One suspect was arrested and brought to trial. Inspector Craig was the presiding judge. Here is a transcript of the trial: \n",
    "\n",
    "Craig: What do you know about Arthur York? \n",
    "DEFENDANT: Arthur York once claimed that I was a knave. \n",
    "\n",
    "Craig: Are you by any chance Arthur York?\n",
    "DEFENDANT: Yes.\n",
    "\n",
    "Is the defendant Arthur York?"
   ]
  },
  {
   "cell_type": "markdown",
   "metadata": {},
   "source": [
    "**SOLUCION**\n",
    "\n",
    "If the defendant is Arthur York, we get the following contradiction. Suppose he is Arthur York. \n",
    "Then he is a knight, since he claimed to be Arthur York. That would mean that his first answer to Craig was also true, \n",
    "which means that he, Arthur York, once claimed that he was a knave. \n",
    "\n",
    "But that is impossible! **Therefore the defendant is not Arthur York, although he is, of course, a knave.**"
   ]
  },
  {
   "cell_type": "code",
   "execution_count": 4,
   "metadata": {},
   "outputs": [],
   "source": [
    "/* PRIMER RAZONAMIENTO\n",
    "x -> Arthur York\n",
    "y -> Defendant\n",
    "\n",
    "Craig: What do you know about Arthur York? DEFENDANT: Arthur York once claimed that I was a knave. \n",
    "\n",
    "Esto lo interpreto como:\n",
    "\n",
    "y.Says[x.Says[y.Knave]]\n",
    "\n",
    "Craig: Are you by any chance Arthur York? DEFENDANT: Yes. -> De aqui no se si tengo o no que sacar premisa\n",
    "\n",
    "Solucion:\n",
    "\n",
    "Si \"y\" es \"x\", hay contradiccion. Si \"y\" es un knight porque se supone que ha dicho la verdad y es Arthur(\"x\"), significa\n",
    "que ha dicho que es un knave. Eso es imposible. \n",
    "Por tanto \"y\" NO es \"x\", y por tanto es un Knave.\n",
    "\n",
    "La premisa seria:\n",
    "\n",
    "y.Says[x.Says[y.Knave]] => y.Knave\n",
    "\n",
    "*/"
   ]
  },
  {
   "cell_type": "code",
   "execution_count": 5,
   "metadata": {},
   "outputs": [
    {
     "data": {
      "text/plain": [
       "defined \u001b[32mfunction\u001b[39m \u001b[36mproblem1\u001b[39m"
      ]
     },
     "execution_count": 5,
     "metadata": {},
     "output_type": "execute_result"
    }
   ],
   "source": [
    "def problem1(premises: KnightsKnaves)(x: Inhabitant)(y: Inhabitant): y.Says[x.Says[y.Knave]] => y.Knave = ???"
   ]
  },
  {
   "cell_type": "code",
   "execution_count": 6,
   "metadata": {},
   "outputs": [
    {
     "data": {
      "text/plain": [
       "defined \u001b[32mfunction\u001b[39m \u001b[36mproblem1\u001b[39m"
      ]
     },
     "execution_count": 6,
     "metadata": {},
     "output_type": "execute_result"
    }
   ],
   "source": [
    "def problem1(premises: KnightsKnaves)(x: Inhabitant)(y: Inhabitant): y.Says[x.Says[y.Knave]] => y.Knave = \n",
    "    ??? : (y.Says[x.Says[y.Knave]] => y.Knave)"
   ]
  },
  {
   "cell_type": "code",
   "execution_count": 7,
   "metadata": {},
   "outputs": [
    {
     "data": {
      "text/plain": [
       "defined \u001b[32mfunction\u001b[39m \u001b[36mproblem1\u001b[39m"
      ]
     },
     "execution_count": 7,
     "metadata": {},
     "output_type": "execute_result"
    }
   ],
   "source": [
    "def problem1(premises: KnightsKnaves)(x: Inhabitant)(y: Inhabitant): y.Says[x.Says[y.Knave]] => y.Knave = \n",
    "    ({ySay: y.Says[x.Says[y.Knave]] => \n",
    "        (premises.P1(y) match{\n",
    "            case Left(yKnight: y.Knight) => ??? : y.Knave\n",
    "            case Right(yKnave: y.Knave) => ??? : y.Knave\n",
    "        }) : y.Knave\n",
    "    }) : (y.Says[x.Says[y.Knave]] => y.Knave)  "
   ]
  },
  {
   "cell_type": "code",
   "execution_count": 8,
   "metadata": {},
   "outputs": [
    {
     "data": {
      "text/plain": [
       "defined \u001b[32mfunction\u001b[39m \u001b[36mproblem1\u001b[39m"
      ]
     },
     "execution_count": 8,
     "metadata": {},
     "output_type": "execute_result"
    }
   ],
   "source": [
    "def problem1(premises: KnightsKnaves)(x: Inhabitant)(y: Inhabitant): y.Says[x.Says[y.Knave]] => y.Knave = \n",
    "    ({ySay: y.Says[x.Says[y.Knave]] => \n",
    "        (premises.P1(y) match{\n",
    "            case Left(yKnight: y.Knight) => \n",
    "                //def P2[P](y: Inhabitant): y.Knight => y.Says[P] => P\n",
    "                val y_L1: y.Knight => y.Says[x.Says[y.Knave]] => x.Says[y.Knave] = premises.P2[x.Says[y.Knave]](y)\n",
    "                val y_L2: y.Says[x.Says[y.Knave]] => x.Says[y.Knave] = y_L1(yKnight)\n",
    "                val y_L3: x.Says[y.Knave] = y_L2(ySay)\n",
    "                \n",
    "                premises.P1(x) match{\n",
    "                    case Left(xKnight: x.Knight) => \n",
    "                        val x_L1: x.Knight => x.Says[y.Knave] => y.Knave = premises.P2[y.Knave](x)\n",
    "                        val x_L2: x.Says[y.Knave] => y.Knave = x_L1(xKnight)\n",
    "                        val x_L3: y.Knave = x_L2(y_L3)\n",
    "                        x_L3 : y.Knave\n",
    "                    case Right(xKnave: x.Knave) => \n",
    "                        val x_R1: x.Knave => x.Says[y.Knave] => Not[y.Knave] = premises.P3[y.Knave](x)\n",
    "                        val x_R2: x.Says[y.Knave] => Not[y.Knave] = x_R1(xKnave)\n",
    "                        val x_R3: y.Knave => Nothing = x_R2(y_L3)\n",
    "                        \n",
    "                                               \n",
    "                        premises.P1(x) match{\n",
    "                            case Left(xKnight_aux: x.Knight) => \n",
    "                                val aux_contradiccion: x.Knight => Nothing = xKnave\n",
    "                                aux_contradiccion(xKnight_aux): Nothing\n",
    "                                \n",
    "                                aux_contradiccion(xKnight_aux) : y.Knave\n",
    "                            case Right(xKnave_aux: x.Knave) => \n",
    "                                ??? : y.Knave\n",
    "                        }\n",
    "                        ??? : y.Knave\n",
    "                }\n",
    "                ??? : y.Knave\n",
    "            case Right(yKnave: y.Knave) => \n",
    "                //def P3[P](y: Inhabitant): y.Knave => y.Says[P] => ¬[P]\n",
    "                ??? : y.Knave\n",
    "        }) : y.Knave\n",
    "    }) : (y.Says[x.Says[y.Knave]] => y.Knave)    "
   ]
  },
  {
   "cell_type": "code",
   "execution_count": 9,
   "metadata": {},
   "outputs": [
    {
     "data": {
      "text/plain": [
       "defined \u001b[32mfunction\u001b[39m \u001b[36mproblem1\u001b[39m"
      ]
     },
     "execution_count": 9,
     "metadata": {},
     "output_type": "execute_result"
    }
   ],
   "source": [
    "def problem1(premises: KnightsKnaves)(x: Inhabitant)(y: Inhabitant): y.Says[x.Says[y.Knave]] => y.Knave = \n",
    "    ({ySay: y.Says[x.Says[y.Knave]] => \n",
    "        (premises.P1(y) match{\n",
    "            case Left(yKnight: y.Knight) => \n",
    "                //def P2[P](y: Inhabitant): y.Knight => y.Says[P] => P\n",
    "                val y_L1: y.Knight => y.Says[x.Says[y.Knave]] => x.Says[y.Knave] = premises.P2[x.Says[y.Knave]](y)\n",
    "                val y_L2: y.Says[x.Says[y.Knave]] => x.Says[y.Knave] = y_L1(yKnight)\n",
    "                val y_L3: x.Says[y.Knave] = y_L2(ySay)\n",
    "                \n",
    "                (premises.P1(x) match{\n",
    "                    case Left(xKnight: x.Knight) => \n",
    "                        val x_L1: x.Knight => x.Says[y.Knave] => y.Knave = premises.P2[y.Knave](x)\n",
    "                        val x_L2: x.Says[y.Knave] => y.Knave = x_L1(xKnight)\n",
    "                        val x_L3: y.Knave = x_L2(y_L3)\n",
    "                        x_L3 : y.Knave\n",
    "                    case Right(xKnave: x.Knave) => \n",
    "                        val x_R1: x.Knave => x.Says[y.Knave] => Not[y.Knave] = premises.P3[y.Knave](x)\n",
    "                        val x_R2: x.Says[y.Knave] => Not[y.Knave] = x_R1(xKnave)\n",
    "                        val x_R3: y.Knave => Nothing = x_R2(y_L3)\n",
    "                        \n",
    "                                               \n",
    "                        (premises.P1(x) match{\n",
    "                            case Left(xKnight_aux: x.Knight) => \n",
    "                                val aux_contradiccion: x.Knight => Nothing = xKnave\n",
    "                                aux_contradiccion(xKnight_aux): Nothing\n",
    "                                \n",
    "                                aux_contradiccion(xKnight_aux) : y.Knave\n",
    "                            case Right(xKnave_aux: x.Knave) => \n",
    "                                ??? : y.Knave\n",
    "                        }) : y.Knave\n",
    "                }) : y.Knave\n",
    "            case Right(yKnave: y.Knave) => \n",
    "                yKnave : y.Knave\n",
    "            \n",
    "        }) : y.Knave\n",
    "    }) : (y.Says[x.Says[y.Knave]] => y.Knave)"
   ]
  },
  {
   "cell_type": "code",
   "execution_count": 9,
   "metadata": {},
   "outputs": [],
   "source": [
    "/* SEGUNDO RAZONAMIENTO\n",
    "\n",
    "Añado en la clase \"Inhabitant\" otro tipo de datos que sea \"Arthur\"\n",
    "\n",
    "Craig: What do you know about Arthur York? DEFENDANT: Arthur York once claimed that I was a knave. \n",
    "\n",
    "El defendant en este caso será \"x\" y \"Arthur York\" será \"a\" tendremos:\n",
    "\n",
    "x.Says[a.Says[x.Knave]] -> El defendant dice que Arthur dice que el defendant es un Knave\n",
    "\n",
    "Craig: Are you by any chance Arthur York? DEFENDANT: Yes. -> \n",
    "\n",
    "x.Says[x.Arthur] -> El defendant dice que es Arthur\n",
    "\n",
    "Solucion:\n",
    "\n",
    "Si \"x\" es Arthur York, hay contradiccion. Si \"x\" es un knight porque se supone que ha dicho la verdad y es Arthur(\"a\"), \n",
    "significa que ha dicho que es un knave. Eso es imposible. Por tanto \"x\" NO es Arthur York, y por tanto es un Knave.\n",
    "\n",
    "La premisa seria:\n",
    "\n",
    "((x.Says[a.Says[x.Knave]], x.Says[x.Arthur])) => x.Knave\n",
    "\n",
    "*/"
   ]
  },
  {
   "cell_type": "code",
   "execution_count": 10,
   "metadata": {},
   "outputs": [
    {
     "data": {
      "text/plain": [
       "defined \u001b[32mfunction\u001b[39m \u001b[36mproblem1\u001b[39m"
      ]
     },
     "execution_count": 10,
     "metadata": {},
     "output_type": "execute_result"
    }
   ],
   "source": [
    "def problem1(premises: KnightsKnaves)(x: Inhabitant)(a: Inhabitant): \n",
    "    ((x.Says[a.Says[x.Knave]], x.Says[x.Arthur])) => x.Knave = ???"
   ]
  },
  {
   "cell_type": "code",
   "execution_count": 11,
   "metadata": {},
   "outputs": [
    {
     "data": {
      "text/plain": [
       "defined \u001b[32mfunction\u001b[39m \u001b[36mproblem1\u001b[39m"
      ]
     },
     "execution_count": 11,
     "metadata": {},
     "output_type": "execute_result"
    }
   ],
   "source": [
    "def problem1(premises: KnightsKnaves)(x: Inhabitant)(a: Inhabitant): \n",
    "    ((x.Says[a.Says[x.Knave]], x.Says[x.Arthur])) => x.Knave = \n",
    "\n",
    "    ??? : (((x.Says[a.Says[x.Knave]], x.Says[x.Arthur])) => x.Knave)"
   ]
  },
  {
   "cell_type": "code",
   "execution_count": 12,
   "metadata": {},
   "outputs": [
    {
     "data": {
      "text/plain": [
       "defined \u001b[32mfunction\u001b[39m \u001b[36mproblem1\u001b[39m"
      ]
     },
     "execution_count": 12,
     "metadata": {},
     "output_type": "execute_result"
    }
   ],
   "source": [
    "def problem1(premises: KnightsKnaves)(x: Inhabitant)(a: Inhabitant): \n",
    "    ((x.Says[a.Says[x.Knave]], x.Says[x.Arthur])) => x.Knave = \n",
    "\n",
    "    ({t: ((x.Says[a.Says[x.Knave]], x.Says[x.Arthur])) =>\n",
    "        ??? : x.Knave\n",
    "    }): (((x.Says[a.Says[x.Knave]], x.Says[x.Arthur])) => x.Knave)"
   ]
  },
  {
   "cell_type": "code",
   "execution_count": 13,
   "metadata": {},
   "outputs": [
    {
     "data": {
      "text/plain": [
       "defined \u001b[32mfunction\u001b[39m \u001b[36mproblem1\u001b[39m"
      ]
     },
     "execution_count": 13,
     "metadata": {},
     "output_type": "execute_result"
    }
   ],
   "source": [
    "def problem1(premises: KnightsKnaves)(x: Inhabitant)(a: Inhabitant): \n",
    "    ((x.Says[a.Says[x.Knave]], x.Says[x.Arthur])) => x.Knave = \n",
    "\n",
    "    ({t: ((x.Says[a.Says[x.Knave]], x.Says[x.Arthur])) =>\n",
    "        t._1: x.Says[a.Says[x.Knave]]\n",
    "        t._2: x.Says[x.Arthur]\n",
    "        \n",
    "        premises.P1(x) match{\n",
    "            case Left(xKnight: x.Knight) => \n",
    "                //def P2[P](x: Inhabitant): x.Knight => x.Says[P] => P\n",
    "                val x_L1: x.Knight => x.Says[a.Says[x.Knave]] => a.Says[x.Knave] = premises.P2[a.Says[x.Knave]](x)\n",
    "                val x_L2: x.Says[a.Says[x.Knave]] => a.Says[x.Knave] = x_L1(xKnight)\n",
    "                val x_L3: a.Says[x.Knave] = x_L2(t._1)\n",
    "                    \n",
    "                premises.P1(a) match{\n",
    "                    case Left(aKnight: a.Knight) =>\n",
    "                        val a_LL1: a.Knight => a.Says[x.Knave] => x.Knave = premises.P2[x.Knave](a)\n",
    "                        val a_LL2: a.Says[x.Knave] => x.Knave = a_LL1(aKnight)\n",
    "                        val a_LL3: x.Knave = a_LL2(x_L3)\n",
    "                        \n",
    "                        a_LL3 : (x.Knave)\n",
    "                    case Right(aKnave: a.Knave) =>\n",
    "                        //Mismo caso que primer razonamiento\n",
    "                        ??? : (x.Knave)\n",
    "                }\n",
    "            \n",
    "                ??? : x.Knave\n",
    "            case Right(xKnave: x.Knave) => xKnave : x.Knave\n",
    "        }\n",
    "        \n",
    "        \n",
    "        ??? : x.Knave\n",
    "    }): (((x.Says[a.Says[x.Knave]], x.Says[x.Arthur])) => x.Knave)"
   ]
  },
  {
   "cell_type": "code",
   "execution_count": 13,
   "metadata": {},
   "outputs": [],
   "source": [
    "/* TERCER RAZONAMIENTO\n",
    "\n",
    "Añado en la clase \"Inhabitant\" otro tipo de datos que sea \"Arthur\" y ademas creamos una nueva premisa:\n",
    "\n",
    "def P4[P](x: Inhabitant): x.Arthur => x.Knight\n",
    "\n",
    "Craig: What do you know about Arthur York? DEFENDANT: Arthur York once claimed that I was a knave. \n",
    "\n",
    "El defendant en este caso será \"x\" y \"Arthur York\" será \"a\" tendremos:\n",
    "\n",
    "x.Says[a.Says[x.Knave]] -> El defendant dice que Arthur dice que el defendant es un Knave\n",
    "\n",
    "Craig: Are you by any chance Arthur York? DEFENDANT: Yes. -> \n",
    "\n",
    "x.Says[x.Arthur] -> El defendant dice que es Arthur\n",
    "\n",
    "Solucion:\n",
    "\n",
    "Si \"x\" es Arthur York, hay contradiccion. Si \"x\" es un knight porque se supone que ha dicho la verdad y es Arthur(\"a\"), \n",
    "significa que ha dicho que es un knave. Eso es imposible. Por tanto \"x\" NO es Arthur York, y por tanto es un Knave.\n",
    "\n",
    "La premisa seria:\n",
    "\n",
    "((x.Says[a.Says[x.Knave]], x.Says[x.Arthur])) => x.Knave\n",
    "\n",
    "Y si \"x\" NO es Arthur York, entonces: x.Arthur => Nothing (o lo que es lo mismo Not[x.Arthur])\n",
    "\n",
    "Finalmente la premisa seria:\n",
    "\n",
    "((x.Says[a.Says[x.Knave]], x.Says[x.Arthur])) => (x.Knave, Not[x.Arthur])\n",
    "\n",
    "*/"
   ]
  },
  {
   "cell_type": "code",
   "execution_count": 14,
   "metadata": {},
   "outputs": [
    {
     "data": {
      "text/plain": [
       "defined \u001b[32mfunction\u001b[39m \u001b[36mproblem1\u001b[39m"
      ]
     },
     "execution_count": 14,
     "metadata": {},
     "output_type": "execute_result"
    }
   ],
   "source": [
    "def problem1(premises: KnightsKnaves)(x: Inhabitant)(a: Inhabitant): \n",
    "    ((x.Says[a.Says[x.Knave]], x.Says[x.Arthur])) => (x.Knave, Not[x.Arthur]) = ???"
   ]
  },
  {
   "cell_type": "code",
   "execution_count": 15,
   "metadata": {},
   "outputs": [
    {
     "data": {
      "text/plain": [
       "defined \u001b[32mfunction\u001b[39m \u001b[36mproblem1\u001b[39m"
      ]
     },
     "execution_count": 15,
     "metadata": {},
     "output_type": "execute_result"
    }
   ],
   "source": [
    "def problem1(premises: KnightsKnaves)(x: Inhabitant)(a: Inhabitant): \n",
    "    ((x.Says[a.Says[x.Knave]], x.Says[x.Arthur])) => (x.Knave, Not[x.Arthur]) = \n",
    "\n",
    "    ({t: ((x.Says[a.Says[x.Knave]], x.Says[x.Arthur])) =>\n",
    "        ??? : (x.Knave, Not[x.Arthur])\n",
    "    }): (((x.Says[a.Says[x.Knave]], x.Says[x.Arthur])) => (x.Knave, Not[x.Arthur]))"
   ]
  },
  {
   "cell_type": "code",
   "execution_count": 42,
   "metadata": {},
   "outputs": [
    {
     "data": {
      "text/plain": [
       "defined \u001b[32mfunction\u001b[39m \u001b[36mproblem1\u001b[39m"
      ]
     },
     "execution_count": 42,
     "metadata": {},
     "output_type": "execute_result"
    }
   ],
   "source": [
    "def problem1(premises: KnightsKnaves)(x: Inhabitant)(a: Inhabitant): \n",
    "    ((x.Says[a.Says[x.Knave]], x.Says[x.Arthur])) => (x.Knave, Not[x.Arthur]) = \n",
    "\n",
    "    ({t: ((x.Says[a.Says[x.Knave]], x.Says[x.Arthur])) =>\n",
    "        t._1: x.Says[a.Says[x.Knave]]\n",
    "        t._2: x.Says[x.Arthur]\n",
    "        \n",
    "        premises.P1(x) match{\n",
    "            case Left(xKnight: x.Knight) => \n",
    "                //def P2[P](x: Inhabitant): x.Knight => x.Says[P] => P\n",
    "                val x_L1: x.Knight => x.Says[a.Says[x.Knave]] => a.Says[x.Knave] = premises.P2[a.Says[x.Knave]](x)\n",
    "                val x_L2: x.Says[a.Says[x.Knave]] => a.Says[x.Knave] = x_L1(xKnight)\n",
    "                val x_L3: a.Says[x.Knave] = x_L2(t._1)\n",
    "                    \n",
    "                premises.P1(a) match{\n",
    "                    case Left(aKnight: a.Knight) =>\n",
    "                        val a_LL1: a.Knight => a.Says[x.Knave] => x.Knave = premises.P2[x.Knave](a)\n",
    "                        val a_LL2: a.Says[x.Knave] => x.Knave = a_LL1(aKnight)\n",
    "                        val a_LL3: x.Knave = a_LL2(x_L3)\n",
    "                        a_LL3(xKnight) : Nothing\n",
    "                        \n",
    "                        a_LL3(xKnight) : (x.Knave, Not[x.Arthur])\n",
    "                    case Right(aKnave: a.Knave) =>\n",
    "                        ??? : (x.Knave, Not[x.Arthur])\n",
    "                }\n",
    "                ??? : (x.Knave, Not[x.Arthur])\n",
    "            case Right(xKnave: x.Knave) => ??? : (x.Knave, Not[x.Arthur])\n",
    "        }\n",
    "        \n",
    "        \n",
    "        ??? : (x.Knave, Not[x.Arthur])\n",
    "    }): (((x.Says[a.Says[x.Knave]], x.Says[x.Arthur])) => (x.Knave, Not[x.Arthur]))"
   ]
  },
  {
   "cell_type": "code",
   "execution_count": 17,
   "metadata": {},
   "outputs": [
    {
     "data": {
      "text/plain": [
       "defined \u001b[32mfunction\u001b[39m \u001b[36mproblem1\u001b[39m"
      ]
     },
     "execution_count": 17,
     "metadata": {},
     "output_type": "execute_result"
    }
   ],
   "source": [
    "// Sin el Not[x.Arthur] en la solucion\n",
    "def problem1(premises: KnightsKnaves)(x: Inhabitant)(a: Inhabitant): \n",
    "    ((x.Says[a.Says[x.Knave]], x.Says[x.Arthur])) => x.Knave = \n",
    "\n",
    "    ({t: ((x.Says[a.Says[x.Knave]], x.Says[x.Arthur])) =>\n",
    "        t._1: x.Says[a.Says[x.Knave]]\n",
    "        t._2: x.Says[x.Arthur]\n",
    "        \n",
    "        premises.P1(x) match{\n",
    "            case Left(xKnight: x.Knight) => \n",
    "                //def P2[P](x: Inhabitant): x.Knight => x.Says[P] => P\n",
    "                val x_L1: x.Knight => x.Says[a.Says[x.Knave]] => a.Says[x.Knave] = premises.P2[a.Says[x.Knave]](x)\n",
    "                val x_L2: x.Says[a.Says[x.Knave]] => a.Says[x.Knave] = x_L1(xKnight)\n",
    "                val x_L3: a.Says[x.Knave] = x_L2(t._1)\n",
    "                    \n",
    "                premises.P1(a) match{\n",
    "                    case Left(aKnight: a.Knight) =>\n",
    "                        val a_LL1: a.Knight => a.Says[x.Knave] => x.Knave = premises.P2[x.Knave](a)\n",
    "                        val a_LL2: a.Says[x.Knave] => x.Knave = a_LL1(aKnight)\n",
    "                        val a_LL3: x.Knave = a_LL2(x_L3)\n",
    "                        a_LL3(xKnight) : Nothing\n",
    "                        \n",
    "                        a_LL3(xKnight) : x.Knave\n",
    "                    \n",
    "                    case Right(aKnave: a.Knave) =>\n",
    "                        //def P3[P](a: Inhabitant): a.Knave => a.Says[P] => ¬[P]\n",
    "                        val a_RR1: a.Knave => a.Says[x.Knave] => ¬[x.Knave] = premises.P3[x.Knave](a)\n",
    "                        val a_RR2: a.Says[x.Knave] => ¬[x.Knave] = a_RR1(aKnave)\n",
    "                        //val a_RR3: x.Knave => Nothing = a_RR2(x_L3)\n",
    "                        //Es lo mismo que:\n",
    "                        //val a_RR3: Not[x.Knight] => Nothing = a_RR2(x_L3)\n",
    "                        //Que es lo mismo que:\n",
    "                        val a_RR3: (x.Knight => Nothing) => Nothing = a_RR2(x_L3)\n",
    "                        \n",
    "                    \n",
    "                        ??? : x.Knave\n",
    "                    \n",
    "                }\n",
    "                ??? : x.Knave\n",
    "            case Right(xKnave: x.Knave) => \n",
    "                xKnave : x.Knave\n",
    "        }\n",
    "        \n",
    "        \n",
    "        ??? : x.Knave\n",
    "    }): (((x.Says[a.Says[x.Knave]], x.Says[x.Arthur])) => x.Knave)"
   ]
  },
  {
   "cell_type": "code",
   "execution_count": null,
   "metadata": {},
   "outputs": [],
   "source": [
    "/*\n",
    "Tercer Razonamiento, con los comentarios de Juanma\n",
    "Se añade:\n",
    "\n",
    "Ok al nuevo tipo de datos \"arthur\"\n",
    "+\n",
    "Nuevas premisas donde se indica que:\n",
    "(1) Si el sujero es Arthur, entonces si Arthur dice P, el sujeto dice P\n",
    "(2) Si el sujeto es Arthur, entonces si Arthur es un Knight, el sujeto es un Knight\n",
    "Para ambas premisas necesitamos la variable \"arthur\" que pertenece a la clase Inhabitant\n",
    "\n",
    "*/"
   ]
  },
  {
   "cell_type": "code",
   "execution_count": 14,
   "metadata": {},
   "outputs": [
    {
     "data": {
      "text/plain": [
       "defined \u001b[32mfunction\u001b[39m \u001b[36mproblem1\u001b[39m"
      ]
     },
     "execution_count": 14,
     "metadata": {},
     "output_type": "execute_result"
    }
   ],
   "source": [
    "def problem1(premises: KnightsKnaves)(x: Inhabitant)(a: Inhabitant): \n",
    "    ((x.Says[a.Says[x.Knave]], x.Says[x.Arthur])) => (x.Knave, Not[x.Arthur]) = ???"
   ]
  },
  {
   "cell_type": "code",
   "execution_count": 30,
   "metadata": {},
   "outputs": [
    {
     "data": {
      "text/plain": [
       "defined \u001b[32mfunction\u001b[39m \u001b[36mproblem1\u001b[39m"
      ]
     },
     "execution_count": 30,
     "metadata": {},
     "output_type": "execute_result"
    }
   ],
   "source": [
    "def problem1(premises: KnightsKnaves)(x: Inhabitant)(a: Inhabitant): \n",
    "    ((x.Says[a.Says[x.Knave]], x.Says[x.Arthur])) => (x.Knave, Not[x.Arthur]) = \n",
    "    ({t: ((x.Says[a.Says[x.Knave]], x.Says[x.Arthur])) =>\n",
    "        ??? : (x.Knave, Not[x.Arthur])     \n",
    "        \n",
    "    }): (((x.Says[a.Says[x.Knave]], x.Says[x.Arthur])) => (x.Knave, Not[x.Arthur]))"
   ]
  },
  {
   "cell_type": "code",
   "execution_count": 43,
   "metadata": {},
   "outputs": [
    {
     "data": {
      "text/plain": [
       "defined \u001b[32mfunction\u001b[39m \u001b[36mproblem1\u001b[39m"
      ]
     },
     "execution_count": 43,
     "metadata": {},
     "output_type": "execute_result"
    }
   ],
   "source": [
    "def problem1(premises: KnightsKnaves)(x: Inhabitant)(a: Inhabitant): \n",
    "    ((x.Says[a.Says[x.Knave]], x.Says[x.Arthur])) => (x.Knave, Not[x.Arthur]) = \n",
    "    ({t: ((x.Says[a.Says[x.Knave]], x.Says[x.Arthur])) =>\n",
    "        t._1: x.Says[a.Says[x.Knave]]\n",
    "        t._2: x.Says[x.Arthur]\n",
    "        \n",
    "        premises.P1(x) match{\n",
    "            case Left(xKnight: x.Knight) => \n",
    "                //def P2[P](x: Inhabitant): x.Knight => x.Says[P] => P\n",
    "                val x_L1: x.Knight => x.Says[a.Says[x.Knave]] => a.Says[x.Knave] = premises.P2[a.Says[x.Knave]](x)\n",
    "                val x_L2: x.Says[a.Says[x.Knave]] => a.Says[x.Knave] = x_L1(xKnight)\n",
    "                val x_L3: a.Says[x.Knave] = x_L2(t._1)\n",
    "                \n",
    "                premises.P1(a) match{\n",
    "                    case Left(aKnight: a.Knight) =>                     \n",
    "                        //def P2[P](a: Inhabitant): a.Knight => a.Says[P] => P\n",
    "                        val a_L1: a.Knight => a.Says[x.Knave] => x.Knave = premises.P2[x.Knave](a)\n",
    "                        val a_L2: a.Says[x.Knave] => x.Knave = a_L1(aKnight)\n",
    "                        val a_L3: x.Knave = a_L2(x_L3)\n",
    "                        \n",
    "                        a_L3(xKnight): Nothing\n",
    "                        a_L3(xKnight): (x.Knave, Not[x.Arthur])\n",
    "                    \n",
    "                    case Right(aKnave: a.Knave) => \n",
    "                        //def P3[P](a: Inhabitant): a.Knave => a.Says[P] => ¬[P]\n",
    "                        ??? : (x.Knave, Not[x.Arthur])\n",
    "                }\n",
    "            \n",
    "                ??? : (x.Knave, Not[x.Arthur])\n",
    "            case Right(xKnave: x.Knave) => \n",
    "                //def P3[P](x: Inhabitant): x.Knave => x.Says[P] => ¬[P]\n",
    "            \n",
    "                ??? : (x.Knave, Not[x.Arthur])\n",
    "            \n",
    "        }\n",
    "        ??? : (x.Knave, Not[x.Arthur])     \n",
    "        \n",
    "    }): (((x.Says[a.Says[x.Knave]], x.Says[x.Arthur])) => (x.Knave, Not[x.Arthur]))"
   ]
  },
  {
   "cell_type": "code",
   "execution_count": 67,
   "metadata": {},
   "outputs": [
    {
     "data": {
      "text/plain": [
       "defined \u001b[32mfunction\u001b[39m \u001b[36mproblem1\u001b[39m"
      ]
     },
     "execution_count": 67,
     "metadata": {},
     "output_type": "execute_result"
    }
   ],
   "source": [
    "//Finalizado OK\n",
    "def problem1(premises: KnightsKnaves)(x: Inhabitant)(a: Inhabitant): \n",
    "    ((x.Says[a.Says[x.Knave]], x.Says[x.Arthur])) => (x.Knave, Not[x.Arthur]) = \n",
    "    ({t: ((x.Says[a.Says[x.Knave]], x.Says[x.Arthur])) =>\n",
    "        t._1: x.Says[a.Says[x.Knave]]\n",
    "        t._2: x.Says[x.Arthur]\n",
    "        \n",
    "        (premises.P1(x) match{\n",
    "            case Left(xKnight: x.Knight) => \n",
    "                //def P2[P](x: Inhabitant): x.Knight => x.Says[P] => P\n",
    "                val x_L1: x.Knight => x.Says[a.Says[x.Knave]] => a.Says[x.Knave] = premises.P2[a.Says[x.Knave]](x)\n",
    "                val x_L2: x.Says[a.Says[x.Knave]] => a.Says[x.Knave] = x_L1(xKnight)\n",
    "                val x_L3: a.Says[x.Knave] = x_L2(t._1)\n",
    "                \n",
    "                (premises.P1(a) match{\n",
    "                    case Left(aKnight: a.Knight) =>                     \n",
    "                        //def P2[P](a: Inhabitant): a.Knight => a.Says[P] => P\n",
    "                        val a_L1: a.Knight => a.Says[x.Knave] => x.Knave = premises.P2[x.Knave](a)\n",
    "                        val a_L2: a.Says[x.Knave] => x.Knave = a_L1(aKnight)\n",
    "                        val a_L3: x.Knave = a_L2(x_L3)\n",
    "                        \n",
    "                        a_L3(xKnight): Nothing\n",
    "                        a_L3(xKnight): (x.Knave, Not[x.Arthur])\n",
    "                    \n",
    "                    case Right(aKnave: a.Knave) => \n",
    "                        //def P3[P](a: Inhabitant): a.Knave => a.Says[P] => ¬[P]\n",
    "                        val a_R1: a.Knave => a.Says[x.Knave] => ¬[x.Knave] = premises.P3[x.Knave](a)\n",
    "                        val a_R2: a.Says[x.Knave] => ¬[x.Knave] = a_R1(aKnave)\n",
    "                        val a_R3: x.Knave => Nothing = a_R2(x_L3)\n",
    "                        \n",
    "                        (premises.P1(x) match{\n",
    "                            case Left(xKnight_aux: x.Knight) => \n",
    "                                //def P4_1[P](x: Inhabitant)(a: Inhabitant): x.Arthur => a.Says[P] => x.Says[P]\n",
    "                                //Del P4_1 me falta el \"x.Arthur\"\n",
    "                                //El \"a.Says[P]\" es x_L3 \n",
    "                                \n",
    "                                //Para sacar el \"x.Arthur\"\n",
    "                                val x_LL1: x.Knight => x.Says[x.Arthur] => x.Arthur = premises.P2[x.Arthur](x)\n",
    "                                val x_LL2: x.Says[x.Arthur] => x.Arthur = x_LL1(xKnight)\n",
    "                                val x_LL3: x.Arthur = x_LL2(t._2)\n",
    "                                \n",
    "                                //def P4_1[P](x: Inhabitant)(a: Inhabitant): x.Arthur => a.Says[P] => x.Says[P]\n",
    "                                val x_LA1: x.Arthur => a.Says[x.Knave] => x.Says[x.Knave] = premises.P4_1[x.Knave](x)(a)\n",
    "                                val x_LA2: a.Says[x.Knave] => x.Says[x.Knave] = x_LA1(x_LL3)\n",
    "                                val x_LA3: x.Says[x.Knave] = x_LA2(x_L3)\n",
    "                                \n",
    "                                (premises.P1(x) match{\n",
    "                                    case Left(xKnight1: x.Knight) => \n",
    "                                        //def P2[P](x: Inhabitant): x.Knight => x.Says[P] => P\n",
    "                                        val x_LAA1: x.Knight => x.Says[x.Knave] => x.Knave = premises.P2[x.Knave](x)\n",
    "                                        val x_LAA2: x.Says[x.Knave] => x.Knave = x_LAA1(xKnight)\n",
    "                                        val x_LAA3: x.Knave = x_LAA2(x_LA3)\n",
    "                                        x_LAA3(xKnight): Nothing\n",
    "                                        x_LAA3(xKnight): (x.Knave, Not[x.Arthur])\n",
    "                                    \n",
    "                                    case Right(xKnave1: x.Knave) => \n",
    "                                        xKnave1(xKnight): Nothing\n",
    "                                        xKnave1(xKnight): (x.Knave, Not[x.Arthur])\n",
    "                                }): (x.Knave, Not[x.Arthur])\n",
    "                            case Right(xKnave_aux: x.Knave) => \n",
    "                                a_R3(xKnave_aux): Nothing\n",
    "                                a_R3(xKnave_aux): (x.Knave, Not[x.Arthur])\n",
    "                        }) : (x.Knave, Not[x.Arthur])\n",
    "                }): (x.Knave, Not[x.Arthur])\n",
    "            \n",
    "            case Right(xKnave: x.Knave) => \n",
    "                //def P3[P](x: Inhabitant): x.Knave => x.Says[P] => ¬[P]\n",
    "                val x_R1: x.Knave => x.Says[x.Arthur] => ¬[x.Arthur] = premises.P3[x.Arthur](x)\n",
    "                val x_R2: x.Says[x.Arthur] => ¬[x.Arthur] = x_R1(xKnave)\n",
    "                val x_R3: Not[x.Arthur] = x_R2(t._2)\n",
    "                (xKnave, x_R2(t._2)): (x.Knave, Not[x.Arthur])\n",
    "                (xKnave, x_R3): (x.Knave, Not[x.Arthur])\n",
    "                \n",
    "            \n",
    "        }): (x.Knave, Not[x.Arthur])     \n",
    "        \n",
    "    }): (((x.Says[a.Says[x.Knave]], x.Says[x.Arthur])) => (x.Knave, Not[x.Arthur]))"
   ]
  },
  {
   "cell_type": "code",
   "execution_count": null,
   "metadata": {},
   "outputs": [],
   "source": []
  },
  {
   "cell_type": "code",
   "execution_count": null,
   "metadata": {},
   "outputs": [],
   "source": []
  },
  {
   "cell_type": "code",
   "execution_count": 17,
   "metadata": {},
   "outputs": [],
   "source": [
    "/* CUARTO RAZONAMIENTO\n",
    "d -> Defendant\n",
    "y -> Arthur York\n",
    "\n",
    "Craig: What do you know about Arthur York? DEFENDANT: Arthur York once claimed that I was a knave. \n",
    "\n",
    "Esto lo interpreto como \"el defendant dice que Arthur dice que el defendant es Knave\"\n",
    "\n",
    "d.Says[y.Says[d.Knave]]\n",
    "\n",
    "Craig: Are you by any chance Arthur York? DEFENDANT: Yes. \n",
    "\n",
    "Esto lo interpreto como \"d == y\"\n",
    "\n",
    "Solucion:\n",
    "\n",
    "Si \"d\" es \"y\", hay contradiccion. Si \"d\" es un knight porque se supone que ha dicho la verdad y es Arthur(\"y\"), significa\n",
    "que ha dicho que es un knave. Eso es imposible. \n",
    "Por tanto \"d\" NO es \"y\", y por tanto es un Knave.\n",
    "\n",
    "La premisa seria:\n",
    "\n",
    "((d.Says[y.Says[d.Knave]], d.equals(y)) => ((Not[d.equals(y)], d.Knave))\n",
    "\n",
    "// ¿?¿? Es lo mismo que ((d.Says[y.Says[d.Knave]], d <=> y) => ((Not[d <=> y], d.Knave)) ?¿?¿?¿\n",
    "\n",
    "*/"
   ]
  },
  {
   "cell_type": "code",
   "execution_count": 18,
   "metadata": {},
   "outputs": [
    {
     "data": {
      "text/plain": [
       "defined \u001b[32mfunction\u001b[39m \u001b[36mproblem1\u001b[39m"
      ]
     },
     "execution_count": 18,
     "metadata": {},
     "output_type": "execute_result"
    }
   ],
   "source": [
    "def problem1(premises: KnightsKnaves)(d: Inhabitant)(y: Inhabitant): \n",
    "    ((d.Says[y.Says[d.Knave]], d.Knave <=> y.Knave)) => ((Not[d.Knave <=> y.Knave], d.Knave)) = ???"
   ]
  },
  {
   "cell_type": "code",
   "execution_count": 19,
   "metadata": {},
   "outputs": [
    {
     "data": {
      "text/plain": [
       "defined \u001b[32mfunction\u001b[39m \u001b[36mproblem1\u001b[39m"
      ]
     },
     "execution_count": 19,
     "metadata": {},
     "output_type": "execute_result"
    }
   ],
   "source": [
    "//Su equivalente desarrollando la doble implicacion <=>\n",
    "def problem1(premises: KnightsKnaves)(d: Inhabitant)(y: Inhabitant): \n",
    "    ((d.Says[y.Says[d.Knave]], (d.Knave => y.Knave, y.Knave => d.Knave))) => \n",
    "            ((Not[(d.Knave => y.Knave, y.Knave => d.Knave)], d.Knave)) = ???"
   ]
  },
  {
   "cell_type": "code",
   "execution_count": 20,
   "metadata": {},
   "outputs": [
    {
     "data": {
      "text/plain": [
       "defined \u001b[32mfunction\u001b[39m \u001b[36mproblem1\u001b[39m"
      ]
     },
     "execution_count": 20,
     "metadata": {},
     "output_type": "execute_result"
    }
   ],
   "source": [
    "//Su equivalente desarrollando la doble implicacion <=>\n",
    "def problem1(premises: KnightsKnaves)(d: Inhabitant)(y: Inhabitant): \n",
    "    ((d.Says[y.Says[d.Knave]], (d.Knave => y.Knave, y.Knave => d.Knave))) => \n",
    "            ((Not[(d.Knave => y.Knave, y.Knave => d.Knave)], d.Knave)) = \n",
    "    ({t: ((d.Says[y.Says[d.Knave]], (d.Knave => y.Knave, y.Knave => d.Knave))) =>\n",
    "        \n",
    "        ??? : ((Not[(d.Knave => y.Knave, y.Knave => d.Knave)], d.Knave))\n",
    "        \n",
    "    }): (((d.Says[y.Says[d.Knave]], (d.Knave => y.Knave, y.Knave => d.Knave))) => \n",
    "            ((Not[(d.Knave => y.Knave, y.Knave => d.Knave)], d.Knave)))"
   ]
  },
  {
   "cell_type": "code",
   "execution_count": 21,
   "metadata": {},
   "outputs": [
    {
     "data": {
      "text/plain": [
       "defined \u001b[32mfunction\u001b[39m \u001b[36mproblem1\u001b[39m"
      ]
     },
     "execution_count": 21,
     "metadata": {},
     "output_type": "execute_result"
    }
   ],
   "source": [
    "//Su equivalente desarrollando la doble implicacion <=>\n",
    "def problem1(premises: KnightsKnaves)(d: Inhabitant)(y: Inhabitant): \n",
    "    ((d.Says[y.Says[d.Knave]], (d.Knave => y.Knave, y.Knave => d.Knave))) => \n",
    "            ((Not[(d.Knave => y.Knave, y.Knave => d.Knave)], d.Knave)) = \n",
    "    ({t: ((d.Says[y.Says[d.Knave]], (d.Knave => y.Knave, y.Knave => d.Knave))) =>\n",
    "        t._1: d.Says[y.Says[d.Knave]]\n",
    "        t._2: (d.Knave => y.Knave, y.Knave => d.Knave)\n",
    "        t._2._1: (d.Knave => y.Knave)\n",
    "        t._2._2: (y.Knave => d.Knave)\n",
    "            \n",
    "        premises.P1(d) match{\n",
    "            case Left(dKnight: d.Knight) => \n",
    "                //def P2[P](d: Inhabitant): d.Knight => d.Says[P] => P\n",
    "                val d_L1: d.Knight => d.Says[y.Says[d.Knave]] => y.Says[d.Knave] = premises.P2[y.Says[d.Knave]](d)\n",
    "                val d_L2: d.Says[y.Says[d.Knave]] => y.Says[d.Knave] = d_L1(dKnight)\n",
    "                val d_L3: y.Says[d.Knave] = d_L2(t._1)\n",
    "                \n",
    "                premises.P1(y) match{\n",
    "                    case Left(yKnight: y.Knight) => ??? : (((d.Knave => y.Knave, y.Knave => d.Knave) => Nothing, d.Knave))\n",
    "                    case Right(yKnave: y.Knave) => ??? : (((d.Knave => y.Knave, y.Knave => d.Knave) => Nothing, d.Knave))\n",
    "                }\n",
    "                \n",
    "                ??? : (((d.Knave => y.Knave, y.Knave => d.Knave) => Nothing, d.Knave))\n",
    "            case Right(dKnave: d.Knave) => \n",
    "                t._2._1(dKnave): y.Knave\n",
    "                                \n",
    "                ??? : (((d.Knave => y.Knave, y.Knave => d.Knave) => Nothing, d.Knave))\n",
    "        }\n",
    "        \n",
    "        ??? : ((Not[(d.Knave => y.Knave, y.Knave => d.Knave)], d.Knave))\n",
    "        \n",
    "    }): (((d.Says[y.Says[d.Knave]], (d.Knave => y.Knave, y.Knave => d.Knave))) => \n",
    "            ((Not[(d.Knave => y.Knave, y.Knave => d.Knave)], d.Knave)))"
   ]
  },
  {
   "cell_type": "code",
   "execution_count": 22,
   "metadata": {},
   "outputs": [
    {
     "data": {
      "text/plain": [
       "defined \u001b[32mfunction\u001b[39m \u001b[36mproblem1\u001b[39m"
      ]
     },
     "execution_count": 22,
     "metadata": {},
     "output_type": "execute_result"
    }
   ],
   "source": [
    "//Su equivalente desarrollando la doble implicacion <=>\n",
    "def problem1(premises: KnightsKnaves)(d: Inhabitant)(y: Inhabitant): \n",
    "    ((d.Says[y.Says[d.Knave]], (d.Knave => y.Knave, y.Knave => d.Knave))) => \n",
    "            ((Not[(d.Knave => y.Knave, y.Knave => d.Knave)], d.Knave)) = \n",
    "    ({t: ((d.Says[y.Says[d.Knave]], (d.Knave => y.Knave, y.Knave => d.Knave))) =>\n",
    "        t._1: d.Says[y.Says[d.Knave]]\n",
    "        t._2: (d.Knave => y.Knave, y.Knave => d.Knave)\n",
    "        t._2._1: (d.Knave => y.Knave)\n",
    "        t._2._2: (y.Knave => d.Knave)\n",
    "            \n",
    "        premises.P1(d) match{\n",
    "            case Left(dKnight: d.Knight) => \n",
    "                //def P2[P](d: Inhabitant): d.Knight => d.Says[P] => P\n",
    "                val d_L1: d.Knight => d.Says[y.Says[d.Knave]] => y.Says[d.Knave] = premises.P2[y.Says[d.Knave]](d)\n",
    "                val d_L2: d.Says[y.Says[d.Knave]] => y.Says[d.Knave] = d_L1(dKnight)\n",
    "                val d_L3: y.Says[d.Knave] = d_L2(t._1)\n",
    "                \n",
    "                premises.P1(y) match{\n",
    "                    case Left(yKnight: y.Knight) => \n",
    "                        //def P2[P](y: Inhabitant): y.Knight => y.Says[P] => P\n",
    "                        val y_L1: y.Knight => y.Says[d.Knave] => d.Knave = premises.P2[d.Knave](y)\n",
    "                        val y_L2: y.Says[d.Knave] => d.Knave = y_L1(yKnight)\n",
    "                        val y_L3: d.Knave = y_L2(d_L3)\n",
    "                        \n",
    "                        val aux1: d.Knave => y.Knave = t._2._1\n",
    "                        val aux2: y.Knave => d.Knave = t._2._2\n",
    "                        \n",
    "                        aux1(y_L3): y.Knave\n",
    "                        aux2(aux1(y_L3)): d.Knave\n",
    "                        \n",
    "                        //Como paso la tupla con las dos funciones que devuelven Nothing\n",
    "                        ??? : (((d.Knave => y.Knave, y.Knave => d.Knave) => Nothing, d.Knave))\n",
    "                    case Right(yKnave: y.Knave) => \n",
    "                        val aux1: d.Knave => y.Knave = t._2._1\n",
    "                        val aux2: y.Knave => d.Knave = t._2._2\n",
    "                    \n",
    "                        //Como paso la tupla con las dos funciones que devuelven Nothing\n",
    "                        ??? : (((d.Knave => y.Knave, y.Knave => d.Knave) => Nothing, d.Knave))\n",
    "                }\n",
    "                \n",
    "                ??? : (((d.Knave => y.Knave, y.Knave => d.Knave) => Nothing, d.Knave))\n",
    "            \n",
    "            case Right(dKnave: d.Knave) => \n",
    "                t._2._1(dKnave): y.Knave\n",
    "                val aux1: d.Knave => y.Knave = t._2._1\n",
    "                val aux2: y.Knave => d.Knave = t._2._2\n",
    "            \n",
    "                //Como paso la tupla con las dos funciones que devuelven Nothing                              \n",
    "                ??? : (((d.Knave => y.Knave, y.Knave => d.Knave) => Nothing, d.Knave))\n",
    "        }\n",
    "        \n",
    "        ??? : ((Not[(d.Knave => y.Knave, y.Knave => d.Knave)], d.Knave))\n",
    "        \n",
    "    }): (((d.Says[y.Says[d.Knave]], (d.Knave => y.Knave, y.Knave => d.Knave))) => \n",
    "            ((Not[(d.Knave => y.Knave, y.Knave => d.Knave)], d.Knave)))"
   ]
  },
  {
   "cell_type": "code",
   "execution_count": null,
   "metadata": {},
   "outputs": [],
   "source": []
  },
  {
   "cell_type": "code",
   "execution_count": null,
   "metadata": {},
   "outputs": [],
   "source": []
  },
  {
   "cell_type": "code",
   "execution_count": null,
   "metadata": {},
   "outputs": [],
   "source": []
  },
  {
   "cell_type": "code",
   "execution_count": null,
   "metadata": {},
   "outputs": [],
   "source": []
  },
  {
   "cell_type": "code",
   "execution_count": null,
   "metadata": {},
   "outputs": [],
   "source": []
  }
 ],
 "metadata": {
  "kernelspec": {
   "display_name": "Scala",
   "language": "scala",
   "name": "scala"
  },
  "language_info": {
   "codemirror_mode": "text/x-scala",
   "file_extension": ".sc",
   "mimetype": "text/x-scala",
   "name": "scala",
   "nbconvert_exporter": "script",
   "version": "2.13.3"
  }
 },
 "nbformat": 4,
 "nbformat_minor": 4
}
