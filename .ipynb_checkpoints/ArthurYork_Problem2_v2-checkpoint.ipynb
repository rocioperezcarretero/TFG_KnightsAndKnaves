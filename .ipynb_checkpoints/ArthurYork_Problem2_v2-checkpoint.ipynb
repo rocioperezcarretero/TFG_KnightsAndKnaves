{
 "cells": [
  {
   "cell_type": "code",
   "execution_count": 1,
   "metadata": {
    "scrolled": true
   },
   "outputs": [
    {
     "data": {
      "text/plain": [
       "defined \u001b[32mtype\u001b[39m \u001b[36m∨\u001b[39m\r\n",
       "defined \u001b[32mtype\u001b[39m \u001b[36m∧\u001b[39m\r\n",
       "defined \u001b[32mtype\u001b[39m \u001b[36m⟶\u001b[39m\r\n",
       "defined \u001b[32mtype\u001b[39m \u001b[36m⊥\u001b[39m\r\n",
       "defined \u001b[32mtype\u001b[39m \u001b[36mTrue\u001b[39m\r\n",
       "defined \u001b[32mtype\u001b[39m \u001b[36m¬\u001b[39m\r\n",
       "defined \u001b[32mtype\u001b[39m \u001b[36m⟷\u001b[39m"
      ]
     },
     "execution_count": 1,
     "metadata": {},
     "output_type": "execute_result"
    }
   ],
   "source": [
    "type ∨[P, Q] = Either[P, Q]\n",
    "type ∧[P, Q] = Tuple2[P, Q]\n",
    "type ⟶[P, Q] = P => Q\n",
    "type ⊥ = Nothing\n",
    "type True = Unit\n",
    "type ¬[P] = P => ⊥\n",
    "type ⟷[P, Q] = (P => Q) ∧ (Q => P)"
   ]
  },
  {
   "cell_type": "code",
   "execution_count": 2,
   "metadata": {
    "scrolled": true
   },
   "outputs": [
    {
     "data": {
      "text/plain": [
       "defined \u001b[32mtype\u001b[39m \u001b[36mOr\u001b[39m\r\n",
       "defined \u001b[32mtype\u001b[39m \u001b[36mAnd\u001b[39m\r\n",
       "defined \u001b[32mtype\u001b[39m \u001b[36mImplies\u001b[39m\r\n",
       "defined \u001b[32mtype\u001b[39m \u001b[36mFalse\u001b[39m\r\n",
       "defined \u001b[32mtype\u001b[39m \u001b[36mTrue\u001b[39m\r\n",
       "defined \u001b[32mtype\u001b[39m \u001b[36mNot\u001b[39m\r\n",
       "defined \u001b[32mtype\u001b[39m \u001b[36m<=>\u001b[39m"
      ]
     },
     "execution_count": 2,
     "metadata": {},
     "output_type": "execute_result"
    }
   ],
   "source": [
    "type Or[P, Q] = Either[P, Q]\n",
    "type And[P, Q] = Tuple2[P, Q]\n",
    "type Implies[P, Q] = P => Q\n",
    "type False = Nothing\n",
    "type True = Unit\n",
    "type Not[P] = P => ⊥\n",
    "type <=>[P, Q] = (P => Q, Q => P)"
   ]
  },
  {
   "cell_type": "code",
   "execution_count": 3,
   "metadata": {},
   "outputs": [
    {
     "data": {
      "text/plain": [
       "defined \u001b[32mclass\u001b[39m \u001b[36mInhabitant\u001b[39m"
      ]
     },
     "execution_count": 3,
     "metadata": {},
     "output_type": "execute_result"
    }
   ],
   "source": [
    "class Inhabitant{ x => \n",
    "    // Knight(x) -- `x` is a Knight\n",
    "    // \n",
    "    type Knight\n",
    "    \n",
    "    // Knave(x) -- `x` is a Knave (i.e. is not a Knight)\n",
    "    // \n",
    "    type Knave = ¬[Knight]\n",
    "    \n",
    "    // Says(x, P) -- `x` says that `P` holds, i.e. asserts proposition `P`\n",
    "    // \n",
    "    type Says[P]\n",
    "    \n",
    "    // Tipo Arthur York\n",
    "    //\n",
    "    type Arthur\n",
    "    \n",
    "    // Being always truthful\n",
    "    type AlwaysTruthful = Knight    \n",
    "}"
   ]
  },
  {
   "cell_type": "code",
   "execution_count": 4,
   "metadata": {},
   "outputs": [
    {
     "data": {
      "text/plain": [
       "defined \u001b[32mtrait\u001b[39m \u001b[36mKnightsKnaves\u001b[39m"
      ]
     },
     "execution_count": 4,
     "metadata": {},
     "output_type": "execute_result"
    }
   ],
   "source": [
    "trait KnightsKnaves{\n",
    "    // P1. Inhabitants are knights or knaves\n",
    "    // \n",
    "    //     ∀ x. Inhabitant(x) ⟶ Knight(x) ∨ Knave(x) \n",
    "    // \n",
    "    def P1(x: Inhabitant): x.Knight ∨ x.Knave\n",
    "    \n",
    "    // In Scala 3\n",
    "    // val P1: (x: Inhabitant) => Either[x.Knight, x.Knave]\n",
    "    \n",
    "    // P2. Knights are truth tellers\n",
    "    // \n",
    "    //     ∀ P. ∀ x. Knight(x) ⟶ Says(x, P) ⟶ P\n",
    "    // \n",
    "    def P2[P](x: Inhabitant): x.Knight => x.Says[P] => P\n",
    "    \n",
    "    // In Scala 3\n",
    "    // val P2: [P] => (x: Inhabitant) => x.Knight => x.Says[P] => P\n",
    "    \n",
    "    // P3. Knaves are persistent liers\n",
    "    // \n",
    "    //     ∀ P. ∀ x. Knight(x) ⟶ Says(x, P) ⟶ ¬P\n",
    "    // \n",
    "    def P3[P](x: Inhabitant): x.Knave => x.Says[P] => ¬[P]\n",
    "    \n",
    "    /*P4. Si x dice que es Arthur York, sera un caballero porque dice la verdad - ¿?¿?\n",
    "    def P4[P](x: Inhabitant): x.Arthur => x.Knight\n",
    "    \n",
    "    Tip de Juanma\n",
    "    Si el sujeto es Arthur, entonces si Arthur dice P, quiere decir que el sujeto dice P\n",
    "    def P4_1[P](x: Inhabitant)(arthur: Inhabitant): x.Arthur => arthur.Says[P] => x.Says[P]\n",
    "    \n",
    "    Si el sujeto es Arthur, entonces si Arthur es un Knight, quiere decir que el sujeto es un Knight\n",
    "    def P4_2[P](x: Inhabitant)(arthur: Inhabitant): x.Arthur => arthur.Knight => x.Knight\n",
    "    \n",
    "    */\n",
    "    \n",
    "    //P4. If some inhabitant is actually Arthur York, all that can be proven about Arthur York can be proven about her\n",
    "    val arthur: Inhabitant\n",
    "    \n",
    "    def P4_1[P](x: Inhabitant): x.Arthur => arthur.Says[P] => x.Says[P]\n",
    "    def P4_2(x: Inhabitant): x.Arthur => arthur.Knight => x.Knight\n",
    "    \n",
    "    // P5. Double negation applies to things said\n",
    "    def P5[P](x: Inhabitant): Not[Not[x.Says[P]]] => x.Says[P]\n",
    "    \n",
    "    // P6. Some inhabitant is or is not Arthur York\n",
    "    def P6(x: Inhabitant): x.Arthur Or Not[x.Arthur]  \n",
    "    \n",
    "    // P7. Si x dice la verdad, x es Knight\n",
    "    def P7[P](x: Inhabitant): x.Says[P] => P => x.Knight\n",
    "    \n",
    "    // P8. Si x miente, x es Knave\n",
    "    def P8[P](x: Inhabitant): x.Says[P] => Not[P] => x.Knave\n",
    "    \n",
    "}"
   ]
  },
  {
   "cell_type": "code",
   "execution_count": 5,
   "metadata": {},
   "outputs": [
    {
     "data": {
      "text/plain": [
       "defined \u001b[32mclass\u001b[39m \u001b[36mSomeSugar\u001b[39m\r\n",
       "defined \u001b[32mclass\u001b[39m \u001b[36mNotSugar\u001b[39m"
      ]
     },
     "execution_count": 5,
     "metadata": {},
     "output_type": "execute_result"
    }
   ],
   "source": [
    "implicit class SomeSugar(P: KnightsKnaves){    \n",
    "    def eitherKnightOrKnave(x: Inhabitant): x.Knight Or x.Knave = \n",
    "        P.P1(x)\n",
    "    \n",
    "    def knaveIfNotKnight(x: Inhabitant): Not[x.Knight] => x.Knave = \n",
    "        notXIsKnight => \n",
    "            eitherKnightOrKnave(x).fold(notXIsKnight, identity)\n",
    "    \n",
    "    def knightIfNotKnave(x: Inhabitant): Not[x.Knave] => x.Knight = \n",
    "        notXIsKnave => \n",
    "            eitherKnightOrKnave(x).fold(identity, notXIsKnave)\n",
    "    \n",
    "    def knightsAreTruthTellers[P](x: Inhabitant): x.Knight => x.Says[P] => P = \n",
    "        P.P2[P](x)\n",
    "    \n",
    "    def knavesAreLiers[P](x: Inhabitant): x.Knave => x.Says[P] => Not[P] = \n",
    "        P.P3[P](x)\n",
    "    \n",
    "    def knightIfTruthful[P](x: Inhabitant): x.Says[P] => P => x.Knight = \n",
    "        xSaysP => p => \n",
    "            eitherKnightOrKnave(x).fold(\n",
    "                (xIsKnight: x.Knight) => xIsKnight, \n",
    "                (xIsKnave: x.Knave) => knavesAreLiers(x)(xIsKnave)(xSaysP)(p)\n",
    "            )\n",
    "    \n",
    "    def knaveIfLier[P](x: Inhabitant): x.Says[P] => Not[P] => x.Knave = \n",
    "        xSaysP => notP => eitherKnightOrKnave(x).fold(\n",
    "            xIsKnight => notP(knightsAreTruthTellers(x)(xIsKnight)(xSaysP): P),\n",
    "            identity)\n",
    "}\n",
    "\n",
    "implicit class NotSugar[P](notP: P => Nothing){\n",
    "    def contradicts(p: P): Nothing = \n",
    "        notP(p)\n",
    "}"
   ]
  },
  {
   "cell_type": "code",
   "execution_count": 6,
   "metadata": {},
   "outputs": [
    {
     "data": {
      "text/plain": [
       "defined \u001b[32mfunction\u001b[39m \u001b[36mpuzzle1\u001b[39m"
      ]
     },
     "execution_count": 6,
     "metadata": {},
     "output_type": "execute_result"
    }
   ],
   "source": [
    "// { P1, P2, P3 } ⊢ ∀ x. Inhabitant(x) ⟶ ¬Says(x, Knave(x))\n",
    "\n",
    "def puzzle1(premises: KnightsKnaves)(x: Inhabitant): x.Says[x.Knave] => Nothing =\n",
    "    // 1. Says(x, Knave(x))                                       ; hypothesis\n",
    "    ((_1: x.Says[x.Knave]) => \n",
    "         (premises.P1(x) match {\n",
    "             // 2. Knight(x)                                      ; hypothesis\n",
    "             case Left(_2: x.Knight) => \n",
    "                 //   3. Knight(x) → Says(x, Knave(x)) → Knave(x) ; P2[Knave(x),x]\n",
    "                 val _3: x.Knight => x.Says[x.Knave] => x.Knave = premises.P2[x.Knave](x)\n",
    "                 //   4. Says(x, Knave(x)) → Knave(x)             ; ⟶E(3,2)\n",
    "                 val _4: x.Says[x.Knave] => x.Knave = _3(_2)\n",
    "                 //   5. Knave(x)                                 ; ⟶E(4,1)\n",
    "                 //   5. ¬ Knight(x)                              ; ≝ Knave\n",
    "                 //   5. Knight(x) → ⊥                            ; ≝ ¬ \n",
    "                 val _5: x.Knight => ⊥ = _4(_1)\n",
    "                 //   6. ⊥                                        ; ⟶E(5,2)\n",
    "                 _5(_2) : ⊥\n",
    "\n",
    "             //  _7. Knave(x)                                     ; hypothesis\n",
    "             case Right(_7: x.Knave) => \n",
    "                 //   8. Knave(x) → Says(x, Knave(x)) → ¬ Knave(x) ; P3[Knave(x),x]\n",
    "                 val _8: x.Knave => x.Says[x.Knave] => ¬[x.Knave] = premises.P3[x.Knave](x)\n",
    "                 //   9. Says(x, Knave(x)) → ¬ Knave(x)            ; ⟶E(8,7)\n",
    "                 val _9: x.Says[x.Knave] => ¬[x.Knave] = _8(_7)\n",
    "                 //   10. ¬ Knave(x)                               ; ⟶E(9,1)\n",
    "                 //   10. Knave(x) → ⊥                             ; ≝ ¬ \n",
    "                 val _10: x.Knave => ⊥ = _9(_1)\n",
    "                 //  11. ⊥                                         ; ⟶E(10,7)\n",
    "                 _10(_7) : ⊥\n",
    "\n",
    "        // _12. ⊥                                                  ; ∨E(P1, 2-6, 7-11)\n",
    "        }) : False\n",
    "\n",
    "    // _13. Says(x, Knave(x)) ⟶ ⊥                                  ; ⟶I(1-12)\n",
    "    // _13. ¬ Says(x, Knave(x))                                    ; ≝ ¬ \n",
    "    ) : ¬[x.Says[x.Knave]]"
   ]
  },
  {
   "cell_type": "code",
   "execution_count": null,
   "metadata": {},
   "outputs": [],
   "source": []
  },
  {
   "cell_type": "code",
   "execution_count": null,
   "metadata": {},
   "outputs": [],
   "source": []
  },
  {
   "cell_type": "markdown",
   "metadata": {},
   "source": [
    "# Problem 2 - The Second Trial.\n",
    "Another suspect was arrested and brought to trial. Here is a transcript of the trial:\n",
    "\n",
    "Craig: The last suspect was a queer bird; he actually claimed to be Arthur York! Did you ever claim to be Arthur York?\n",
    "DEFENDANT: NO.\n",
    "\n",
    "Craig: Did you ever claim that you are not Arthur York?\n",
    "DEFENDANT: Yes.\n",
    "\n",
    "Craig’s first guess was that the defendant was not Arthur York, but are there really sufficient grounds for acquitting him?"
   ]
  },
  {
   "cell_type": "markdown",
   "metadata": {},
   "source": [
    "**SOLUCION**\n",
    "\n",
    "The defendant is either a knight or a knave. \n",
    "\n",
    "Suppose he is a knight. Then his answers were both truthful; in particular, his second answer was truthful, so he did once claim that he is not Arthur York. His claim was true, since he is a knight; thus he is not Arthur York. \n",
    "This proves that if he is a knight, then he is not Arthur York. \n",
    "\n",
    "Suppose he is a knave. Then his answers were both lies; in particular, his first answer was a lie, which means that he did once claim to be Arthur York. But since he is a knave, he lied when he claimed to be Arthur York, hence he is not Arthur York. And so we have proved that if he is a knave, then he is not Arthur York. \n",
    "\n",
    "We now see that regardless of **whether he is a knight or a knave, he cannot be Arthur York.** And so he was acquitted. Incidentally, **it cannot be determined whether he is a knight or a knave.**"
   ]
  },
  {
   "cell_type": "code",
   "execution_count": 6,
   "metadata": {},
   "outputs": [],
   "source": [
    "/*\n",
    "TERCER RAZONAMIENTO\n",
    "\n",
    "(1)Craig: The last suspect was a queer bird; he actually claimed to be Arthur York! Did you ever claim to be Arthur York? \n",
    "DEFENDANT: NO.\n",
    "(2)Craig: Did you ever claim that you are not Arthur York? \n",
    "DEFENDANT: Yes.\n",
    "Craig’s first guess was that the defendant was not Arthur York, but are there really sufficient grounds for acquitting him?\n",
    "\n",
    "De aqui saco que:\n",
    "\n",
    "x = Defendant\n",
    "arthur = Arthur\n",
    "\n",
    "(1) Not[x.Says[x.Arthur]] -> El defendant NO dice que es Arthur York\n",
    "(2) x.Says[Not[x.Arthur]] -> El defendant dice que NO es Arthur York\n",
    "\n",
    "SOLUCION\n",
    "\n",
    "The defendant is either a knight or a knave.\n",
    "Suppose he is a knight: \n",
    "Then his answers were both truthful; in particular, his second answer was truthful, \n",
    "so he did once claim that he is not Arthur York. His claim was true, since he is a knight; thus he is not Arthur York. \n",
    "This proves that if he is a knight, then he is not Arthur York.\n",
    "\n",
    "Suppose he is a knave: \n",
    "Then his answers were both lies; in particular, his first answer was a lie, \n",
    "which means that he did once claim to be Arthur York. But since he is a knave, \n",
    "he lied when he claimed to be Arthur York, hence he is not Arthur York. \n",
    "And so we have proved that if he is a knave, then he is not Arthur York.\n",
    "\n",
    "We now see that regardless of whether he is a knight or a knave, \n",
    "he cannot be Arthur York. And so he was acquitted. \n",
    "Incidentally, it cannot be determined whether he is a knight or a knave.\n",
    "\n",
    "Tanto si es un Knight, como un Knave, lo unico que se puede afirmar es que el defendant NO es Arthur York\n",
    "(1) Si x.Knight -> Not[x.Arthur] \n",
    "(2) Si x.Knave -> Not[x.Arthur]\n",
    "\n",
    "Por tanto:\n",
    "\n",
    "PREDICADO                         SOLUCION\n",
    "((Not[x.Says[x.Arthur]], x.Says[Not[x.Arthur]])) => Not[x.Arthur]\n",
    "\n",
    "*/"
   ]
  },
  {
   "cell_type": "code",
   "execution_count": 7,
   "metadata": {
    "scrolled": true
   },
   "outputs": [
    {
     "data": {
      "text/plain": [
       "defined \u001b[32mfunction\u001b[39m \u001b[36mproblem2\u001b[39m"
      ]
     },
     "execution_count": 7,
     "metadata": {},
     "output_type": "execute_result"
    }
   ],
   "source": [
    "def problem2(premises: KnightsKnaves)(x: Inhabitant): ((Not[x.Says[x.Arthur]], x.Says[Not[x.Arthur]])) => Not[x.Arthur] = ???"
   ]
  },
  {
   "cell_type": "code",
   "execution_count": 8,
   "metadata": {
    "scrolled": false
   },
   "outputs": [
    {
     "data": {
      "text/plain": [
       "defined \u001b[32mfunction\u001b[39m \u001b[36mproblem2\u001b[39m"
      ]
     },
     "execution_count": 8,
     "metadata": {},
     "output_type": "execute_result"
    }
   ],
   "source": [
    "def problem2(premises: KnightsKnaves)(x: Inhabitant): ((Not[x.Says[x.Arthur]], x.Says[Not[x.Arthur]])) => Not[x.Arthur] = \n",
    "    ({t: ((Not[x.Says[x.Arthur]], x.Says[Not[x.Arthur]])) =>\n",
    "        ??? : Not[x.Arthur]\n",
    "    }): (((Not[x.Says[x.Arthur]], x.Says[Not[x.Arthur]])) => Not[x.Arthur])"
   ]
  },
  {
   "cell_type": "code",
   "execution_count": 15,
   "metadata": {
    "scrolled": false
   },
   "outputs": [
    {
     "data": {
      "text/plain": [
       "defined \u001b[32mfunction\u001b[39m \u001b[36mproblem2\u001b[39m"
      ]
     },
     "execution_count": 15,
     "metadata": {},
     "output_type": "execute_result"
    }
   ],
   "source": [
    "def problem2(premises: KnightsKnaves)(x: Inhabitant): ((Not[x.Says[x.Arthur]], x.Says[Not[x.Arthur]])) => Not[x.Arthur] = \n",
    "    ({t: ((Not[x.Says[x.Arthur]], x.Says[Not[x.Arthur]])) =>\n",
    "        t._1: Not[x.Says[x.Arthur]]\n",
    "        t._2: x.Says[Not[x.Arthur]]\n",
    "        \n",
    "        //Creamos una funcion en base a la solucion del predicado Not[x.Arthur]\n",
    "        val xIsNotArthur: x.Arthur => Nothing = {\n",
    "            xArthur: x.Arthur =>\n",
    "                \n",
    "                //Suppose he is a knight\n",
    "                val xIsKnight: x.Knight = ???\n",
    "            \n",
    "                //Then his answers were both truthful; in particular, his second answer was truthful, \n",
    "                //so he did once claim that he is not Arthur York.\n",
    "                //His claim was true, since he is a knight; thus he is not Arthur York.\n",
    "                val xSayTrue: x.Says[Not[x.Arthur]] = t._2\n",
    "                //This proves that if he is a knight, then he is not Arthur York.\n",
    "            \n",
    "                \n",
    "                //Suppose he is a knave: \n",
    "                val xIsKnave: x.Knave = ???\n",
    "            \n",
    "                //Then his answers were both lies; in particular, his first answer was a lie,\n",
    "                //which means that he did once claim to be Arthur York. \n",
    "                val xSayLie: x.Says[x.Arthur] = ???\n",
    "            \n",
    "                //But since he is a knave, he lied when he claimed to be Arthur York, hence he is not Arthur York. \n",
    "                //And so we have proved that if he is a knave, then he is not Arthur York.\n",
    "\n",
    "                \n",
    "                ??? : Nothing\n",
    "        }\n",
    "        \n",
    "        \n",
    "        xIsNotArthur : Not[x.Arthur]\n",
    "    }): (((Not[x.Says[x.Arthur]], x.Says[Not[x.Arthur]])) => Not[x.Arthur])"
   ]
  },
  {
   "cell_type": "code",
   "execution_count": null,
   "metadata": {},
   "outputs": [],
   "source": []
  },
  {
   "cell_type": "code",
   "execution_count": null,
   "metadata": {},
   "outputs": [],
   "source": []
  }
 ],
 "metadata": {
  "kernelspec": {
   "display_name": "Scala",
   "language": "scala",
   "name": "scala"
  },
  "language_info": {
   "codemirror_mode": "text/x-scala",
   "file_extension": ".sc",
   "mimetype": "text/x-scala",
   "name": "scala",
   "nbconvert_exporter": "script",
   "version": "2.13.3"
  }
 },
 "nbformat": 4,
 "nbformat_minor": 4
}
