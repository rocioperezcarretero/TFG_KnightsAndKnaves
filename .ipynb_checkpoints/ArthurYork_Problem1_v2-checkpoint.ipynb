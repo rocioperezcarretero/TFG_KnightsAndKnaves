{
 "cells": [
  {
   "cell_type": "code",
   "execution_count": 1,
   "metadata": {},
   "outputs": [
    {
     "data": {
      "text/plain": [
       "defined \u001b[32mtype\u001b[39m \u001b[36m∨\u001b[39m\r\n",
       "defined \u001b[32mtype\u001b[39m \u001b[36m∧\u001b[39m\r\n",
       "defined \u001b[32mtype\u001b[39m \u001b[36m⟶\u001b[39m\r\n",
       "defined \u001b[32mtype\u001b[39m \u001b[36m⊥\u001b[39m\r\n",
       "defined \u001b[32mtype\u001b[39m \u001b[36mTrue\u001b[39m\r\n",
       "defined \u001b[32mtype\u001b[39m \u001b[36m¬\u001b[39m\r\n",
       "defined \u001b[32mtype\u001b[39m \u001b[36m⟷\u001b[39m"
      ]
     },
     "execution_count": 1,
     "metadata": {},
     "output_type": "execute_result"
    }
   ],
   "source": [
    "type ∨[P, Q] = Either[P, Q]\n",
    "type ∧[P, Q] = Tuple2[P, Q]\n",
    "type ⟶[P, Q] = P => Q\n",
    "type ⊥ = Nothing\n",
    "type True = Unit\n",
    "type ¬[P] = P => ⊥ \n",
    "type ⟷[P, Q] = (P => Q) ∧ (Q => P)"
   ]
  },
  {
   "cell_type": "code",
   "execution_count": 2,
   "metadata": {
    "scrolled": true
   },
   "outputs": [
    {
     "data": {
      "text/plain": [
       "defined \u001b[32mtype\u001b[39m \u001b[36mOr\u001b[39m\r\n",
       "defined \u001b[32mtype\u001b[39m \u001b[36mAnd\u001b[39m\r\n",
       "defined \u001b[32mtype\u001b[39m \u001b[36mImplies\u001b[39m\r\n",
       "defined \u001b[32mtype\u001b[39m \u001b[36mFalse\u001b[39m\r\n",
       "defined \u001b[32mtype\u001b[39m \u001b[36mTrue\u001b[39m\r\n",
       "defined \u001b[32mtype\u001b[39m \u001b[36mNot\u001b[39m\r\n",
       "defined \u001b[32mtype\u001b[39m \u001b[36m<=>\u001b[39m"
      ]
     },
     "execution_count": 2,
     "metadata": {},
     "output_type": "execute_result"
    }
   ],
   "source": [
    "type Or[P, Q] = Either[P, Q]\n",
    "type And[P, Q] = Tuple2[P, Q]\n",
    "type Implies[P, Q] = P => Q\n",
    "type False = Nothing\n",
    "type True = Unit\n",
    "type Not[P] = P => ⊥\n",
    "type <=>[P, Q] = (P => Q, Q => P)"
   ]
  },
  {
   "cell_type": "code",
   "execution_count": 3,
   "metadata": {},
   "outputs": [
    {
     "data": {
      "text/plain": [
       "defined \u001b[32mclass\u001b[39m \u001b[36mInhabitant\u001b[39m"
      ]
     },
     "execution_count": 3,
     "metadata": {},
     "output_type": "execute_result"
    }
   ],
   "source": [
    "class Inhabitant{ x => \n",
    "    // Knight(x) -- `x` is a Knight\n",
    "    // \n",
    "    type Knight\n",
    "    \n",
    "    // Knave(x) -- `x` is a Knave (i.e. is not a Knight)\n",
    "    // \n",
    "    type Knave = ¬[Knight]\n",
    "    \n",
    "    // Says(x, P) -- `x` says that `P` holds, i.e. asserts proposition `P`\n",
    "    // \n",
    "    type Says[P]\n",
    "    \n",
    "    // Tipo Arthur York\n",
    "    //\n",
    "    type Arthur\n",
    "    \n",
    "    // Being always truthful\n",
    "    type AlwaysTruthful = Knight    \n",
    "}"
   ]
  },
  {
   "cell_type": "code",
   "execution_count": 4,
   "metadata": {},
   "outputs": [
    {
     "data": {
      "text/plain": [
       "defined \u001b[32mtrait\u001b[39m \u001b[36mKnightsKnaves\u001b[39m"
      ]
     },
     "execution_count": 4,
     "metadata": {},
     "output_type": "execute_result"
    }
   ],
   "source": [
    "trait KnightsKnaves{\n",
    "    // P1. Inhabitants are knights or knaves\n",
    "    // \n",
    "    //     ∀ x. Inhabitant(x) ⟶ Knight(x) ∨ Knave(x) \n",
    "    // \n",
    "    def P1(x: Inhabitant): x.Knight ∨ x.Knave\n",
    "    \n",
    "    // In Scala 3\n",
    "    // val P1: (x: Inhabitant) => Either[x.Knight, x.Knave]\n",
    "    \n",
    "    // P2. Knights are truth tellers\n",
    "    // \n",
    "    //     ∀ P. ∀ x. Knight(x) ⟶ Says(x, P) ⟶ P\n",
    "    // \n",
    "    def P2[P](x: Inhabitant): x.Knight => x.Says[P] => P\n",
    "    \n",
    "    // In Scala 3\n",
    "    // val P2: [P] => (x: Inhabitant) => x.Knight => x.Says[P] => P\n",
    "    \n",
    "    // P3. Knaves are persistent liers\n",
    "    // \n",
    "    //     ∀ P. ∀ x. Knight(x) ⟶ Says(x, P) ⟶ ¬P\n",
    "    // \n",
    "    def P3[P](x: Inhabitant): x.Knave => x.Says[P] => ¬[P]\n",
    "    \n",
    "    /*P4. Si x dice que es Arthur York, sera un caballero porque dice la verdad - ¿?¿?\n",
    "    def P4[P](x: Inhabitant): x.Arthur => x.Knight\n",
    "    \n",
    "    Tip de Juanma\n",
    "    Si el sujeto es Arthur, entonces si Arthur dice P, quiere decir que el sujeto dice P\n",
    "    def P4_1[P](x: Inhabitant)(arthur: Inhabitant): x.Arthur => arthur.Says[P] => x.Says[P]\n",
    "    \n",
    "    Si el sujeto es Arthur, entonces si Arthur es un Knight, quiere decir que el sujeto es un Knight\n",
    "    def P4_2[P](x: Inhabitant)(arthur: Inhabitant): x.Arthur => arthur.Knight => x.Knight\n",
    "    \n",
    "    */\n",
    "    \n",
    "    //P4. If some inhabitant is actually Arthur York, all that can be proven about Arthur York can be proven about her\n",
    "    val arthur: Inhabitant\n",
    "    \n",
    "    def P4_1[P](x: Inhabitant): x.Arthur => arthur.Says[P] => x.Says[P]\n",
    "    def P4_2(x: Inhabitant): x.Arthur => arthur.Knight => x.Knight\n",
    "    \n",
    "    // P5. Double negation applies to things said\n",
    "    def P5[P](x: Inhabitant): Not[Not[x.Says[P]]] => x.Says[P]\n",
    "    \n",
    "    // P6. Some inhabitant is or is not Arthur York\n",
    "    def P6(x: Inhabitant): x.Arthur Or Not[x.Arthur]  \n",
    "    \n",
    "    // P7. Si x dice la verdad, x es Knight\n",
    "    def P7[P](x: Inhabitant): x.Says[P] => P => x.Knight\n",
    "    \n",
    "    // P8. Si x miente, x es Knave\n",
    "    def P8[P](x: Inhabitant): x.Says[P] => Not[P] => x.Knave\n",
    "    \n",
    "}"
   ]
  },
  {
   "cell_type": "code",
   "execution_count": 5,
   "metadata": {},
   "outputs": [
    {
     "data": {
      "text/plain": [
       "defined \u001b[32mclass\u001b[39m \u001b[36mSomeSugar\u001b[39m\r\n",
       "defined \u001b[32mclass\u001b[39m \u001b[36mNotSugar\u001b[39m"
      ]
     },
     "execution_count": 5,
     "metadata": {},
     "output_type": "execute_result"
    }
   ],
   "source": [
    "implicit class SomeSugar(P: KnightsKnaves){    \n",
    "    def eitherKnightOrKnave(x: Inhabitant): x.Knight Or x.Knave = \n",
    "        P.P1(x)\n",
    "    \n",
    "    def knaveIfNotKnight(x: Inhabitant): Not[x.Knight] => x.Knave = \n",
    "        notXIsKnight => \n",
    "            eitherKnightOrKnave(x).fold(notXIsKnight, identity)\n",
    "    \n",
    "    def knightIfNotKnave(x: Inhabitant): Not[x.Knave] => x.Knight = \n",
    "        notXIsKnave => \n",
    "            eitherKnightOrKnave(x).fold(identity, notXIsKnave)\n",
    "    \n",
    "    def knightsAreTruthTellers[P](x: Inhabitant): x.Knight => x.Says[P] => P = \n",
    "        P.P2[P](x)\n",
    "    \n",
    "    def knavesAreLiers[P](x: Inhabitant): x.Knave => x.Says[P] => Not[P] = \n",
    "        P.P3[P](x)\n",
    "    \n",
    "    def knightIfTruthful[P](x: Inhabitant): x.Says[P] => P => x.Knight = \n",
    "        xSaysP => p => \n",
    "            eitherKnightOrKnave(x).fold(\n",
    "                (xIsKnight: x.Knight) => xIsKnight, \n",
    "                (xIsKnave: x.Knave) => knavesAreLiers(x)(xIsKnave)(xSaysP)(p)\n",
    "            )\n",
    "    \n",
    "    def knaveIfLier[P](x: Inhabitant): x.Says[P] => Not[P] => x.Knave = \n",
    "        xSaysP => notP => eitherKnightOrKnave(x).fold(\n",
    "            xIsKnight => notP(knightsAreTruthTellers(x)(xIsKnight)(xSaysP): P),\n",
    "            identity)\n",
    "}\n",
    "\n",
    "implicit class NotSugar[P](notP: P => Nothing){\n",
    "    def contradicts(p: P): Nothing = \n",
    "        notP(p)\n",
    "}"
   ]
  },
  {
   "cell_type": "code",
   "execution_count": 6,
   "metadata": {},
   "outputs": [
    {
     "data": {
      "text/plain": [
       "defined \u001b[32mfunction\u001b[39m \u001b[36mpuzzle1\u001b[39m"
      ]
     },
     "execution_count": 6,
     "metadata": {},
     "output_type": "execute_result"
    }
   ],
   "source": [
    "// { P1, P2, P3 } ⊢ ∀ x. Inhabitant(x) ⟶ ¬Says(x, Knave(x))\n",
    "\n",
    "def puzzle1(premises: KnightsKnaves)(x: Inhabitant): x.Says[x.Knave] => Nothing =\n",
    "    // 1. Says(x, Knave(x))                                       ; hypothesis\n",
    "    ((_1: x.Says[x.Knave]) => \n",
    "         (premises.P1(x) match {\n",
    "             // 2. Knight(x)                                      ; hypothesis\n",
    "             case Left(_2: x.Knight) => \n",
    "                 //   3. Knight(x) → Says(x, Knave(x)) → Knave(x) ; P2[Knave(x),x]\n",
    "                 val _3: x.Knight => x.Says[x.Knave] => x.Knave = premises.P2[x.Knave](x)\n",
    "                 //   4. Says(x, Knave(x)) → Knave(x)             ; ⟶E(3,2)\n",
    "                 val _4: x.Says[x.Knave] => x.Knave = _3(_2)\n",
    "                 //   5. Knave(x)                                 ; ⟶E(4,1)\n",
    "                 //   5. ¬ Knight(x)                              ; ≝ Knave\n",
    "                 //   5. Knight(x) → ⊥                            ; ≝ ¬ \n",
    "                 val _5: x.Knight => ⊥ = _4(_1)\n",
    "                 //   6. ⊥                                        ; ⟶E(5,2)\n",
    "                 _5(_2) : ⊥\n",
    "\n",
    "             //  _7. Knave(x)                                     ; hypothesis\n",
    "             case Right(_7: x.Knave) => \n",
    "                 //   8. Knave(x) → Says(x, Knave(x)) → ¬ Knave(x) ; P3[Knave(x),x]\n",
    "                 val _8: x.Knave => x.Says[x.Knave] => ¬[x.Knave] = premises.P3[x.Knave](x)\n",
    "                 //   9. Says(x, Knave(x)) → ¬ Knave(x)            ; ⟶E(8,7)\n",
    "                 val _9: x.Says[x.Knave] => ¬[x.Knave] = _8(_7)\n",
    "                 //   10. ¬ Knave(x)                               ; ⟶E(9,1)\n",
    "                 //   10. Knave(x) → ⊥                             ; ≝ ¬ \n",
    "                 val _10: x.Knave => ⊥ = _9(_1)\n",
    "                 //  11. ⊥                                         ; ⟶E(10,7)\n",
    "                 _10(_7) : ⊥\n",
    "\n",
    "        // _12. ⊥                                                  ; ∨E(P1, 2-6, 7-11)\n",
    "        }) : False\n",
    "\n",
    "    // _13. Says(x, Knave(x)) ⟶ ⊥                                  ; ⟶I(1-12)\n",
    "    // _13. ¬ Says(x, Knave(x))                                    ; ≝ ¬ \n",
    "    ) : ¬[x.Says[x.Knave]]"
   ]
  },
  {
   "cell_type": "code",
   "execution_count": null,
   "metadata": {},
   "outputs": [],
   "source": []
  },
  {
   "cell_type": "markdown",
   "metadata": {},
   "source": [
    "# Problem 1 - The First Trial.\n",
    "Inspector Craig of Scotland Yard—of whom you will read much in this book—was called to the Island of Knights and Knaves to help find a criminal named Arthur York. What made the process difficult was that it was not known whether Arthur York was a knight or a knave. \n",
    "One suspect was arrested and brought to trial. Inspector Craig was the presiding judge. Here is a transcript of the trial: \n",
    "\n",
    "Craig: What do you know about Arthur York? \n",
    "DEFENDANT: Arthur York once claimed that I was a knave. \n",
    "\n",
    "Craig: Are you by any chance Arthur York?\n",
    "DEFENDANT: Yes.\n",
    "\n",
    "Is the defendant Arthur York?"
   ]
  },
  {
   "cell_type": "markdown",
   "metadata": {},
   "source": [
    "**SOLUCION**\n",
    "\n",
    "If the defendant is Arthur York, we get the following contradiction. Suppose he is Arthur York. \n",
    "Then he is a knight, since he claimed to be Arthur York. That would mean that his first answer to Craig was also true, \n",
    "which means that he, Arthur York, once claimed that he was a knave. \n",
    "\n",
    "But that is impossible! **Therefore the defendant is not Arthur York, although he is, of course, a knave.**"
   ]
  },
  {
   "cell_type": "code",
   "execution_count": 6,
   "metadata": {},
   "outputs": [],
   "source": [
    "/* \n",
    "Craig: What do you know about Arthur York? DEFENDANT: Arthur York once claimed that I was a knave. \n",
    "\n",
    "El defendant en este caso será \"x\" y \"Arthur York\" será \"arthur\" tendremos:\n",
    "\n",
    "x.Says[arthur.Says[x.Knave]] -> El defendant dice que Arthur dice que el defendant es un Knave\n",
    "\n",
    "Craig: Are you by any chance Arthur York? DEFENDANT: Yes. -> \n",
    "\n",
    "x.Says[x.Arthur] -> El defendant dice que es Arthur\n",
    "\n",
    "Solucion:\n",
    "\n",
    "Si \"x\" es Arthur York, hay contradiccion. Si \"x\" es un knight porque se supone que ha dicho la verdad y es Arthur(\"a\"), \n",
    "significa que ha dicho que es un knave. Eso es imposible. Por tanto \"x\" NO es Arthur York, y por tanto es un Knave.\n",
    "\n",
    "La premisa seria:\n",
    "\n",
    "((x.Says[arthur.Says[x.Knave]], x.Says[x.Arthur])) => x.Knave\n",
    "\n",
    "Y si \"x\" NO es Arthur York, entonces: x.Arthur => Nothing (o lo que es lo mismo Not[x.Arthur])\n",
    "\n",
    "Finalmente la premisa seria:\n",
    "\n",
    "((x.Says[arthur.Says[x.Knave]], x.Says[x.Arthur])) => (x.Knave, Not[x.Arthur])\n",
    "\n",
    "*/"
   ]
  },
  {
   "cell_type": "code",
   "execution_count": 6,
   "metadata": {},
   "outputs": [],
   "source": [
    "/*\n",
    "Tercer Razonamiento, con los comentarios de Juanma\n",
    "Se añade:\n",
    "\n",
    "Ok al nuevo tipo de datos \"arthur\"\n",
    "+\n",
    "Nuevas premisas donde se indica que:\n",
    "(1) Si el sujero es Arthur, entonces si Arthur dice P, el sujeto dice P\n",
    "(2) Si el sujeto es Arthur, entonces si Arthur es un Knight, el sujeto es un Knight\n",
    "Para ambas premisas necesitamos la variable \"arthur\" que pertenece a la clase Inhabitant\n",
    "\n",
    "*/"
   ]
  },
  {
   "cell_type": "code",
   "execution_count": 7,
   "metadata": {},
   "outputs": [
    {
     "data": {
      "text/plain": [
       "defined \u001b[32mfunction\u001b[39m \u001b[36mproblem1\u001b[39m"
      ]
     },
     "execution_count": 7,
     "metadata": {},
     "output_type": "execute_result"
    }
   ],
   "source": [
    "def problem1(premises: KnightsKnaves)(x: Inhabitant)(arthur: Inhabitant): \n",
    "    ((x.Says[arthur.Says[x.Knave]], x.Says[x.Arthur])) => (x.Knave, Not[x.Arthur]) = ???"
   ]
  },
  {
   "cell_type": "code",
   "execution_count": 8,
   "metadata": {},
   "outputs": [
    {
     "data": {
      "text/plain": [
       "defined \u001b[32mfunction\u001b[39m \u001b[36mproblem1\u001b[39m"
      ]
     },
     "execution_count": 8,
     "metadata": {},
     "output_type": "execute_result"
    }
   ],
   "source": [
    "def problem1(premises: KnightsKnaves)(x: Inhabitant)(arthur: Inhabitant): \n",
    "    ((x.Says[arthur.Says[x.Knave]], x.Says[x.Arthur])) => (x.Knave, Not[x.Arthur]) = \n",
    "    ({t: ((x.Says[arthur.Says[x.Knave]], x.Says[x.Arthur])) =>\n",
    "        ??? : (x.Knave, Not[x.Arthur])\n",
    "    }) : (((x.Says[arthur.Says[x.Knave]], x.Says[x.Arthur])) => (x.Knave, Not[x.Arthur]))"
   ]
  },
  {
   "cell_type": "code",
   "execution_count": 9,
   "metadata": {},
   "outputs": [
    {
     "data": {
      "text/plain": [
       "defined \u001b[32mfunction\u001b[39m \u001b[36mproblem1\u001b[39m"
      ]
     },
     "execution_count": 9,
     "metadata": {},
     "output_type": "execute_result"
    }
   ],
   "source": [
    "def problem1(premises: KnightsKnaves)(x: Inhabitant)(arthur: Inhabitant): \n",
    "    ((x.Says[arthur.Says[x.Knave]], x.Says[x.Arthur])) => (x.Knave, Not[x.Arthur]) = \n",
    "    ({t: ((x.Says[arthur.Says[x.Knave]], x.Says[x.Arthur])) =>\n",
    "        t._1: x.Says[arthur.Says[x.Knave]]\n",
    "        t._2: x.Says[x.Arthur]\n",
    "        \n",
    "        ??? : (x.Knave, Not[x.Arthur])\n",
    "    }) : (((x.Says[arthur.Says[x.Knave]], x.Says[x.Arthur])) => (x.Knave, Not[x.Arthur]))"
   ]
  },
  {
   "cell_type": "code",
   "execution_count": 10,
   "metadata": {},
   "outputs": [
    {
     "data": {
      "text/plain": [
       "defined \u001b[32mfunction\u001b[39m \u001b[36mproblem1\u001b[39m"
      ]
     },
     "execution_count": 10,
     "metadata": {},
     "output_type": "execute_result"
    }
   ],
   "source": [
    "def problem1(premises: KnightsKnaves)(x: Inhabitant)(arthur: Inhabitant): \n",
    "    ((x.Says[arthur.Says[x.Knave]], x.Says[x.Arthur])) => (x.Knave, Not[x.Arthur]) = \n",
    "    ({t: ((x.Says[arthur.Says[x.Knave]], x.Says[x.Arthur])) =>\n",
    "        t._1: x.Says[arthur.Says[x.Knave]]\n",
    "        t._2: x.Says[x.Arthur]\n",
    "        \n",
    "        //Creamos dos funciones en base a la solucion del predicado (x.Knave, Not[x.Arthur]):  \n",
    "        //(1) que devuelva un x.Knave\n",
    "        val xIsKnave: x.Knave = ???\n",
    "        \n",
    "        //(2) que devuelva un Not[x.Arthur]\n",
    "        val xIsNotArthur: x.Arthur => Nothing = ???\n",
    "        \n",
    "        \n",
    "        //Una vez implementadas ambas funciones, tendré la solucion deseada\n",
    "        (xIsKnave, xIsNotArthur) : (x.Knave, Not[x.Arthur])\n",
    "        \n",
    "    }) : (((x.Says[arthur.Says[x.Knave]], x.Says[x.Arthur])) => (x.Knave, Not[x.Arthur]))"
   ]
  },
  {
   "cell_type": "code",
   "execution_count": 22,
   "metadata": {},
   "outputs": [
    {
     "data": {
      "text/plain": [
       "defined \u001b[32mfunction\u001b[39m \u001b[36mproblem1\u001b[39m"
      ]
     },
     "execution_count": 22,
     "metadata": {},
     "output_type": "execute_result"
    }
   ],
   "source": [
    "//FINALIZADO OK - Pendiente simplificar\n",
    "def problem1(premises: KnightsKnaves)(x: Inhabitant): \n",
    "    ((x.Says[premises.arthur.Says[x.Knave]], x.Says[x.Arthur])) => (x.Knave, Not[x.Arthur]) = \n",
    "    ({t: ((x.Says[premises.arthur.Says[x.Knave]], x.Says[x.Arthur])) =>\n",
    "        t._1: x.Says[premises.arthur.Says[x.Knave]]\n",
    "        t._2: x.Says[x.Arthur]\n",
    "        \n",
    "        //Creamos dos funciones en base a la solucion del predicado (x.Knave, Not[x.Arthur]):  \n",
    "        //(1) que devuelva un Not[x.Arthur] - Pasamos esta primero porque la vamos a necesitar para el x.Knave de la tupla\n",
    "        val xIsNotArthur: x.Arthur => Nothing = {\n",
    "            //Suppose he (x) is Arthur York\n",
    "            xArthur: x.Arthur =>\n",
    "                //Then he (x) is a knight, since he (x) claimed to be Arthur York.\n",
    "                val xIsKnight: x.Knight = {\n",
    "                    //¿De donde puedo sacar un x.Knight? de P7?¿\n",
    "                    //def P7[P](x: Inhabitant): x.Says[P] => P => x.Knight\n",
    "                    val x_7: x.Says[x.Arthur] => x.Arthur => x.Knight = premises.P7[x.Arthur](x)\n",
    "                    val x_7_1: x.Arthur => x.Knight = x_7(t._2)\n",
    "                    val x_7_2: x.Knight = x_7_1(xArthur)\n",
    "                    x_7_2 : x.Knight\n",
    "                }\n",
    "            \n",
    "                //That would mean that his first answer to Craig was also true\n",
    "                val xSayTrue: premises.arthur.Says[x.Knave] = {\n",
    "                    //def P2[P](x: Inhabitant): x.Knight => x.Says[P] => P\n",
    "                    premises.P2[premises.arthur.Says[x.Knave]](x)(xIsKnight)(t._1) : premises.arthur.Says[x.Knave]\n",
    "                }\n",
    "                        \n",
    "                //which means that he (x), Arthur York, once claimed that he (x) was a knave.\n",
    "                val xSaySameArthur: x.Says[x.Knight => Nothing] = {\n",
    "                    //def P4_1[P](x: Inhabitant): x.Arthur => arthur.Says[P] => x.Says[P]\n",
    "                    //Esto da ERROR - Corregido\n",
    "                    premises.P4_1[x.Knave](x)(xArthur)(xSayTrue) : x.Says[x.Knave]\n",
    "                }\n",
    "                \n",
    "                //But that is impossible! That is why we get a contradiction (same as in puzzle1)\n",
    "                //def puzzle1(premises: KnightsKnaves)(x: Inhabitant): x.Says[x.Knave] => Nothing\n",
    "                //Esto da ERROR -> where val x: cmd11.this.cmd2.Inhabitant -> le quito el tipo de datos a x\n",
    "                //puzzle1(premises: KnightsKnaves)(x: Inhabitant)(xSaySameArthur: x.Says[x.Knight => Nothing]) : Nothing\n",
    "                puzzle1(premises: KnightsKnaves)(x)(xSaySameArthur: x.Says[x.Knight => Nothing]) : Nothing\n",
    "                        \n",
    "        }\n",
    "         \n",
    "        //(2) que devuelva un x.Knave\n",
    "        val xIsKnave: x.Knave = {\n",
    "            //¿De donde puedo sacar un x.Knave?\n",
    "            //def P8[P](x: Inhabitant): x.Says[P] => Not[P] => x.Knave\n",
    "            premises.P8[x.Arthur](x)(t._2)(xIsNotArthur) : x.Knave\n",
    "        }        \n",
    "        \n",
    "        //Una vez implementadas ambas funciones, tendré la solucion deseada\n",
    "        (xIsKnave, xIsNotArthur) : (x.Knave, Not[x.Arthur])\n",
    "        \n",
    "    }) : (((x.Says[premises.arthur.Says[x.Knave]], x.Says[x.Arthur])) => (x.Knave, Not[x.Arthur]))"
   ]
  },
  {
   "cell_type": "code",
   "execution_count": null,
   "metadata": {},
   "outputs": [],
   "source": []
  },
  {
   "cell_type": "code",
   "execution_count": null,
   "metadata": {},
   "outputs": [],
   "source": [
    "//En la tutoria\n",
    "def problem1(premises: KnightsKnaves)(x: Inhabitant)(arthur: Inhabitant): \n",
    "    ((x.Says[arthur.Says[x.Knave]], x.Says[x.Arthur])) => (x.Knave, Not[x.Arthur]) = \n",
    "    {t: ((x.Says[arthur.Says[x.Knave]], x.Says[x.Arthur])) =>\n",
    "        t._1: x.Says[arthur.Says[x.Knave]]\n",
    "        t._2: x.Says[x.Arthur]\n",
    "        val xIsNotArthur: x.Arthur => Nothing = {\n",
    "            // Supongamos que x es Arthur\n",
    "            xarthur: x.Arthur => \n",
    "                // Entonces podemos concluir que es un caballero, dado que ... \n",
    "                val xisKnight: x.Knight = ???\n",
    "                // Si es un caballero, entonces está diciendo la verdad en t._1\n",
    "                val x1: arthur.Says[x.Knave] = ???\n",
    "                //Y si x es arthur , entonces x dice lo mismo\n",
    "                val x2: x.Says[x.Knave] = ???\n",
    "                // pero esto es imposible, de acuerdo con el puzzle 1\n",
    "                //puzzle1(premises: KnightsKnaves)(x: Inhabitant)(x2) : Nothing\n",
    "                ??? : Nothing\n",
    "        }\n",
    "        \n",
    "        val xIsKnave: x.Knave = ???\n",
    "        (xIsKnave, xIsNotArthur)\n",
    "    } "
   ]
  }
 ],
 "metadata": {
  "kernelspec": {
   "display_name": "Scala",
   "language": "scala",
   "name": "scala"
  },
  "language_info": {
   "codemirror_mode": "text/x-scala",
   "file_extension": ".sc",
   "mimetype": "text/x-scala",
   "name": "scala",
   "nbconvert_exporter": "script",
   "version": "2.13.3"
  }
 },
 "nbformat": 4,
 "nbformat_minor": 4
}
