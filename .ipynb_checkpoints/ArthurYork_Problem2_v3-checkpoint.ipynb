{
 "cells": [
  {
   "cell_type": "code",
   "execution_count": 1,
   "metadata": {
    "scrolled": true
   },
   "outputs": [
    {
     "data": {
      "text/plain": [
       "defined \u001b[32mtype\u001b[39m \u001b[36m∨\u001b[39m\r\n",
       "defined \u001b[32mtype\u001b[39m \u001b[36m∧\u001b[39m\r\n",
       "defined \u001b[32mtype\u001b[39m \u001b[36m⟶\u001b[39m\r\n",
       "defined \u001b[32mtype\u001b[39m \u001b[36m⊥\u001b[39m\r\n",
       "defined \u001b[32mtype\u001b[39m \u001b[36mTrue\u001b[39m\r\n",
       "defined \u001b[32mtype\u001b[39m \u001b[36m¬\u001b[39m\r\n",
       "defined \u001b[32mtype\u001b[39m \u001b[36m⟷\u001b[39m"
      ]
     },
     "execution_count": 1,
     "metadata": {},
     "output_type": "execute_result"
    }
   ],
   "source": [
    "type ∨[P, Q] = Either[P, Q]\n",
    "type ∧[P, Q] = Tuple2[P, Q]\n",
    "type ⟶[P, Q] = P => Q\n",
    "type ⊥ = Nothing\n",
    "type True = Unit\n",
    "type ¬[P] = P => ⊥\n",
    "type ⟷[P, Q] = (P => Q) ∧ (Q => P)"
   ]
  },
  {
   "cell_type": "code",
   "execution_count": 2,
   "metadata": {
    "scrolled": true
   },
   "outputs": [
    {
     "data": {
      "text/plain": [
       "defined \u001b[32mtype\u001b[39m \u001b[36mOr\u001b[39m\r\n",
       "defined \u001b[32mtype\u001b[39m \u001b[36mAnd\u001b[39m\r\n",
       "defined \u001b[32mtype\u001b[39m \u001b[36mImplies\u001b[39m\r\n",
       "defined \u001b[32mtype\u001b[39m \u001b[36mFalse\u001b[39m\r\n",
       "defined \u001b[32mtype\u001b[39m \u001b[36mTrue\u001b[39m\r\n",
       "defined \u001b[32mtype\u001b[39m \u001b[36mNot\u001b[39m\r\n",
       "defined \u001b[32mtype\u001b[39m \u001b[36m<=>\u001b[39m"
      ]
     },
     "execution_count": 2,
     "metadata": {},
     "output_type": "execute_result"
    }
   ],
   "source": [
    "type Or[P, Q] = Either[P, Q]\n",
    "type And[P, Q] = Tuple2[P, Q]\n",
    "type Implies[P, Q] = P => Q\n",
    "type False = Nothing\n",
    "type True = Unit\n",
    "type Not[P] = P => ⊥\n",
    "type <=>[P, Q] = (P => Q, Q => P)"
   ]
  },
  {
   "cell_type": "code",
   "execution_count": 3,
   "metadata": {},
   "outputs": [
    {
     "data": {
      "text/plain": [
       "defined \u001b[32mclass\u001b[39m \u001b[36mInhabitant\u001b[39m"
      ]
     },
     "execution_count": 3,
     "metadata": {},
     "output_type": "execute_result"
    }
   ],
   "source": [
    "class Inhabitant{ x => \n",
    "    // Knight(x) -- `x` is a Knight\n",
    "    // \n",
    "    type Knight\n",
    "    \n",
    "    // Knave(x) -- `x` is a Knave (i.e. is not a Knight)\n",
    "    // \n",
    "    type Knave = ¬[Knight]\n",
    "    \n",
    "    // Says(x, P) -- `x` says that `P` holds, i.e. asserts proposition `P`\n",
    "    // \n",
    "    type Says[P]\n",
    "    \n",
    "    // Tipo Arthur York\n",
    "    //\n",
    "    type Arthur\n",
    "    \n",
    "    // Being always truthful\n",
    "    type AlwaysTruthful = Knight    \n",
    "}"
   ]
  },
  {
   "cell_type": "code",
   "execution_count": 4,
   "metadata": {},
   "outputs": [
    {
     "data": {
      "text/plain": [
       "defined \u001b[32mtrait\u001b[39m \u001b[36mKnightsKnaves\u001b[39m"
      ]
     },
     "execution_count": 4,
     "metadata": {},
     "output_type": "execute_result"
    }
   ],
   "source": [
    "trait KnightsKnaves{\n",
    "    // P1. Inhabitants are knights or knaves\n",
    "    // \n",
    "    //     ∀ x. Inhabitant(x) ⟶ Knight(x) ∨ Knave(x) \n",
    "    // \n",
    "    def P1(x: Inhabitant): x.Knight ∨ x.Knave\n",
    "    \n",
    "    // In Scala 3\n",
    "    // val P1: (x: Inhabitant) => Either[x.Knight, x.Knave]\n",
    "    \n",
    "    // P2. Knights are truth tellers\n",
    "    // \n",
    "    //     ∀ P. ∀ x. Knight(x) ⟶ Says(x, P) ⟶ P\n",
    "    // \n",
    "    def P2[P](x: Inhabitant): x.Knight => x.Says[P] => P\n",
    "    \n",
    "    // In Scala 3\n",
    "    // val P2: [P] => (x: Inhabitant) => x.Knight => x.Says[P] => P\n",
    "    \n",
    "    // P3. Knaves are persistent liers\n",
    "    // \n",
    "    //     ∀ P. ∀ x. Knight(x) ⟶ Says(x, P) ⟶ ¬P\n",
    "    // \n",
    "    def P3[P](x: Inhabitant): x.Knave => x.Says[P] => ¬[P]\n",
    "    \n",
    "    /*P4. Si x dice que es Arthur York, sera un caballero porque dice la verdad - ¿?¿?\n",
    "    def P4[P](x: Inhabitant): x.Arthur => x.Knight\n",
    "    \n",
    "    Tip de Juanma\n",
    "    Si el sujeto es Arthur, entonces si Arthur dice P, quiere decir que el sujeto dice P\n",
    "    def P4_1[P](x: Inhabitant)(arthur: Inhabitant): x.Arthur => arthur.Says[P] => x.Says[P]\n",
    "    \n",
    "    Si el sujeto es Arthur, entonces si Arthur es un Knight, quiere decir que el sujeto es un Knight\n",
    "    def P4_2[P](x: Inhabitant)(arthur: Inhabitant): x.Arthur => arthur.Knight => x.Knight\n",
    "    \n",
    "    */\n",
    "    \n",
    "    //P4. If some inhabitant is actually Arthur York, all that can be proven about Arthur York can be proven about her\n",
    "    val arthur: Inhabitant\n",
    "    \n",
    "    def P4_1[P](x: Inhabitant): x.Arthur => arthur.Says[P] => x.Says[P]\n",
    "    def P4_2(x: Inhabitant): x.Arthur => arthur.Knight => x.Knight\n",
    "    \n",
    "    // P5. Double negation applies to things said\n",
    "    def P5[P](x: Inhabitant): Not[Not[x.Says[P]]] => x.Says[P]\n",
    "    \n",
    "    // P6. Some inhabitant is or is not Arthur York\n",
    "    def P6(x: Inhabitant): x.Arthur Or Not[x.Arthur]  \n",
    "    \n",
    "    // P7. Si x dice la verdad, x es Knight\n",
    "    def P7[P](x: Inhabitant): x.Says[P] => P => x.Knight\n",
    "    \n",
    "    // P8. Si x miente, x es Knave\n",
    "    def P8[P](x: Inhabitant): x.Says[P] => Not[P] => x.Knave\n",
    "    \n",
    "}"
   ]
  },
  {
   "cell_type": "code",
   "execution_count": 25,
   "metadata": {},
   "outputs": [
    {
     "data": {
      "text/plain": [
       "defined \u001b[32mclass\u001b[39m \u001b[36mSomeSugar\u001b[39m\r\n",
       "defined \u001b[32mclass\u001b[39m \u001b[36mNotSugar\u001b[39m"
      ]
     },
     "execution_count": 25,
     "metadata": {},
     "output_type": "execute_result"
    }
   ],
   "source": [
    "implicit class SomeSugar(P: KnightsKnaves){    \n",
    "    def eitherKnightOrKnave(x: Inhabitant): x.Knight Or x.Knave = \n",
    "        P.P1(x)\n",
    "    \n",
    "    def knaveIfNotKnight(x: Inhabitant): Not[x.Knight] => x.Knave = \n",
    "        notXIsKnight => \n",
    "            eitherKnightOrKnave(x).fold(notXIsKnight, identity)\n",
    "    \n",
    "    def knightIfNotKnave(x: Inhabitant): Not[x.Knave] => x.Knight = \n",
    "        notXIsKnave => \n",
    "            eitherKnightOrKnave(x).fold(identity, notXIsKnave)\n",
    "    \n",
    "    def knightsAreTruthTellers[P](x: Inhabitant): x.Knight => x.Says[P] => P = \n",
    "        P.P2[P](x)\n",
    "    \n",
    "    def knavesAreLiers[P](x: Inhabitant): x.Knave => x.Says[P] => Not[P] = \n",
    "        P.P3[P](x)\n",
    "    \n",
    "    def doubleNotSayP[P](x: Inhabitant): Not[Not[x.Says[P]]] => x.Says[P] =\n",
    "        P.P5[P](x)\n",
    "    \n",
    "    def eitherArthurOrNot(x: Inhabitant): x.Arthur Or Not[x.Arthur] = \n",
    "        P.P6(x)   \n",
    "    \n",
    "    def knightIfTruthful[P](x: Inhabitant): x.Says[P] => P => x.Knight = \n",
    "        xSaysP => p => \n",
    "            eitherKnightOrKnave(x).fold(\n",
    "                (xIsKnight: x.Knight) => xIsKnight, \n",
    "                (xIsKnave: x.Knave) => knavesAreLiers(x)(xIsKnave)(xSaysP)(p)\n",
    "            )\n",
    "    \n",
    "    def knaveIfLier[P](x: Inhabitant): x.Says[P] => Not[P] => x.Knave = \n",
    "        xSaysP => notP => eitherKnightOrKnave(x).fold(\n",
    "            xIsKnight => notP(knightsAreTruthTellers(x)(xIsKnight)(xSaysP): P),\n",
    "            identity)\n",
    "}\n",
    "\n",
    "implicit class NotSugar[P](notP: P => Nothing){\n",
    "    def contradicts(p: P): Nothing = \n",
    "        notP(p)\n",
    "}"
   ]
  },
  {
   "cell_type": "markdown",
   "metadata": {},
   "source": [
    "# Problem 2 - The Second Trial.\n",
    "Another suspect was arrested and brought to trial. Here is a transcript of the trial:\n",
    "\n",
    "Craig: The last suspect was a queer bird; he actually claimed to be Arthur York! Did you ever claim to be Arthur York?\n",
    "DEFENDANT: NO.\n",
    "\n",
    "Craig: Did you ever claim that you are not Arthur York?\n",
    "DEFENDANT: Yes.\n",
    "\n",
    "Craig’s first guess was that the defendant was not Arthur York, but are there really sufficient grounds for acquitting him?"
   ]
  },
  {
   "cell_type": "markdown",
   "metadata": {},
   "source": [
    "**SOLUCION**\n",
    "\n",
    "The defendant is either a knight or a knave. \n",
    "\n",
    "Suppose he is a knight. Then his answers were both truthful; in particular, his second answer was truthful, so he did once claim that he is not Arthur York. His claim was true, since he is a knight; thus he is not Arthur York. \n",
    "This proves that if he is a knight, then he is not Arthur York. \n",
    "\n",
    "Suppose he is a knave. Then his answers were both lies; in particular, his first answer was a lie, which means that he did once claim to be Arthur York. But since he is a knave, he lied when he claimed to be Arthur York, hence he is not Arthur York. And so we have proved that if he is a knave, then he is not Arthur York. \n",
    "\n",
    "We now see that regardless of **whether he is a knight or a knave, he cannot be Arthur York.** And so he was acquitted. Incidentally, **it cannot be determined whether he is a knight or a knave.**"
   ]
  },
  {
   "cell_type": "code",
   "execution_count": 25,
   "metadata": {},
   "outputs": [],
   "source": [
    "/*\n",
    "TERCER RAZONAMIENTO\n",
    "\n",
    "(1)Craig: The last suspect was a queer bird; he actually claimed to be Arthur York! Did you ever claim to be Arthur York? \n",
    "DEFENDANT: NO.\n",
    "(2)Craig: Did you ever claim that you are not Arthur York? \n",
    "DEFENDANT: Yes.\n",
    "Craig’s first guess was that the defendant was not Arthur York, but are there really sufficient grounds for acquitting him?\n",
    "\n",
    "De aqui saco que:\n",
    "\n",
    "x = Defendant\n",
    "arthur = Arthur\n",
    "\n",
    "(1) x.Says[Not[x.Says[x.Arthur]]] -> El defendant dice que NO ha dicho que es Arthur York\n",
    "(2) x.Says[x.Says[Not[x.Arthur]]] -> El defendant dice que ha dicho que NO es Arthur York\n",
    "\n",
    "SOLUCION\n",
    "\n",
    "The defendant is either a knight or a knave.\n",
    "Suppose he is a knight: \n",
    "Then his answers were both truthful; in particular, his second answer was truthful, \n",
    "so he did once claim that he is not Arthur York. His claim was true, since he is a knight; thus he is not Arthur York. \n",
    "This proves that if he is a knight, then he is not Arthur York.\n",
    "\n",
    "Suppose he is a knave: \n",
    "Then his answers were both lies; in particular, his first answer was a lie, \n",
    "which means that he did once claim to be Arthur York. But since he is a knave, \n",
    "he lied when he claimed to be Arthur York, hence he is not Arthur York. \n",
    "And so we have proved that if he is a knave, then he is not Arthur York.\n",
    "\n",
    "We now see that regardless of whether he is a knight or a knave, \n",
    "he cannot be Arthur York. And so he was acquitted. \n",
    "Incidentally, it cannot be determined whether he is a knight or a knave.\n",
    "\n",
    "Tanto si es un Knight, como un Knave, lo unico que se puede afirmar es que el defendant NO es Arthur York\n",
    "(1) Si x.Knight -> Not[x.Arthur] \n",
    "(2) Si x.Knave -> Not[x.Arthur]\n",
    "\n",
    "Por tanto:\n",
    "\n",
    "PREDICADO                                                            SOLUCION\n",
    "((x.Says[Not[x.Says[x.Arthur]]], x.Says[x.Says[Not[x.Arthur]]])) => Not[x.Arthur]\n",
    "\n",
    "*/"
   ]
  },
  {
   "cell_type": "code",
   "execution_count": 7,
   "metadata": {
    "scrolled": true
   },
   "outputs": [
    {
     "data": {
      "text/plain": [
       "defined \u001b[32mfunction\u001b[39m \u001b[36mproblem2\u001b[39m"
      ]
     },
     "execution_count": 7,
     "metadata": {},
     "output_type": "execute_result"
    }
   ],
   "source": [
    "def problem2(premises: KnightsKnaves)(x: Inhabitant): \n",
    "    ((x.Says[Not[x.Says[x.Arthur]]], x.Says[x.Says[Not[x.Arthur]]])) => Not[x.Arthur] = ???"
   ]
  },
  {
   "cell_type": "code",
   "execution_count": 28,
   "metadata": {
    "scrolled": false
   },
   "outputs": [
    {
     "data": {
      "text/plain": [
       "defined \u001b[32mfunction\u001b[39m \u001b[36mproblem2\u001b[39m"
      ]
     },
     "execution_count": 28,
     "metadata": {},
     "output_type": "execute_result"
    }
   ],
   "source": [
    "//FINALIZADO OK \n",
    "//Simplificado v3\n",
    "\n",
    "def problem2(premises: KnightsKnaves)(x: Inhabitant): \n",
    "    ((x.Says[Not[x.Says[x.Arthur]]], x.Says[x.Says[Not[x.Arthur]]])) => Not[x.Arthur] = \n",
    "    xSay =>\n",
    "        premises.eitherKnightOrKnave(x).fold(\n",
    "            xIsKnight => {\n",
    "                xIsArthur =>\n",
    "                val xSayxIsNotArthur: x.Says[Not[x.Arthur]] = \n",
    "                    premises.knightsAreTruthTellers[x.Says[Not[x.Arthur]]](x)(xIsKnight)(xSay._2)\n",
    "                val xIsNotArthur: Not[x.Arthur] = \n",
    "                    premises.knightsAreTruthTellers[Not[x.Arthur]](x)(xIsKnight)(xSayxIsNotArthur)\n",
    "                xIsNotArthur(xIsArthur)\n",
    "            },\n",
    "            xIsKnave => {\n",
    "                xIsArthur =>\n",
    "                val xSayxIsArthur: x.Says[x.Arthur] = \n",
    "                    premises.doubleNotSayP[x.Arthur](x)(premises.knavesAreLiers[Not[x.Says[x.Arthur]]](x)(xIsKnave)(xSay._1))\n",
    "                val xIsNotArthur: Not[x.Arthur] = \n",
    "                    premises.knavesAreLiers[x.Arthur](x)(xIsKnave)(xSayxIsArthur)\n",
    "                xIsNotArthur(xIsArthur)                  \n",
    "            }\n",
    "        )"
   ]
  },
  {
   "cell_type": "code",
   "execution_count": null,
   "metadata": {},
   "outputs": [],
   "source": []
  }
 ],
 "metadata": {
  "kernelspec": {
   "display_name": "Scala",
   "language": "scala",
   "name": "scala"
  },
  "language_info": {
   "codemirror_mode": "text/x-scala",
   "file_extension": ".sc",
   "mimetype": "text/x-scala",
   "name": "scala",
   "nbconvert_exporter": "script",
   "version": "2.13.3"
  }
 },
 "nbformat": 4,
 "nbformat_minor": 4
}
