{
 "cells": [
  {
   "cell_type": "code",
   "execution_count": 1,
   "metadata": {},
   "outputs": [
    {
     "data": {
      "text/plain": [
       "defined \u001b[32mtype\u001b[39m \u001b[36m∨\u001b[39m\r\n",
       "defined \u001b[32mtype\u001b[39m \u001b[36m∧\u001b[39m\r\n",
       "defined \u001b[32mtype\u001b[39m \u001b[36m⟶\u001b[39m\r\n",
       "defined \u001b[32mtype\u001b[39m \u001b[36m⊥\u001b[39m\r\n",
       "defined \u001b[32mtype\u001b[39m \u001b[36mTrue\u001b[39m\r\n",
       "defined \u001b[32mtype\u001b[39m \u001b[36m¬\u001b[39m\r\n",
       "defined \u001b[32mtype\u001b[39m \u001b[36m⟷\u001b[39m"
      ]
     },
     "execution_count": 1,
     "metadata": {},
     "output_type": "execute_result"
    }
   ],
   "source": [
    "type ∨[P, Q] = Either[P, Q]\n",
    "type ∧[P, Q] = Tuple2[P, Q]\n",
    "type ⟶[P, Q] = P => Q\n",
    "type ⊥ = Nothing\n",
    "type True = Unit\n",
    "type ¬[P] = P => ⊥\n",
    "type ⟷[P, Q] = (P => Q) ∧ (Q => P)"
   ]
  },
  {
   "cell_type": "code",
   "execution_count": 2,
   "metadata": {
    "scrolled": true
   },
   "outputs": [
    {
     "data": {
      "text/plain": [
       "defined \u001b[32mtype\u001b[39m \u001b[36mOr\u001b[39m\r\n",
       "defined \u001b[32mtype\u001b[39m \u001b[36mAnd\u001b[39m\r\n",
       "defined \u001b[32mtype\u001b[39m \u001b[36mImplies\u001b[39m\r\n",
       "defined \u001b[32mtype\u001b[39m \u001b[36mFalse\u001b[39m\r\n",
       "defined \u001b[32mtype\u001b[39m \u001b[36mTrue\u001b[39m\r\n",
       "defined \u001b[32mtype\u001b[39m \u001b[36mNot\u001b[39m\r\n",
       "defined \u001b[32mtype\u001b[39m \u001b[36m<=>\u001b[39m"
      ]
     },
     "execution_count": 2,
     "metadata": {},
     "output_type": "execute_result"
    }
   ],
   "source": [
    "type Or[P, Q] = Either[P, Q]\n",
    "type And[P, Q] = Tuple2[P, Q]\n",
    "type Implies[P, Q] = P => Q\n",
    "type False = Nothing\n",
    "type True = Unit\n",
    "type Not[P] = P => ⊥\n",
    "type <=>[P, Q] = (P => Q, Q => P)"
   ]
  },
  {
   "cell_type": "code",
   "execution_count": 26,
   "metadata": {},
   "outputs": [
    {
     "data": {
      "text/plain": [
       "defined \u001b[32mclass\u001b[39m \u001b[36mInhabitant\u001b[39m"
      ]
     },
     "execution_count": 26,
     "metadata": {},
     "output_type": "execute_result"
    }
   ],
   "source": [
    "class Inhabitant{ x => \n",
    "    // Knight(x) -- `x` is a Knight\n",
    "    // \n",
    "    type Knight\n",
    "    \n",
    "    // Knave(x) -- `x` is a Knave (i.e. is not a Knight)\n",
    "    // \n",
    "    type Knave = ¬[Knight]\n",
    "    \n",
    "    // Says(x, P) -- `x` says that `P` holds, i.e. asserts proposition `P`\n",
    "    // \n",
    "    type Says[P]\n",
    "    \n",
    "    // Tipo Arthur York\n",
    "    //\n",
    "    type Arthur\n",
    "    \n",
    "    // Being always truthful\n",
    "    type AlwaysTruthful = Knight    \n",
    "}"
   ]
  },
  {
   "cell_type": "code",
   "execution_count": 3,
   "metadata": {},
   "outputs": [
    {
     "data": {
      "text/plain": [
       "defined \u001b[32mclass\u001b[39m \u001b[36mInhabitant\u001b[39m"
      ]
     },
     "execution_count": 3,
     "metadata": {},
     "output_type": "execute_result"
    }
   ],
   "source": [
    "class Inhabitant{ x => \n",
    "    // Knight(x) -- `x` is a Knight\n",
    "    // \n",
    "    type Knight\n",
    "    \n",
    "    // Knave(x) -- `x` is a Knave (i.e. is not a Knight)\n",
    "    // \n",
    "    type Knave = ¬[Knight]\n",
    "    \n",
    "    // Says(x, P) -- `x` says that `P` holds, i.e. asserts proposition `P`\n",
    "    // \n",
    "    type Says[P]\n",
    "    \n",
    "    // Tipo Arthur York\n",
    "    //\n",
    "    type Arthur\n",
    "}"
   ]
  },
  {
   "cell_type": "code",
   "execution_count": 27,
   "metadata": {},
   "outputs": [
    {
     "data": {
      "text/plain": [
       "defined \u001b[32mtrait\u001b[39m \u001b[36mKnightsKnaves\u001b[39m"
      ]
     },
     "execution_count": 27,
     "metadata": {},
     "output_type": "execute_result"
    }
   ],
   "source": [
    "trait KnightsKnaves{\n",
    "    // P1. Inhabitants are knights or knaves\n",
    "    // \n",
    "    //     ∀ x. Inhabitant(x) ⟶ Knight(x) ∨ Knave(x) \n",
    "    // \n",
    "    def P1(x: Inhabitant): x.Knight ∨ x.Knave\n",
    "    \n",
    "    // In Scala 3\n",
    "    // val P1: (x: Inhabitant) => Either[x.Knight, x.Knave]\n",
    "    \n",
    "    // P2. Knights are truth tellers\n",
    "    // \n",
    "    //     ∀ P. ∀ x. Knight(x) ⟶ Says(x, P) ⟶ P\n",
    "    // \n",
    "    def P2[P](x: Inhabitant): x.Knight => x.Says[P] => P\n",
    "    \n",
    "    // In Scala 3\n",
    "    // val P2: [P] => (x: Inhabitant) => x.Knight => x.Says[P] => P\n",
    "    \n",
    "    // P3. Knaves are persistent liers\n",
    "    // \n",
    "    //     ∀ P. ∀ x. Knight(x) ⟶ Says(x, P) ⟶ ¬P\n",
    "    // \n",
    "    def P3[P](x: Inhabitant): x.Knave => x.Says[P] => ¬[P]\n",
    "    \n",
    "    /*P4. Si x dice que es Arthur York, sera un caballero porque dice la verdad - ¿?¿?\n",
    "    def P4[P](x: Inhabitant): x.Arthur => x.Knight\n",
    "    \n",
    "    Tip de Juanma\n",
    "    Si el sujeto es Arthur, entonces si Arthur dice P, quiere decir que el sujeto dice P\n",
    "    def P4_1[P](x: Inhabitant)(arthur: Inhabitant): x.Arthur => arthur.Says[P] => x.Says[P]\n",
    "    \n",
    "    Si el sujeto es Arthur, entonces si Arthur es un Knight, quiere decir que el sujeto es un Knight\n",
    "    def P4_2[P](x: Inhabitant)(arthur: Inhabitant): x.Arthur => arthur.Knight => x.Knight\n",
    "    \n",
    "    */\n",
    "    \n",
    "    //P4. If some inhabitant is actually Arthur York, all that can be proven about Arthur York can be proven about her\n",
    "    val arthur: Inhabitant\n",
    "    \n",
    "    def P4_1[P](x: Inhabitant): x.Arthur => arthur.Says[P] => x.Says[P]\n",
    "    def P4_2(x: Inhabitant): x.Arthur => arthur.Knight => x.Knight\n",
    "    \n",
    "    // P5. Double negation applies to things said\n",
    "    def P5[P](x: Inhabitant): Not[Not[x.Says[P]]] => x.Says[P]\n",
    "    \n",
    "    // P6. Some inhabitant is or is not Arthur York\n",
    "    def P6(x: Inhabitant): x.Arthur Or Not[x.Arthur]  \n",
    "    \n",
    "    // P7. Si x dice la verdad, x es Knight\n",
    "    def P7[P](x: Inhabitant): x.Says[P] => P => x.Knight\n",
    "    \n",
    "    // P8. Si x miente, x es Knave\n",
    "    def P8[P](x: Inhabitant): x.Says[P] => Not[P] => x.Knave\n",
    "    \n",
    "}"
   ]
  },
  {
   "cell_type": "code",
   "execution_count": 4,
   "metadata": {},
   "outputs": [
    {
     "data": {
      "text/plain": [
       "defined \u001b[32mtrait\u001b[39m \u001b[36mKnightsKnaves\u001b[39m"
      ]
     },
     "execution_count": 4,
     "metadata": {},
     "output_type": "execute_result"
    }
   ],
   "source": [
    "trait KnightsKnaves{\n",
    "    // P1. Inhabitants are knights or knaves\n",
    "    // \n",
    "    //     ∀ x. Inhabitant(x) ⟶ Knight(x) ∨ Knave(x) \n",
    "    // \n",
    "    def P1(x: Inhabitant): x.Knight ∨ x.Knave\n",
    "    \n",
    "    // In Scala 3\n",
    "    // val P1: (x: Inhabitant) => Either[x.Knight, x.Knave]\n",
    "    \n",
    "    // P2. Knights are truth tellers\n",
    "    // \n",
    "    //     ∀ P. ∀ x. Knight(x) ⟶ Says(x, P) ⟶ P\n",
    "    // \n",
    "    def P2[P](x: Inhabitant): x.Knight => x.Says[P] => P\n",
    "    \n",
    "    // In Scala 3\n",
    "    // val P2: [P] => (x: Inhabitant) => x.Knight => x.Says[P] => P\n",
    "    \n",
    "    // P3. Knaves are persistent liers\n",
    "    // \n",
    "    //     ∀ P. ∀ x. Knight(x) ⟶ Says(x, P) ⟶ ¬P\n",
    "    // \n",
    "    def P3[P](x: Inhabitant): x.Knave => x.Says[P] => ¬[P]\n",
    "    \n",
    "    //def P4[P](x: Inhabitant)(y: Inhabitant): (x.Knave => y.Knave) ∧ (y.Knave => x.Knave)\n",
    "    //def P4[P](x: Inhabitant)(y: Inhabitant): x.Knave <=> y.Knave \n",
    "    //def P5[P](x: Inhabitant)(y: Inhabitant): (x.Knight => y.Knight) ∧ (y.Knight => x.Knight)\n",
    "    //def P5[P](x: Inhabitant)(y: Inhabitant): x.Knight <=> y.Knight \n",
    "    \n",
    "    // Tip de Juanma\n",
    "    // Si el sujeto es Arthur, entonces si Arthur dice P, quiere decir que el sujeto dice P\n",
    "    def P4_1[P](x: Inhabitant)(arthur: Inhabitant): x.Arthur => arthur.Says[P] => x.Says[P]\n",
    "    // Si el sujeto es Arthur, entonces si Arthur es un Knight, quiere decir que el sujeto es un Knight\n",
    "    def P4_2[P](x: Inhabitant)(arthur: Inhabitant): x.Arthur => arthur.Knight => x.Knight\n",
    "}"
   ]
  },
  {
   "cell_type": "code",
   "execution_count": 28,
   "metadata": {},
   "outputs": [
    {
     "data": {
      "text/plain": [
       "defined \u001b[32mclass\u001b[39m \u001b[36mSomeSugar\u001b[39m\r\n",
       "defined \u001b[32mclass\u001b[39m \u001b[36mNotSugar\u001b[39m"
      ]
     },
     "execution_count": 28,
     "metadata": {},
     "output_type": "execute_result"
    }
   ],
   "source": [
    "implicit class SomeSugar(P: KnightsKnaves){    \n",
    "    def eitherKnightOrKnave(x: Inhabitant): x.Knight Or x.Knave = \n",
    "        P.P1(x)\n",
    "    \n",
    "    def knaveIfNotKnight(x: Inhabitant): Not[x.Knight] => x.Knave = \n",
    "        notXIsKnight => \n",
    "            eitherKnightOrKnave(x).fold(notXIsKnight, identity)\n",
    "    \n",
    "    def knightIfNotKnave(x: Inhabitant): Not[x.Knave] => x.Knight = \n",
    "        notXIsKnave => \n",
    "            eitherKnightOrKnave(x).fold(identity, notXIsKnave)\n",
    "    \n",
    "    def knightsAreTruthTellers[P](x: Inhabitant): x.Knight => x.Says[P] => P = \n",
    "        P.P2[P](x)\n",
    "    \n",
    "    def knavesAreLiers[P](x: Inhabitant): x.Knave => x.Says[P] => Not[P] = \n",
    "        P.P3[P](x)\n",
    "    \n",
    "    def knightIfTruthful[P](x: Inhabitant): x.Says[P] => P => x.Knight = \n",
    "        xSaysP => p => \n",
    "            eitherKnightOrKnave(x).fold(\n",
    "                (xIsKnight: x.Knight) => xIsKnight, \n",
    "                (xIsKnave: x.Knave) => knavesAreLiers(x)(xIsKnave)(xSaysP)(p)\n",
    "            )\n",
    "    \n",
    "    def knaveIfLier[P](x: Inhabitant): x.Says[P] => Not[P] => x.Knave = \n",
    "        xSaysP => notP => eitherKnightOrKnave(x).fold(\n",
    "            xIsKnight => notP(knightsAreTruthTellers(x)(xIsKnight)(xSaysP): P),\n",
    "            identity)\n",
    "}\n",
    "\n",
    "implicit class NotSugar[P](notP: P => Nothing){\n",
    "    def contradicts(p: P): Nothing = \n",
    "        notP(p)\n",
    "}"
   ]
  },
  {
   "cell_type": "code",
   "execution_count": null,
   "metadata": {},
   "outputs": [],
   "source": []
  },
  {
   "cell_type": "markdown",
   "metadata": {},
   "source": [
    "# Problem 3 - The Third Trial.\n",
    "“Don’t despair,” said Craig to the chief of the island police, “we may find our man yet!” \n",
    "Well, a third suspect was arrested and brought to trial. \n",
    "He brought with him his defense attorney, and the two made the following statements in court. \n",
    "\n",
    "Defense Attorney: My client is indeed a knave, but he is not Arthur York. \n",
    "DEFENDANT: My attorney always tells the truth!\n",
    "\n",
    "Is there enough evidence either to acquit or convict the defendant? "
   ]
  },
  {
   "cell_type": "markdown",
   "metadata": {},
   "source": [
    "**SOLUCION**\n",
    "\n",
    "It was very stupid for the defendant to say what he did! Of all the false statements he could have made, he chose just about the most incriminating one possible. Here is why the defendant must be Arthur York:\n",
    "\n",
    "Suppose the defense attorney is a knight. Then his statement is true, which implies that the defendant is a knave. Hence the defendant’s statement is false, which means that the defense attorney is a knave. So if the defense attorney is a knight, he is also a knave, which is impossible.\n",
    "**Therefore the defense attorney can’t be a knight; he must be a knave.** It then follows that **the defendant is also a knave**, since he falsely claimed that his attorney always tells the truth. **And so we now know that both the attorney and the defendant are knaves.**\n",
    "\n",
    "Now, if the defendant were not Arthur York, then it would be true that the defendant is a knave but not Arthur York, hence the attorney would have made a true statement. But the attorney is a knave and can’t make a true statement! \n",
    "**Therefore the defendant must be Arthur York.**\n"
   ]
  },
  {
   "cell_type": "code",
   "execution_count": 28,
   "metadata": {},
   "outputs": [],
   "source": [
    "/*\n",
    "Razonamiento 1:\n",
    "Defense Attorney: My client is indeed a knave, but he is not Arthur York. DEFENDANT: My attorney always tells the truth!\n",
    "\n",
    "Esto seria:\n",
    "\n",
    "x = defendant\n",
    "da = defense attorney\n",
    "          PREDICADO:                                        SOLUCION:\n",
    "((da.Says[(x.Knave, Not[x.Arthur])], x.Says[da.Knight])) => x.Arthur\n",
    "\n",
    "\n",
    "*/"
   ]
  },
  {
   "cell_type": "code",
   "execution_count": 30,
   "metadata": {},
   "outputs": [
    {
     "data": {
      "text/plain": [
       "defined \u001b[32mfunction\u001b[39m \u001b[36mproblem3\u001b[39m"
      ]
     },
     "execution_count": 30,
     "metadata": {},
     "output_type": "execute_result"
    }
   ],
   "source": [
    "def problem3(premises: KnightsKnaves)(x: Inhabitant)(da: Inhabitant): \n",
    "    ((da.Says[(x.Knave, Not[x.Arthur])], x.Says[da.Knight])) => x.Arthur = ???"
   ]
  },
  {
   "cell_type": "code",
   "execution_count": 35,
   "metadata": {},
   "outputs": [
    {
     "data": {
      "text/plain": [
       "defined \u001b[32mfunction\u001b[39m \u001b[36mproblem3\u001b[39m"
      ]
     },
     "execution_count": 35,
     "metadata": {},
     "output_type": "execute_result"
    }
   ],
   "source": [
    "def problem3(premises: KnightsKnaves)(x: Inhabitant)(da: Inhabitant): \n",
    "    ((da.Says[(x.Knave, Not[x.Arthur])], x.Says[da.Knight])) => x.Arthur = \n",
    "    ({t: ((da.Says[(x.Knave, Not[x.Arthur])], x.Says[da.Knight])) =>\n",
    "        t._1: da.Says[(x.Knave, Not[x.Arthur])]\n",
    "        t._2: x.Says[da.Knight]\n",
    "        \n",
    "        //Creamos una funcion en base a la solucion del predicado\n",
    "        val xIsArthur: x.Arthur = ???\n",
    "        \n",
    "        //Suppose the defense attorney is a knight.\n",
    "        val daIsKnight: da.Knight = ???\n",
    "        \n",
    "        //Then his statement is true, which implies that the defendant is a knave. \n",
    "        val daSayTrue: da.Says[x.Knave] = ???\n",
    "        \n",
    "        //Hence the defendant’s statement is false, which means that the defense attorney is a knave.\n",
    "        val xSayLie: x.Says[da.Knave] = ???\n",
    "        \n",
    "        //So if the defense attorney is a knight, he is also a knave, which is impossible. \n",
    "        //Therefore the defense attorney can’t be a knight; he must be a knave.\n",
    "        val daIsKnave: da.Knave = ???\n",
    "        \n",
    "        \n",
    "        //It then follows that the defendant is also a knave, since he falsely claimed that his attorney \n",
    "        //always tells the truth. And so we now know that both the attorney and the defendant are knaves.\n",
    "        val xKnave_daKnave: ((x.Knave, da.Knave)) = ???\n",
    "        \n",
    "        //Now, if the defendant were not Arthur York\n",
    "        val xIsNotArthur: x.Arthur => Nothing = ???\n",
    "        \n",
    "        //then it would be true that the defendant is a knave but not Arthur York, \n",
    "        //hence the attorney would have made a true statement. \n",
    "        val xIsKnave_xIsNotArthur: ((x.Knave, Not[x.Arthur])) = ???\n",
    "        \n",
    "        \n",
    "        //But the attorney is a knave and can’t make a true statement! Therefore the defendant must be Arthur York.\n",
    "        xIsArthur : x.Arthur\n",
    "        \n",
    "    }): (((da.Says[(x.Knave, Not[x.Arthur])], x.Says[da.Knight])) => x.Arthur)\n",
    "    "
   ]
  },
  {
   "cell_type": "code",
   "execution_count": null,
   "metadata": {},
   "outputs": [],
   "source": []
  }
 ],
 "metadata": {
  "kernelspec": {
   "display_name": "Scala",
   "language": "scala",
   "name": "scala"
  },
  "language_info": {
   "codemirror_mode": "text/x-scala",
   "file_extension": ".sc",
   "mimetype": "text/x-scala",
   "name": "scala",
   "nbconvert_exporter": "script",
   "version": "2.13.3"
  }
 },
 "nbformat": 4,
 "nbformat_minor": 4
}
