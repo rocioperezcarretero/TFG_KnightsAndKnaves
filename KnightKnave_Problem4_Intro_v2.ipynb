{
 "cells": [
  {
   "cell_type": "code",
   "execution_count": 1,
   "metadata": {},
   "outputs": [
    {
     "data": {
      "text/plain": [
       "defined \u001b[32mtype\u001b[39m \u001b[36m∨\u001b[39m\r\n",
       "defined \u001b[32mtype\u001b[39m \u001b[36m∧\u001b[39m\r\n",
       "defined \u001b[32mtype\u001b[39m \u001b[36m⟶\u001b[39m\r\n",
       "defined \u001b[32mtype\u001b[39m \u001b[36m⊥\u001b[39m\r\n",
       "defined \u001b[32mtype\u001b[39m \u001b[36mTrue\u001b[39m\r\n",
       "defined \u001b[32mtype\u001b[39m \u001b[36m¬\u001b[39m"
      ]
     },
     "execution_count": 1,
     "metadata": {},
     "output_type": "execute_result"
    }
   ],
   "source": [
    "type ∨[P, Q] = Either[P, Q]\n",
    "type ∧[P, Q] = Tuple2[P, Q]\n",
    "type ⟶[P, Q] = P => Q\n",
    "type ⊥ = Nothing\n",
    "type True = Unit\n",
    "type ¬[P] = P => ⊥"
   ]
  },
  {
   "cell_type": "code",
   "execution_count": 2,
   "metadata": {},
   "outputs": [
    {
     "data": {
      "text/plain": [
       "defined \u001b[32mtype\u001b[39m \u001b[36mOr\u001b[39m\r\n",
       "defined \u001b[32mtype\u001b[39m \u001b[36mAnd\u001b[39m\r\n",
       "defined \u001b[32mtype\u001b[39m \u001b[36mImplies\u001b[39m\r\n",
       "defined \u001b[32mtype\u001b[39m \u001b[36mFalse\u001b[39m\r\n",
       "defined \u001b[32mtype\u001b[39m \u001b[36mTrue\u001b[39m\r\n",
       "defined \u001b[32mtype\u001b[39m \u001b[36mNot\u001b[39m"
      ]
     },
     "execution_count": 2,
     "metadata": {},
     "output_type": "execute_result"
    }
   ],
   "source": [
    "type Or[P, Q] = Either[P, Q]\n",
    "type And[P, Q] = Tuple2[P, Q]\n",
    "type Implies[P, Q] = P => Q\n",
    "type False = Nothing\n",
    "type True = Unit\n",
    "type Not[P] = P => ⊥"
   ]
  },
  {
   "cell_type": "code",
   "execution_count": 3,
   "metadata": {},
   "outputs": [
    {
     "data": {
      "text/plain": [
       "defined \u001b[32mclass\u001b[39m \u001b[36mInhabitant\u001b[39m"
      ]
     },
     "execution_count": 3,
     "metadata": {},
     "output_type": "execute_result"
    }
   ],
   "source": [
    "class Inhabitant{ x => \n",
    "    // Knight(x) -- `x` is a Knight\n",
    "    // \n",
    "    type Knight\n",
    "    \n",
    "    // Knave(x) -- `x` is a Knave (i.e. is not a Knight)\n",
    "    // \n",
    "    type Knave = ¬[Knight]\n",
    "    \n",
    "    // Says(x, P) -- `x` says that `P` holds, i.e. asserts proposition `P`\n",
    "    // \n",
    "    type Says[P]\n",
    "}"
   ]
  },
  {
   "cell_type": "code",
   "execution_count": 4,
   "metadata": {},
   "outputs": [
    {
     "data": {
      "text/plain": [
       "defined \u001b[32mtrait\u001b[39m \u001b[36mKnightsKnaves\u001b[39m"
      ]
     },
     "execution_count": 4,
     "metadata": {},
     "output_type": "execute_result"
    }
   ],
   "source": [
    "trait KnightsKnaves{\n",
    "    // P1. Inhabitants are knights or knaves\n",
    "    // \n",
    "    //     ∀ x. Inhabitant(x) ⟶ Knight(x) ∨ Knave(x) \n",
    "    // \n",
    "    def P1(x: Inhabitant): x.Knight ∨ x.Knave\n",
    "    \n",
    "    // In Scala 3\n",
    "    // val P1: (x: Inhabitant) => Either[x.Knight, x.Knave]\n",
    "    \n",
    "    // P2. Knights are truth tellers\n",
    "    // \n",
    "    //     ∀ P. ∀ x. Knight(x) ⟶ Says(x, P) ⟶ P\n",
    "    // \n",
    "    def P2[P](x: Inhabitant): x.Knight => x.Says[P] => P\n",
    "    \n",
    "    // In Scala 3\n",
    "    // val P2: [P] => (x: Inhabitant) => x.Knight => x.Says[P] => P\n",
    "    \n",
    "    // P3. Knaves are persistent liers\n",
    "    // \n",
    "    //     ∀ P. ∀ x. Knight(x) ⟶ Says(x, P) ⟶ ¬P\n",
    "    // \n",
    "    def P3[P](x: Inhabitant): x.Knave => x.Says[P] => ¬[P]\n",
    "}"
   ]
  },
  {
   "cell_type": "markdown",
   "metadata": {},
   "source": [
    "# Puzzle 1 - Ejemplo.\n",
    "Is it possible for any inhabitant of this island to claim that he is a knave?\n",
    "\n",
    "\n",
    "No; no inhabitant can claim to be a knave because no knight would lie and say he is a knave and no knave would truthfully admit to being a knave."
   ]
  },
  {
   "cell_type": "code",
   "execution_count": 5,
   "metadata": {},
   "outputs": [
    {
     "data": {
      "text/plain": [
       "defined \u001b[32mfunction\u001b[39m \u001b[36mpuzzle1\u001b[39m"
      ]
     },
     "execution_count": 5,
     "metadata": {},
     "output_type": "execute_result"
    }
   ],
   "source": [
    "// { P1, P2, P3 } ⊢ ∀ x. Inhabitant(x) ⟶ ¬Says(x, Knave(x))\n",
    "\n",
    "def puzzle1(premises: KnightsKnaves)(x: Inhabitant): ¬[x.Says[x.Knave]] = \n",
    "    // 1. Says(x, Knave(x))                                       ; hypothesis\n",
    "    ((_1: x.Says[x.Knave]) => \n",
    "         (premises.P1(x) match {\n",
    "             // 2. Knight(x)                                      ; hypothesis\n",
    "             case Left(_2: x.Knight) => \n",
    "                 //   3. Knight(x) → Says(x, Knave(x)) → Knave(x) ; P2[Knave(x),x]\n",
    "                 val _3: x.Knight => x.Says[x.Knave] => x.Knave = premises.P2[x.Knave](x)\n",
    "                 //   4. Says(x, Knave(x)) → Knave(x)             ; ⟶E(3,2)\n",
    "                 val _4: x.Says[x.Knave] => x.Knave = _3(_2)\n",
    "                 //   5. Knave(x)                                 ; ⟶E(4,1)\n",
    "                 //   5. ¬ Knight(x)                              ; ≝ Knave\n",
    "                 //   5. Knight(x) → ⊥                            ; ≝ ¬ \n",
    "                 val _5: x.Knight => ⊥ = _4(_1)\n",
    "                 //   6. ⊥                                        ; ⟶E(5,2)\n",
    "                 _5(_2) : ⊥\n",
    "\n",
    "             //  _7. Knave(x)                                     ; hypothesis\n",
    "             case Right(_7: x.Knave) => \n",
    "                 //   8. Knave(x) → Says(x, Knave(x)) → ¬ Knave(x) ; P3[Knave(x),x]\n",
    "                 val _8: x.Knave => x.Says[x.Knave] => ¬[x.Knave] = premises.P3[x.Knave](x)\n",
    "                 //   9. Says(x, Knave(x)) → ¬ Knave(x)            ; ⟶E(8,7)\n",
    "                 val _9: x.Says[x.Knave] => ¬[x.Knave] = _8(_7)\n",
    "                 //   10. ¬ Knave(x)                               ; ⟶E(9,1)\n",
    "                 //   10. Knave(x) → ⊥                             ; ≝ ¬ \n",
    "                 val _10: x.Knave => ⊥ = _9(_1)\n",
    "                 //  11. ⊥                                         ; ⟶E(10,7)\n",
    "                 _10(_7) : ⊥\n",
    "\n",
    "        // _12. ⊥                                                  ; ∨E(P1, 2-6, 7-11)\n",
    "        }) : False\n",
    "\n",
    "    // _13. Says(x, Knave(x)) ⟶ ⊥                                  ; ⟶I(1-12)\n",
    "    // _13. ¬ Says(x, Knave(x))                                    ; ≝ ¬ \n",
    "    ) : ¬[x.Says[x.Knave]]"
   ]
  },
  {
   "cell_type": "code",
   "execution_count": 6,
   "metadata": {},
   "outputs": [
    {
     "data": {
      "text/plain": [
       "defined \u001b[32mfunction\u001b[39m \u001b[36mpuzzle1\u001b[39m"
      ]
     },
     "execution_count": 6,
     "metadata": {},
     "output_type": "execute_result"
    }
   ],
   "source": [
    "// { P1, P2, P3 } ⊢ ∀ x. Inhabitant(x) ⟶ ¬Says(x, Knave(x))\n",
    "\n",
    "def puzzle1(premises: KnightsKnaves)(x: Inhabitant): x.Says[x.Knave] => Nothing =\n",
    "    // 1. Says(x, Knave(x))                                       ; hypothesis\n",
    "    ((_1: x.Says[x.Knave]) => \n",
    "         (premises.P1(x) match {\n",
    "             // 2. Knight(x)                                      ; hypothesis\n",
    "             case Left(_2: x.Knight) => \n",
    "                 //   3. Knight(x) → Says(x, Knave(x)) → Knave(x) ; P2[Knave(x),x]\n",
    "                 val _3: x.Knight => x.Says[x.Knave] => x.Knave = premises.P2[x.Knave](x)\n",
    "                 //   4. Says(x, Knave(x)) → Knave(x)             ; ⟶E(3,2)\n",
    "                 val _4: x.Says[x.Knave] => x.Knave = _3(_2)\n",
    "                 //   5. Knave(x)                                 ; ⟶E(4,1)\n",
    "                 //   5. ¬ Knight(x)                              ; ≝ Knave\n",
    "                 //   5. Knight(x) → ⊥                            ; ≝ ¬ \n",
    "                 val _5: x.Knight => ⊥ = _4(_1)\n",
    "                 //   6. ⊥                                        ; ⟶E(5,2)\n",
    "                 _5(_2) : ⊥\n",
    "\n",
    "             //  _7. Knave(x)                                     ; hypothesis\n",
    "             case Right(_7: x.Knave) => \n",
    "                 //   8. Knave(x) → Says(x, Knave(x)) → ¬ Knave(x) ; P3[Knave(x),x]\n",
    "                 val _8: x.Knave => x.Says[x.Knave] => ¬[x.Knave] = premises.P3[x.Knave](x)\n",
    "                 //   9. Says(x, Knave(x)) → ¬ Knave(x)            ; ⟶E(8,7)\n",
    "                 val _9: x.Says[x.Knave] => ¬[x.Knave] = _8(_7)\n",
    "                 //   10. ¬ Knave(x)                               ; ⟶E(9,1)\n",
    "                 //   10. Knave(x) → ⊥                             ; ≝ ¬ \n",
    "                 val _10: x.Knave => ⊥ = _9(_1)\n",
    "                 //  11. ⊥                                         ; ⟶E(10,7)\n",
    "                 _10(_7) : ⊥\n",
    "\n",
    "        // _12. ⊥                                                  ; ∨E(P1, 2-6, 7-11)\n",
    "        }) : False\n",
    "\n",
    "    // _13. Says(x, Knave(x)) ⟶ ⊥                                  ; ⟶I(1-12)\n",
    "    // _13. ¬ Says(x, Knave(x))                                    ; ≝ ¬ \n",
    "    ) : ¬[x.Says[x.Knave]]"
   ]
  },
  {
   "cell_type": "code",
   "execution_count": 7,
   "metadata": {},
   "outputs": [
    {
     "data": {
      "text/plain": [
       "defined \u001b[32mclass\u001b[39m \u001b[36mSomeSugar\u001b[39m"
      ]
     },
     "execution_count": 7,
     "metadata": {},
     "output_type": "execute_result"
    }
   ],
   "source": [
    "implicit class SomeSugar(P: KnightsKnaves){    \n",
    "    def eitherKnightOrKnave(x: Inhabitant): x.Knight Or x.Knave = P.P1(x)\n",
    "    def knightsAreTruthTellers[P](x: Inhabitant) = P.P2[P](x)\n",
    "    def knavesAreLiers[P](x: Inhabitant) = P.P3[P](x)\n",
    "    \n",
    "    def noKnightLies[P](x: Inhabitant): x.Knight => x.Says[Not[P]] => P => False = \n",
    "        xIsKnight => xSaysNotP => p => \n",
    "            P.P2[Not[P]](x)(xIsKnight)(xSaysNotP)(p)\n",
    "    \n",
    "    def noKnaveTellsTruth[P](x: Inhabitant): x.Knave => x.Says[P] => P => False = \n",
    "        xIsKnave => xSaysP => p => \n",
    "            P.P3[P](x)(xIsKnave)(xSaysP)(p)\n",
    "}"
   ]
  },
  {
   "cell_type": "code",
   "execution_count": 8,
   "metadata": {},
   "outputs": [
    {
     "data": {
      "text/plain": [
       "defined \u001b[32mfunction\u001b[39m \u001b[36mpuzzle1\u001b[39m"
      ]
     },
     "execution_count": 8,
     "metadata": {},
     "output_type": "execute_result"
    }
   ],
   "source": [
    "// { P1, P2, P3 } ⊢ ∀ x. Inhabitant(x) ⟶ ¬ Says(x, Knave(x))\n",
    "\n",
    "def puzzle1(premises: KnightsKnaves)(x: Inhabitant): Not[x.Says[x.Knave]] =\n",
    "    xSaysIsKnave =>\n",
    "        premises.eitherKnightOrKnave(x).fold(\n",
    "            xIsKnight => \n",
    "                // no knight would lie\n",
    "                premises.noKnightLies(x)(xIsKnight)(xSaysIsKnave)(xIsKnight),\n",
    "            xIsKnave => \n",
    "                // no knave would tell the truth\n",
    "                premises.noKnaveTellsTruth(x)(xIsKnave)(xSaysIsKnave)(xIsKnave)\n",
    "        )"
   ]
  },
  {
   "cell_type": "markdown",
   "metadata": {},
   "source": [
    "# Puzzles Introducción\n",
    "\n",
    "Primero se consideran 5 preguntas que servirán como introduccion a la logica \n",
    "knight-knave para aquellos que no estén familiarizados con ella y como un\n",
    "breve curso recordatorio para los que lo están."
   ]
  },
  {
   "cell_type": "markdown",
   "metadata": {},
   "source": [
    "#### 4. Suppose A instead says: \"Exactly one of us is a knave.\" What can be deduced about A and what can be deduced about B?\n",
    "\n",
    "A is saying that exactly one of the persons A and B is a knave. If A is a knight, his statement is true, exactly one is a knave, and so B is a knave. If A is a knave, his statement is false, hence B must again be a knave, because if B were a knight, then it would be true that exactly one is a knave! And\n",
    "so regardless of whether A is a knight or a knave, B is a knave.\n",
    "As for A, his type cannot be determined; he could be either a knight or a knave."
   ]
  },
  {
   "cell_type": "code",
   "execution_count": 9,
   "metadata": {},
   "outputs": [
    {
     "data": {
      "text/plain": [
       "defined \u001b[32mfunction\u001b[39m \u001b[36mpuzzle4\u001b[39m"
      ]
     },
     "execution_count": 9,
     "metadata": {},
     "output_type": "execute_result"
    }
   ],
   "source": [
    "def puzzle4(premises: KnightsKnaves)(x: Inhabitant)(y: Inhabitant): \n",
    "    x.Says[Either[(x.Knave,y.Knight),(x.Knight,y.Knave)]] => (Either[x.Knave, x.Knight],y.Knave) = ???\n",
    "    /* Exactamente uno de los dos es Knave (o uno u otro):\n",
    "    1.- X es Knave\n",
    "    2.- Y es Knave\n",
    "    \n",
    "    */"
   ]
  },
  {
   "cell_type": "code",
   "execution_count": 10,
   "metadata": {},
   "outputs": [
    {
     "data": {
      "text/plain": [
       "defined \u001b[32mfunction\u001b[39m \u001b[36mpuzzle4\u001b[39m"
      ]
     },
     "execution_count": 10,
     "metadata": {},
     "output_type": "execute_result"
    }
   ],
   "source": [
    "def puzzle4(premises: KnightsKnaves)(x: Inhabitant)(y: Inhabitant): \n",
    "    x.Says[Either[(x.Knave,y.Knight),(x.Knight,y.Knave)]] => (Either[x.Knave, x.Knight],y.Knave) = ???\n",
    "    "
   ]
  },
  {
   "cell_type": "code",
   "execution_count": 11,
   "metadata": {},
   "outputs": [
    {
     "data": {
      "text/plain": [
       "defined \u001b[32mfunction\u001b[39m \u001b[36mpuzzle4\u001b[39m"
      ]
     },
     "execution_count": 11,
     "metadata": {},
     "output_type": "execute_result"
    }
   ],
   "source": [
    "// VERSION 1\n",
    "\n",
    "def puzzle4(premises: KnightsKnaves)(x: Inhabitant)(y: Inhabitant): \n",
    "    x.Says[Either[(x.Knave,y.Knight),(x.Knight,y.Knave)]] => (Either[x.Knave, x.Knight],y.Knave) = \n",
    "    ({xSay: x.Says[Either[(x.Knave,y.Knight),(x.Knight,y.Knave)]] =>\n",
    "        (premises.P1(x) match{\n",
    "            case Left(xKnight: x.Knight) => \n",
    "                // def P2[P](x: Inhabitant): x.Knight => x.Says[P] => P\n",
    "                val x_1L: x.Knight => \n",
    "                            x.Says[Either[(x.Knave,y.Knight),(x.Knight,y.Knave)]] => \n",
    "                                Either[(x.Knave,y.Knight),(x.Knight,y.Knave)] = premises.P2[Either[(x.Knave,y.Knight),(x.Knight,y.Knave)]](x)\n",
    "                \n",
    "                val x_2L: x.Says[Either[(x.Knave,y.Knight),(x.Knight,y.Knave)]] => \n",
    "                                Either[(x.Knave,y.Knight),(x.Knight,y.Knave)] = x_1L(xKnight)\n",
    "                val x_3L: Either[(x.Knave,y.Knight),(x.Knight,y.Knave)] = x_2L(xSay)\n",
    "                \n",
    "                (x_3L match{\n",
    "                    case Left(x_3L_left: (x.Knave,y.Knight)) => \n",
    "                        val x_3L_left_not: x.Knight => Nothing = x_3L_left._1\n",
    "                        //Funcionan ambas versiones\n",
    "                        //(Right(xKnight), x_3L_left_contradiccion(xKnight) : y.Knave) : (Either[x.Knave, x.Knight],y.Knave)\n",
    "                        (Left(x_3L_left._1):Either[x.Knave, x.Knight], x_3L_left_not(xKnight) : y.Knave) : (Either[x.Knave, x.Knight],y.Knave)\n",
    "                    case Right(x_3L_right: (x.Knight,y.Knave)) => \n",
    "                        (Right(x_3L_right._1):Either[x.Knave, x.Knight], x_3L_right._2 : y.Knave) : (Either[x.Knave, x.Knight],y.Knave)\n",
    "               \n",
    "                }) : (Either[x.Knave, x.Knight],y.Knave)\n",
    "            \n",
    "            case Right(xKnave: x.Knave) => \n",
    "                //def P3[P](x: Inhabitant): x.Knave => x.Says[P] => ¬[P]\n",
    "                val x_1R: x.Knave => \n",
    "                            x.Says[Either[(x.Knave,y.Knight),(x.Knight,y.Knave)]] => \n",
    "                                ¬[Either[(x.Knave,y.Knight),(x.Knight,y.Knave)]] = premises.P3[Either[(x.Knave,y.Knight),(x.Knight,y.Knave)]](x)\n",
    "                val x_2R: x.Says[Either[(x.Knave,y.Knight),(x.Knight,y.Knave)]] => \n",
    "                                ¬[Either[(x.Knave,y.Knight),(x.Knight,y.Knave)]] = x_1R(xKnave)\n",
    "                val x_3R: Either[(x.Knave,y.Knight),(x.Knight,y.Knave)] => Nothing = x_2R(xSay)\n",
    "            \n",
    "                x_4R: Either[(x.Knave,y.Knight),(x.Knight,y.Knave)] =>\n",
    "                    (x_4R match{\n",
    "                        case Left(_) => \n",
    "                            (Left(xKnave), x_3R(x_4R)) : (Either[x.Knave, x.Knight],y.Knave)\n",
    "                            // O devolveria un Nothing?:\n",
    "                            // x_3R(x_4R) : Nothing\n",
    "                        case Right(_) => \n",
    "                            (Left(xKnave), x_3R(x_4R)) : (Either[x.Knave, x.Knight],y.Knave)\n",
    "                            // O devolveria un Nothing?:\n",
    "                            // x_3R(x_4R) : Nothing\n",
    "                    }) : (Either[x.Knave, x.Knight],y.Knave) // O devolveria un Nothing?\n",
    "            \n",
    "                (Left(xKnave), x_3R(x_4R)) : (Either[x.Knave, x.Knight],y.Knave)\n",
    "                // ¿Porqué teniendo ya algo de tipo (Either[x.Knave, x.Knight],y.Knave) no puedo quitar las ultimas ??? ?\n",
    "        })\n",
    "    \n",
    "    ??? : (Either[x.Knave, x.Knight],y.Knave)})\n",
    "    "
   ]
  },
  {
   "cell_type": "code",
   "execution_count": 12,
   "metadata": {},
   "outputs": [
    {
     "data": {
      "text/plain": [
       "defined \u001b[32mfunction\u001b[39m \u001b[36mpuzzle4\u001b[39m"
      ]
     },
     "execution_count": 12,
     "metadata": {},
     "output_type": "execute_result"
    }
   ],
   "source": [
    "//SIMPLIFICADO VERSION 1\n",
    "def puzzle4(premises: KnightsKnaves)(x: Inhabitant)(y: Inhabitant): \n",
    "    x.Says[Either[(x.Knave,y.Knight),(x.Knight,y.Knave)]] => (Either[x.Knave, x.Knight],y.Knave) = \n",
    "    (premises.P1(x) match{\n",
    "        case Left(xKnight) =>\n",
    "            xsayL => \n",
    "                val x_1L: x.Knight => \n",
    "                            x.Says[Either[(x.Knave,y.Knight),(x.Knight,y.Knave)]] => \n",
    "                                Either[(x.Knave,y.Knight),(x.Knight,y.Knave)] = premises.P2[Either[(x.Knave,y.Knight),(x.Knight,y.Knave)]](x)\n",
    "                val x_2L: x.Says[Either[(x.Knave,y.Knight),(x.Knight,y.Knave)]] => \n",
    "                                Either[(x.Knave,y.Knight),(x.Knight,y.Knave)] = x_1L(xKnight)\n",
    "                val x_3L: Either[(x.Knave,y.Knight),(x.Knight,y.Knave)] = x_2L(xsayL)\n",
    "                \n",
    "                (x_3L match{\n",
    "                    case Left(x_3L_left) => \n",
    "                        val x_3L_left_contradiccion: x.Knight => Nothing = x_3L_left._1\n",
    "                        (Left(x_3L_left._1), x_3L_left_contradiccion(xKnight))\n",
    "                    case Right(x_3L_right) => \n",
    "                        (Right(x_3L_right._1), x_3L_right._2)\n",
    "               \n",
    "                }) : (Either[x.Knave, x.Knight],y.Knave)\n",
    "        \n",
    "        case Right(xKnave) =>\n",
    "            xsayR => \n",
    "                val x_1R: x.Knave => \n",
    "                            x.Says[Either[(x.Knave,y.Knight),(x.Knight,y.Knave)]] => \n",
    "                                Not[Either[(x.Knave,y.Knight),(x.Knight,y.Knave)]] = premises.P3[Either[(x.Knave,y.Knight),(x.Knight,y.Knave)]](x)\n",
    "                val x_2R: x.Says[Either[(x.Knave,y.Knight),(x.Knight,y.Knave)]] => \n",
    "                                Not[Either[(x.Knave,y.Knight),(x.Knight,y.Knave)]] = x_1R(xKnave)\n",
    "                val x_3R: Either[(x.Knave,y.Knight),(x.Knight,y.Knave)] => Nothing = x_2R(xsayR) \n",
    "                                           \n",
    "                {x_4R: Either[(x.Knave,y.Knight),(x.Knight,y.Knave)] => \n",
    "                    (x_4R match{\n",
    "                        case Left(x_4R_left) => \n",
    "                            x_3R(x_4R) : Nothing\n",
    "                        case Right(x_4R_right) => \n",
    "                            val x_4R_right_contradiccion: x.Knight => Nothing = xKnave\n",
    "                            x_4R_right_contradiccion(x_4R_right._1): Nothing\n",
    "                            \n",
    "                    }) : Nothing}\n",
    "            // No puedo sacar este valor. ¿Donde esta el error?\n",
    "            ??? : (Either[x.Knave, x.Knight],y.Knave)\n",
    "    }): (x.Says[Either[(x.Knave,y.Knight),(x.Knight,y.Knave)]] => (Either[x.Knave, x.Knight],y.Knave))\n",
    "    "
   ]
  },
  {
   "cell_type": "code",
   "execution_count": null,
   "metadata": {},
   "outputs": [],
   "source": []
  },
  {
   "cell_type": "code",
   "execution_count": null,
   "metadata": {},
   "outputs": [],
   "source": []
  },
  {
   "cell_type": "code",
   "execution_count": 13,
   "metadata": {},
   "outputs": [
    {
     "data": {
      "text/plain": [
       "defined \u001b[32mfunction\u001b[39m \u001b[36mpuzzle4\u001b[39m"
      ]
     },
     "execution_count": 13,
     "metadata": {},
     "output_type": "execute_result"
    }
   ],
   "source": [
    "// VERSION 2\n",
    "\n",
    "def puzzle4(premises: KnightsKnaves)(x: Inhabitant)(y: Inhabitant): \n",
    "    x.Says[Either[(x.Knave,y.Knight),(x.Knight,y.Knave)]] => (Either[x.Knave, x.Knight],y.Knave) = \n",
    "    ({xSay: x.Says[Either[(x.Knave,y.Knight),(x.Knight,y.Knave)]] =>\n",
    "        (premises.P1(x) match{\n",
    "            case Left(xKnight: x.Knight) => \n",
    "                // def P2[P](x: Inhabitant): x.Knight => x.Says[P] => P\n",
    "                val x_1L: x.Knight => \n",
    "                            x.Says[Either[(x.Knave,y.Knight),(x.Knight,y.Knave)]] => \n",
    "                                Either[(x.Knave,y.Knight),(x.Knight,y.Knave)] = premises.P2[Either[(x.Knave,y.Knight),(x.Knight,y.Knave)]](x)\n",
    "                \n",
    "                val x_2L: x.Says[Either[(x.Knave,y.Knight),(x.Knight,y.Knave)]] => \n",
    "                                Either[(x.Knave,y.Knight),(x.Knight,y.Knave)] = x_1L(xKnight)\n",
    "                val x_3L: Either[(x.Knave,y.Knight),(x.Knight,y.Knave)] = x_2L(xSay)\n",
    "                \n",
    "                (x_3L match{\n",
    "                    case Left(x_3L_left: (x.Knave,y.Knight)) => \n",
    "                        val x_3L_left_not: x.Knight => Nothing = x_3L_left._1\n",
    "                        //Funcionan ambas versiones\n",
    "                        //(Right(xKnight), x_3L_left_contradiccion(xKnight) : y.Knave) : (Either[x.Knave, x.Knight],y.Knave)\n",
    "                        (Left(x_3L_left._1):Either[x.Knave, x.Knight], x_3L_left_not(xKnight) : y.Knave) : (Either[x.Knave, x.Knight],y.Knave)\n",
    "                    case Right(x_3L_right: (x.Knight,y.Knave)) => \n",
    "                        (Right(x_3L_right._1):Either[x.Knave, x.Knight], x_3L_right._2 : y.Knave) : (Either[x.Knave, x.Knight],y.Knave)\n",
    "               \n",
    "                }) : (Either[x.Knave, x.Knight],y.Knave)\n",
    "            \n",
    "            case Right(xKnave: x.Knave) => \n",
    "                //def P3[P](x: Inhabitant): x.Knave => x.Says[P] => ¬[P]\n",
    "                val x_1R: x.Knave => \n",
    "                            x.Says[Either[(x.Knave,y.Knight),(x.Knight,y.Knave)]] => \n",
    "                                ¬[Either[(x.Knave,y.Knight),(x.Knight,y.Knave)]] = premises.P3[Either[(x.Knave,y.Knight),(x.Knight,y.Knave)]](x)\n",
    "                val x_2R: x.Says[Either[(x.Knave,y.Knight),(x.Knight,y.Knave)]] => \n",
    "                                ¬[Either[(x.Knave,y.Knight),(x.Knight,y.Knave)]] = x_1R(xKnave)\n",
    "                val x_3R: Either[(x.Knave,y.Knight),(x.Knight,y.Knave)] => Nothing = x_2R(xSay)\n",
    "            \n",
    "                x_3R(Left(xKnave: x.Knave, ??? : y.Knight)): Nothing\n",
    "            \n",
    "            ??? : (Either[x.Knave, x.Knight],y.Knave)\n",
    "                \n",
    "        }) : (Either[x.Knave, x.Knight],y.Knave)})\n",
    "    "
   ]
  },
  {
   "cell_type": "code",
   "execution_count": 14,
   "metadata": {},
   "outputs": [
    {
     "data": {
      "text/plain": [
       "defined \u001b[32mfunction\u001b[39m \u001b[36mpuzzle4\u001b[39m"
      ]
     },
     "execution_count": 14,
     "metadata": {},
     "output_type": "execute_result"
    }
   ],
   "source": [
    "// VERSION 2\n",
    "\n",
    "def puzzle4(premises: KnightsKnaves)(x: Inhabitant)(y: Inhabitant): \n",
    "    x.Says[Either[(x.Knave,y.Knight),(x.Knight,y.Knave)]] => (Either[x.Knave, x.Knight],y.Knave) = \n",
    "    ({xSay: x.Says[Either[(x.Knave,y.Knight),(x.Knight,y.Knave)]] =>\n",
    "        (premises.P1(x) match{\n",
    "            case Left(xKnight: x.Knight) => \n",
    "                // def P2[P](x: Inhabitant): x.Knight => x.Says[P] => P\n",
    "                val x_1L: x.Knight => \n",
    "                            x.Says[Either[(x.Knave,y.Knight),(x.Knight,y.Knave)]] => \n",
    "                                Either[(x.Knave,y.Knight),(x.Knight,y.Knave)] = premises.P2[Either[(x.Knave,y.Knight),(x.Knight,y.Knave)]](x)\n",
    "                \n",
    "                val x_2L: x.Says[Either[(x.Knave,y.Knight),(x.Knight,y.Knave)]] => \n",
    "                                Either[(x.Knave,y.Knight),(x.Knight,y.Knave)] = x_1L(xKnight)\n",
    "                val x_3L: Either[(x.Knave,y.Knight),(x.Knight,y.Knave)] = x_2L(xSay)\n",
    "                \n",
    "                (x_3L match{\n",
    "                    case Left(x_3L_left: (x.Knave,y.Knight)) => \n",
    "                        val x_3L_left_not: x.Knight => Nothing = x_3L_left._1\n",
    "                        //Funcionan ambas versiones\n",
    "                        //(Right(xKnight), x_3L_left_contradiccion(xKnight) : y.Knave) : (Either[x.Knave, x.Knight],y.Knave)\n",
    "                        (Left(x_3L_left._1):Either[x.Knave, x.Knight], x_3L_left_not(xKnight) : y.Knave) : (Either[x.Knave, x.Knight],y.Knave)\n",
    "                    case Right(x_3L_right: (x.Knight,y.Knave)) => \n",
    "                        (Right(x_3L_right._1):Either[x.Knave, x.Knight], x_3L_right._2 : y.Knave) : (Either[x.Knave, x.Knight],y.Knave)\n",
    "               \n",
    "                }) : (Either[x.Knave, x.Knight],y.Knave)\n",
    "            \n",
    "            case Right(xKnave: x.Knave) => \n",
    "                //def P3[P](x: Inhabitant): x.Knave => x.Says[P] => ¬[P]\n",
    "                val x_1R: x.Knave => \n",
    "                            x.Says[Either[(x.Knave,y.Knight),(x.Knight,y.Knave)]] => \n",
    "                                ¬[Either[(x.Knave,y.Knight),(x.Knight,y.Knave)]] = premises.P3[Either[(x.Knave,y.Knight),(x.Knight,y.Knave)]](x)\n",
    "                val x_2R: x.Says[Either[(x.Knave,y.Knight),(x.Knight,y.Knave)]] => \n",
    "                                ¬[Either[(x.Knave,y.Knight),(x.Knight,y.Knave)]] = x_1R(xKnave)\n",
    "                val x_3R: Either[(x.Knave,y.Knight),(x.Knight,y.Knave)] => Nothing = x_2R(xSay)\n",
    "            \n",
    "                x_3R(Left(xKnave: x.Knave, (premises.P1(y) match{\n",
    "                                                case Left(yKnight: y.Knight) =>\n",
    "                                                    ??? : y.Knight\n",
    "                                                case Right(yKnave: y.Knave) =>\n",
    "                                                    ??? : y.Knight\n",
    "                                            }) : y.Knight)): Nothing\n",
    "            \n",
    "            ??? : (Either[x.Knave, x.Knight],y.Knave)\n",
    "                \n",
    "        }) : (Either[x.Knave, x.Knight],y.Knave)})\n",
    "    "
   ]
  },
  {
   "cell_type": "code",
   "execution_count": 15,
   "metadata": {},
   "outputs": [
    {
     "data": {
      "text/plain": [
       "defined \u001b[32mfunction\u001b[39m \u001b[36mpuzzle4\u001b[39m"
      ]
     },
     "execution_count": 15,
     "metadata": {},
     "output_type": "execute_result"
    }
   ],
   "source": [
    "// VERSION 2\n",
    "\n",
    "def puzzle4(premises: KnightsKnaves)(x: Inhabitant)(y: Inhabitant): \n",
    "    x.Says[Either[(x.Knave,y.Knight),(x.Knight,y.Knave)]] => (Either[x.Knave, x.Knight],y.Knave) = \n",
    "    ({xSay: x.Says[Either[(x.Knave,y.Knight),(x.Knight,y.Knave)]] =>\n",
    "        (premises.P1(x) match{\n",
    "            case Left(xKnight: x.Knight) => \n",
    "                // def P2[P](x: Inhabitant): x.Knight => x.Says[P] => P\n",
    "                val x_1L: x.Knight => \n",
    "                            x.Says[Either[(x.Knave,y.Knight),(x.Knight,y.Knave)]] => \n",
    "                                Either[(x.Knave,y.Knight),(x.Knight,y.Knave)] = premises.P2[Either[(x.Knave,y.Knight),(x.Knight,y.Knave)]](x)\n",
    "                \n",
    "                val x_2L: x.Says[Either[(x.Knave,y.Knight),(x.Knight,y.Knave)]] => \n",
    "                                Either[(x.Knave,y.Knight),(x.Knight,y.Knave)] = x_1L(xKnight)\n",
    "                val x_3L: Either[(x.Knave,y.Knight),(x.Knight,y.Knave)] = x_2L(xSay)\n",
    "                \n",
    "                (x_3L match{\n",
    "                    case Left(x_3L_left: (x.Knave,y.Knight)) => \n",
    "                        val x_3L_left_not: x.Knight => Nothing = x_3L_left._1\n",
    "                        //Funcionan ambas versiones\n",
    "                        //(Right(xKnight), x_3L_left_contradiccion(xKnight) : y.Knave) : (Either[x.Knave, x.Knight],y.Knave)\n",
    "                        (Left(x_3L_left._1):Either[x.Knave, x.Knight], x_3L_left_not(xKnight) : y.Knave) : (Either[x.Knave, x.Knight],y.Knave)\n",
    "                    case Right(x_3L_right: (x.Knight,y.Knave)) => \n",
    "                        (Right(x_3L_right._1):Either[x.Knave, x.Knight], x_3L_right._2 : y.Knave) : (Either[x.Knave, x.Knight],y.Knave)\n",
    "               \n",
    "                }) : (Either[x.Knave, x.Knight],y.Knave)\n",
    "            \n",
    "            case Right(xKnave: x.Knave) => \n",
    "                //def P3[P](x: Inhabitant): x.Knave => x.Says[P] => ¬[P]\n",
    "                val x_1R: x.Knave => \n",
    "                            x.Says[Either[(x.Knave,y.Knight),(x.Knight,y.Knave)]] => \n",
    "                                ¬[Either[(x.Knave,y.Knight),(x.Knight,y.Knave)]] = premises.P3[Either[(x.Knave,y.Knight),(x.Knight,y.Knave)]](x)\n",
    "                val x_2R: x.Says[Either[(x.Knave,y.Knight),(x.Knight,y.Knave)]] => \n",
    "                                ¬[Either[(x.Knave,y.Knight),(x.Knight,y.Knave)]] = x_1R(xKnave)\n",
    "                val x_3R: Either[(x.Knave,y.Knight),(x.Knight,y.Knave)] => Nothing = x_2R(xSay)\n",
    "            \n",
    "                x_3R(Left(xKnave: x.Knave, (premises.P1(y) match{\n",
    "                                                case Left(yKnight: y.Knight) =>\n",
    "                                                    yKnight : y.Knight\n",
    "                                            }) : y.Knight)): Nothing\n",
    "            \n",
    "            (Left(xKnave): Either[x.Knave, x.Knight], ??? : y.Knave) \n",
    "                \n",
    "        }) : (Either[x.Knave, x.Knight],y.Knave)})\n",
    "    "
   ]
  },
  {
   "cell_type": "code",
   "execution_count": 16,
   "metadata": {},
   "outputs": [
    {
     "data": {
      "text/plain": [
       "defined \u001b[32mfunction\u001b[39m \u001b[36mpuzzle4\u001b[39m"
      ]
     },
     "execution_count": 16,
     "metadata": {},
     "output_type": "execute_result"
    }
   ],
   "source": [
    "// VERSION 2\n",
    "\n",
    "def puzzle4(premises: KnightsKnaves)(x: Inhabitant)(y: Inhabitant): \n",
    "    x.Says[Either[(x.Knave,y.Knight),(x.Knight,y.Knave)]] => (Either[x.Knave, x.Knight],y.Knave) = \n",
    "    ({xSay: x.Says[Either[(x.Knave,y.Knight),(x.Knight,y.Knave)]] =>\n",
    "        (premises.P1(x) match{\n",
    "            case Left(xKnight: x.Knight) => \n",
    "                // def P2[P](x: Inhabitant): x.Knight => x.Says[P] => P\n",
    "                val x_1L: x.Knight => \n",
    "                            x.Says[Either[(x.Knave,y.Knight),(x.Knight,y.Knave)]] => \n",
    "                                Either[(x.Knave,y.Knight),(x.Knight,y.Knave)] = premises.P2[Either[(x.Knave,y.Knight),(x.Knight,y.Knave)]](x)\n",
    "                \n",
    "                val x_2L: x.Says[Either[(x.Knave,y.Knight),(x.Knight,y.Knave)]] => \n",
    "                                Either[(x.Knave,y.Knight),(x.Knight,y.Knave)] = x_1L(xKnight)\n",
    "                val x_3L: Either[(x.Knave,y.Knight),(x.Knight,y.Knave)] = x_2L(xSay)\n",
    "                \n",
    "                (x_3L match{\n",
    "                    case Left(x_3L_left: (x.Knave,y.Knight)) => \n",
    "                        val x_3L_left_not: x.Knight => Nothing = x_3L_left._1\n",
    "                        //Funcionan ambas versiones\n",
    "                        //(Right(xKnight), x_3L_left_contradiccion(xKnight) : y.Knave) : (Either[x.Knave, x.Knight],y.Knave)\n",
    "                        (Left(x_3L_left._1):Either[x.Knave, x.Knight], x_3L_left_not(xKnight) : y.Knave) : (Either[x.Knave, x.Knight],y.Knave)\n",
    "                    case Right(x_3L_right: (x.Knight,y.Knave)) => \n",
    "                        (Right(x_3L_right._1):Either[x.Knave, x.Knight], x_3L_right._2 : y.Knave) : (Either[x.Knave, x.Knight],y.Knave)\n",
    "               \n",
    "                }) : (Either[x.Knave, x.Knight],y.Knave)\n",
    "            \n",
    "            case Right(xKnave: x.Knave) => \n",
    "                //def P3[P](x: Inhabitant): x.Knave => x.Says[P] => ¬[P]\n",
    "                val x_1R: x.Knave => \n",
    "                            x.Says[Either[(x.Knave,y.Knight),(x.Knight,y.Knave)]] => \n",
    "                                ¬[Either[(x.Knave,y.Knight),(x.Knight,y.Knave)]] = premises.P3[Either[(x.Knave,y.Knight),(x.Knight,y.Knave)]](x)\n",
    "                val x_2R: x.Says[Either[(x.Knave,y.Knight),(x.Knight,y.Knave)]] => \n",
    "                                ¬[Either[(x.Knave,y.Knight),(x.Knight,y.Knave)]] = x_1R(xKnave)\n",
    "                val x_3R: Either[(x.Knave,y.Knight),(x.Knight,y.Knave)] => Nothing = x_2R(xSay)\n",
    "            \n",
    "                x_3R(Left(xKnave: x.Knave, (premises.P1(y) match{\n",
    "                                                case Left(yKnight: y.Knight) =>\n",
    "                                                    yKnight : y.Knight\n",
    "                                            }) : y.Knight)): Nothing\n",
    "            \n",
    "                (Left(xKnave): Either[x.Knave, x.Knight], x_3R(Left(xKnave: x.Knave, (premises.P1(y) match{\n",
    "                                                case Left(yKnight: y.Knight) =>\n",
    "                                                    yKnight : y.Knight\n",
    "                                            }) : y.Knight)) : y.Knave) \n",
    "                \n",
    "        }) : (Either[x.Knave, x.Knight],y.Knave)})\n",
    "    "
   ]
  },
  {
   "cell_type": "code",
   "execution_count": 17,
   "metadata": {},
   "outputs": [
    {
     "data": {
      "text/plain": [
       "defined \u001b[32mfunction\u001b[39m \u001b[36mpuzzle4\u001b[39m"
      ]
     },
     "execution_count": 17,
     "metadata": {},
     "output_type": "execute_result"
    }
   ],
   "source": [
    "// VERSION 2\n",
    "\n",
    "def puzzle4(premises: KnightsKnaves)(x: Inhabitant)(y: Inhabitant): \n",
    "    x.Says[Either[(x.Knave,y.Knight),(x.Knight,y.Knave)]] => (Either[x.Knave, x.Knight],y.Knave) = \n",
    "    ({xSay: x.Says[Either[(x.Knave,y.Knight),(x.Knight,y.Knave)]] =>\n",
    "        (premises.P1(x) match{\n",
    "            case Left(xKnight: x.Knight) => \n",
    "                // def P2[P](x: Inhabitant): x.Knight => x.Says[P] => P\n",
    "                val x_1L: x.Knight => \n",
    "                            x.Says[Either[(x.Knave,y.Knight),(x.Knight,y.Knave)]] => \n",
    "                                Either[(x.Knave,y.Knight),(x.Knight,y.Knave)] = premises.P2[Either[(x.Knave,y.Knight),(x.Knight,y.Knave)]](x)\n",
    "                \n",
    "                val x_2L: x.Says[Either[(x.Knave,y.Knight),(x.Knight,y.Knave)]] => \n",
    "                                Either[(x.Knave,y.Knight),(x.Knight,y.Knave)] = x_1L(xKnight)\n",
    "                val x_3L: Either[(x.Knave,y.Knight),(x.Knight,y.Knave)] = x_2L(xSay)\n",
    "                \n",
    "                (x_3L match{\n",
    "                    case Left(x_3L_left: (x.Knave,y.Knight)) => \n",
    "                        val x_3L_left_not: x.Knight => Nothing = x_3L_left._1\n",
    "                        //Funcionan ambas versiones\n",
    "                        //(Right(xKnight), x_3L_left_contradiccion(xKnight) : y.Knave) : (Either[x.Knave, x.Knight],y.Knave)\n",
    "                        (Left(x_3L_left._1):Either[x.Knave, x.Knight], x_3L_left_not(xKnight) : y.Knave) : (Either[x.Knave, x.Knight],y.Knave)\n",
    "                    case Right(x_3L_right: (x.Knight,y.Knave)) => \n",
    "                        (Right(x_3L_right._1):Either[x.Knave, x.Knight], x_3L_right._2 : y.Knave) : (Either[x.Knave, x.Knight],y.Knave)\n",
    "               \n",
    "                }) : (Either[x.Knave, x.Knight],y.Knave)\n",
    "            \n",
    "            case Right(xKnave: x.Knave) => \n",
    "                //def P3[P](x: Inhabitant): x.Knave => x.Says[P] => ¬[P]\n",
    "                val x_1R: x.Knave => \n",
    "                            x.Says[Either[(x.Knave,y.Knight),(x.Knight,y.Knave)]] => \n",
    "                                ¬[Either[(x.Knave,y.Knight),(x.Knight,y.Knave)]] = premises.P3[Either[(x.Knave,y.Knight),(x.Knight,y.Knave)]](x)\n",
    "                val x_2R: x.Says[Either[(x.Knave,y.Knight),(x.Knight,y.Knave)]] => \n",
    "                                ¬[Either[(x.Knave,y.Knight),(x.Knight,y.Knave)]] = x_1R(xKnave)\n",
    "                val x_3R: Either[(x.Knave,y.Knight),(x.Knight,y.Knave)] => Nothing = x_2R(xSay)\n",
    "            \n",
    "                x_3R(Left(xKnave: x.Knave, (premises.P1(y) match{\n",
    "                                                case Left(yKnight: y.Knight) =>\n",
    "                                                    yKnight : y.Knight\n",
    "                                            }) : y.Knight)): Nothing\n",
    "            \n",
    "                (Left(xKnave): Either[x.Knave, x.Knight], x_3R(Left(xKnave: x.Knave, (premises.P1(y) match{\n",
    "                                                case Left(yKnight: y.Knight) =>\n",
    "                                                    yKnight : y.Knight\n",
    "                                            }) : y.Knight)) : y.Knave) \n",
    "                \n",
    "        }) : (Either[x.Knave, x.Knight],y.Knave)})\n",
    "    "
   ]
  },
  {
   "cell_type": "code",
   "execution_count": 19,
   "metadata": {},
   "outputs": [
    {
     "data": {
      "text/plain": [
       "defined \u001b[32mfunction\u001b[39m \u001b[36mpuzzle4\u001b[39m"
      ]
     },
     "execution_count": 19,
     "metadata": {},
     "output_type": "execute_result"
    }
   ],
   "source": [
    "// VERSION 2 - SIMPLIFICADO\n",
    "\n",
    "def puzzle4(premises: KnightsKnaves)(x: Inhabitant)(y: Inhabitant): \n",
    "    x.Says[Either[(x.Knave,y.Knight),(x.Knight,y.Knave)]] => (Either[x.Knave, x.Knight],y.Knave) = \n",
    "    ({xSay =>\n",
    "        (premises.P1(x) match{\n",
    "            case Left(xKnight) => \n",
    "                val x_1L: x.Knight => \n",
    "                            x.Says[Either[(x.Knave,y.Knight),(x.Knight,y.Knave)]] => \n",
    "                                Either[(x.Knave,y.Knight),(x.Knight,y.Knave)] = premises.P2[Either[(x.Knave,y.Knight),(x.Knight,y.Knave)]](x)\n",
    "                \n",
    "                val x_2L: x.Says[Either[(x.Knave,y.Knight),(x.Knight,y.Knave)]] => \n",
    "                                Either[(x.Knave,y.Knight),(x.Knight,y.Knave)] = x_1L(xKnight)\n",
    "                val x_3L: Either[(x.Knave,y.Knight),(x.Knight,y.Knave)] = x_2L(xSay)\n",
    "                \n",
    "                (x_3L match{\n",
    "                    case Left(x_3L_left: (x.Knave,y.Knight)) => \n",
    "                        val x_3L_left_not: x.Knight => Nothing = x_3L_left._1\n",
    "                        //Funcionan ambas versiones\n",
    "                        //(Right(xKnight), x_3L_left_contradiccion(xKnight) : y.Knave) : (Either[x.Knave, x.Knight],y.Knave)\n",
    "                        (Left(x_3L_left._1), x_3L_left_not(xKnight))\n",
    "                    case Right(x_3L_right: (x.Knight,y.Knave)) => \n",
    "                        (Right(x_3L_right._1), x_3L_right._2)\n",
    "               \n",
    "                })\n",
    "            \n",
    "            case Right(xKnave) => \n",
    "                //def P3[P](x: Inhabitant): x.Knave => x.Says[P] => ¬[P]\n",
    "                val x_1R: x.Knave => \n",
    "                            x.Says[Either[(x.Knave,y.Knight),(x.Knight,y.Knave)]] => \n",
    "                                ¬[Either[(x.Knave,y.Knight),(x.Knight,y.Knave)]] = premises.P3[Either[(x.Knave,y.Knight),(x.Knight,y.Knave)]](x)\n",
    "                val x_2R: x.Says[Either[(x.Knave,y.Knight),(x.Knight,y.Knave)]] => \n",
    "                                ¬[Either[(x.Knave,y.Knight),(x.Knight,y.Knave)]] = x_1R(xKnave)\n",
    "                val x_3R: Either[(x.Knave,y.Knight),(x.Knight,y.Knave)] => Nothing = x_2R(xSay)\n",
    "            \n",
    "                (Left(xKnave), x_3R(Left(xKnave, (premises.P1(y) match{\n",
    "                                                case Left(yKnight) =>\n",
    "                                                    yKnight \n",
    "                                            }) \n",
    "                                        )) \n",
    "                ) \n",
    "                \n",
    "        }) \n",
    "    })\n",
    "    "
   ]
  },
  {
   "cell_type": "code",
   "execution_count": 18,
   "metadata": {},
   "outputs": [
    {
     "data": {
      "text/plain": [
       "defined \u001b[32mfunction\u001b[39m \u001b[36mpuzzle4\u001b[39m"
      ]
     },
     "execution_count": 18,
     "metadata": {},
     "output_type": "execute_result"
    }
   ],
   "source": [
    "// VERSION 3\n",
    "\n",
    "def puzzle4(premises: KnightsKnaves)(x: Inhabitant)(y: Inhabitant): \n",
    "    x.Says[Either[(x.Knave,y.Knight),(x.Knight,y.Knave)]] => (Either[x.Knave, x.Knight],y.Knave) = \n",
    "    ({xSay: x.Says[Either[(x.Knave,y.Knight),(x.Knight,y.Knave)]] =>\n",
    "        (premises.P1(x) match{\n",
    "            case Left(xKnight: x.Knight) => \n",
    "                // def P2[P](x: Inhabitant): x.Knight => x.Says[P] => P\n",
    "                val x_1L: x.Knight => \n",
    "                            x.Says[Either[(x.Knave,y.Knight),(x.Knight,y.Knave)]] => \n",
    "                                Either[(x.Knave,y.Knight),(x.Knight,y.Knave)] = premises.P2[Either[(x.Knave,y.Knight),(x.Knight,y.Knave)]](x)\n",
    "                \n",
    "                val x_2L: x.Says[Either[(x.Knave,y.Knight),(x.Knight,y.Knave)]] => \n",
    "                                Either[(x.Knave,y.Knight),(x.Knight,y.Knave)] = x_1L(xKnight)\n",
    "                val x_3L: Either[(x.Knave,y.Knight),(x.Knight,y.Knave)] = x_2L(xSay)\n",
    "                \n",
    "                (x_3L match{\n",
    "                    case Left(x_3L_left: (x.Knave,y.Knight)) => \n",
    "                        val x_3L_left_not: x.Knight => Nothing = x_3L_left._1\n",
    "                        //Funcionan ambas versiones\n",
    "                        //(Right(xKnight), x_3L_left_contradiccion(xKnight) : y.Knave) : (Either[x.Knave, x.Knight],y.Knave)\n",
    "                        (Left(x_3L_left._1):Either[x.Knave, x.Knight], x_3L_left_not(xKnight) : y.Knave) : (Either[x.Knave, x.Knight],y.Knave)\n",
    "                    case Right(x_3L_right: (x.Knight,y.Knave)) => \n",
    "                        (Right(x_3L_right._1):Either[x.Knave, x.Knight], x_3L_right._2 : y.Knave) : (Either[x.Knave, x.Knight],y.Knave)\n",
    "               \n",
    "                }) : (Either[x.Knave, x.Knight],y.Knave)\n",
    "            \n",
    "            case Right(xKnave: x.Knave) => \n",
    "                //def P3[P](x: Inhabitant): x.Knave => x.Says[P] => ¬[P]\n",
    "                val x_1R: x.Knave => \n",
    "                            x.Says[Either[(x.Knave,y.Knight),(x.Knight,y.Knave)]] => \n",
    "                                ¬[Either[(x.Knave,y.Knight),(x.Knight,y.Knave)]] = premises.P3[Either[(x.Knave,y.Knight),(x.Knight,y.Knave)]](x)\n",
    "                val x_2R: x.Says[Either[(x.Knave,y.Knight),(x.Knight,y.Knave)]] => \n",
    "                                ¬[Either[(x.Knave,y.Knight),(x.Knight,y.Knave)]] = x_1R(xKnave)\n",
    "                val x_3R: Either[(x.Knave,y.Knight),(x.Knight,y.Knave)] => Nothing = x_2R(xSay)\n",
    "                \n",
    "            \n",
    "                // En el pattern matching hay que expresar la rama Left y Right (siempre ambas)\n",
    "                premises.P1(y) match{\n",
    "                    case Left(yKnight: y.Knight) => x_3R(Left(xKnave, yKnight)) : (Either[x.Knave, x.Knight],y.Knave)\n",
    "                    // En este caso si a x_3R le paso un (x.Knave,y.Knight) obtengo un Nothing\n",
    "                    // El tipo Nothing es equivalente a cualquier otro tipo.\n",
    "                    // En este caso si tengo un Nothing tengo un (Either[x.Knave, x.Knight],y.Knave)\n",
    "                    case Right(yKnave: y.Knave) => (Left(xKnave), yKnave) : (Either[x.Knave, x.Knight],y.Knave)\n",
    "                }\n",
    "            \n",
    "        }) : (Either[x.Knave, x.Knight],y.Knave)})\n",
    "    "
   ]
  },
  {
   "cell_type": "code",
   "execution_count": 33,
   "metadata": {},
   "outputs": [
    {
     "data": {
      "text/plain": [
       "defined \u001b[32mfunction\u001b[39m \u001b[36mpuzzle4\u001b[39m"
      ]
     },
     "execution_count": 33,
     "metadata": {},
     "output_type": "execute_result"
    }
   ],
   "source": [
    "// VERSION 3\n",
    "\n",
    "def puzzle4(premises: KnightsKnaves)(x: Inhabitant)(y: Inhabitant): \n",
    "    x.Says[Either[(x.Knave,y.Knight),(x.Knight,y.Knave)]] => (Either[x.Knave, x.Knight],y.Knave) = \n",
    "    ({xSay: x.Says[Either[(x.Knave,y.Knight),(x.Knight,y.Knave)]] =>\n",
    "        (premises.P1(x) match{\n",
    "            case Left(xKnight: x.Knight) => \n",
    "                // def P2[P](x: Inhabitant): x.Knight => x.Says[P] => P\n",
    "                val x_1L: x.Knight => \n",
    "                            x.Says[Either[(x.Knave,y.Knight),(x.Knight,y.Knave)]] => \n",
    "                                Either[(x.Knave,y.Knight),(x.Knight,y.Knave)] = premises.P2[Either[(x.Knave,y.Knight),(x.Knight,y.Knave)]](x)\n",
    "                \n",
    "                val x_2L: x.Says[Either[(x.Knave,y.Knight),(x.Knight,y.Knave)]] => \n",
    "                                Either[(x.Knave,y.Knight),(x.Knight,y.Knave)] = x_1L(xKnight)\n",
    "                val x_3L: Either[(x.Knave,y.Knight),(x.Knight,y.Knave)] = x_2L(xSay)\n",
    "                \n",
    "            /*\n",
    "                (x_3L match{\n",
    "                    case Left(x_3L_left: (x.Knave,y.Knight)) => \n",
    "                        val x_3L_left_not: x.Knight => Nothing = x_3L_left._1\n",
    "                        //Funcionan ambas versiones\n",
    "                        //(Right(xKnight), x_3L_left_contradiccion(xKnight) : y.Knave) : (Either[x.Knave, x.Knight],y.Knave)\n",
    "                        (Left(x_3L_left._1):Either[x.Knave, x.Knight], x_3L_left_not(xKnight) : y.Knave) : (Either[x.Knave, x.Knight],y.Knave)\n",
    "                    case Right(x_3L_right: (x.Knight,y.Knave)) => \n",
    "                        (Right(x_3L_right._1):Either[x.Knave, x.Knight], x_3L_right._2 : y.Knave) : (Either[x.Knave, x.Knight],y.Knave)\n",
    "               \n",
    "                }) : (Either[x.Knave, x.Knight],y.Knave)\n",
    "            */\n",
    "            // Otra opcion de sacar la solucion (Either[x.Knave, x.Knight],y.Knave)\n",
    "            // Que al final es lo mismo pero mas simplificado haciendo uso tambien de \"type Knave = ¬[Knight]\" pero sin \"val\"\n",
    "                \n",
    "                (x_3L match{\n",
    "                    case Left(x_3L_left: (x.Knave,y.Knight)) => \n",
    "                        x_3L_left._1(xKnight) : (Either[x.Knave, x.Knight],y.Knave)\n",
    "                        // Si al x.Knave de la tupla x_3L_left le paso un x.Knight obtengo un Nothing.\n",
    "                        // Esto sale de type Knave = ¬[Knight]\n",
    "                        // Cualquier tipo de datos es Nothing, por tanto Nothing es tambien de tipo (Either[x.Knave, x.Knight],y.Knave)\n",
    "                    case Right(x_3L_right: (x.Knight,y.Knave)) => \n",
    "                        (Right(x_3L_right._1), x_3L_right._2) : (Either[x.Knave, x.Knight],y.Knave)\n",
    "                        // De la tupla x_3L_right me saco ambos argumentos de tipo (Either[x.Knave, x.Knight],y.Knave)\n",
    "                }) : (Either[x.Knave, x.Knight],y.Knave) // Este tipo de datos se puede obviar y quitar tambien los () del match\n",
    "                \n",
    "            case Right(xKnave: x.Knave) => \n",
    "                //def P3[P](x: Inhabitant): x.Knave => x.Says[P] => ¬[P]\n",
    "                val x_1R: x.Knave => \n",
    "                            x.Says[Either[(x.Knave,y.Knight),(x.Knight,y.Knave)]] => \n",
    "                                ¬[Either[(x.Knave,y.Knight),(x.Knight,y.Knave)]] = premises.P3[Either[(x.Knave,y.Knight),(x.Knight,y.Knave)]](x)\n",
    "                val x_2R: x.Says[Either[(x.Knave,y.Knight),(x.Knight,y.Knave)]] => \n",
    "                                ¬[Either[(x.Knave,y.Knight),(x.Knight,y.Knave)]] = x_1R(xKnave)\n",
    "                val x_3R: Either[(x.Knave,y.Knight),(x.Knight,y.Knave)] => Nothing = x_2R(xSay)\n",
    "                \n",
    "            \n",
    "                // En el pattern matching hay que expresar la rama Left y Right (siempre ambas)\n",
    "                premises.P1(y) match{\n",
    "                    case Left(yKnight: y.Knight) => x_3R(Left(xKnave, yKnight)) : (Either[x.Knave, x.Knight],y.Knave)\n",
    "                    // En este caso si a x_3R le paso un (x.Knave,y.Knight) obtengo un Nothing\n",
    "                    // El tipo Nothing es equivalente a cualquier otro tipo.\n",
    "                    // En este caso si tengo un Nothing tengo un (Either[x.Knave, x.Knight],y.Knave)\n",
    "                    case Right(yKnave: y.Knave) => (Left(xKnave), yKnave) : (Either[x.Knave, x.Knight],y.Knave)\n",
    "                }\n",
    "            \n",
    "        }) : (Either[x.Knave, x.Knight],y.Knave)})\n",
    "    "
   ]
  },
  {
   "cell_type": "code",
   "execution_count": 23,
   "metadata": {},
   "outputs": [
    {
     "data": {
      "text/plain": [
       "defined \u001b[32mfunction\u001b[39m \u001b[36mpuzzle4\u001b[39m"
      ]
     },
     "execution_count": 23,
     "metadata": {},
     "output_type": "execute_result"
    }
   ],
   "source": [
    "// VERSION 3 - SIMPLIFICADO\n",
    "\n",
    "def puzzle4(premises: KnightsKnaves)(x: Inhabitant)(y: Inhabitant): \n",
    "    x.Says[Either[(x.Knave,y.Knight),(x.Knight,y.Knave)]] => (Either[x.Knave, x.Knight],y.Knave) = \n",
    "    ({xSay =>\n",
    "        (premises.P1(x) match{\n",
    "            case Left(xKnight) => \n",
    "                val x_1L: x.Knight => \n",
    "                            x.Says[Either[(x.Knave,y.Knight),(x.Knight,y.Knave)]] => \n",
    "                                Either[(x.Knave,y.Knight),(x.Knight,y.Knave)] = premises.P2[Either[(x.Knave,y.Knight),(x.Knight,y.Knave)]](x)\n",
    "                \n",
    "                val x_2L: x.Says[Either[(x.Knave,y.Knight),(x.Knight,y.Knave)]] => \n",
    "                                Either[(x.Knave,y.Knight),(x.Knight,y.Knave)] = x_1L(xKnight)\n",
    "                val x_3L: Either[(x.Knave,y.Knight),(x.Knight,y.Knave)] = x_2L(xSay)\n",
    "                \n",
    "                (x_3L match{\n",
    "                    case Left(x_3L_left) => \n",
    "                        val x_3L_left_not: x.Knight => Nothing = x_3L_left._1\n",
    "                        (Left(x_3L_left._1), x_3L_left_not(xKnight)) \n",
    "                    case Right(x_3L_right) => \n",
    "                        (Right(x_3L_right._1), x_3L_right._2) \n",
    "                })\n",
    "            \n",
    "            case Right(xKnave) => \n",
    "                val x_1R: x.Knave => \n",
    "                            x.Says[Either[(x.Knave,y.Knight),(x.Knight,y.Knave)]] => \n",
    "                                ¬[Either[(x.Knave,y.Knight),(x.Knight,y.Knave)]] = premises.P3[Either[(x.Knave,y.Knight),(x.Knight,y.Knave)]](x)\n",
    "                val x_2R: x.Says[Either[(x.Knave,y.Knight),(x.Knight,y.Knave)]] => \n",
    "                                ¬[Either[(x.Knave,y.Knight),(x.Knight,y.Knave)]] = x_1R(xKnave)\n",
    "                val x_3R: Either[(x.Knave,y.Knight),(x.Knight,y.Knave)] => Nothing = x_2R(xSay)\n",
    "                \n",
    "                premises.P1(y) match{\n",
    "                    case Left(yKnight) => x_3R(Left(xKnave, yKnight)) \n",
    "                    case Right(yKnave) => (Left(xKnave), yKnave) \n",
    "                }\n",
    "        }) \n",
    "    })\n",
    "    "
   ]
  },
  {
   "cell_type": "code",
   "execution_count": null,
   "metadata": {},
   "outputs": [],
   "source": []
  },
  {
   "cell_type": "code",
   "execution_count": null,
   "metadata": {},
   "outputs": [],
   "source": []
  },
  {
   "cell_type": "code",
   "execution_count": null,
   "metadata": {},
   "outputs": [],
   "source": []
  }
 ],
 "metadata": {
  "kernelspec": {
   "display_name": "Scala",
   "language": "scala",
   "name": "scala"
  },
  "language_info": {
   "codemirror_mode": "text/x-scala",
   "file_extension": ".sc",
   "mimetype": "text/x-scala",
   "name": "scala",
   "nbconvert_exporter": "script",
   "version": "2.13.3"
  }
 },
 "nbformat": 4,
 "nbformat_minor": 4
}
