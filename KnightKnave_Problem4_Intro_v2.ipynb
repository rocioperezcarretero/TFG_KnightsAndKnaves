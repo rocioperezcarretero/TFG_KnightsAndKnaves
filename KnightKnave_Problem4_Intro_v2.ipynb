{
 "cells": [
  {
   "cell_type": "code",
   "execution_count": 1,
   "metadata": {},
   "outputs": [
    {
     "data": {
      "text/plain": [
       "defined \u001b[32mtype\u001b[39m \u001b[36m∨\u001b[39m\r\n",
       "defined \u001b[32mtype\u001b[39m \u001b[36m∧\u001b[39m\r\n",
       "defined \u001b[32mtype\u001b[39m \u001b[36m⟶\u001b[39m\r\n",
       "defined \u001b[32mtype\u001b[39m \u001b[36m⊥\u001b[39m\r\n",
       "defined \u001b[32mtype\u001b[39m \u001b[36mTrue\u001b[39m\r\n",
       "defined \u001b[32mtype\u001b[39m \u001b[36m¬\u001b[39m"
      ]
     },
     "execution_count": 1,
     "metadata": {},
     "output_type": "execute_result"
    }
   ],
   "source": [
    "type ∨[P, Q] = Either[P, Q]\n",
    "type ∧[P, Q] = Tuple2[P, Q]\n",
    "type ⟶[P, Q] = P => Q\n",
    "type ⊥ = Nothing\n",
    "type True = Unit\n",
    "type ¬[P] = P => ⊥"
   ]
  },
  {
   "cell_type": "code",
   "execution_count": 2,
   "metadata": {},
   "outputs": [
    {
     "data": {
      "text/plain": [
       "defined \u001b[32mtype\u001b[39m \u001b[36mOr\u001b[39m\r\n",
       "defined \u001b[32mtype\u001b[39m \u001b[36mAnd\u001b[39m\r\n",
       "defined \u001b[32mtype\u001b[39m \u001b[36mImplies\u001b[39m\r\n",
       "defined \u001b[32mtype\u001b[39m \u001b[36mFalse\u001b[39m\r\n",
       "defined \u001b[32mtype\u001b[39m \u001b[36mTrue\u001b[39m\r\n",
       "defined \u001b[32mtype\u001b[39m \u001b[36mNot\u001b[39m"
      ]
     },
     "execution_count": 2,
     "metadata": {},
     "output_type": "execute_result"
    }
   ],
   "source": [
    "type Or[P, Q] = Either[P, Q]\n",
    "type And[P, Q] = Tuple2[P, Q]\n",
    "type Implies[P, Q] = P => Q\n",
    "type False = Nothing\n",
    "type True = Unit\n",
    "type Not[P] = P => ⊥"
   ]
  },
  {
   "cell_type": "code",
   "execution_count": 3,
   "metadata": {},
   "outputs": [
    {
     "data": {
      "text/plain": [
       "defined \u001b[32mclass\u001b[39m \u001b[36mInhabitant\u001b[39m"
      ]
     },
     "execution_count": 3,
     "metadata": {},
     "output_type": "execute_result"
    }
   ],
   "source": [
    "class Inhabitant{ x => \n",
    "    // Knight(x) -- `x` is a Knight\n",
    "    // \n",
    "    type Knight\n",
    "    \n",
    "    // Knave(x) -- `x` is a Knave (i.e. is not a Knight)\n",
    "    // \n",
    "    type Knave = ¬[Knight]\n",
    "    \n",
    "    // Says(x, P) -- `x` says that `P` holds, i.e. asserts proposition `P`\n",
    "    // \n",
    "    type Says[P]\n",
    "}"
   ]
  },
  {
   "cell_type": "code",
   "execution_count": 4,
   "metadata": {},
   "outputs": [
    {
     "data": {
      "text/plain": [
       "defined \u001b[32mtrait\u001b[39m \u001b[36mKnightsKnaves\u001b[39m"
      ]
     },
     "execution_count": 4,
     "metadata": {},
     "output_type": "execute_result"
    }
   ],
   "source": [
    "trait KnightsKnaves{\n",
    "    // P1. Inhabitants are knights or knaves\n",
    "    // \n",
    "    //     ∀ x. Inhabitant(x)  ⟶ Knight(x) ∨ Knave(x) \n",
    "    // \n",
    "    def P1(x: Inhabitant): x.Knight ∨ x.Knave\n",
    "    \n",
    "    // In Scala 3\n",
    "    // val P1: (x: Inhabitant) => Either[x.Knight, x.Knave]\n",
    "    \n",
    "    // P2. Knights are truth tellers\n",
    "    // \n",
    "    //     ∀ P. ∀ x. Knight(x) ⟶ Says(x, P) ⟶ P\n",
    "    // \n",
    "    def P2[P](x: Inhabitant): x.Knight => x.Says[P] => P\n",
    "    \n",
    "    // In Scala 3\n",
    "    // val P2: [P] => (x: Inhabitant) => x.Knight => x.Says[P] => P\n",
    "    \n",
    "    // P3. Knaves are persistent liers\n",
    "    // \n",
    "    //     ∀ P. ∀ x. Knight(x) ⟶ Says(x, P) ⟶ ¬P\n",
    "    // \n",
    "    def P3[P](x: Inhabitant): x.Knave => x.Says[P] => ¬[P]\n",
    "}"
   ]
  },
  {
   "cell_type": "markdown",
   "metadata": {},
   "source": [
    "# Puzzles Introducción\n",
    "\n",
    "Primero se consideran 5 preguntas que servirán como introduccion a la logica \n",
    "knight-knave para aquellos que no estén familiarizados con ella y como un\n",
    "breve curso recordatorio para los que lo están."
   ]
  },
  {
   "cell_type": "markdown",
   "metadata": {},
   "source": [
    "#### 4. Suppose A instead says: \"Exactly one of us is a knave.\" What can be deduced about A and what can be deduced about B?\n",
    "\n",
    "A is saying that exactly one of the persons A and B is a knave. If A is a knight, his statement is true, exactly one is a knave, and so B is a knave. If A is a knave, his statement is false, hence B must again be a knave, because if B were a knight, then it would be true that exactly one is a knave! And\n",
    "so regardless of whether A is a knight or a knave, B is a knave.\n",
    "As for A, his type cannot be determined; he could be either a knight or a knave."
   ]
  },
  {
   "cell_type": "code",
   "execution_count": 9,
   "metadata": {},
   "outputs": [
    {
     "data": {
      "text/plain": [
       "defined \u001b[32mfunction\u001b[39m \u001b[36mpuzzle4\u001b[39m"
      ]
     },
     "execution_count": 9,
     "metadata": {},
     "output_type": "execute_result"
    }
   ],
   "source": [
    "def puzzle4(premises: KnightsKnaves)(x: Inhabitant)(y: Inhabitant): \n",
    "    x.Says[Either[(x.Knave,y.Knight),(x.Knight,y.Knave)]] => (Either[x.Knave, x.Knight],y.Knave) = ???\n",
    "    /* Exactamente uno de los dos es Knave (o uno u otro):\n",
    "    1.- X es Knave\n",
    "    2.- Y es Knave\n",
    "    \n",
    "    */"
   ]
  },
  {
   "cell_type": "code",
   "execution_count": 10,
   "metadata": {},
   "outputs": [
    {
     "data": {
      "text/plain": [
       "defined \u001b[32mfunction\u001b[39m \u001b[36mpuzzle4\u001b[39m"
      ]
     },
     "execution_count": 10,
     "metadata": {},
     "output_type": "execute_result"
    }
   ],
   "source": [
    "def puzzle4(premises: KnightsKnaves)(x: Inhabitant)(y: Inhabitant): \n",
    "    x.Says[Either[(x.Knave,y.Knight),(x.Knight,y.Knave)]] => (Either[x.Knave, x.Knight],y.Knave) = ???\n",
    "    "
   ]
  },
  {
   "cell_type": "code",
   "execution_count": 19,
   "metadata": {},
   "outputs": [
    {
     "data": {
      "text/plain": [
       "defined \u001b[32mfunction\u001b[39m \u001b[36mpuzzle4\u001b[39m"
      ]
     },
     "execution_count": 19,
     "metadata": {},
     "output_type": "execute_result"
    }
   ],
   "source": [
    "// VERSION 3\n",
    "\n",
    "def puzzle4(premises: KnightsKnaves)(x: Inhabitant)(y: Inhabitant): \n",
    "    x.Says[Either[(x.Knave,y.Knight),(x.Knight,y.Knave)]] => (Either[x.Knave, x.Knight],y.Knave) = \n",
    "    ({xSay: x.Says[Either[(x.Knave,y.Knight),(x.Knight,y.Knave)]] =>\n",
    "        (premises.P1(x) match{\n",
    "            case Left(xKnight: x.Knight) => \n",
    "                // def P2[P](x: Inhabitant): x.Knight => x.Says[P] => P\n",
    "                val x_1L: x.Knight => \n",
    "                            x.Says[Either[(x.Knave,y.Knight),(x.Knight,y.Knave)]] => \n",
    "                                Either[(x.Knave,y.Knight),(x.Knight,y.Knave)] = premises.P2[Either[(x.Knave,y.Knight),(x.Knight,y.Knave)]](x)\n",
    "                \n",
    "                val x_2L: x.Says[Either[(x.Knave,y.Knight),(x.Knight,y.Knave)]] => \n",
    "                                Either[(x.Knave,y.Knight),(x.Knight,y.Knave)] = x_1L(xKnight)\n",
    "                val x_3L: Either[(x.Knave,y.Knight),(x.Knight,y.Knave)] = x_2L(xSay)\n",
    "                \n",
    "                (x_3L match{\n",
    "                    case Left(x_3L_left: (x.Knave,y.Knight)) => \n",
    "                        val x_3L_left_not: x.Knight => Nothing = x_3L_left._1\n",
    "                        //Funcionan ambas versiones\n",
    "                        //(Right(xKnight), x_3L_left_contradiccion(xKnight) : y.Knave) : (Either[x.Knave, x.Knight],y.Knave)\n",
    "                        (Left(x_3L_left._1):Either[x.Knave, x.Knight], x_3L_left_not(xKnight) : y.Knave) : (Either[x.Knave, x.Knight],y.Knave)\n",
    "                    case Right(x_3L_right: (x.Knight,y.Knave)) => \n",
    "                        (Right(x_3L_right._1):Either[x.Knave, x.Knight], x_3L_right._2 : y.Knave) : (Either[x.Knave, x.Knight],y.Knave)\n",
    "               \n",
    "                }) : (Either[x.Knave, x.Knight],y.Knave)\n",
    "            \n",
    "            case Right(xKnave: x.Knave) => \n",
    "                //def P3[P](x: Inhabitant): x.Knave => x.Says[P] => ¬[P]\n",
    "                val x_1R: x.Knave => \n",
    "                            x.Says[Either[(x.Knave,y.Knight),(x.Knight,y.Knave)]] => \n",
    "                                ¬[Either[(x.Knave,y.Knight),(x.Knight,y.Knave)]] = premises.P3[Either[(x.Knave,y.Knight),(x.Knight,y.Knave)]](x)\n",
    "                val x_2R: x.Says[Either[(x.Knave,y.Knight),(x.Knight,y.Knave)]] => \n",
    "                                ¬[Either[(x.Knave,y.Knight),(x.Knight,y.Knave)]] = x_1R(xKnave)\n",
    "                val x_3R: Either[(x.Knave,y.Knight),(x.Knight,y.Knave)] => Nothing = x_2R(xSay)\n",
    "                \n",
    "            \n",
    "                // En el pattern matching hay que expresar la rama Left y Right (siempre ambas)\n",
    "                premises.P1(y) match{\n",
    "                    case Left(yKnight: y.Knight) => x_3R(Left(xKnave, yKnight)) : (Either[x.Knave, x.Knight],y.Knave)\n",
    "                    // En este caso si a x_3R le paso un (x.Knave,y.Knight) obtengo un Nothing\n",
    "                    // El tipo Nothing es equivalente a cualquier otro tipo.\n",
    "                    // En este caso si tengo un Nothing tengo un (Either[x.Knave, x.Knight],y.Knave)\n",
    "                    case Right(yKnave: y.Knave) => (Left(xKnave), yKnave) : (Either[x.Knave, x.Knight],y.Knave)\n",
    "                }\n",
    "            \n",
    "        }) : (Either[x.Knave, x.Knight],y.Knave)})\n",
    "    "
   ]
  },
  {
   "cell_type": "code",
   "execution_count": 20,
   "metadata": {},
   "outputs": [
    {
     "data": {
      "text/plain": [
       "defined \u001b[32mfunction\u001b[39m \u001b[36mpuzzle4\u001b[39m"
      ]
     },
     "execution_count": 20,
     "metadata": {},
     "output_type": "execute_result"
    }
   ],
   "source": [
    "// VERSION 3\n",
    "\n",
    "def puzzle4(premises: KnightsKnaves)(x: Inhabitant)(y: Inhabitant): \n",
    "    x.Says[Either[(x.Knave,y.Knight),(x.Knight,y.Knave)]] => (Either[x.Knave, x.Knight],y.Knave) = \n",
    "    ({xSay: x.Says[Either[(x.Knave,y.Knight),(x.Knight,y.Knave)]] =>\n",
    "        (premises.P1(x) match{\n",
    "            case Left(xKnight: x.Knight) => \n",
    "                // def P2[P](x: Inhabitant): x.Knight => x.Says[P] => P\n",
    "                val x_1L: x.Knight => \n",
    "                            x.Says[Either[(x.Knave,y.Knight),(x.Knight,y.Knave)]] => \n",
    "                                Either[(x.Knave,y.Knight),(x.Knight,y.Knave)] = premises.P2[Either[(x.Knave,y.Knight),(x.Knight,y.Knave)]](x)\n",
    "                \n",
    "                val x_2L: x.Says[Either[(x.Knave,y.Knight),(x.Knight,y.Knave)]] => \n",
    "                                Either[(x.Knave,y.Knight),(x.Knight,y.Knave)] = x_1L(xKnight)\n",
    "                val x_3L: Either[(x.Knave,y.Knight),(x.Knight,y.Knave)] = x_2L(xSay)\n",
    "                \n",
    "            /*\n",
    "                (x_3L match{\n",
    "                    case Left(x_3L_left: (x.Knave,y.Knight)) => \n",
    "                        val x_3L_left_not: x.Knight => Nothing = x_3L_left._1\n",
    "                        //Funcionan ambas versiones\n",
    "                        //(Right(xKnight), x_3L_left_contradiccion(xKnight) : y.Knave) : (Either[x.Knave, x.Knight],y.Knave)\n",
    "                        (Left(x_3L_left._1):Either[x.Knave, x.Knight], x_3L_left_not(xKnight) : y.Knave) : (Either[x.Knave, x.Knight],y.Knave)\n",
    "                    case Right(x_3L_right: (x.Knight,y.Knave)) => \n",
    "                        (Right(x_3L_right._1):Either[x.Knave, x.Knight], x_3L_right._2 : y.Knave) : (Either[x.Knave, x.Knight],y.Knave)\n",
    "               \n",
    "                }) : (Either[x.Knave, x.Knight],y.Knave)\n",
    "            */\n",
    "            // Otra opcion de sacar la solucion (Either[x.Knave, x.Knight],y.Knave)\n",
    "            // Que al final es lo mismo pero mas simplificado haciendo uso tambien de \"type Knave = ¬[Knight]\" pero sin \"val\"\n",
    "                \n",
    "                (x_3L match{\n",
    "                    case Left(x_3L_left: (x.Knave,y.Knight)) => \n",
    "                        x_3L_left._1(xKnight) : (Either[x.Knave, x.Knight],y.Knave)\n",
    "                        // Si al x.Knave de la tupla x_3L_left le paso un x.Knight obtengo un Nothing.\n",
    "                        // Esto sale de type Knave = ¬[Knight]\n",
    "                        // Cualquier tipo de datos es Nothing, por tanto Nothing es tambien de tipo (Either[x.Knave, x.Knight],y.Knave)\n",
    "                    case Right(x_3L_right: (x.Knight,y.Knave)) => \n",
    "                        (Right(x_3L_right._1), x_3L_right._2) : (Either[x.Knave, x.Knight],y.Knave)\n",
    "                        // De la tupla x_3L_right me saco ambos argumentos de tipo (Either[x.Knave, x.Knight],y.Knave)\n",
    "                }) : (Either[x.Knave, x.Knight],y.Knave) // Este tipo de datos se puede obviar y quitar tambien los () del match\n",
    "                \n",
    "            case Right(xKnave: x.Knave) => \n",
    "                //def P3[P](x: Inhabitant): x.Knave => x.Says[P] => ¬[P]\n",
    "                val x_1R: x.Knave => \n",
    "                            x.Says[Either[(x.Knave,y.Knight),(x.Knight,y.Knave)]] => \n",
    "                                ¬[Either[(x.Knave,y.Knight),(x.Knight,y.Knave)]] = premises.P3[Either[(x.Knave,y.Knight),(x.Knight,y.Knave)]](x)\n",
    "                val x_2R: x.Says[Either[(x.Knave,y.Knight),(x.Knight,y.Knave)]] => \n",
    "                                ¬[Either[(x.Knave,y.Knight),(x.Knight,y.Knave)]] = x_1R(xKnave)\n",
    "                val x_3R: Either[(x.Knave,y.Knight),(x.Knight,y.Knave)] => Nothing = x_2R(xSay)\n",
    "                \n",
    "            \n",
    "                // En el pattern matching hay que expresar la rama Left y Right (siempre ambas)\n",
    "                premises.P1(y) match{\n",
    "                    case Left(yKnight: y.Knight) => x_3R(Left(xKnave, yKnight)) : (Either[x.Knave, x.Knight],y.Knave)\n",
    "                    // En este caso si a x_3R le paso un (x.Knave,y.Knight) obtengo un Nothing\n",
    "                    // El tipo Nothing es equivalente a cualquier otro tipo.\n",
    "                    // En este caso si tengo un Nothing tengo un (Either[x.Knave, x.Knight],y.Knave)\n",
    "                    case Right(yKnave: y.Knave) => (Left(xKnave), yKnave) : (Either[x.Knave, x.Knight],y.Knave)\n",
    "                }\n",
    "            \n",
    "        }) : (Either[x.Knave, x.Knight],y.Knave)})\n",
    "    "
   ]
  },
  {
   "cell_type": "code",
   "execution_count": 22,
   "metadata": {},
   "outputs": [
    {
     "data": {
      "text/plain": [
       "defined \u001b[32mfunction\u001b[39m \u001b[36mpuzzle4\u001b[39m"
      ]
     },
     "execution_count": 22,
     "metadata": {},
     "output_type": "execute_result"
    }
   ],
   "source": [
    "// VERSION 3 - SIMPLIFICADO\n",
    "\n",
    "def puzzle4(premises: KnightsKnaves)(x: Inhabitant)(y: Inhabitant): \n",
    "    x.Says[Either[(x.Knave,y.Knight),(x.Knight,y.Knave)]] => (Either[x.Knave, x.Knight],y.Knave) = \n",
    "    ({xSay =>\n",
    "        (premises.P1(x) match{\n",
    "            case Left(xKnight) => \n",
    "                val x_1L: x.Knight => \n",
    "                            x.Says[Either[(x.Knave,y.Knight),(x.Knight,y.Knave)]] => \n",
    "                                Either[(x.Knave,y.Knight),(x.Knight,y.Knave)] = premises.P2[Either[(x.Knave,y.Knight),(x.Knight,y.Knave)]](x)\n",
    "                \n",
    "                val x_2L: x.Says[Either[(x.Knave,y.Knight),(x.Knight,y.Knave)]] => \n",
    "                                Either[(x.Knave,y.Knight),(x.Knight,y.Knave)] = x_1L(xKnight)\n",
    "                val x_3L: Either[(x.Knave,y.Knight),(x.Knight,y.Knave)] = x_2L(xSay)\n",
    "                \n",
    "                (x_3L match{\n",
    "                    case Left(x_3L_left) => \n",
    "                        x_3L_left._1(xKnight) \n",
    "                    case Right(x_3L_right) => \n",
    "                        (Right(x_3L_right._1), x_3L_right._2) \n",
    "                })\n",
    "            \n",
    "            case Right(xKnave) => \n",
    "                val x_1R: x.Knave => \n",
    "                            x.Says[Either[(x.Knave,y.Knight),(x.Knight,y.Knave)]] => \n",
    "                                ¬[Either[(x.Knave,y.Knight),(x.Knight,y.Knave)]] = premises.P3[Either[(x.Knave,y.Knight),(x.Knight,y.Knave)]](x)\n",
    "                val x_2R: x.Says[Either[(x.Knave,y.Knight),(x.Knight,y.Knave)]] => \n",
    "                                ¬[Either[(x.Knave,y.Knight),(x.Knight,y.Knave)]] = x_1R(xKnave)\n",
    "                val x_3R: Either[(x.Knave,y.Knight),(x.Knight,y.Knave)] => Nothing = x_2R(xSay)\n",
    "                \n",
    "                premises.P1(y) match{\n",
    "                    case Left(yKnight) => x_3R(Left(xKnave, yKnight)) \n",
    "                    case Right(yKnave) => (Left(xKnave), yKnave) \n",
    "                }\n",
    "        }) \n",
    "    })\n",
    "    "
   ]
  },
  {
   "cell_type": "code",
   "execution_count": 21,
   "metadata": {},
   "outputs": [
    {
     "name": "stderr",
     "output_type": "stream",
     "text": [
      "(console):45:21 expected \")\"\r\n",
      "//Sugar version\n",
      "\n",
      "/*def puzzle4(premises: KnightsKnaves)(x: Inhabitant)(y: Inhabitant): \n",
      "    x.Says[Either[(x.Knave,y.Knight),(x.Knight,y.Knave)]] => (Either[x.Knave, x.Knight],y.Knave) = \n",
      "    ({xSay =>\n",
      "        (premises.P1(x) match{\n",
      "            case Left(xKnight) => \n",
      "                val x_1L: x.Knight => \n",
      "                            x.Says[Either[(x.Knave,y.Knight),(x.Knight,y.Knave)]] => \n",
      "                                Either[(x.Knave,y.Knight),(x.Knight,y.Knave)] = premises.P2[Either[(x.Knave,y.Knight),(x.Knight,y.Knave)]](x)\n",
      "                \n",
      "                val x_2L: x.Says[Either[(x.Knave,y.Knight),(x.Knight,y.Knave)]] => \n",
      "                                Either[(x.Knave,y.Knight),(x.Knight,y.Knave)] = x_1L(xKnight)\n",
      "                val x_3L: Either[(x.Knave,y.Knight),(x.Knight,y.Knave)] = x_2L(xSay)\n",
      "                \n",
      "                (x_3L match{\n",
      "                    case Left(x_3L_left) => \n",
      "                        val x_3L_left_not: x.Knight => Nothing = x_3L_left._1\n",
      "                        (Left(x_3L_left._1), x_3L_left_not(xKnight)) \n",
      "                    case Right(x_3L_right) => \n",
      "                        (Right(x_3L_right._1), x_3L_right._2) \n",
      "                })\n",
      "            \n",
      "            case Right(xKnave) => \n",
      "                val x_1R: x.Knave => \n",
      "                            x.Says[Either[(x.Knave,y.Knight),(x.Knight,y.Knave)]] => \n",
      "                                ¬[Either[(x.Knave,y.Knight),(x.Knight,y.Knave)]] = premises.P3[Either[(x.Knave,y.Knight),(x.Knight,y.Knave)]](x)\n",
      "                val x_2R: x.Says[Either[(x.Knave,y.Knight),(x.Knight,y.Knave)]] => \n",
      "                                ¬[Either[(x.Knave,y.Knight),(x.Knight,y.Knave)]] = x_1R(xKnave)\n",
      "                val x_3R: Either[(x.Knave,y.Knight),(x.Knight,y.Knave)] => Nothing = x_2R(xSay)\n",
      "                \n",
      "                premises.P1(y) match{\n",
      "                    case Left(yKnight) => x_3R(Left(xKnave, yKnight)) \n",
      "                    case Right(yKnave) => (Left(xKnave), yKnave) \n",
      "                }\n",
      "        }) \n",
      "    })\n",
      "*/\n",
      "\n",
      "def puzzle4(premises: KnightsKnaves)(x: Inhabitant)(y: Inhabitant): \n",
      "    x.Says[Either[(x.Knave,y.Knight),(x.Knight,y.Knave)]] => (Either[x.Knave, x.Knight],y.Knave) = \n",
      "        xSay_OrxKnaveOryKnave =>\n",
      "            premises.eitherKnightOrKnave(x).fold(\n",
      "                xIsKnight =>\n",
      "                    val aux1 = premises.noKnightLies(x)(xIsKnight)(xSay_OrxKnaveOryKnave): Either[(x.Knave,y.Knight),(x.Knight,y.Knave)]\n",
      "                    aux1 match{\n",
      "                        xKnaveyKnight => xKnaveyKnight._1(xIsKnight)\n",
      "                        xKnightyKnave => (Right(xKnightyKnave._1), xKnightyKnave._2)\n",
      "                    },\n",
      "                xIsKnave =>\n",
      "                    val aux2 = premises.noKnaveTellsTruth(x)(xIsKnave)(xSay_OrxKnaveOryKnave): ¬[Either[(x.Knave,y.Knight),(x.Knight,y.Knave)]]\n",
      "                    premises.eitherKnightOrKnave(y).fold(\n",
      "                        yIsKnight =>\n",
      "                            aux2(Left(xIsKnave, yIsKnight))\n",
      "                        ,\n",
      "                        yIsKnave =>\n",
      "                            (Left(xIsKnave), yIsKnave)\n",
      "            )\r\n",
      "                                                                                                                                                                                                                                                                                                                                                                                                                                                                                                                                                                                                                                                                                                                                                                                                                                                                                                                                                                                                                                                                                                                                                                                                                                                                                                                                                                                                                                                                                                                                                                                                                                                                                                                                                                                                                                                                                                                                                                                                                                                                                                                                                                                                                                                                                                                                                                                                      ^"
     ]
    },
    {
     "ename": "",
     "evalue": "",
     "output_type": "error",
     "traceback": [
      "(console):45:21 expected \")\"\r\n//Sugar version\n\n/*def puzzle4(premises: KnightsKnaves)(x: Inhabitant)(y: Inhabitant): \n    x.Says[Either[(x.Knave,y.Knight),(x.Knight,y.Knave)]] => (Either[x.Knave, x.Knight],y.Knave) = \n    ({xSay =>\n        (premises.P1(x) match{\n            case Left(xKnight) => \n                val x_1L: x.Knight => \n                            x.Says[Either[(x.Knave,y.Knight),(x.Knight,y.Knave)]] => \n                                Either[(x.Knave,y.Knight),(x.Knight,y.Knave)] = premises.P2[Either[(x.Knave,y.Knight),(x.Knight,y.Knave)]](x)\n                \n                val x_2L: x.Says[Either[(x.Knave,y.Knight),(x.Knight,y.Knave)]] => \n                                Either[(x.Knave,y.Knight),(x.Knight,y.Knave)] = x_1L(xKnight)\n                val x_3L: Either[(x.Knave,y.Knight),(x.Knight,y.Knave)] = x_2L(xSay)\n                \n                (x_3L match{\n                    case Left(x_3L_left) => \n                        val x_3L_left_not: x.Knight => Nothing = x_3L_left._1\n                        (Left(x_3L_left._1), x_3L_left_not(xKnight)) \n                    case Right(x_3L_right) => \n                        (Right(x_3L_right._1), x_3L_right._2) \n                })\n            \n            case Right(xKnave) => \n                val x_1R: x.Knave => \n                            x.Says[Either[(x.Knave,y.Knight),(x.Knight,y.Knave)]] => \n                                ¬[Either[(x.Knave,y.Knight),(x.Knight,y.Knave)]] = premises.P3[Either[(x.Knave,y.Knight),(x.Knight,y.Knave)]](x)\n                val x_2R: x.Says[Either[(x.Knave,y.Knight),(x.Knight,y.Knave)]] => \n                                ¬[Either[(x.Knave,y.Knight),(x.Knight,y.Knave)]] = x_1R(xKnave)\n                val x_3R: Either[(x.Knave,y.Knight),(x.Knight,y.Knave)] => Nothing = x_2R(xSay)\n                \n                premises.P1(y) match{\n                    case Left(yKnight) => x_3R(Left(xKnave, yKnight)) \n                    case Right(yKnave) => (Left(xKnave), yKnave) \n                }\n        }) \n    })\n*/\n\ndef puzzle4(premises: KnightsKnaves)(x: Inhabitant)(y: Inhabitant): \n    x.Says[Either[(x.Knave,y.Knight),(x.Knight,y.Knave)]] => (Either[x.Knave, x.Knight],y.Knave) = \n        xSay_OrxKnaveOryKnave =>\n            premises.eitherKnightOrKnave(x).fold(\n                xIsKnight =>\n                    val aux1 = premises.noKnightLies(x)(xIsKnight)(xSay_OrxKnaveOryKnave): Either[(x.Knave,y.Knight),(x.Knight,y.Knave)]\n                    aux1 match{\n                        xKnaveyKnight => xKnaveyKnight._1(xIsKnight)\n                        xKnightyKnave => (Right(xKnightyKnave._1), xKnightyKnave._2)\n                    },\n                xIsKnave =>\n                    val aux2 = premises.noKnaveTellsTruth(x)(xIsKnave)(xSay_OrxKnaveOryKnave): ¬[Either[(x.Knave,y.Knight),(x.Knight,y.Knave)]]\n                    premises.eitherKnightOrKnave(y).fold(\n                        yIsKnight =>\n                            aux2(Left(xIsKnave, yIsKnight))\n                        ,\n                        yIsKnave =>\n                            (Left(xIsKnave), yIsKnave)\n            )\r\n                                                                                                                                                                                                                                                                                                                                                                                                                                                                                                                                                                                                                                                                                                                                                                                                                                                                                                                                                                                                                                                                                                                                                                                                                                                                                                                                                                                                                                                                                                                                                                                                                                                                                                                                                                                                                                                                                                                                                                                                                                                                                                                                                                                                                                                                                                                                                                                                      ^"
     ]
    }
   ],
   "source": [
    "//Sugar version\n",
    "\n",
    "/*def puzzle4(premises: KnightsKnaves)(x: Inhabitant)(y: Inhabitant): \n",
    "    x.Says[Either[(x.Knave,y.Knight),(x.Knight,y.Knave)]] => (Either[x.Knave, x.Knight],y.Knave) = \n",
    "    ({xSay =>\n",
    "        (premises.P1(x) match{\n",
    "            case Left(xKnight) => \n",
    "                val x_1L: x.Knight => \n",
    "                            x.Says[Either[(x.Knave,y.Knight),(x.Knight,y.Knave)]] => \n",
    "                                Either[(x.Knave,y.Knight),(x.Knight,y.Knave)] = premises.P2[Either[(x.Knave,y.Knight),(x.Knight,y.Knave)]](x)\n",
    "                \n",
    "                val x_2L: x.Says[Either[(x.Knave,y.Knight),(x.Knight,y.Knave)]] => \n",
    "                                Either[(x.Knave,y.Knight),(x.Knight,y.Knave)] = x_1L(xKnight)\n",
    "                val x_3L: Either[(x.Knave,y.Knight),(x.Knight,y.Knave)] = x_2L(xSay)\n",
    "                \n",
    "                (x_3L match{\n",
    "                    case Left(x_3L_left) => \n",
    "                        val x_3L_left_not: x.Knight => Nothing = x_3L_left._1\n",
    "                        (Left(x_3L_left._1), x_3L_left_not(xKnight)) \n",
    "                    case Right(x_3L_right) => \n",
    "                        (Right(x_3L_right._1), x_3L_right._2) \n",
    "                })\n",
    "            \n",
    "            case Right(xKnave) => \n",
    "                val x_1R: x.Knave => \n",
    "                            x.Says[Either[(x.Knave,y.Knight),(x.Knight,y.Knave)]] => \n",
    "                                ¬[Either[(x.Knave,y.Knight),(x.Knight,y.Knave)]] = premises.P3[Either[(x.Knave,y.Knight),(x.Knight,y.Knave)]](x)\n",
    "                val x_2R: x.Says[Either[(x.Knave,y.Knight),(x.Knight,y.Knave)]] => \n",
    "                                ¬[Either[(x.Knave,y.Knight),(x.Knight,y.Knave)]] = x_1R(xKnave)\n",
    "                val x_3R: Either[(x.Knave,y.Knight),(x.Knight,y.Knave)] => Nothing = x_2R(xSay)\n",
    "                \n",
    "                premises.P1(y) match{\n",
    "                    case Left(yKnight) => x_3R(Left(xKnave, yKnight)) \n",
    "                    case Right(yKnave) => (Left(xKnave), yKnave) \n",
    "                }\n",
    "        }) \n",
    "    })\n",
    "*/\n",
    "\n",
    "def puzzle4(premises: KnightsKnaves)(x: Inhabitant)(y: Inhabitant): \n",
    "    x.Says[Either[(x.Knave,y.Knight),(x.Knight,y.Knave)]] => (Either[x.Knave, x.Knight],y.Knave) = \n",
    "        xSay_OrxKnaveOryKnave =>\n",
    "            premises.eitherKnightOrKnave(x).fold(\n",
    "                xIsKnight =>\n",
    "                    val aux1 = premises.noKnightLies(x)(xIsKnight)(xSay_OrxKnaveOryKnave): Either[(x.Knave,y.Knight),(x.Knight,y.Knave)]\n",
    "                    aux1 match{\n",
    "                        xKnaveyKnight => xKnaveyKnight._1(xIsKnight)\n",
    "                        xKnightyKnave => (Right(xKnightyKnave._1), xKnightyKnave._2)\n",
    "                    },\n",
    "                xIsKnave =>\n",
    "                    val aux2 = premises.noKnaveTellsTruth(x)(xIsKnave)(xSay_OrxKnaveOryKnave): ¬[Either[(x.Knave,y.Knight),(x.Knight,y.Knave)]]\n",
    "                    premises.eitherKnightOrKnave(y).fold(\n",
    "                        yIsKnight =>\n",
    "                            aux2(Left(xIsKnave, yIsKnight))\n",
    "                        ,\n",
    "                        yIsKnave =>\n",
    "                            (Left(xIsKnave), yIsKnave)\n",
    "            )"
   ]
  },
  {
   "cell_type": "code",
   "execution_count": null,
   "metadata": {},
   "outputs": [],
   "source": []
  },
  {
   "cell_type": "code",
   "execution_count": null,
   "metadata": {},
   "outputs": [],
   "source": []
  },
  {
   "cell_type": "code",
   "execution_count": null,
   "metadata": {},
   "outputs": [],
   "source": []
  }
 ],
 "metadata": {
  "kernelspec": {
   "display_name": "Scala",
   "language": "scala",
   "name": "scala"
  },
  "language_info": {
   "codemirror_mode": "text/x-scala",
   "file_extension": ".sc",
   "mimetype": "text/x-scala",
   "name": "scala",
   "nbconvert_exporter": "script",
   "version": "2.13.3"
  }
 },
 "nbformat": 4,
 "nbformat_minor": 4
}
