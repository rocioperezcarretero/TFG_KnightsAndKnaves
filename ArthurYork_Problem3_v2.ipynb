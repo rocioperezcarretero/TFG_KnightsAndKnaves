{
 "cells": [
  {
   "cell_type": "code",
   "execution_count": 26,
   "metadata": {},
   "outputs": [
    {
     "data": {
      "text/plain": [
       "defined \u001b[32mtype\u001b[39m \u001b[36m∨\u001b[39m\r\n",
       "defined \u001b[32mtype\u001b[39m \u001b[36m∧\u001b[39m\r\n",
       "defined \u001b[32mtype\u001b[39m \u001b[36m⟶\u001b[39m\r\n",
       "defined \u001b[32mtype\u001b[39m \u001b[36m⊥\u001b[39m\r\n",
       "defined \u001b[32mtype\u001b[39m \u001b[36mTrue\u001b[39m\r\n",
       "defined \u001b[32mtype\u001b[39m \u001b[36m¬\u001b[39m\r\n",
       "defined \u001b[32mtype\u001b[39m \u001b[36m⟷\u001b[39m"
      ]
     },
     "execution_count": 26,
     "metadata": {},
     "output_type": "execute_result"
    }
   ],
   "source": [
    "type ∨[P, Q] = Either[P, Q]\n",
    "type ∧[P, Q] = Tuple2[P, Q]\n",
    "type ⟶[P, Q] = P => Q\n",
    "type ⊥ = Nothing\n",
    "type True = Unit\n",
    "type ¬[P] = P => ⊥\n",
    "type ⟷[P, Q] = (P => Q) ∧ (Q => P)"
   ]
  },
  {
   "cell_type": "code",
   "execution_count": 27,
   "metadata": {
    "scrolled": true
   },
   "outputs": [
    {
     "data": {
      "text/plain": [
       "defined \u001b[32mtype\u001b[39m \u001b[36mOr\u001b[39m\r\n",
       "defined \u001b[32mtype\u001b[39m \u001b[36mAnd\u001b[39m\r\n",
       "defined \u001b[32mtype\u001b[39m \u001b[36mImplies\u001b[39m\r\n",
       "defined \u001b[32mtype\u001b[39m \u001b[36mFalse\u001b[39m\r\n",
       "defined \u001b[32mtype\u001b[39m \u001b[36mTrue\u001b[39m\r\n",
       "defined \u001b[32mtype\u001b[39m \u001b[36mNot\u001b[39m\r\n",
       "defined \u001b[32mtype\u001b[39m \u001b[36m<=>\u001b[39m"
      ]
     },
     "execution_count": 27,
     "metadata": {},
     "output_type": "execute_result"
    }
   ],
   "source": [
    "type Or[P, Q] = Either[P, Q]\n",
    "type And[P, Q] = Tuple2[P, Q]\n",
    "type Implies[P, Q] = P => Q\n",
    "type False = Nothing\n",
    "type True = Unit\n",
    "type Not[P] = P => ⊥\n",
    "type <=>[P, Q] = (P => Q, Q => P)"
   ]
  },
  {
   "cell_type": "code",
   "execution_count": 28,
   "metadata": {},
   "outputs": [
    {
     "data": {
      "text/plain": [
       "defined \u001b[32mclass\u001b[39m \u001b[36mInhabitant\u001b[39m"
      ]
     },
     "execution_count": 28,
     "metadata": {},
     "output_type": "execute_result"
    }
   ],
   "source": [
    "class Inhabitant{ x => \n",
    "    // Knight(x) -- `x` is a Knight\n",
    "    // \n",
    "    type Knight\n",
    "    \n",
    "    // Knave(x) -- `x` is a Knave (i.e. is not a Knight)\n",
    "    // \n",
    "    type Knave = ¬[Knight]\n",
    "    \n",
    "    // Says(x, P) -- `x` says that `P` holds, i.e. asserts proposition `P`\n",
    "    // \n",
    "    type Says[P]\n",
    "    \n",
    "    // Tipo Arthur York\n",
    "    //\n",
    "    type Arthur\n",
    "}"
   ]
  },
  {
   "cell_type": "code",
   "execution_count": 29,
   "metadata": {},
   "outputs": [
    {
     "data": {
      "text/plain": [
       "defined \u001b[32mtrait\u001b[39m \u001b[36mKnightsKnaves\u001b[39m"
      ]
     },
     "execution_count": 29,
     "metadata": {},
     "output_type": "execute_result"
    }
   ],
   "source": [
    "trait KnightsKnaves{\n",
    "    // P1. Inhabitants are knights or knaves\n",
    "    // \n",
    "    //     ∀ x. Inhabitant(x) ⟶ Knight(x) ∨ Knave(x) \n",
    "    // \n",
    "    def P1(x: Inhabitant): x.Knight ∨ x.Knave\n",
    "    \n",
    "    // In Scala 3\n",
    "    // val P1: (x: Inhabitant) => Either[x.Knight, x.Knave]\n",
    "    \n",
    "    // P2. Knights are truth tellers\n",
    "    // \n",
    "    //     ∀ P. ∀ x. Knight(x) ⟶ Says(x, P) ⟶ P\n",
    "    // \n",
    "    def P2[P](x: Inhabitant): x.Knight => x.Says[P] => P\n",
    "    \n",
    "    // In Scala 3\n",
    "    // val P2: [P] => (x: Inhabitant) => x.Knight => x.Says[P] => P\n",
    "    \n",
    "    // P3. Knaves are persistent liers\n",
    "    // \n",
    "    //     ∀ P. ∀ x. Knight(x) ⟶ Says(x, P) ⟶ ¬P\n",
    "    // \n",
    "    def P3[P](x: Inhabitant): x.Knave => x.Says[P] => ¬[P]\n",
    "    \n",
    "    //def P4[P](x: Inhabitant)(y: Inhabitant): (x.Knave => y.Knave) ∧ (y.Knave => x.Knave)\n",
    "    //def P4[P](x: Inhabitant)(y: Inhabitant): x.Knave <=> y.Knave \n",
    "    //def P5[P](x: Inhabitant)(y: Inhabitant): (x.Knight => y.Knight) ∧ (y.Knight => x.Knight)\n",
    "    //def P5[P](x: Inhabitant)(y: Inhabitant): x.Knight <=> y.Knight \n",
    "    \n",
    "    // Tip de Juanma\n",
    "    // Si el sujeto es Arthur, entonces si Arthur dice P, quiere decir que el sujeto dice P\n",
    "    def P4_1[P](x: Inhabitant)(arthur: Inhabitant): x.Arthur => arthur.Says[P] => x.Says[P]\n",
    "    // Si el sujeto es Arthur, entonces si Arthur es un Knight, quiere decir que el sujeto es un Knight\n",
    "    def P4_2[P](x: Inhabitant)(arthur: Inhabitant): x.Arthur => arthur.Knight => x.Knight\n",
    "}"
   ]
  },
  {
   "cell_type": "markdown",
   "metadata": {},
   "source": [
    "# Problem 3 - The Third Trial.\n",
    "“Don’t despair,” said Craig to the chief of the island police, “we may find our man yet!” \n",
    "Well, a third suspect was arrested and brought to trial. \n",
    "He brought with him his defense attorney, and the two made the following statements in court. \n",
    "\n",
    "Defense Attorney: My client is indeed a knave, but he is not Arthur York. \n",
    "DEFENDANT: My attorney always tells the truth!\n",
    "\n",
    "Is there enough evidence either to acquit or convict the defendant? "
   ]
  },
  {
   "cell_type": "markdown",
   "metadata": {},
   "source": [
    "**SOLUCION**\n",
    "\n",
    "It was very stupid for the defendant to say what he did! Of all the false statements he could have made, he chose just about the most incriminating one possible. Here is why the defendant must be Arthur York:\n",
    "\n",
    "Suppose the defense attorney is a knight. Then his statement is true, which implies that the defendant is a knave. Hence the defendant’s statement is false, which means that the defense attorney is a knave. So if the defense attorney is a knight, he is also a knave, which is impossible.\n",
    "**Therefore the defense attorney can’t be a knight; he must be a knave.** It then follows that **the defendant is also a knave**, since he falsely claimed that his attorney always tells the truth. **And so we now know that both the attorney and the defendant are knaves.**\n",
    "\n",
    "Now, if the defendant were not Arthur York, then it would be true that the defendant is a knave but not Arthur York, hence the attorney would have made a true statement. But the attorney is a knave and can’t make a true statement! \n",
    "**Therefore the defendant must be Arthur York.**\n"
   ]
  },
  {
   "cell_type": "code",
   "execution_count": 4,
   "metadata": {},
   "outputs": [],
   "source": [
    "/*\n",
    "Razonamiento 1:\n",
    "Defense Attorney: My client is indeed a knave, but he is not Arthur York. DEFENDANT: My attorney always tells the truth!\n",
    "\n",
    "Esto seria:\n",
    "\n",
    "x = defendant\n",
    "da = defense attorney\n",
    "          PREDICADO:                                                   SOLUCION:\n",
    "((da.Says[(x.Knave, Not[x.Arthur])], x.Says[da.Knight])) => ((da.Knave, x.Knave), x.Arthur)\n",
    "\n",
    "\n",
    "*/"
   ]
  },
  {
   "cell_type": "code",
   "execution_count": 5,
   "metadata": {},
   "outputs": [
    {
     "data": {
      "text/plain": [
       "defined \u001b[32mfunction\u001b[39m \u001b[36mproblem3\u001b[39m"
      ]
     },
     "execution_count": 5,
     "metadata": {},
     "output_type": "execute_result"
    }
   ],
   "source": [
    "def problem3(premises: KnightsKnaves)(x: Inhabitant)(da: Inhabitant): \n",
    "    ((da.Says[(x.Knave, Not[x.Arthur])], x.Says[da.Knight])) => ((da.Knave, x.Knave), x.Arthur) = ???"
   ]
  },
  {
   "cell_type": "code",
   "execution_count": 6,
   "metadata": {},
   "outputs": [
    {
     "data": {
      "text/plain": [
       "defined \u001b[32mfunction\u001b[39m \u001b[36mproblem3\u001b[39m"
      ]
     },
     "execution_count": 6,
     "metadata": {},
     "output_type": "execute_result"
    }
   ],
   "source": [
    "def problem3(premises: KnightsKnaves)(x: Inhabitant)(da: Inhabitant): \n",
    "    ((da.Says[(x.Knave, Not[x.Arthur])], x.Says[da.Knight])) => ((da.Knave, x.Knave), x.Arthur) = \n",
    "        ({t: ((da.Says[(x.Knave, Not[x.Arthur])], x.Says[da.Knight])) =>\n",
    "            ??? : ((da.Knave, x.Knave), x.Arthur)\n",
    "        }) : (((da.Says[(x.Knave, Not[x.Arthur])], x.Says[da.Knight])) => ((da.Knave, x.Knave), x.Arthur))"
   ]
  },
  {
   "cell_type": "code",
   "execution_count": 7,
   "metadata": {},
   "outputs": [
    {
     "data": {
      "text/plain": [
       "defined \u001b[32mfunction\u001b[39m \u001b[36mproblem3\u001b[39m"
      ]
     },
     "execution_count": 7,
     "metadata": {},
     "output_type": "execute_result"
    }
   ],
   "source": [
    "def problem3(premises: KnightsKnaves)(x: Inhabitant)(da: Inhabitant): \n",
    "    ((da.Says[(x.Knave, Not[x.Arthur])], x.Says[da.Knight])) => ((da.Knave, x.Knave), x.Arthur) = \n",
    "        ({t: ((da.Says[(x.Knave, Not[x.Arthur])], x.Says[da.Knight])) =>\n",
    "            t._1: da.Says[(x.Knave, Not[x.Arthur])]\n",
    "            t._2: x.Says[da.Knight]\n",
    "            \n",
    "            premises.P1(da) match{\n",
    "                case Left(daKnight: da.Knight) => ??? : ((da.Knave, x.Knave), x.Arthur)\n",
    "                case Right(daKnave: da.Knave) => ??? : ((da.Knave, x.Knave), x.Arthur)\n",
    "            }\n",
    "            \n",
    "            ??? : ((da.Knave, x.Knave), x.Arthur)\n",
    "        }) : (((da.Says[(x.Knave, Not[x.Arthur])], x.Says[da.Knight])) => ((da.Knave, x.Knave), x.Arthur))"
   ]
  },
  {
   "cell_type": "code",
   "execution_count": 8,
   "metadata": {},
   "outputs": [
    {
     "data": {
      "text/plain": [
       "defined \u001b[32mfunction\u001b[39m \u001b[36mproblem3\u001b[39m"
      ]
     },
     "execution_count": 8,
     "metadata": {},
     "output_type": "execute_result"
    }
   ],
   "source": [
    "def problem3(premises: KnightsKnaves)(x: Inhabitant)(da: Inhabitant): \n",
    "    ((da.Says[(x.Knave, Not[x.Arthur])], x.Says[da.Knight])) => ((da.Knave, x.Knave), x.Arthur) = \n",
    "        ({t: ((da.Says[(x.Knave, Not[x.Arthur])], x.Says[da.Knight])) =>\n",
    "            t._1: da.Says[(x.Knave, Not[x.Arthur])]\n",
    "            t._2: x.Says[da.Knight]\n",
    "            \n",
    "            premises.P1(da) match{\n",
    "                case Left(daKnight: da.Knight) => \n",
    "                    // def P2[P](da: Inhabitant): da.Knight => da.Says[P] => P \n",
    "                    val da_L1: da.Knight => da.Says[(x.Knave, Not[x.Arthur])] => (x.Knave, Not[x.Arthur]) = \n",
    "                                premises.P2[(x.Knave, Not[x.Arthur])](da)\n",
    "                    val da_L2: da.Says[(x.Knave, Not[x.Arthur])] => (x.Knave, Not[x.Arthur]) = da_L1(daKnight)\n",
    "                    val da_L3: (x.Knave, Not[x.Arthur]) = da_L2(t._1)\n",
    "                    \n",
    "                    da_L3._1: x.Knave\n",
    "                    da_L3._2: (x.Arthur => Nothing)\n",
    "                \n",
    "                    premises.P1(x) match{\n",
    "                        case Left(xKnight: x.Knight) => \n",
    "                            ??? : ((da.Knave, x.Knave), x.Arthur)\n",
    "                        case Right(xKnave: x.Knave) => \n",
    "                            ??? : ((da.Knave, x.Knave), x.Arthur)\n",
    "                    }\n",
    "                \n",
    "                    ??? : ((da.Knave, x.Knave), x.Arthur)\n",
    "                case Right(daKnave: da.Knave) => \n",
    "                    //def P3[P](da: Inhabitant): da.Knave => da.Says[P] => ¬[P]\n",
    "                \n",
    "                    ??? : ((da.Knave, x.Knave), x.Arthur)\n",
    "            }\n",
    "            \n",
    "            ??? : ((da.Knave, x.Knave), x.Arthur)\n",
    "        }) : (((da.Says[(x.Knave, Not[x.Arthur])], x.Says[da.Knight])) => ((da.Knave, x.Knave), x.Arthur))"
   ]
  },
  {
   "cell_type": "code",
   "execution_count": 52,
   "metadata": {},
   "outputs": [
    {
     "data": {
      "text/plain": [
       "defined \u001b[32mfunction\u001b[39m \u001b[36mproblem3\u001b[39m"
      ]
     },
     "execution_count": 52,
     "metadata": {},
     "output_type": "execute_result"
    }
   ],
   "source": [
    "//Primero da.Says y luego x.Says\n",
    "def problem3(premises: KnightsKnaves)(x: Inhabitant)(da: Inhabitant): \n",
    "    ((da.Says[(x.Knave, Not[x.Arthur])], x.Says[da.Knight])) => ((da.Knave, x.Knave), x.Arthur) = \n",
    "        ({t: ((da.Says[(x.Knave, Not[x.Arthur])], x.Says[da.Knight])) =>\n",
    "            t._1: da.Says[(x.Knave, Not[x.Arthur])]\n",
    "            t._2: x.Says[da.Knight]\n",
    "            \n",
    "            premises.P1(da) match{\n",
    "                case Left(daKnight: da.Knight) => \n",
    "                    // def P2[P](da: Inhabitant): da.Knight => da.Says[P] => P \n",
    "                    val da_L1: da.Knight => da.Says[(x.Knave, Not[x.Arthur])] => (x.Knave, Not[x.Arthur]) = \n",
    "                                premises.P2[(x.Knave, Not[x.Arthur])](da)\n",
    "                    val da_L2: da.Says[(x.Knave, Not[x.Arthur])] => (x.Knave, Not[x.Arthur]) = da_L1(daKnight)\n",
    "                    val da_L3: (x.Knave, Not[x.Arthur]) = da_L2(t._1)\n",
    "                    \n",
    "                    da_L3._1: x.Knave\n",
    "                    da_L3._2: (x.Arthur => Nothing)\n",
    "                \n",
    "                    (premises.P1(x) match{\n",
    "                        case Left(xKnight: x.Knight) => \n",
    "                            da_L3._1(xKnight): Nothing\n",
    "                            da_L3._1(xKnight) : ((da.Knave, x.Knave), x.Arthur)\n",
    "                        case Right(xKnave: x.Knave) => \n",
    "                            //def P3[P](x: Inhabitant): x.Knave => x.Says[P] => ¬[P]\n",
    "                            val x_R1: x.Knave => x.Says[da.Knight] => ¬[da.Knight] = premises.P3[da.Knight](x)\n",
    "                            val x_R2: x.Says[da.Knight] => ¬[da.Knight] = x_R1(xKnave)\n",
    "                            val x_R3: da.Knight => Nothing = x_R2(t._2)\n",
    "                            \n",
    "                            x_R3(daKnight): Nothing\n",
    "                            x_R3(daKnight): ((da.Knave, x.Knave), x.Arthur)\n",
    "                    }): ((da.Knave, x.Knave), x.Arthur)\n",
    "                \n",
    "                case Right(daKnave: da.Knave) => \n",
    "                    //def P3[P](da: Inhabitant): da.Knave => da.Says[P] => ¬[P]\n",
    "                    val da_R1: da.Knave => da.Says[(x.Knave, Not[x.Arthur])] => ¬[(x.Knave, Not[x.Arthur])] = \n",
    "                                premises.P3[(x.Knave, Not[x.Arthur])](da)\n",
    "                    val da_R2: da.Says[(x.Knave, Not[x.Arthur])] => ¬[(x.Knave, Not[x.Arthur])] = da_R1(daKnave)\n",
    "                    val da_R3: ((x.Knave, Not[x.Arthur])) => Nothing = da_R2(t._1)\n",
    "                    \n",
    "                    premises.P1(x) match{\n",
    "                        case Left(xKnight: x.Knight) => \n",
    "                            // def P2[P](x: Inhabitant): x.Knight => x.Says[P] => P \n",
    "                            val x_L1: x.Knight => x.Says[da.Knight] => da.Knight = premises.P2[da.Knight](x)\n",
    "                            val x_L2: x.Says[da.Knight] => da.Knight = x_L1(xKnight)\n",
    "                            val x_L3: da.Knight = x_L2(t._2)\n",
    "                            daKnave(x_L3): Nothing\n",
    "                            daKnave(x_L3): ((da.Knave, x.Knave), x.Arthur)\n",
    "                        \n",
    "                        case Right(xKnave: x.Knave) => \n",
    "                            //def P3[P](x: Inhabitant): x.Knave => x.Says[P] => ¬[P]\n",
    "                            val x_R1: x.Knave => x.Says[da.Knight] => ¬[da.Knight] = premises.P3[da.Knight](x)\n",
    "                            val x_R2: x.Says[da.Knight] => ¬[da.Knight] = x_R1(xKnave)\n",
    "                            val x_R3: da.Knight => Nothing = x_R2(t._2)\n",
    "                            \n",
    "                            premises.P1(da) match{\n",
    "                                case Left(daKnight: da.Knight) => \n",
    "                                    daKnave(daKnight): Nothing\n",
    "                                    daKnave(daKnight): ((da.Knave, x.Knave), x.Arthur)\n",
    "                                case Right(daKnave: da.Knave) => \n",
    "                                    //def P3[P](da: Inhabitant): da.Knave => da.Says[P] => ¬[P]\n",
    "                                    val da_R1: da.Knave => da.Says[(x.Knave, Not[x.Arthur])] => ¬[(x.Knave, Not[x.Arthur])] = \n",
    "                                                        premises.P3[(x.Knave, Not[x.Arthur])](da)\n",
    "                                    val da_R2: da.Says[(x.Knave, Not[x.Arthur])] => ¬[(x.Knave, Not[x.Arthur])] = da_R1(daKnave)\n",
    "                                    //val da_R3: ¬[(x.Knave, Not[x.Arthur])] = da_R2(t._1)\n",
    "                                    //val da_R3: ((x.Knave, Not[x.Arthur])) => Nothing = da_R2(t._1)\n",
    "                                    val da_R3: ((x.Knave, x.Arthur => Nothing)) => Nothing = da_R2(t._1)\n",
    "                                    \n",
    "                                    ??? : ((da.Knave, x.Knave), x.Arthur)\n",
    "                            }\n",
    "                        \n",
    "                            ??? : ((da.Knave, x.Knave), x.Arthur)\n",
    "                    }\n",
    "                \n",
    "                    ??? : ((da.Knave, x.Knave), x.Arthur)\n",
    "            }\n",
    "            \n",
    "            ??? : ((da.Knave, x.Knave), x.Arthur)\n",
    "        }) : (((da.Says[(x.Knave, Not[x.Arthur])], x.Says[da.Knight])) => ((da.Knave, x.Knave), x.Arthur))"
   ]
  },
  {
   "cell_type": "code",
   "execution_count": 75,
   "metadata": {},
   "outputs": [
    {
     "data": {
      "text/plain": [
       "defined \u001b[32mfunction\u001b[39m \u001b[36mproblem3\u001b[39m"
      ]
     },
     "execution_count": 75,
     "metadata": {},
     "output_type": "execute_result"
    }
   ],
   "source": [
    "//Primero da.Says y luego x.Says\n",
    "def problem3(premises: KnightsKnaves)(x: Inhabitant)(da: Inhabitant)(a: Inhabitant): \n",
    "    ((da.Says[(x.Knave, Not[x.Arthur])], x.Says[da.Knight])) => ((da.Knave, x.Knave), x.Arthur) = \n",
    "        ({t: ((da.Says[(x.Knave, Not[x.Arthur])], x.Says[da.Knight])) =>\n",
    "            t._1: da.Says[(x.Knave, Not[x.Arthur])]\n",
    "            t._2: x.Says[da.Knight]\n",
    "            \n",
    "            premises.P1(da) match{\n",
    "                case Left(daKnight: da.Knight) => \n",
    "                    // def P2[P](da: Inhabitant): da.Knight => da.Says[P] => P \n",
    "                    val da_L1: da.Knight => da.Says[(x.Knave, Not[x.Arthur])] => (x.Knave, Not[x.Arthur]) = \n",
    "                                premises.P2[(x.Knave, Not[x.Arthur])](da)\n",
    "                    val da_L2: da.Says[(x.Knave, Not[x.Arthur])] => (x.Knave, Not[x.Arthur]) = da_L1(daKnight)\n",
    "                    val da_L3: (x.Knave, Not[x.Arthur]) = da_L2(t._1)\n",
    "                    \n",
    "                    da_L3._1: x.Knave\n",
    "                    da_L3._2: (x.Arthur => Nothing)\n",
    "                \n",
    "                    (premises.P1(x) match{\n",
    "                        case Left(xKnight: x.Knight) => \n",
    "                            da_L3._1(xKnight): Nothing\n",
    "                            da_L3._1(xKnight) : ((da.Knave, x.Knave), x.Arthur)\n",
    "                        case Right(xKnave: x.Knave) => \n",
    "                            //def P3[P](x: Inhabitant): x.Knave => x.Says[P] => ¬[P]\n",
    "                            val x_R1: x.Knave => x.Says[da.Knight] => ¬[da.Knight] = premises.P3[da.Knight](x)\n",
    "                            val x_R2: x.Says[da.Knight] => ¬[da.Knight] = x_R1(xKnave)\n",
    "                            val x_R3: da.Knight => Nothing = x_R2(t._2)\n",
    "                            \n",
    "                            x_R3(daKnight): Nothing\n",
    "                            x_R3(daKnight): ((da.Knave, x.Knave), x.Arthur)\n",
    "                    }): ((da.Knave, x.Knave), x.Arthur)\n",
    "                \n",
    "                case Right(daKnave: da.Knave) => \n",
    "                    //def P3[P](da: Inhabitant): da.Knave => da.Says[P] => ¬[P]\n",
    "                    val da_R1: da.Knave => da.Says[(x.Knave, Not[x.Arthur])] => ¬[(x.Knave, Not[x.Arthur])] = \n",
    "                                premises.P3[(x.Knave, Not[x.Arthur])](da)\n",
    "                    val da_R2: da.Says[(x.Knave, Not[x.Arthur])] => ¬[(x.Knave, Not[x.Arthur])] = da_R1(daKnave)\n",
    "                    //val da_R3: ((x.Knave, Not[x.Arthur])) => Nothing = da_R2(t._1)\n",
    "                    val da_R3: ((x.Knave, x.Arthur => Nothing)) => Nothing = da_R2(t._1)\n",
    "                    \n",
    "                    premises.P1(x) match{\n",
    "                        case Left(xKnight: x.Knight) => \n",
    "                            // def P2[P](x: Inhabitant): x.Knight => x.Says[P] => P \n",
    "                            val x_L1: x.Knight => x.Says[da.Knight] => da.Knight = premises.P2[da.Knight](x)\n",
    "                            val x_L2: x.Says[da.Knight] => da.Knight = x_L1(xKnight)\n",
    "                            val x_L3: da.Knight = x_L2(t._2)\n",
    "                            daKnave(x_L3): Nothing\n",
    "                            daKnave(x_L3): ((da.Knave, x.Knave), x.Arthur)\n",
    "                        \n",
    "                        case Right(xKnave: x.Knave) => \n",
    "                            //def P3[P](x: Inhabitant): x.Knave => x.Says[P] => ¬[P]\n",
    "                            val x_R1: x.Knave => x.Says[da.Knight] => ¬[da.Knight] = premises.P3[da.Knight](x)\n",
    "                            val x_R2: x.Says[da.Knight] => ¬[da.Knight] = x_R1(xKnave)\n",
    "                            val x_R3: da.Knight => Nothing = x_R2(t._2)\n",
    "                            \n",
    "                            da_R3((xKnave: x.Knave, ({xArthur: x.Arthur => \n",
    "                                                    //def P4_2[P](x: Inhabitant)(da: Inhabitant): x.Arthur => da.Knight => x.Knight\n",
    "                                                    premises.P1(da) match{\n",
    "                                                        case Left(daKnight: da.Knight) => \n",
    "                                                            val da_L1: x.Arthur => da.Knight => x.Knight = premises.P4_2(x)(da)\n",
    "                                                            val da_L2: da.Knight => x.Knight = da_L1(xArthur)\n",
    "                                                            val da_L3: x.Knight = da_L2(daKnight)\n",
    "                                                            xKnave(da_L3) : Nothing\n",
    "                                                        case Right(daKnave: da.Knave) => \n",
    "                                                        //def P4_1[P](x: Inhabitant)(da: Inhabitant): x.Arthur => da.Says[P] => x.Says[P]\n",
    "                                                            val da_R1: x.Arthur => da.Says[(x.Knave, Not[x.Arthur])] => x.Says[(x.Knave, Not[x.Arthur])] =\n",
    "                                                                                    premises.P4_1[(x.Knave, Not[x.Arthur])](x)(da)\n",
    "                                                            val da_R2: da.Says[(x.Knave, Not[x.Arthur])] => x.Says[(x.Knave, Not[x.Arthur])] = da_R1(xArthur)\n",
    "                                                            val da_R3: x.Says[(x.Knave, Not[x.Arthur])] = da_R2(t._1)\n",
    "\n",
    "                                                            // def P2[P](x: Inhabitant): x.Knave => x.Says[P] => ¬[P]\n",
    "                                                            val x_R1: x.Knave => x.Says[(x.Knave, Not[x.Arthur])] => Not[(x.Knave, Not[x.Arthur])] = \n",
    "                                                                                premises.P3[(x.Knave, Not[x.Arthur])](x)\n",
    "                                                            val x_R2: x.Says[(x.Knave, Not[x.Arthur])] => Not[(x.Knave, Not[x.Arthur])] = x_R1(xKnave)\n",
    "                                                            val x_R3: ((x.Knave, Not[x.Arthur])) => Nothing = x_R2(da_R3)\n",
    "                                                            \n",
    "                                                            \n",
    "                                                            \n",
    "                                                            ??? : Nothing\n",
    "                                                    }\n",
    "                                                    \n",
    "                                                    ??? : Nothing}))): Nothing\n",
    "                            \n",
    "                        \n",
    "                            ??? : ((da.Knave, x.Knave), x.Arthur)\n",
    "                    }\n",
    "                \n",
    "                    ??? : ((da.Knave, x.Knave), x.Arthur)\n",
    "            }\n",
    "            \n",
    "            ??? : ((da.Knave, x.Knave), x.Arthur)\n",
    "        }) : (((da.Says[(x.Knave, Not[x.Arthur])], x.Says[da.Knight])) => ((da.Knave, x.Knave), x.Arthur))"
   ]
  },
  {
   "cell_type": "code",
   "execution_count": 10,
   "metadata": {},
   "outputs": [
    {
     "data": {
      "text/plain": [
       "defined \u001b[32mfunction\u001b[39m \u001b[36mproblem3\u001b[39m"
      ]
     },
     "execution_count": 10,
     "metadata": {},
     "output_type": "execute_result"
    }
   ],
   "source": [
    "//Primero x.Says y luego da.Says\n",
    "def problem3(premises: KnightsKnaves)(x: Inhabitant)(da: Inhabitant): \n",
    "    ((da.Says[(x.Knave, Not[x.Arthur])], x.Says[da.Knight])) => ((da.Knave, x.Knave), x.Arthur) = \n",
    "        ({t: ((da.Says[(x.Knave, Not[x.Arthur])], x.Says[da.Knight])) =>\n",
    "            t._1: da.Says[(x.Knave, Not[x.Arthur])]\n",
    "            t._2: x.Says[da.Knight]\n",
    "            \n",
    "            premises.P1(x) match{\n",
    "                case Left(xKnight: x.Knight) => \n",
    "                    // def P2[P](x: Inhabitant): x.Knight => x.Says[P] => P \n",
    "                    ??? : ((da.Knave, x.Knave), x.Arthur)\n",
    "                case Right(xKnave: x.Knave) => \n",
    "                    //def P3[P](x: Inhabitant): x.Knave => x.Says[P] => ¬[P]\n",
    "                    ??? : ((da.Knave, x.Knave), x.Arthur)\n",
    "            }\n",
    "            ??? : ((da.Knave, x.Knave), x.Arthur)\n",
    "        }) : (((da.Says[(x.Knave, Not[x.Arthur])], x.Says[da.Knight])) => ((da.Knave, x.Knave), x.Arthur))"
   ]
  },
  {
   "cell_type": "code",
   "execution_count": 11,
   "metadata": {},
   "outputs": [
    {
     "data": {
      "text/plain": [
       "defined \u001b[32mfunction\u001b[39m \u001b[36mproblem3\u001b[39m"
      ]
     },
     "execution_count": 11,
     "metadata": {},
     "output_type": "execute_result"
    }
   ],
   "source": [
    "//Primero x.Says y luego da.Says\n",
    "def problem3(premises: KnightsKnaves)(x: Inhabitant)(da: Inhabitant): \n",
    "    ((da.Says[(x.Knave, Not[x.Arthur])], x.Says[da.Knight])) => ((da.Knave, x.Knave), x.Arthur) = \n",
    "        ({t: ((da.Says[(x.Knave, Not[x.Arthur])], x.Says[da.Knight])) =>\n",
    "            t._1: da.Says[(x.Knave, Not[x.Arthur])]\n",
    "            t._2: x.Says[da.Knight]\n",
    "            \n",
    "            premises.P1(x) match{\n",
    "                case Left(xKnight: x.Knight) => \n",
    "                    // def P2[P](x: Inhabitant): x.Knight => x.Says[P] => P \n",
    "                    val x_L1: x.Knight => x.Says[da.Knight] => da.Knight = premises.P2[da.Knight](x)\n",
    "                    val x_L2: x.Says[da.Knight] => da.Knight = x_L1(xKnight)\n",
    "                    val x_L3: da.Knight = x_L2(t._2)\n",
    "                    \n",
    "                    (premises.P1(da) match{\n",
    "                        case Left(daKnight: da.Knight) => \n",
    "                            // def P2[P](da: Inhabitant): da.Knight => da.Says[P] => P\n",
    "                            val da_L1: da.Knight => da.Says[(x.Knave, Not[x.Arthur])] => (x.Knave, Not[x.Arthur]) = \n",
    "                                                    premises.P2[(x.Knave, Not[x.Arthur])](da)\n",
    "                            val da_L2: da.Says[(x.Knave, Not[x.Arthur])] => (x.Knave, Not[x.Arthur]) = da_L1(daKnight)\n",
    "                            val da_L3: (x.Knave, Not[x.Arthur]) = da_L2(t._1)\n",
    "                            da_L3._1(xKnight): Nothing\n",
    "                            da_L3._1(xKnight) : ((da.Knave, x.Knave), x.Arthur)\n",
    "                        \n",
    "                        case Right(daKnave: da.Knave) => \n",
    "                            daKnave(x_L3): Nothing\n",
    "                            daKnave(x_L3): ((da.Knave, x.Knave), x.Arthur)\n",
    "                    }) : ((da.Knave, x.Knave), x.Arthur)\n",
    "\n",
    "                case Right(xKnave: x.Knave) => \n",
    "                    //def P3[P](x: Inhabitant): x.Knave => x.Says[P] => ¬[P]\n",
    "                    ??? : ((da.Knave, x.Knave), x.Arthur)\n",
    "            }\n",
    "            ??? : ((da.Knave, x.Knave), x.Arthur)\n",
    "        }) : (((da.Says[(x.Knave, Not[x.Arthur])], x.Says[da.Knight])) => ((da.Knave, x.Knave), x.Arthur))"
   ]
  },
  {
   "cell_type": "code",
   "execution_count": 12,
   "metadata": {},
   "outputs": [
    {
     "data": {
      "text/plain": [
       "defined \u001b[32mfunction\u001b[39m \u001b[36mproblem3\u001b[39m"
      ]
     },
     "execution_count": 12,
     "metadata": {},
     "output_type": "execute_result"
    }
   ],
   "source": [
    "//Primero x.Says y luego da.Says\n",
    "def problem3(premises: KnightsKnaves)(x: Inhabitant)(da: Inhabitant): \n",
    "    ((da.Says[(x.Knave, Not[x.Arthur])], x.Says[da.Knight])) => ((da.Knave, x.Knave), x.Arthur) = \n",
    "        ({t: ((da.Says[(x.Knave, Not[x.Arthur])], x.Says[da.Knight])) =>\n",
    "            t._1: da.Says[(x.Knave, Not[x.Arthur])]\n",
    "            t._2: x.Says[da.Knight]\n",
    "            \n",
    "            premises.P1(x) match{\n",
    "                case Left(xKnight: x.Knight) => \n",
    "                    // def P2[P](x: Inhabitant): x.Knight => x.Says[P] => P \n",
    "                    val x_L1: x.Knight => x.Says[da.Knight] => da.Knight = premises.P2[da.Knight](x)\n",
    "                    val x_L2: x.Says[da.Knight] => da.Knight = x_L1(xKnight)\n",
    "                    val x_L3: da.Knight = x_L2(t._2)\n",
    "                    \n",
    "                    (premises.P1(da) match{\n",
    "                        case Left(daKnight: da.Knight) => \n",
    "                            // def P2[P](da: Inhabitant): da.Knight => da.Says[P] => P\n",
    "                            val da_L1: da.Knight => da.Says[(x.Knave, Not[x.Arthur])] => (x.Knave, Not[x.Arthur]) = \n",
    "                                                    premises.P2[(x.Knave, Not[x.Arthur])](da)\n",
    "                            val da_L2: da.Says[(x.Knave, Not[x.Arthur])] => (x.Knave, Not[x.Arthur]) = da_L1(daKnight)\n",
    "                            val da_L3: (x.Knave, Not[x.Arthur]) = da_L2(t._1)\n",
    "                            da_L3._1(xKnight): Nothing\n",
    "                            da_L3._1(xKnight) : ((da.Knave, x.Knave), x.Arthur)\n",
    "                        \n",
    "                        case Right(daKnave: da.Knave) => \n",
    "                            daKnave(x_L3): Nothing\n",
    "                            daKnave(x_L3): ((da.Knave, x.Knave), x.Arthur)\n",
    "                    }) : ((da.Knave, x.Knave), x.Arthur)\n",
    "\n",
    "                case Right(xKnave: x.Knave) => \n",
    "                    //def P3[P](x: Inhabitant): x.Knave => x.Says[P] => ¬[P]\n",
    "                    val x_L1: x.Knave => x.Says[da.Knight] => ¬[da.Knight] = premises.P3[da.Knight](x)\n",
    "                    val x_L2: x.Says[da.Knight] => ¬[da.Knight] = x_L1(xKnave)\n",
    "                    val x_L3: da.Knight => Nothing = x_L2(t._2)\n",
    "                    \n",
    "                    premises.P1(da) match{\n",
    "                        case Left(daKnight: da.Knight) => ??? : ((da.Knave, x.Knave), x.Arthur)\n",
    "                        case Right(saKnave: da.Knave) => ??? : ((da.Knave, x.Knave), x.Arthur)\n",
    "                    }\n",
    "                    \n",
    "                    ??? : ((da.Knave, x.Knave), x.Arthur)\n",
    "            }\n",
    "            ??? : ((da.Knave, x.Knave), x.Arthur)\n",
    "        }) : (((da.Says[(x.Knave, Not[x.Arthur])], x.Says[da.Knight])) => ((da.Knave, x.Knave), x.Arthur))"
   ]
  },
  {
   "cell_type": "code",
   "execution_count": 13,
   "metadata": {},
   "outputs": [
    {
     "data": {
      "text/plain": [
       "defined \u001b[32mfunction\u001b[39m \u001b[36mproblem3\u001b[39m"
      ]
     },
     "execution_count": 13,
     "metadata": {},
     "output_type": "execute_result"
    }
   ],
   "source": [
    "//Primero x.Says y luego da.Says\n",
    "def problem3(premises: KnightsKnaves)(x: Inhabitant)(da: Inhabitant): \n",
    "    ((da.Says[(x.Knave, Not[x.Arthur])], x.Says[da.Knight])) => ((da.Knave, x.Knave), x.Arthur) = \n",
    "        ({t: ((da.Says[(x.Knave, Not[x.Arthur])], x.Says[da.Knight])) =>\n",
    "            t._1: da.Says[(x.Knave, Not[x.Arthur])]\n",
    "            t._2: x.Says[da.Knight]\n",
    "            \n",
    "            premises.P1(x) match{\n",
    "                case Left(xKnight: x.Knight) => \n",
    "                    // def P2[P](x: Inhabitant): x.Knight => x.Says[P] => P \n",
    "                    val x_L1: x.Knight => x.Says[da.Knight] => da.Knight = premises.P2[da.Knight](x)\n",
    "                    val x_L2: x.Says[da.Knight] => da.Knight = x_L1(xKnight)\n",
    "                    val x_L3: da.Knight = x_L2(t._2)\n",
    "                    \n",
    "                    (premises.P1(da) match{\n",
    "                        case Left(daKnight: da.Knight) => \n",
    "                            // def P2[P](da: Inhabitant): da.Knight => da.Says[P] => P\n",
    "                            val da_L1: da.Knight => da.Says[(x.Knave, Not[x.Arthur])] => (x.Knave, Not[x.Arthur]) = \n",
    "                                                    premises.P2[(x.Knave, Not[x.Arthur])](da)\n",
    "                            val da_L2: da.Says[(x.Knave, Not[x.Arthur])] => (x.Knave, Not[x.Arthur]) = da_L1(daKnight)\n",
    "                            val da_L3: (x.Knave, Not[x.Arthur]) = da_L2(t._1)\n",
    "                            da_L3._1(xKnight): Nothing\n",
    "                            da_L3._1(xKnight) : ((da.Knave, x.Knave), x.Arthur)\n",
    "                        \n",
    "                        case Right(daKnave: da.Knave) => \n",
    "                            daKnave(x_L3): Nothing\n",
    "                            daKnave(x_L3): ((da.Knave, x.Knave), x.Arthur)\n",
    "                    }) : ((da.Knave, x.Knave), x.Arthur)\n",
    "\n",
    "                case Right(xKnave: x.Knave) => \n",
    "                    //def P3[P](x: Inhabitant): x.Knave => x.Says[P] => ¬[P]\n",
    "                    val x_L1: x.Knave => x.Says[da.Knight] => ¬[da.Knight] = premises.P3[da.Knight](x)\n",
    "                    val x_L2: x.Says[da.Knight] => ¬[da.Knight] = x_L1(xKnave)\n",
    "                    val x_L3: da.Knight => Nothing = x_L2(t._2)\n",
    "                    \n",
    "                    premises.P1(da) match{\n",
    "                        case Left(daKnight: da.Knight) => \n",
    "                            x_L3(daKnight): Nothing\n",
    "                            x_L3(daKnight) : ((da.Knave, x.Knave), x.Arthur)\n",
    "                        case Right(daKnave: da.Knave) => \n",
    "                            //def P3[P](da: Inhabitant): da.Knave => da.Says[P] => ¬[P]\n",
    "                            val da_R1: da.Knave => da.Says[(x.Knave, Not[x.Arthur])] => ¬[(x.Knave, Not[x.Arthur])] = \n",
    "                                                    premises.P3[(x.Knave, Not[x.Arthur])](da)\n",
    "                            val da_R2: da.Says[(x.Knave, Not[x.Arthur])] => ¬[(x.Knave, Not[x.Arthur])] = da_R1(daKnave)\n",
    "                            val da_R3: ((x.Knave, (x.Arthur => Nothing))) => Nothing = da_R2(t._1)\n",
    "                            \n",
    "                            da_R3((xKnave, ({xArthur: x.Arthur =>\n",
    "                                            \n",
    "                                            ??? : Nothing\n",
    "                                            \n",
    "                                            }) )) : Nothing\n",
    "                        \n",
    "                            ??? : ((da.Knave, x.Knave), x.Arthur)\n",
    "                    }\n",
    "                    \n",
    "                    ??? : ((da.Knave, x.Knave), x.Arthur)\n",
    "            }\n",
    "            ??? : ((da.Knave, x.Knave), x.Arthur)\n",
    "        }) : (((da.Says[(x.Knave, Not[x.Arthur])], x.Says[da.Knight])) => ((da.Knave, x.Knave), x.Arthur))"
   ]
  },
  {
   "cell_type": "code",
   "execution_count": null,
   "metadata": {},
   "outputs": [],
   "source": []
  },
  {
   "cell_type": "code",
   "execution_count": 13,
   "metadata": {},
   "outputs": [],
   "source": [
    "/*\n",
    "Razonamiento 2 - Sin meter x.Arthur ¿Como de correcto es?:\n",
    "\n",
    "Defense Attorney: My client is indeed a knave, but he is not Arthur York. DEFENDANT: My attorney always tells the truth!\n",
    "\n",
    "Esto seria:\n",
    "\n",
    "x = defendant\n",
    "da = defense attorney\n",
    "          PREDICADO:                            SOLUCION:\n",
    "((da.Says[x.Knave], x.Says[da.Knight])) => (da.Knave, x.Knave)\n",
    "\n",
    "\n",
    "*/"
   ]
  },
  {
   "cell_type": "code",
   "execution_count": 14,
   "metadata": {},
   "outputs": [
    {
     "data": {
      "text/plain": [
       "defined \u001b[32mfunction\u001b[39m \u001b[36mproblem3\u001b[39m"
      ]
     },
     "execution_count": 14,
     "metadata": {},
     "output_type": "execute_result"
    }
   ],
   "source": [
    "//Primero x.Says y luego da.Says\n",
    "def problem3(premises: KnightsKnaves)(x: Inhabitant)(da: Inhabitant): \n",
    "    ((da.Says[x.Knave], x.Says[da.Knight])) => (da.Knave, x.Knave) = ???"
   ]
  },
  {
   "cell_type": "code",
   "execution_count": 15,
   "metadata": {},
   "outputs": [
    {
     "data": {
      "text/plain": [
       "defined \u001b[32mfunction\u001b[39m \u001b[36mproblem3\u001b[39m"
      ]
     },
     "execution_count": 15,
     "metadata": {},
     "output_type": "execute_result"
    }
   ],
   "source": [
    "//Primero x.Says y luego da.Says\n",
    "def problem3(premises: KnightsKnaves)(x: Inhabitant)(da: Inhabitant): \n",
    "    ((da.Says[x.Knave], x.Says[da.Knight])) => (da.Knave, x.Knave) = \n",
    "        ({t: ((da.Says[x.Knave], x.Says[da.Knight])) =>\n",
    "            ??? : (da.Knave, x.Knave)\n",
    "        }) : (((da.Says[x.Knave], x.Says[da.Knight])) => (da.Knave, x.Knave))"
   ]
  },
  {
   "cell_type": "code",
   "execution_count": 16,
   "metadata": {},
   "outputs": [
    {
     "data": {
      "text/plain": [
       "defined \u001b[32mfunction\u001b[39m \u001b[36mproblem3\u001b[39m"
      ]
     },
     "execution_count": 16,
     "metadata": {},
     "output_type": "execute_result"
    }
   ],
   "source": [
    "//Primero x.Says y luego da.Says\n",
    "def problem3(premises: KnightsKnaves)(x: Inhabitant)(da: Inhabitant): \n",
    "    ((da.Says[x.Knave], x.Says[da.Knight])) => (da.Knave, x.Knave) = \n",
    "        ({t: ((da.Says[x.Knave], x.Says[da.Knight])) =>\n",
    "            t._1: da.Says[x.Knave]\n",
    "            t._2: x.Says[da.Knight]   \n",
    "            \n",
    "            premises.P1(x) match{\n",
    "                case Left(xKnight: x.Knight) =>\n",
    "                    // def P2[P](x: Inhabitant): x.Knight => x.Says[P] => P \n",
    "                    ??? : (da.Knave, x.Knave)\n",
    "                case Right(xKnave: x.Knave) => \n",
    "                    //def P3[P](x: Inhabitant): x.Knave => x.Says[P] => ¬[P]\n",
    "                    ??? : (da.Knave, x.Knave)\n",
    "            }\n",
    "            \n",
    "            ??? : (da.Knave, x.Knave)\n",
    "        }) : (((da.Says[x.Knave], x.Says[da.Knight])) => (da.Knave, x.Knave))"
   ]
  },
  {
   "cell_type": "code",
   "execution_count": 17,
   "metadata": {},
   "outputs": [
    {
     "data": {
      "text/plain": [
       "defined \u001b[32mfunction\u001b[39m \u001b[36mproblem3\u001b[39m"
      ]
     },
     "execution_count": 17,
     "metadata": {},
     "output_type": "execute_result"
    }
   ],
   "source": [
    "//Primero x.Says y luego da.Says\n",
    "def problem3(premises: KnightsKnaves)(x: Inhabitant)(da: Inhabitant): \n",
    "    ((da.Says[x.Knave], x.Says[da.Knight])) => (da.Knave, x.Knave) = \n",
    "        ({t: ((da.Says[x.Knave], x.Says[da.Knight])) =>\n",
    "            t._1: da.Says[x.Knave]\n",
    "            t._2: x.Says[da.Knight]   \n",
    "            \n",
    "            premises.P1(x) match{\n",
    "                case Left(xKnight: x.Knight) =>\n",
    "                    // def P2[P](x: Inhabitant): x.Knight => x.Says[P] => P \n",
    "                    val x_L1: x.Knight => x.Says[da.Knight] => da.Knight = premises.P2[da.Knight](x)\n",
    "                    val x_L2: x.Says[da.Knight] => da.Knight = x_L1(xKnight)\n",
    "                    val x_L3: da.Knight = x_L2(t._2)\n",
    "                    \n",
    "                    (premises.P1(da) match{\n",
    "                        case Left(daKnight: da.Knight) => \n",
    "                            // def P2[P](da: Inhabitant): da.Knight => da.Says[P] => P\n",
    "                            val da_L1: da.Knight => da.Says[x.Knave] => x.Knave = premises.P2[x.Knave](da)\n",
    "                            val da_L2: da.Says[x.Knave] => x.Knave = da_L1(daKnight)\n",
    "                            val da_L3: x.Knave = da_L2(t._1)\n",
    "                            \n",
    "                            da_L3(xKnight): Nothing\n",
    "                            da_L3(xKnight): (da.Knave, x.Knave)\n",
    "                        \n",
    "                        case Right(daKnave: da.Knave) => \n",
    "                            daKnave(x_L3): Nothing\n",
    "                            daKnave(x_L3): (da.Knave, x.Knave)\n",
    "                    }) : (da.Knave, x.Knave)\n",
    "                case Right(xKnave: x.Knave) => \n",
    "                    //def P3[P](x: Inhabitant): x.Knave => x.Says[P] => ¬[P]\n",
    "                    ??? : (da.Knave, x.Knave)\n",
    "            }\n",
    "            \n",
    "            ??? : (da.Knave, x.Knave)\n",
    "        }) : (((da.Says[x.Knave], x.Says[da.Knight])) => (da.Knave, x.Knave))"
   ]
  },
  {
   "cell_type": "code",
   "execution_count": 18,
   "metadata": {},
   "outputs": [
    {
     "data": {
      "text/plain": [
       "defined \u001b[32mfunction\u001b[39m \u001b[36mproblem3\u001b[39m"
      ]
     },
     "execution_count": 18,
     "metadata": {},
     "output_type": "execute_result"
    }
   ],
   "source": [
    "//Primero x.Says y luego da.Says - COMPLETADO OK\n",
    "def problem3(premises: KnightsKnaves)(x: Inhabitant)(da: Inhabitant): \n",
    "    ((da.Says[x.Knave], x.Says[da.Knight])) => (da.Knave, x.Knave) = \n",
    "        ({t: ((da.Says[x.Knave], x.Says[da.Knight])) =>\n",
    "            t._1: da.Says[x.Knave]\n",
    "            t._2: x.Says[da.Knight]   \n",
    "            \n",
    "            (premises.P1(x) match{\n",
    "                case Left(xKnight: x.Knight) =>\n",
    "                    // def P2[P](x: Inhabitant): x.Knight => x.Says[P] => P \n",
    "                    val x_L1: x.Knight => x.Says[da.Knight] => da.Knight = premises.P2[da.Knight](x)\n",
    "                    val x_L2: x.Says[da.Knight] => da.Knight = x_L1(xKnight)\n",
    "                    val x_L3: da.Knight = x_L2(t._2)\n",
    "                    \n",
    "                    (premises.P1(da) match{\n",
    "                        case Left(daKnight: da.Knight) => \n",
    "                            // def P2[P](da: Inhabitant): da.Knight => da.Says[P] => P\n",
    "                            val da_L1: da.Knight => da.Says[x.Knave] => x.Knave = premises.P2[x.Knave](da)\n",
    "                            val da_L2: da.Says[x.Knave] => x.Knave = da_L1(daKnight)\n",
    "                            val da_L3: x.Knave = da_L2(t._1)\n",
    "                            \n",
    "                            da_L3(xKnight): Nothing\n",
    "                            da_L3(xKnight): (da.Knave, x.Knave)\n",
    "                        \n",
    "                        case Right(daKnave: da.Knave) => \n",
    "                            daKnave(x_L3): Nothing\n",
    "                            daKnave(x_L3): (da.Knave, x.Knave)\n",
    "                    }) : (da.Knave, x.Knave)\n",
    "                case Right(xKnave: x.Knave) => \n",
    "                    //def P3[P](x: Inhabitant): x.Knave => x.Says[P] => ¬[P]\n",
    "                    val x_R1: x.Knave => x.Says[da.Knight] => ¬[da.Knight] = premises.P3[da.Knight](x)\n",
    "                    val x_R2: x.Says[da.Knight] => ¬[da.Knight] = x_R1(xKnave)\n",
    "                    val x_R3: da.Knight => Nothing = x_R2(t._2)\n",
    "                    \n",
    "                    (premises.P1(da) match{\n",
    "                        case Left(daKnight: da.Knight) => \n",
    "                            x_R3(daKnight): Nothing\n",
    "                            x_R3(daKnight): (da.Knave, x.Knave)\n",
    "                        case Right(daKnave: da.Knave) => \n",
    "                            (daKnave, xKnave) : (da.Knave, x.Knave)\n",
    "                    }): (da.Knave, x.Knave)\n",
    "            }): (da.Knave, x.Knave)\n",
    "        }) : (((da.Says[x.Knave], x.Says[da.Knight])) => (da.Knave, x.Knave))"
   ]
  },
  {
   "cell_type": "code",
   "execution_count": null,
   "metadata": {},
   "outputs": [],
   "source": []
  },
  {
   "cell_type": "code",
   "execution_count": 18,
   "metadata": {},
   "outputs": [],
   "source": [
    "/*\n",
    "Razonamiento 3 \n",
    "\n",
    "Defense Attorney: My client is indeed a knave, but he is not Arthur York. DEFENDANT: My attorney always tells the truth!\n",
    "\n",
    "Esto seria:\n",
    "\n",
    "d = defendant\n",
    "da = defense attorney\n",
    "y = Arthur\n",
    "\n",
    "\"My client is indeed a knave, but he is not Arthur York.\" ->\n",
    "El \"da\" dice que el \"d\" es un Knave y que \"d != y\". -> da.Says[(d.Knave, d != y)]\n",
    "\n",
    "\"My attorney always tells the truth!\" ->\n",
    "El \"d\" dice que el \"da\" es un Knight. -> d.Says[da.Knight]\n",
    "\n",
    "Solucion:\n",
    "\n",
    "\"And so we now know that both the attorney and the defendant are knaves.\" ->\n",
    "El \"d\" y el \"da\" son los dos Knaves. -> (d.Knave, da.Knave)\n",
    "\n",
    "\"Therefore the defendant must be Arthur York.\" ->\n",
    "El \"d\" es entonces \"y\" -> d == y\n",
    "\n",
    "\n",
    "          PREDICADO:                                         SOLUCION:\n",
    "((da.Says[(d.Knave, d != y)], d.Says[da.Knight])) => (d.Knave, da.Knave, d == y)\n",
    "\n",
    "\n",
    "*/"
   ]
  },
  {
   "cell_type": "code",
   "execution_count": 18,
   "metadata": {},
   "outputs": [],
   "source": [
    "/*\n",
    "def problem3(premises: KnightsKnaves)(d: Inhabitant)(da: Inhabitant)(y: Inhabitant): \n",
    "    ((da.Says[(d.Knave, d != y)], d.Says[da.Knight])) => (d.Knave, da.Knave, d == y) = ???\n",
    "\n",
    "¿Como expresar la equivalencia \"d != y\" o la equivalencia \"d == y\"?\n",
    "*/"
   ]
  },
  {
   "cell_type": "code",
   "execution_count": 19,
   "metadata": {},
   "outputs": [
    {
     "data": {
      "text/plain": [
       "defined \u001b[32mfunction\u001b[39m \u001b[36mproblem3\u001b[39m"
      ]
     },
     "execution_count": 19,
     "metadata": {},
     "output_type": "execute_result"
    }
   ],
   "source": [
    "//Aplicando el tipo de datos type ⟷[P, Q] = (P => Q) ∧ (Q => P)\n",
    "def problem3(premises: KnightsKnaves)(d: Inhabitant)(da: Inhabitant)(y: Inhabitant): \n",
    "    ((da.Says[(d.Knave, Not[d.Knave <=> y.Knave])], d.Says[da.Knight])) => (d.Knave, da.Knave, d.Knave <=> y.Knave) = ???"
   ]
  },
  {
   "cell_type": "code",
   "execution_count": 20,
   "metadata": {},
   "outputs": [
    {
     "data": {
      "text/plain": [
       "defined \u001b[32mfunction\u001b[39m \u001b[36mproblem3\u001b[39m"
      ]
     },
     "execution_count": 20,
     "metadata": {},
     "output_type": "execute_result"
    }
   ],
   "source": [
    "def problem3(premises: KnightsKnaves)(d: Inhabitant)(da: Inhabitant)(y: Inhabitant): \n",
    "    //((da.Says[(d.Knave, Not[d.Knave <=> y.Knave])], d.Says[da.Knight])) => (d.Knave, da.Knave, d.Knave <=> y.Knave) = ???\n",
    "    //Su equivalente desarrollando la doble implicacion <=>\n",
    "    ((da.Says[(d.Knave, Not[(d.Knave => y.Knave, y.Knave => d.Knave)])], d.Says[da.Knight])) => \n",
    "                                                    (d.Knave, da.Knave, (d.Knave => y.Knave, y.Knave => d.Knave)) = ???\n"
   ]
  },
  {
   "cell_type": "code",
   "execution_count": 21,
   "metadata": {},
   "outputs": [
    {
     "data": {
      "text/plain": [
       "defined \u001b[32mfunction\u001b[39m \u001b[36mproblem3\u001b[39m"
      ]
     },
     "execution_count": 21,
     "metadata": {},
     "output_type": "execute_result"
    }
   ],
   "source": [
    "def problem3(premises: KnightsKnaves)(d: Inhabitant)(da: Inhabitant)(y: Inhabitant): \n",
    "    //((da.Says[(d.Knave, Not[d.Knave <=> y.Knave])], d.Says[da.Knight])) => (d.Knave, da.Knave, d.Knave <=> y.Knave) = ???\n",
    "    //Su equivalente desarrollando la doble implicacion <=>\n",
    "    ((da.Says[(d.Knave, Not[(d.Knave => y.Knave, y.Knave => d.Knave)])], d.Says[da.Knight])) => \n",
    "                                                    (d.Knave, da.Knave, (d.Knave => y.Knave, y.Knave => d.Knave)) = \n",
    "    ({t: ((da.Says[(d.Knave, Not[(d.Knave => y.Knave, y.Knave => d.Knave)])], d.Says[da.Knight])) =>\n",
    "        ??? : (d.Knave, da.Knave, (d.Knave => y.Knave, y.Knave => d.Knave))\n",
    "    }): (((da.Says[(d.Knave, Not[(d.Knave => y.Knave, y.Knave => d.Knave)])], d.Says[da.Knight])) => \n",
    "                                                    (d.Knave, da.Knave, (d.Knave => y.Knave, y.Knave => d.Knave)))\n"
   ]
  },
  {
   "cell_type": "code",
   "execution_count": 22,
   "metadata": {},
   "outputs": [
    {
     "data": {
      "text/plain": [
       "defined \u001b[32mfunction\u001b[39m \u001b[36mproblem3\u001b[39m"
      ]
     },
     "execution_count": 22,
     "metadata": {},
     "output_type": "execute_result"
    }
   ],
   "source": [
    "def problem3(premises: KnightsKnaves)(d: Inhabitant)(da: Inhabitant)(y: Inhabitant): \n",
    "    //((da.Says[(d.Knave, Not[d.Knave <=> y.Knave])], d.Says[da.Knight])) => (d.Knave, da.Knave, d.Knave <=> y.Knave) = ???\n",
    "    //Su equivalente desarrollando la doble implicacion <=>\n",
    "    ((da.Says[(d.Knave, Not[(d.Knave => y.Knave, y.Knave => d.Knave)])], d.Says[da.Knight])) => \n",
    "                                                    (d.Knave, da.Knave, (d.Knave => y.Knave, y.Knave => d.Knave)) = \n",
    "    ({t: ((da.Says[(d.Knave, Not[(d.Knave => y.Knave, y.Knave => d.Knave)])], d.Says[da.Knight])) =>\n",
    "        t._1: da.Says[(d.Knave, Not[(d.Knave => y.Knave, y.Knave => d.Knave)])]\n",
    "        t._2: d.Says[da.Knight]\n",
    "        \n",
    "        premises.P1(d) match{\n",
    "            case Left(dKnight: d.Knight) => \n",
    "                //def P2[P](d: Inhabitant): d.Knight => d.Says[P] => P\n",
    "                val d_L1: d.Knight => d.Says[da.Knight] => da.Knight = premises.P2[da.Knight](d)\n",
    "                val d_L2: d.Says[da.Knight] => da.Knight = d_L1(dKnight)\n",
    "                val d_L3: da.Knight = d_L2(t._2)\n",
    "                \n",
    "                premises.P1(da) match{\n",
    "                    case Left(daKnight: da.Knight) => \n",
    "                        ??? : (d.Knave, da.Knave, (d.Knave => y.Knave, y.Knave => d.Knave))\n",
    "                    case Right(daKnave: da.Knave) => \n",
    "                        ??? : (d.Knave, da.Knave, (d.Knave => y.Knave, y.Knave => d.Knave))\n",
    "                }\n",
    "                ??? : (d.Knave, da.Knave, (d.Knave => y.Knave, y.Knave => d.Knave))\n",
    "            case Right(dKnave: d.Knave) => ??? : (d.Knave, da.Knave, (d.Knave => y.Knave, y.Knave => d.Knave))\n",
    "        }\n",
    "        \n",
    "        \n",
    "        ??? : (d.Knave, da.Knave, (d.Knave => y.Knave, y.Knave => d.Knave))\n",
    "    }): (((da.Says[(d.Knave, Not[(d.Knave => y.Knave, y.Knave => d.Knave)])], d.Says[da.Knight])) => \n",
    "                                                    (d.Knave, da.Knave, (d.Knave => y.Knave, y.Knave => d.Knave)))\n"
   ]
  },
  {
   "cell_type": "code",
   "execution_count": 23,
   "metadata": {},
   "outputs": [
    {
     "data": {
      "text/plain": [
       "defined \u001b[32mfunction\u001b[39m \u001b[36mproblem3\u001b[39m"
      ]
     },
     "execution_count": 23,
     "metadata": {},
     "output_type": "execute_result"
    }
   ],
   "source": [
    "def problem3(premises: KnightsKnaves)(d: Inhabitant)(da: Inhabitant)(y: Inhabitant): \n",
    "    //((da.Says[(d.Knave, Not[d.Knave <=> y.Knave])], d.Says[da.Knight])) => (d.Knave, da.Knave, d.Knave <=> y.Knave) = ???\n",
    "    //Su equivalente desarrollando la doble implicacion <=>\n",
    "    ((da.Says[(d.Knave, Not[(d.Knave => y.Knave, y.Knave => d.Knave)])], d.Says[da.Knight])) => \n",
    "                                                    (d.Knave, da.Knave, (d.Knave => y.Knave, y.Knave => d.Knave)) = \n",
    "    ({t: ((da.Says[(d.Knave, Not[(d.Knave => y.Knave, y.Knave => d.Knave)])], d.Says[da.Knight])) =>\n",
    "        t._1: da.Says[(d.Knave, Not[(d.Knave => y.Knave, y.Knave => d.Knave)])]\n",
    "        t._2: d.Says[da.Knight]\n",
    "        \n",
    "        premises.P1(d) match{\n",
    "            case Left(dKnight: d.Knight) => \n",
    "                //def P2[P](d: Inhabitant): d.Knight => d.Says[P] => P\n",
    "                val d_L1: d.Knight => d.Says[da.Knight] => da.Knight = premises.P2[da.Knight](d)\n",
    "                val d_L2: d.Says[da.Knight] => da.Knight = d_L1(dKnight)\n",
    "                val d_L3: da.Knight = d_L2(t._2)\n",
    "                \n",
    "                (premises.P1(da) match{\n",
    "                    case Left(daKnight: da.Knight) => \n",
    "                        //def P2[P](da: Inhabitant): da.Knight => da.Says[P] => P\n",
    "                        val da_L1: da.Knight => da.Says[(d.Knave, Not[(d.Knave => y.Knave, y.Knave => d.Knave)])] => \n",
    "                                            (d.Knave, Not[(d.Knave => y.Knave, y.Knave => d.Knave)]) = premises.P2[(d.Knave, Not[(d.Knave => y.Knave, y.Knave => d.Knave)])](da)\n",
    "                        val da_L2: da.Says[(d.Knave, Not[(d.Knave => y.Knave, y.Knave => d.Knave)])] => \n",
    "                                            (d.Knave, Not[(d.Knave => y.Knave, y.Knave => d.Knave)]) = da_L1(daKnight)\n",
    "                        val da_L3: (d.Knave, Not[(d.Knave => y.Knave, y.Knave => d.Knave)]) = da_L2(t._1)\n",
    "                        \n",
    "                        da_L3._1: d.Knave\n",
    "                        da_L3._2: Not[(d.Knave => y.Knave, y.Knave => d.Knave)]\n",
    "                        \n",
    "                        da_L3._1(dKnight): Nothing\n",
    "                    \n",
    "                        da_L3._1(dKnight): (d.Knave, da.Knave, (d.Knave => y.Knave, y.Knave => d.Knave))\n",
    "                    \n",
    "                    case Right(daKnave: da.Knave) => \n",
    "                        daKnave(d_L3): Nothing\n",
    "                        daKnave(d_L3): (d.Knave, da.Knave, (d.Knave => y.Knave, y.Knave => d.Knave))\n",
    "                }): (d.Knave, da.Knave, (d.Knave => y.Knave, y.Knave => d.Knave))\n",
    "            case Right(dKnave: d.Knave) => \n",
    "                //def P3[P](d: Inhabitant): d.Knave => d.Says[P] => ¬[P]\n",
    "                ??? : (d.Knave, da.Knave, (d.Knave => y.Knave, y.Knave => d.Knave))\n",
    "        }\n",
    "        \n",
    "        \n",
    "        ??? : (d.Knave, da.Knave, (d.Knave => y.Knave, y.Knave => d.Knave))\n",
    "    }): (((da.Says[(d.Knave, Not[(d.Knave => y.Knave, y.Knave => d.Knave)])], d.Says[da.Knight])) => \n",
    "                                                    (d.Knave, da.Knave, (d.Knave => y.Knave, y.Knave => d.Knave)))\n"
   ]
  },
  {
   "cell_type": "code",
   "execution_count": 24,
   "metadata": {},
   "outputs": [
    {
     "data": {
      "text/plain": [
       "defined \u001b[32mfunction\u001b[39m \u001b[36mproblem3\u001b[39m"
      ]
     },
     "execution_count": 24,
     "metadata": {},
     "output_type": "execute_result"
    }
   ],
   "source": [
    "def problem3(premises: KnightsKnaves)(d: Inhabitant)(da: Inhabitant)(y: Inhabitant): \n",
    "    //((da.Says[(d.Knave, Not[d.Knave <=> y.Knave])], d.Says[da.Knight])) => (d.Knave, da.Knave, d.Knave <=> y.Knave) = ???\n",
    "    //Su equivalente desarrollando la doble implicacion <=>\n",
    "    ((da.Says[(d.Knave, Not[(d.Knave => y.Knave, y.Knave => d.Knave)])], d.Says[da.Knight])) => \n",
    "                                                    (d.Knave, da.Knave, (d.Knave => y.Knave, y.Knave => d.Knave)) = \n",
    "    ({t: ((da.Says[(d.Knave, Not[(d.Knave => y.Knave, y.Knave => d.Knave)])], d.Says[da.Knight])) =>\n",
    "        t._1: da.Says[(d.Knave, Not[(d.Knave => y.Knave, y.Knave => d.Knave)])]\n",
    "        t._2: d.Says[da.Knight]\n",
    "        \n",
    "        premises.P1(d) match{\n",
    "            case Left(dKnight: d.Knight) => \n",
    "                //def P2[P](d: Inhabitant): d.Knight => d.Says[P] => P\n",
    "                val d_L1: d.Knight => d.Says[da.Knight] => da.Knight = premises.P2[da.Knight](d)\n",
    "                val d_L2: d.Says[da.Knight] => da.Knight = d_L1(dKnight)\n",
    "                val d_L3: da.Knight = d_L2(t._2)\n",
    "                \n",
    "                (premises.P1(da) match{\n",
    "                    case Left(daKnight: da.Knight) => \n",
    "                        //def P2[P](da: Inhabitant): da.Knight => da.Says[P] => P\n",
    "                        val da_L1: da.Knight => da.Says[(d.Knave, Not[(d.Knave => y.Knave, y.Knave => d.Knave)])] => \n",
    "                                            (d.Knave, Not[(d.Knave => y.Knave, y.Knave => d.Knave)]) = premises.P2[(d.Knave, Not[(d.Knave => y.Knave, y.Knave => d.Knave)])](da)\n",
    "                        val da_L2: da.Says[(d.Knave, Not[(d.Knave => y.Knave, y.Knave => d.Knave)])] => \n",
    "                                            (d.Knave, Not[(d.Knave => y.Knave, y.Knave => d.Knave)]) = da_L1(daKnight)\n",
    "                        val da_L3: (d.Knave, Not[(d.Knave => y.Knave, y.Knave => d.Knave)]) = da_L2(t._1)\n",
    "                        \n",
    "                        da_L3._1: d.Knave\n",
    "                        da_L3._2: Not[(d.Knave => y.Knave, y.Knave => d.Knave)]\n",
    "                        \n",
    "                        da_L3._1(dKnight): Nothing\n",
    "                    \n",
    "                        da_L3._1(dKnight): (d.Knave, da.Knave, (d.Knave => y.Knave, y.Knave => d.Knave))\n",
    "                    \n",
    "                    case Right(daKnave: da.Knave) => \n",
    "                        daKnave(d_L3): Nothing\n",
    "                        daKnave(d_L3): (d.Knave, da.Knave, (d.Knave => y.Knave, y.Knave => d.Knave))\n",
    "                }): (d.Knave, da.Knave, (d.Knave => y.Knave, y.Knave => d.Knave))\n",
    "            \n",
    "            case Right(dKnave: d.Knave) => \n",
    "                //def P3[P](d: Inhabitant): d.Knave => d.Says[P] => ¬[P]\n",
    "                val d_R1: d.Knave => d.Says[da.Knight] => ¬[da.Knight] = premises.P3[da.Knight](d)\n",
    "                val d_R2: d.Says[da.Knight] => ¬[da.Knight] = d_R1(dKnave)\n",
    "                val d_R3: da.Knight => Nothing = d_R2(t._2)\n",
    "                \n",
    "                premises.P1(da) match{\n",
    "                    case Left(daKnight: da.Knight) => \n",
    "                        d_R3(daKnight): Nothing\n",
    "                        d_R3(daKnight): (d.Knave, da.Knave, (d.Knave => y.Knave, y.Knave => d.Knave))\n",
    "                    case Right(daKnave: da.Knave) => \n",
    "                        //def P3[P](da: Inhabitant): da.Knave => da.Says[P] => ¬[P]\n",
    "                        val da_R1: da.Knave => da.Says[(d.Knave, Not[(d.Knave => y.Knave, y.Knave => d.Knave)])] => \n",
    "                                    ¬[(d.Knave, Not[(d.Knave => y.Knave, y.Knave => d.Knave)])] = premises.P3[(d.Knave, Not[(d.Knave => y.Knave, y.Knave => d.Knave)])](da)\n",
    "                        val da_R2: da.Says[(d.Knave, Not[(d.Knave => y.Knave, y.Knave => d.Knave)])] => \n",
    "                                    ¬[(d.Knave, Not[(d.Knave => y.Knave, y.Knave => d.Knave)])] = da_R1(daKnave)\n",
    "                        val da_R3: ((d.Knave, Not[(d.Knave => y.Knave, y.Knave => d.Knave)])) => Nothing = da_R2(t._1)\n",
    "                    \n",
    "                        ??? : (d.Knave, da.Knave, (d.Knave => y.Knave, y.Knave => d.Knave))\n",
    "                }\n",
    "            \n",
    "                ??? : (d.Knave, da.Knave, (d.Knave => y.Knave, y.Knave => d.Knave))\n",
    "        }\n",
    "        \n",
    "        \n",
    "        ??? : (d.Knave, da.Knave, (d.Knave => y.Knave, y.Knave => d.Knave))\n",
    "    }): (((da.Says[(d.Knave, Not[(d.Knave => y.Knave, y.Knave => d.Knave)])], d.Says[da.Knight])) => \n",
    "                                                    (d.Knave, da.Knave, (d.Knave => y.Knave, y.Knave => d.Knave)))\n"
   ]
  },
  {
   "cell_type": "code",
   "execution_count": null,
   "metadata": {},
   "outputs": [],
   "source": []
  },
  {
   "cell_type": "code",
   "execution_count": null,
   "metadata": {},
   "outputs": [],
   "source": []
  }
 ],
 "metadata": {
  "kernelspec": {
   "display_name": "Scala",
   "language": "scala",
   "name": "scala"
  },
  "language_info": {
   "codemirror_mode": "text/x-scala",
   "file_extension": ".sc",
   "mimetype": "text/x-scala",
   "name": "scala",
   "nbconvert_exporter": "script",
   "version": "2.13.3"
  }
 },
 "nbformat": 4,
 "nbformat_minor": 4
}
