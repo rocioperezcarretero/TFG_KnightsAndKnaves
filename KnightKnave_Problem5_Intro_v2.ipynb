{
 "cells": [
  {
   "cell_type": "code",
   "execution_count": 1,
   "metadata": {},
   "outputs": [
    {
     "data": {
      "text/plain": [
       "defined \u001b[32mtype\u001b[39m \u001b[36m∨\u001b[39m\r\n",
       "defined \u001b[32mtype\u001b[39m \u001b[36m∧\u001b[39m\r\n",
       "defined \u001b[32mtype\u001b[39m \u001b[36m⟶\u001b[39m\r\n",
       "defined \u001b[32mtype\u001b[39m \u001b[36m⊥\u001b[39m\r\n",
       "defined \u001b[32mtype\u001b[39m \u001b[36mTrue\u001b[39m\r\n",
       "defined \u001b[32mtype\u001b[39m \u001b[36m¬\u001b[39m"
      ]
     },
     "execution_count": 1,
     "metadata": {},
     "output_type": "execute_result"
    }
   ],
   "source": [
    "type ∨[P, Q] = Either[P, Q]\n",
    "type ∧[P, Q] = Tuple2[P, Q] \n",
    "type ⟶[P, Q] = P => Q\n",
    "type ⊥ = Nothing\n",
    "type True = Unit\n",
    "type ¬[P] = P => ⊥"
   ]
  },
  {
   "cell_type": "code",
   "execution_count": 2,
   "metadata": {},
   "outputs": [
    {
     "data": {
      "text/plain": [
       "defined \u001b[32mtype\u001b[39m \u001b[36mOr\u001b[39m\r\n",
       "defined \u001b[32mtype\u001b[39m \u001b[36mAnd\u001b[39m\r\n",
       "defined \u001b[32mtype\u001b[39m \u001b[36mImplies\u001b[39m\r\n",
       "defined \u001b[32mtype\u001b[39m \u001b[36mFalse\u001b[39m\r\n",
       "defined \u001b[32mtype\u001b[39m \u001b[36mTrue\u001b[39m\r\n",
       "defined \u001b[32mtype\u001b[39m \u001b[36mNot\u001b[39m"
      ]
     },
     "execution_count": 2,
     "metadata": {},
     "output_type": "execute_result"
    }
   ],
   "source": [
    "type Or[P, Q] = Either[P, Q]\n",
    "type And[P, Q] = Tuple2[P, Q]\n",
    "type Implies[P, Q] = P => Q\n",
    "type False = Nothing\n",
    "type True = Unit\n",
    "type Not[P] = P => ⊥"
   ]
  },
  {
   "cell_type": "code",
   "execution_count": 3,
   "metadata": {},
   "outputs": [
    {
     "data": {
      "text/plain": [
       "defined \u001b[32mclass\u001b[39m \u001b[36mInhabitant\u001b[39m"
      ]
     },
     "execution_count": 3,
     "metadata": {},
     "output_type": "execute_result"
    }
   ],
   "source": [
    "class Inhabitant{ x => \n",
    "    // Knight(x) -- `x` is a Knight\n",
    "    // \n",
    "    type Knight\n",
    "    \n",
    "    // Knave(x) -- `x` is a Knave (i.e. is not a Knight)\n",
    "    // \n",
    "    type Knave = ¬[Knight]\n",
    "    \n",
    "    // Says(x, P) -- `x` says that `P` holds, i.e. asserts proposition `P`\n",
    "    // \n",
    "    type Says[P]\n",
    "}"
   ]
  },
  {
   "cell_type": "code",
   "execution_count": 4,
   "metadata": {},
   "outputs": [
    {
     "data": {
      "text/plain": [
       "defined \u001b[32mtrait\u001b[39m \u001b[36mKnightsKnaves\u001b[39m"
      ]
     },
     "execution_count": 4,
     "metadata": {},
     "output_type": "execute_result"
    }
   ],
   "source": [
    "trait KnightsKnaves{\n",
    "    // P1. Inhabitants are knights or knaves\n",
    "    // \n",
    "    //     ∀ x. Inhabitant(x) ⟶ Knight(x) ∨ Knave(x) \n",
    "    // \n",
    "    def P1(x: Inhabitant): x.Knight ∨ x.Knave\n",
    "    \n",
    "    // In Scala 3\n",
    "    // val P1: (x: Inhabitant) => Either[x.Knight, x.Knave]\n",
    "    \n",
    "    // P2. Knights are truth tellers\n",
    "    // \n",
    "    //     ∀ P. ∀ x. Knight(x) ⟶ Says(x, P) ⟶ P\n",
    "    // \n",
    "    def P2[P](x: Inhabitant): x.Knight => x.Says[P] => P\n",
    "    \n",
    "    // In Scala 3\n",
    "    // val P2: [P] => (x: Inhabitant) => x.Knight => x.Says[P] => P\n",
    "    \n",
    "    // P3. Knaves are persistent liers\n",
    "    // \n",
    "    //     ∀ P. ∀ x. Knight(x) ⟶ Says(x, P) ⟶ ¬P\n",
    "    // \n",
    "    def P3[P](x: Inhabitant): x.Knave => x.Says[P] => ¬[P]\n",
    "}"
   ]
  },
  {
   "cell_type": "markdown",
   "metadata": {},
   "source": [
    "# Puzzles Introducción\n",
    "\n",
    "Primero se consideran 5 preguntas que servirán como introduccion a la logica \n",
    "knight-knave para aquellos que no estén familiarizados con ella y como un\n",
    "breve curso recordatorio para los que lo están."
   ]
  },
  {
   "cell_type": "markdown",
   "metadata": {},
   "source": [
    "#### 5. Suppose A instead says: \"My brother and I are the same type; we are either both knights or both knaves.\" What could then be deduced about A and B? Suppose A had instead said: \"My brother and I are different types.\" What can then be deduced? \n",
    "\n",
    "If B were a knave, no native would claim to be the same type as B, because that would be tantamount to claiming to be a knave. Therefore B must be a knight, since A did claim to be of the same type as B. As for A, he could\n",
    "be either a knight or a knave.\n",
    "If A had instead said that he and B were diffirent types, this would be equivalent to the statement \"One of us is a knight and one of us is a knave,\" which in turn is the same as the statement \"Exactly one of us is a knave.\" This is really the same as Question 4, and so the answer is that B is a knave and A is indeterminate.\n",
    "Looked at another way, if B were a knight, then no inhabitant would claim to be a diffirent type than B! "
   ]
  },
  {
   "cell_type": "code",
   "execution_count": 9,
   "metadata": {},
   "outputs": [
    {
     "data": {
      "text/plain": [
       "defined \u001b[32mfunction\u001b[39m \u001b[36mpuzzle5_1\u001b[39m"
      ]
     },
     "execution_count": 9,
     "metadata": {},
     "output_type": "execute_result"
    }
   ],
   "source": [
    "def puzzle5_1(premises: KnightsKnaves)(x: Inhabitant)(y: Inhabitant): \n",
    "    x.Says[Either[(x.Knight,y.Knight),(x.Knave,y.Knave)]] => (Either[x.Knave, x.Knight],y.Knight) = ???\n",
    "\n",
    "// x.Says[Either[(x.Knight,y.Knight),(x.Knave,y.Knave)]] => (y.Knight) = ???\n",
    "// El Either[x.Knave, x.Knight] es una tautologia, siempre se puede deducir un valor u otro "
   ]
  },
  {
   "cell_type": "code",
   "execution_count": 12,
   "metadata": {},
   "outputs": [
    {
     "data": {
      "text/plain": [
       "defined \u001b[32mfunction\u001b[39m \u001b[36mpuzzle5_1\u001b[39m"
      ]
     },
     "execution_count": 12,
     "metadata": {},
     "output_type": "execute_result"
    }
   ],
   "source": [
    "//V2 - PREMISA CORREGIDA\n",
    "/*\n",
    "Yo antes tenia:\n",
    "\n",
    "x.Says[Either[(x.Knight,y.Knight),(x.Knave,y.Knave)]] => (Either[x.Knave, x.Knight],y.Knight) = ???\n",
    "\n",
    "Pero el Either[x.Knave, x.Knight] es una tautologia, siempre se puede deducir un valor u otro \n",
    "\n",
    "Por eso la premisa queda:\n",
    "\n",
    "x.Says[Either[(x.Knight,y.Knight),(x.Knave,y.Knave)]] => (y.Knight) = ???\n",
    "*/\n",
    "\n",
    "def puzzle5_1(premises: KnightsKnaves)(x: Inhabitant)(y: Inhabitant): \n",
    "    x.Says[Either[(x.Knight,y.Knight),(x.Knave,y.Knave)]] => (y.Knight) = ???\n"
   ]
  },
  {
   "cell_type": "code",
   "execution_count": 21,
   "metadata": {},
   "outputs": [
    {
     "data": {
      "text/plain": [
       "defined \u001b[32mfunction\u001b[39m \u001b[36mpuzzle5_1\u001b[39m"
      ]
     },
     "execution_count": 21,
     "metadata": {},
     "output_type": "execute_result"
    }
   ],
   "source": [
    "//V2 - PREMISA CORREGIDA\n",
    "\n",
    "def puzzle5_1(premises: KnightsKnaves)(x: Inhabitant)(y: Inhabitant): \n",
    "    x.Says[Either[(x.Knight,y.Knight),(x.Knave,y.Knave)]] => (y.Knight) = \n",
    "    ({xSay: x.Says[Either[(x.Knight,y.Knight),(x.Knave,y.Knave)]] => \n",
    "        (premises.P1(x) match{\n",
    "            case Left(xKnight: x.Knight) =>\n",
    "                // def P2[P](x: Inhabitant): x.Knight => x.Says[P] => P\n",
    "                val x_1L: x.Knight => x.Says[Either[(x.Knight,y.Knight),(x.Knave,y.Knave)]] => Either[(x.Knight,y.Knight),(x.Knave,y.Knave)] = \n",
    "                                        premises.P2[Either[(x.Knight,y.Knight),(x.Knave,y.Knave)]](x)\n",
    "                val x_2L: x.Says[Either[(x.Knight,y.Knight),(x.Knave,y.Knave)]] => Either[(x.Knight,y.Knight),(x.Knave,y.Knave)] = x_1L(xKnight)\n",
    "                val x_3L: Either[(x.Knight,y.Knight),(x.Knave,y.Knave)] = x_2L(xSay)\n",
    "            \n",
    "                (x_3L match{\n",
    "                    case Left(t1: (x.Knight,y.Knight)) => t1._2 : y.Knight\n",
    "                    case Right(t2: (x.Knave,y.Knave)) => t2._1(xKnight) : Nothing\n",
    "                }): (y.Knight)\n",
    "            \n",
    "            case Right(xKnave: x.Knave) =>\n",
    "                //def P3[P](x: Inhabitant): x.Knave => x.Says[P] => ¬[P]\n",
    "                val x_1R: x.Knave => x.Says[Either[(x.Knight,y.Knight),(x.Knave,y.Knave)]] => ¬[Either[(x.Knight,y.Knight),(x.Knave,y.Knave)]] = \n",
    "                                        premises.P3[Either[(x.Knight,y.Knight),(x.Knave,y.Knave)]](x)\n",
    "                val x_2R: x.Says[Either[(x.Knight,y.Knight),(x.Knave,y.Knave)]] => ¬[Either[(x.Knight,y.Knight),(x.Knave,y.Knave)]] = x_1R(xKnave)\n",
    "                val x_3R: Either[(x.Knight,y.Knight),(x.Knave,y.Knave)] => Nothing = x_2R(xSay)\n",
    "            \n",
    "                premises.P1(y) match{\n",
    "                    case Left(yKnight: y.Knight) => yKnight : (y.Knight)\n",
    "                    case Right(yKnave: y.Knave) => x_3R(Right(xKnave, yKnave)) : (y.Knight)\n",
    "                    // x_3R(Right(xKnave, yKnave)) devuelve un Nothing que es equivalente al tipo y.Knight\n",
    "                }\n",
    "            \n",
    "        }) : (y.Knight)})"
   ]
  },
  {
   "cell_type": "code",
   "execution_count": 20,
   "metadata": {},
   "outputs": [
    {
     "data": {
      "text/plain": [
       "defined \u001b[32mfunction\u001b[39m \u001b[36mpuzzle5_1\u001b[39m"
      ]
     },
     "execution_count": 20,
     "metadata": {},
     "output_type": "execute_result"
    }
   ],
   "source": [
    "//V2 - PREMISA CORREGIDA - SIMPLIFICADO\n",
    "\n",
    "def puzzle5_1(premises: KnightsKnaves)(x: Inhabitant)(y: Inhabitant): \n",
    "    x.Says[Either[(x.Knight,y.Knight),(x.Knave,y.Knave)]] => (y.Knight) = \n",
    "    ({xSay => \n",
    "        (premises.P1(x) match{\n",
    "            case Left(xKnight) =>\n",
    "                val x_1L: x.Knight => x.Says[Either[(x.Knight,y.Knight),(x.Knave,y.Knave)]] => Either[(x.Knight,y.Knight),(x.Knave,y.Knave)] = \n",
    "                                        premises.P2[Either[(x.Knight,y.Knight),(x.Knave,y.Knave)]](x)\n",
    "                val x_2L: x.Says[Either[(x.Knight,y.Knight),(x.Knave,y.Knave)]] => Either[(x.Knight,y.Knight),(x.Knave,y.Knave)] = x_1L(xKnight)\n",
    "                val x_3L: Either[(x.Knight,y.Knight),(x.Knave,y.Knave)] = x_2L(xSay)\n",
    "            \n",
    "                x_3L match{\n",
    "                    case Left(t1: (x.Knight,y.Knight)) => t1._2 : y.Knight\n",
    "                    case Right(t2: (x.Knave,y.Knave)) => t2._1(xKnight) : Nothing\n",
    "                    // Para la rama Right lo que uso es la definicion del tipo Knave:\n",
    "                    // type Knave = ¬[Knight] // Knight => Nothing\n",
    "                    // Por tanto si tengo un Knave que es t2._1 y le paso un Knight, que es xKnight, entonces tengo Nothing\n",
    "                }\n",
    "            \n",
    "            case Right(xKnave) =>\n",
    "                val x_1R: x.Knave => x.Says[Either[(x.Knight,y.Knight),(x.Knave,y.Knave)]] => ¬[Either[(x.Knight,y.Knight),(x.Knave,y.Knave)]] = \n",
    "                                        premises.P3[Either[(x.Knight,y.Knight),(x.Knave,y.Knave)]](x)\n",
    "                val x_2R: x.Says[Either[(x.Knight,y.Knight),(x.Knave,y.Knave)]] => ¬[Either[(x.Knight,y.Knight),(x.Knave,y.Knave)]] = x_1R(xKnave)\n",
    "                val x_3R: Either[(x.Knight,y.Knight),(x.Knave,y.Knave)] => Nothing = x_2R(xSay)\n",
    "            \n",
    "                // En el pattern matching hay que definir ambas ramas (left y right)\n",
    "                premises.P1(y) match{\n",
    "                    case Left(yKnight: y.Knight) => yKnight : (y.Knight)\n",
    "                    case Right(yKnave: y.Knave) => x_3R(Right(xKnave, yKnave)) : (y.Knight)\n",
    "                    // x_3R(Right(xKnave, yKnave)) devuelve un Nothing que es equivalente al tipo y.Knight\n",
    "                }\n",
    "        }) \n",
    "    })"
   ]
  },
  {
   "cell_type": "code",
   "execution_count": 18,
   "metadata": {},
   "outputs": [
    {
     "data": {
      "text/plain": [
       "defined \u001b[32mfunction\u001b[39m \u001b[36mpuzzle5_1\u001b[39m"
      ]
     },
     "execution_count": 18,
     "metadata": {},
     "output_type": "execute_result"
    }
   ],
   "source": [
    "// VERSION 3 YA SIMPLIFICADO\n",
    "\n",
    "def puzzle5_1(premises: KnightsKnaves)(x: Inhabitant)(y: Inhabitant): \n",
    "    x.Says[Either[(x.Knight,y.Knight),(x.Knave,y.Knave)]] => (y.Knight) = \n",
    "    ({xSay => \n",
    "        (premises.P1(x) match{\n",
    "            case Left(xKnight) =>\n",
    "                val x_1L: x.Knight => x.Says[Either[(x.Knight,y.Knight),(x.Knave,y.Knave)]] => Either[(x.Knight,y.Knight),(x.Knave,y.Knave)] = \n",
    "                                        premises.P2[Either[(x.Knight,y.Knight),(x.Knave,y.Knave)]](x)\n",
    "                val x_2L: x.Says[Either[(x.Knight,y.Knight),(x.Knave,y.Knave)]] => Either[(x.Knight,y.Knight),(x.Knave,y.Knave)] = x_1L(xKnight)\n",
    "                val x_3L: Either[(x.Knight,y.Knight),(x.Knave,y.Knave)] = x_2L(xSay)\n",
    "            \n",
    "                x_3L match{\n",
    "                    case Left(t1: (x.Knight,y.Knight)) => t1._2 : y.Knight\n",
    "                    case Right(t2: (x.Knave,y.Knave)) => t2._1(xKnight) : Nothing\n",
    "                    // Para la rama Right lo que uso es la definicion del tipo Knave:\n",
    "                    // type Knave = ¬[Knight] // Knight => Nothing\n",
    "                    // Por tanto si tengo un Knave que es t2._1 y le paso un Knight, que es xKnight, entonces tengo Nothing\n",
    "                }\n",
    "            \n",
    "            case Right(xKnave) =>\n",
    "                val x_1R: x.Knave => x.Says[Either[(x.Knight,y.Knight),(x.Knave,y.Knave)]] => ¬[Either[(x.Knight,y.Knight),(x.Knave,y.Knave)]] = \n",
    "                                        premises.P3[Either[(x.Knight,y.Knight),(x.Knave,y.Knave)]](x)\n",
    "                val x_2R: x.Says[Either[(x.Knight,y.Knight),(x.Knave,y.Knave)]] => ¬[Either[(x.Knight,y.Knight),(x.Knave,y.Knave)]] = x_1R(xKnave)\n",
    "                val x_3R: Either[(x.Knight,y.Knight),(x.Knave,y.Knave)] => Nothing = x_2R(xSay)\n",
    "            \n",
    "                // En el pattern matching hay que definir ambas ramas (left y right)\n",
    "                premises.P1(y) match{\n",
    "                    case Left(yKnight: y.Knight) => yKnight : (y.Knight)\n",
    "                    case Right(yKnave: y.Knave) => x_3R(Right(xKnave, yKnave)) : (y.Knight)\n",
    "                    // x_3R(Right(xKnave, yKnave)) devuelve un Nothing que es equivalente al tipo y.Knight\n",
    "                }\n",
    "            \n",
    "        }) \n",
    "    })"
   ]
  },
  {
   "cell_type": "code",
   "execution_count": 18,
   "metadata": {},
   "outputs": [
    {
     "name": "stderr",
     "output_type": "stream",
     "text": [
      "(console):37:21 expected \")\"\r\n",
      "// Sugar version\n",
      "\n",
      "/*def puzzle5_1(premises: KnightsKnaves)(x: Inhabitant)(y: Inhabitant): \n",
      "    x.Says[Either[(x.Knight,y.Knight),(x.Knave,y.Knave)]] => (y.Knight) = \n",
      "    ({xSay => \n",
      "        (premises.P1(x) match{\n",
      "            case Left(xKnight) =>\n",
      "                val x_1L: x.Knight => x.Says[Either[(x.Knight,y.Knight),(x.Knave,y.Knave)]] => Either[(x.Knight,y.Knight),(x.Knave,y.Knave)] = \n",
      "                                        premises.P2[Either[(x.Knight,y.Knight),(x.Knave,y.Knave)]](x)\n",
      "                val x_2L: x.Says[Either[(x.Knight,y.Knight),(x.Knave,y.Knave)]] => Either[(x.Knight,y.Knight),(x.Knave,y.Knave)] = x_1L(xKnight)\n",
      "                val x_3L: Either[(x.Knight,y.Knight),(x.Knave,y.Knave)] = x_2L(xSay)\n",
      "            \n",
      "                x_3L match{\n",
      "                    case Left(t1: (x.Knight,y.Knight)) => t1._2 : y.Knight\n",
      "                    case Right(t2: (x.Knave,y.Knave)) => t2._1(xKnight) : Nothing\n",
      "                }\n",
      "            \n",
      "            case Right(xKnave) =>\n",
      "                val x_1R: x.Knave => x.Says[Either[(x.Knight,y.Knight),(x.Knave,y.Knave)]] => ¬[Either[(x.Knight,y.Knight),(x.Knave,y.Knave)]] = \n",
      "                                        premises.P3[Either[(x.Knight,y.Knight),(x.Knave,y.Knave)]](x)\n",
      "                val x_2R: x.Says[Either[(x.Knight,y.Knight),(x.Knave,y.Knave)]] => ¬[Either[(x.Knight,y.Knight),(x.Knave,y.Knave)]] = x_1R(xKnave)\n",
      "                val x_3R: Either[(x.Knight,y.Knight),(x.Knave,y.Knave)] => Nothing = x_2R(xSay)\n",
      "            \n",
      "                premises.P1(y) match{\n",
      "                    case Left(yKnight: y.Knight) => yKnight : (y.Knight)\n",
      "                    case Right(yKnave: y.Knave) => x_3R(Right(xKnave, yKnave)) : (y.Knight)\n",
      "                }\n",
      "        }) \n",
      "    })\n",
      "*/\n",
      "\n",
      "def puzzle5_1(premises: KnightsKnaves)(x: Inhabitant)(y: Inhabitant): \n",
      "    x.Says[Either[(x.Knight,y.Knight),(x.Knave,y.Knave)]] => (y.Knight) =\n",
      "        xSayxKnightyKnightOrxKnaveyKnave =>\n",
      "            premises.eitherKnightOrKnave(x).fold(\n",
      "                xIsKnight =>\n",
      "                    val aux1 = premises.noKnightLies(x)(xIsKnight)(xSayxKnightyKnightOrxKnaveyKnave): Either[(x.Knight,y.Knight),(x.Knave,y.Knave)]\n",
      "                    aux1 match{\n",
      "                        xKnightyKnight => xKnightyKnight._2\n",
      "                        xKnaveyKnave => xKnaveyKnave._1(xIsKnight)\n",
      "                    },\n",
      "                xIsKnave =>\n",
      "                    val aux2 = premises.noKnaveTellsTruth(x)(xIsKnave)(xSayxKnightyKnightOrxKnaveyKnave): ¬[Either[(x.Knight,y.Knight),(x.Knave,y.Knave)]]\n",
      "                    premises.eitherKnightOrKnave(y).fold(\n",
      "                        yIsKnight =>\n",
      "                            yIsKnight\n",
      "                        ,\n",
      "                        yIsKnave =>\n",
      "                            aux2(Right(xIsKnave, yIsKnave))\n",
      "                    )\n",
      "            )\n",
      "\r\n",
      "                                                                                                                                                                                                                                                                                                                                                                                                                                                                                                                                                                                                                                                                                                                                                                                                                                                                                                                                                                                                                                                                                                                                                                                                                                                                                                                                                                                                                                                                                                                                                                                                                                                                                                                                                                                                                                                                                                                                                                                                                                                                                                     ^"
     ]
    },
    {
     "ename": "",
     "evalue": "",
     "output_type": "error",
     "traceback": [
      "(console):37:21 expected \")\"\r\n// Sugar version\n\n/*def puzzle5_1(premises: KnightsKnaves)(x: Inhabitant)(y: Inhabitant): \n    x.Says[Either[(x.Knight,y.Knight),(x.Knave,y.Knave)]] => (y.Knight) = \n    ({xSay => \n        (premises.P1(x) match{\n            case Left(xKnight) =>\n                val x_1L: x.Knight => x.Says[Either[(x.Knight,y.Knight),(x.Knave,y.Knave)]] => Either[(x.Knight,y.Knight),(x.Knave,y.Knave)] = \n                                        premises.P2[Either[(x.Knight,y.Knight),(x.Knave,y.Knave)]](x)\n                val x_2L: x.Says[Either[(x.Knight,y.Knight),(x.Knave,y.Knave)]] => Either[(x.Knight,y.Knight),(x.Knave,y.Knave)] = x_1L(xKnight)\n                val x_3L: Either[(x.Knight,y.Knight),(x.Knave,y.Knave)] = x_2L(xSay)\n            \n                x_3L match{\n                    case Left(t1: (x.Knight,y.Knight)) => t1._2 : y.Knight\n                    case Right(t2: (x.Knave,y.Knave)) => t2._1(xKnight) : Nothing\n                }\n            \n            case Right(xKnave) =>\n                val x_1R: x.Knave => x.Says[Either[(x.Knight,y.Knight),(x.Knave,y.Knave)]] => ¬[Either[(x.Knight,y.Knight),(x.Knave,y.Knave)]] = \n                                        premises.P3[Either[(x.Knight,y.Knight),(x.Knave,y.Knave)]](x)\n                val x_2R: x.Says[Either[(x.Knight,y.Knight),(x.Knave,y.Knave)]] => ¬[Either[(x.Knight,y.Knight),(x.Knave,y.Knave)]] = x_1R(xKnave)\n                val x_3R: Either[(x.Knight,y.Knight),(x.Knave,y.Knave)] => Nothing = x_2R(xSay)\n            \n                premises.P1(y) match{\n                    case Left(yKnight: y.Knight) => yKnight : (y.Knight)\n                    case Right(yKnave: y.Knave) => x_3R(Right(xKnave, yKnave)) : (y.Knight)\n                }\n        }) \n    })\n*/\n\ndef puzzle5_1(premises: KnightsKnaves)(x: Inhabitant)(y: Inhabitant): \n    x.Says[Either[(x.Knight,y.Knight),(x.Knave,y.Knave)]] => (y.Knight) =\n        xSayxKnightyKnightOrxKnaveyKnave =>\n            premises.eitherKnightOrKnave(x).fold(\n                xIsKnight =>\n                    val aux1 = premises.noKnightLies(x)(xIsKnight)(xSayxKnightyKnightOrxKnaveyKnave): Either[(x.Knight,y.Knight),(x.Knave,y.Knave)]\n                    aux1 match{\n                        xKnightyKnight => xKnightyKnight._2\n                        xKnaveyKnave => xKnaveyKnave._1(xIsKnight)\n                    },\n                xIsKnave =>\n                    val aux2 = premises.noKnaveTellsTruth(x)(xIsKnave)(xSayxKnightyKnightOrxKnaveyKnave): ¬[Either[(x.Knight,y.Knight),(x.Knave,y.Knave)]]\n                    premises.eitherKnightOrKnave(y).fold(\n                        yIsKnight =>\n                            yIsKnight\n                        ,\n                        yIsKnave =>\n                            aux2(Right(xIsKnave, yIsKnave))\n                    )\n            )\n\r\n                                                                                                                                                                                                                                                                                                                                                                                                                                                                                                                                                                                                                                                                                                                                                                                                                                                                                                                                                                                                                                                                                                                                                                                                                                                                                                                                                                                                                                                                                                                                                                                                                                                                                                                                                                                                                                                                                                                                                                                                                                                                                                     ^"
     ]
    }
   ],
   "source": [
    "// Sugar version\n",
    "\n",
    "/*def puzzle5_1(premises: KnightsKnaves)(x: Inhabitant)(y: Inhabitant): \n",
    "    x.Says[Either[(x.Knight,y.Knight),(x.Knave,y.Knave)]] => (y.Knight) = \n",
    "    ({xSay => \n",
    "        (premises.P1(x) match{\n",
    "            case Left(xKnight) =>\n",
    "                val x_1L: x.Knight => x.Says[Either[(x.Knight,y.Knight),(x.Knave,y.Knave)]] => Either[(x.Knight,y.Knight),(x.Knave,y.Knave)] = \n",
    "                                        premises.P2[Either[(x.Knight,y.Knight),(x.Knave,y.Knave)]](x)\n",
    "                val x_2L: x.Says[Either[(x.Knight,y.Knight),(x.Knave,y.Knave)]] => Either[(x.Knight,y.Knight),(x.Knave,y.Knave)] = x_1L(xKnight)\n",
    "                val x_3L: Either[(x.Knight,y.Knight),(x.Knave,y.Knave)] = x_2L(xSay)\n",
    "            \n",
    "                x_3L match{\n",
    "                    case Left(t1: (x.Knight,y.Knight)) => t1._2 : y.Knight\n",
    "                    case Right(t2: (x.Knave,y.Knave)) => t2._1(xKnight) : Nothing\n",
    "                }\n",
    "            \n",
    "            case Right(xKnave) =>\n",
    "                val x_1R: x.Knave => x.Says[Either[(x.Knight,y.Knight),(x.Knave,y.Knave)]] => ¬[Either[(x.Knight,y.Knight),(x.Knave,y.Knave)]] = \n",
    "                                        premises.P3[Either[(x.Knight,y.Knight),(x.Knave,y.Knave)]](x)\n",
    "                val x_2R: x.Says[Either[(x.Knight,y.Knight),(x.Knave,y.Knave)]] => ¬[Either[(x.Knight,y.Knight),(x.Knave,y.Knave)]] = x_1R(xKnave)\n",
    "                val x_3R: Either[(x.Knight,y.Knight),(x.Knave,y.Knave)] => Nothing = x_2R(xSay)\n",
    "            \n",
    "                premises.P1(y) match{\n",
    "                    case Left(yKnight: y.Knight) => yKnight : (y.Knight)\n",
    "                    case Right(yKnave: y.Knave) => x_3R(Right(xKnave, yKnave)) : (y.Knight)\n",
    "                }\n",
    "        }) \n",
    "    })\n",
    "*/\n",
    "\n",
    "def puzzle5_1(premises: KnightsKnaves)(x: Inhabitant)(y: Inhabitant): \n",
    "    x.Says[Either[(x.Knight,y.Knight),(x.Knave,y.Knave)]] => (y.Knight) =\n",
    "        xSayxKnightyKnightOrxKnaveyKnave =>\n",
    "            premises.eitherKnightOrKnave(x).fold(\n",
    "                xIsKnight =>\n",
    "                    val aux1 = premises.noKnightLies(x)(xIsKnight)(xSayxKnightyKnightOrxKnaveyKnave): Either[(x.Knight,y.Knight),(x.Knave,y.Knave)]\n",
    "                    aux1 match{\n",
    "                        xKnightyKnight => xKnightyKnight._2\n",
    "                        xKnaveyKnave => xKnaveyKnave._1(xIsKnight)\n",
    "                    },\n",
    "                xIsKnave =>\n",
    "                    val aux2 = premises.noKnaveTellsTruth(x)(xIsKnave)(xSayxKnightyKnightOrxKnaveyKnave): ¬[Either[(x.Knight,y.Knight),(x.Knave,y.Knave)]]\n",
    "                    premises.eitherKnightOrKnave(y).fold(\n",
    "                        yIsKnight =>\n",
    "                            yIsKnight\n",
    "                        ,\n",
    "                        yIsKnave =>\n",
    "                            aux2(Right(xIsKnave, yIsKnave))\n",
    "                    )\n",
    "            )\n"
   ]
  },
  {
   "cell_type": "code",
   "execution_count": null,
   "metadata": {},
   "outputs": [],
   "source": []
  },
  {
   "cell_type": "code",
   "execution_count": null,
   "metadata": {},
   "outputs": [],
   "source": []
  },
  {
   "cell_type": "code",
   "execution_count": null,
   "metadata": {},
   "outputs": [],
   "source": []
  },
  {
   "cell_type": "code",
   "execution_count": null,
   "metadata": {},
   "outputs": [],
   "source": [
    "def puzzle5_2(premises: KnightsKnaves)(x: Inhabitant)(y: Inhabitant): \n",
    "    x.Says[Either[(x.Knight,y.Knave),(x.Knave,y.Knight)]] => (Either[x.Knave, x.Knight],y.Knave) = ???\n",
    "\n",
    "// Seria el mismo caso que en el puzzle 4"
   ]
  },
  {
   "cell_type": "code",
   "execution_count": null,
   "metadata": {},
   "outputs": [],
   "source": []
  }
 ],
 "metadata": {
  "kernelspec": {
   "display_name": "Scala",
   "language": "scala",
   "name": "scala"
  },
  "language_info": {
   "codemirror_mode": "text/x-scala",
   "file_extension": ".sc",
   "mimetype": "text/x-scala",
   "name": "scala",
   "nbconvert_exporter": "script",
   "version": "2.13.3"
  }
 },
 "nbformat": 4,
 "nbformat_minor": 4
}
