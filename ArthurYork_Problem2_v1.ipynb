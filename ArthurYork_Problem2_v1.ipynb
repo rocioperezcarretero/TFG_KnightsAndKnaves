{
 "cells": [
  {
   "cell_type": "code",
   "execution_count": 1,
   "metadata": {
    "scrolled": true
   },
   "outputs": [
    {
     "data": {
      "text/plain": [
       "defined \u001b[32mtype\u001b[39m \u001b[36m∨\u001b[39m\r\n",
       "defined \u001b[32mtype\u001b[39m \u001b[36m∧\u001b[39m\r\n",
       "defined \u001b[32mtype\u001b[39m \u001b[36m⟶\u001b[39m\r\n",
       "defined \u001b[32mtype\u001b[39m \u001b[36m⊥\u001b[39m\r\n",
       "defined \u001b[32mtype\u001b[39m \u001b[36mTrue\u001b[39m\r\n",
       "defined \u001b[32mtype\u001b[39m \u001b[36m¬\u001b[39m\r\n",
       "defined \u001b[32mtype\u001b[39m \u001b[36m⟷\u001b[39m"
      ]
     },
     "execution_count": 1,
     "metadata": {},
     "output_type": "execute_result"
    }
   ],
   "source": [
    "type ∨[P, Q] = Either[P, Q]\n",
    "type ∧[P, Q] = Tuple2[P, Q]\n",
    "type ⟶[P, Q] = P => Q\n",
    "type ⊥ = Nothing\n",
    "type True = Unit\n",
    "type ¬[P] = P => ⊥\n",
    "type ⟷[P, Q] = (P => Q) ∧ (Q => P)"
   ]
  },
  {
   "cell_type": "code",
   "execution_count": 2,
   "metadata": {
    "scrolled": true
   },
   "outputs": [
    {
     "data": {
      "text/plain": [
       "defined \u001b[32mtype\u001b[39m \u001b[36mOr\u001b[39m\r\n",
       "defined \u001b[32mtype\u001b[39m \u001b[36mAnd\u001b[39m\r\n",
       "defined \u001b[32mtype\u001b[39m \u001b[36mImplies\u001b[39m\r\n",
       "defined \u001b[32mtype\u001b[39m \u001b[36mFalse\u001b[39m\r\n",
       "defined \u001b[32mtype\u001b[39m \u001b[36mTrue\u001b[39m\r\n",
       "defined \u001b[32mtype\u001b[39m \u001b[36mNot\u001b[39m\r\n",
       "defined \u001b[32mtype\u001b[39m \u001b[36m<=>\u001b[39m"
      ]
     },
     "execution_count": 2,
     "metadata": {},
     "output_type": "execute_result"
    }
   ],
   "source": [
    "type Or[P, Q] = Either[P, Q]\n",
    "type And[P, Q] = Tuple2[P, Q]\n",
    "type Implies[P, Q] = P => Q\n",
    "type False = Nothing\n",
    "type True = Unit\n",
    "type Not[P] = P => ⊥\n",
    "type <=>[P, Q] = (P => Q, Q => P)"
   ]
  },
  {
   "cell_type": "code",
   "execution_count": 3,
   "metadata": {},
   "outputs": [
    {
     "data": {
      "text/plain": [
       "defined \u001b[32mclass\u001b[39m \u001b[36mInhabitant\u001b[39m"
      ]
     },
     "execution_count": 3,
     "metadata": {},
     "output_type": "execute_result"
    }
   ],
   "source": [
    "class Inhabitant{ x => \n",
    "    // Knight(x) -- `x` is a Knight\n",
    "    // \n",
    "    type Knight\n",
    "    \n",
    "    // Knave(x) -- `x` is a Knave (i.e. is not a Knight)\n",
    "    // \n",
    "    type Knave = ¬[Knight]\n",
    "    \n",
    "    // Says(x, P) -- `x` says that `P` holds, i.e. asserts proposition `P`\n",
    "    // \n",
    "    type Says[P]\n",
    "    \n",
    "    // Tipo Arthur York\n",
    "    //\n",
    "    type Arthur\n",
    "}"
   ]
  },
  {
   "cell_type": "code",
   "execution_count": 4,
   "metadata": {},
   "outputs": [
    {
     "data": {
      "text/plain": [
       "defined \u001b[32mtrait\u001b[39m \u001b[36mKnightsKnaves\u001b[39m"
      ]
     },
     "execution_count": 4,
     "metadata": {},
     "output_type": "execute_result"
    }
   ],
   "source": [
    "trait KnightsKnaves{\n",
    "    // P1. Inhabitants are knights or knaves\n",
    "    // \n",
    "    //     ∀ x. Inhabitant(x) ⟶ Knight(x) ∨ Knave(x) \n",
    "    // \n",
    "    def P1(x: Inhabitant): x.Knight ∨ x.Knave\n",
    "    \n",
    "    // In Scala 3\n",
    "    // val P1: (x: Inhabitant) => Either[x.Knight, x.Knave]\n",
    "    \n",
    "    // P2. Knights are truth tellers\n",
    "    // \n",
    "    //     ∀ P. ∀ x. Knight(x) ⟶ Says(x, P) ⟶ P\n",
    "    // \n",
    "    def P2[P](x: Inhabitant): x.Knight => x.Says[P] => P\n",
    "    \n",
    "    // In Scala 3\n",
    "    // val P2: [P] => (x: Inhabitant) => x.Knight => x.Says[P] => P\n",
    "    \n",
    "    // P3. Knaves are persistent liers\n",
    "    // \n",
    "    //     ∀ P. ∀ x. Knight(x) ⟶ Says(x, P) ⟶ ¬P\n",
    "    // \n",
    "    def P3[P](x: Inhabitant): x.Knave => x.Says[P] => ¬[P]\n",
    "    \n",
    "    // Tip de Juanma\n",
    "    // Si el sujeto es Arthur, entonces si Arthur dice P, quiere decir que el sujeto dice P\n",
    "    def P4_1[P](x: Inhabitant)(arthur: Inhabitant): x.Arthur => arthur.Says[P] => x.Says[P]\n",
    "    // Si el sujeto es Arthur, entonces si Arthur es un Knight, quiere decir que el sujeto es un Knight\n",
    "    def P4_2[P](x: Inhabitant)(arthur: Inhabitant): x.Arthur => arthur.Knight => x.Knight\n",
    "}"
   ]
  },
  {
   "cell_type": "markdown",
   "metadata": {},
   "source": [
    "# Problem 2 - The Second Trial.\n",
    "Another suspect was arrested and brought to trial. Here is a transcript of the trial:\n",
    "\n",
    "Craig: The last suspect was a queer bird; he actually claimed to be Arthur York! Did you ever claim to be Arthur York?\n",
    "DEFENDANT: NO.\n",
    "\n",
    "Craig: Did you ever claim that you are not Arthur York?\n",
    "DEFENDANT: Yes.\n",
    "\n",
    "Craig’s first guess was that the defendant was not Arthur York, but are there really sufficient grounds for acquitting him?"
   ]
  },
  {
   "cell_type": "markdown",
   "metadata": {},
   "source": [
    "**SOLUCION**\n",
    "\n",
    "The defendant is either a knight or a knave. \n",
    "\n",
    "Suppose he is a knight. Then his answers were both truthful; in particular, his second answer was truthful, so he did once claim that he is not Arthur York. His claim was true, since he is a knight; thus he is not Arthur York. \n",
    "This proves that if he is a knight, then he is not Arthur York. \n",
    "\n",
    "Suppose he is a knave. Then his answers were both lies; in particular, his first answer was a lie, which means that he did once claim to be Arthur York. But since he is a knave, he lied when he claimed to be Arthur York, hence he is not Arthur York. And so we have proved that if he is a knave, then he is not Arthur York. \n",
    "\n",
    "We now see that regardless of **whether he is a knight or a knave, he cannot be Arthur York.** And so he was acquitted. Incidentally, **it cannot be determined whether he is a knight or a knave.**"
   ]
  },
  {
   "cell_type": "code",
   "execution_count": 4,
   "metadata": {},
   "outputs": [],
   "source": [
    "/*\n",
    "PRIMER RAZONAMIENTO\n",
    "d = defendant\n",
    "\n",
    "Craig: The last suspect was a queer bird; he actually claimed to be Arthur York! \n",
    "Did you ever claim to be Arthur York? DEFENDANT: NO.\n",
    "\n",
    "Esto seria: d.Says[d.Arthur]\n",
    "\n",
    "\n",
    "Craig: Did you ever claim that you are not Arthur York? DEFENDANT: Yes.\n",
    "\n",
    "Esto seria: d.Says[Not[d.Arthur]]\n",
    "\n",
    "We now see that regardless of whether he is a knight or a knave, he cannot be Arthur York. \n",
    "And so he was acquitted. Incidentally, it cannot be determined whether he is a knight or a knave.\n",
    "\n",
    "Esto seria que, si no se puede saber, no devuelvo nada => Nothing\n",
    "\n",
    "Quedaria:\n",
    "\n",
    "d.Says[(d.Arthur, Not[d.Arthur])] => Nothing\n",
    "\n",
    "*/"
   ]
  },
  {
   "cell_type": "code",
   "execution_count": 5,
   "metadata": {},
   "outputs": [
    {
     "data": {
      "text/plain": [
       "defined \u001b[32mfunction\u001b[39m \u001b[36mproblem2\u001b[39m"
      ]
     },
     "execution_count": 5,
     "metadata": {},
     "output_type": "execute_result"
    }
   ],
   "source": [
    "def problem2(premises: KnightsKnaves)(x: Inhabitant): x.Says[(x.Arthur, Not[x.Arthur])] => Nothing = ???"
   ]
  },
  {
   "cell_type": "code",
   "execution_count": 6,
   "metadata": {},
   "outputs": [
    {
     "data": {
      "text/plain": [
       "defined \u001b[32mfunction\u001b[39m \u001b[36mproblem2\u001b[39m"
      ]
     },
     "execution_count": 6,
     "metadata": {},
     "output_type": "execute_result"
    }
   ],
   "source": [
    "def problem2(premises: KnightsKnaves)(x: Inhabitant): x.Says[(x.Arthur, Not[x.Arthur])] => Nothing = \n",
    "    ({xSay: x.Says[(x.Arthur, Not[x.Arthur])] =>\n",
    "        ??? : Nothing\n",
    "               \n",
    "    }): (x.Says[(x.Arthur, Not[x.Arthur])] => Nothing)"
   ]
  },
  {
   "cell_type": "code",
   "execution_count": 7,
   "metadata": {},
   "outputs": [
    {
     "data": {
      "text/plain": [
       "defined \u001b[32mfunction\u001b[39m \u001b[36mproblem2\u001b[39m"
      ]
     },
     "execution_count": 7,
     "metadata": {},
     "output_type": "execute_result"
    }
   ],
   "source": [
    "def problem2(premises: KnightsKnaves)(x: Inhabitant): x.Says[(x.Arthur, Not[x.Arthur])] => Nothing = \n",
    "    ({xSay: x.Says[(x.Arthur, Not[x.Arthur])] =>\n",
    "        premises.P1(x) match{\n",
    "            case Left(xKnight: x.Knight) => ??? : Nothing\n",
    "            case Right(xKnave: x.Knave) => ??? : Nothing\n",
    "        }\n",
    "        ??? : Nothing\n",
    "               \n",
    "    }): (x.Says[(x.Arthur, Not[x.Arthur])] => Nothing)"
   ]
  },
  {
   "cell_type": "code",
   "execution_count": 8,
   "metadata": {},
   "outputs": [
    {
     "data": {
      "text/plain": [
       "defined \u001b[32mfunction\u001b[39m \u001b[36mproblem2\u001b[39m"
      ]
     },
     "execution_count": 8,
     "metadata": {},
     "output_type": "execute_result"
    }
   ],
   "source": [
    "def problem2(premises: KnightsKnaves)(x: Inhabitant): x.Says[(x.Arthur, Not[x.Arthur])] => Nothing = \n",
    "    ({xSay: x.Says[(x.Arthur, Not[x.Arthur])] =>\n",
    "        premises.P1(x) match{\n",
    "            case Left(xKnight: x.Knight) => \n",
    "                // def P2[P](x: Inhabitant): x.Knight => x.Says[P] => P \n",
    "                val x_L1: x.Knight => x.Says[(x.Arthur, Not[x.Arthur])] => (x.Arthur, Not[x.Arthur]) = \n",
    "                                        premises.P2[(x.Arthur, Not[x.Arthur])](x)\n",
    "                val x_L2: x.Says[(x.Arthur, Not[x.Arthur])] => (x.Arthur, Not[x.Arthur]) = x_L1(xKnight)\n",
    "                val x_L3: (x.Arthur, Not[x.Arthur]) = x_L2(xSay)\n",
    "                x_L3._1: x.Arthur\n",
    "                x_L3._2: (x.Arthur => Nothing)\n",
    "                (x_L3._2(x_L3._1)) : Nothing\n",
    "            \n",
    "            case Right(xKnave: x.Knave) => \n",
    "                //def P3[P](x: Inhabitant): x.Knave => x.Says[P] => ¬[P]\n",
    "                ??? : Nothing\n",
    "        }\n",
    "        ??? : Nothing\n",
    "               \n",
    "    }): (x.Says[(x.Arthur, Not[x.Arthur])] => Nothing)"
   ]
  },
  {
   "cell_type": "code",
   "execution_count": 9,
   "metadata": {},
   "outputs": [
    {
     "data": {
      "text/plain": [
       "defined \u001b[32mfunction\u001b[39m \u001b[36mproblem2\u001b[39m"
      ]
     },
     "execution_count": 9,
     "metadata": {},
     "output_type": "execute_result"
    }
   ],
   "source": [
    "def problem2(premises: KnightsKnaves)(x: Inhabitant)(a: Inhabitant): x.Says[(x.Arthur, Not[x.Arthur])] => Nothing = \n",
    "    ({xSay: x.Says[(x.Arthur, Not[x.Arthur])] =>\n",
    "        premises.P1(x) match{\n",
    "            case Left(xKnight: x.Knight) => \n",
    "                // def P2[P](x: Inhabitant): x.Knight => x.Says[P] => P \n",
    "                val x_L1: x.Knight => x.Says[(x.Arthur, Not[x.Arthur])] => (x.Arthur, Not[x.Arthur]) = \n",
    "                                        premises.P2[(x.Arthur, Not[x.Arthur])](x)\n",
    "                val x_L2: x.Says[(x.Arthur, Not[x.Arthur])] => (x.Arthur, Not[x.Arthur]) = x_L1(xKnight)\n",
    "                val x_L3: (x.Arthur, Not[x.Arthur]) = x_L2(xSay)\n",
    "                x_L3._1: x.Arthur\n",
    "                x_L3._2: (x.Arthur => Nothing)\n",
    "                (x_L3._2(x_L3._1)) : Nothing\n",
    "            \n",
    "            case Right(xKnave: x.Knave) => \n",
    "                //def P3[P](x: Inhabitant): x.Knave => x.Says[P] => ¬[P]\n",
    "                val x_R1: x.Knave => x.Says[(x.Arthur, Not[x.Arthur])] => ¬[(x.Arthur, Not[x.Arthur])] = \n",
    "                                    premises.P3[(x.Arthur, Not[x.Arthur])](x)\n",
    "                val x_R2: x.Says[(x.Arthur, Not[x.Arthur])] => ¬[(x.Arthur, Not[x.Arthur])] = x_R1(xKnave)\n",
    "                val x_R3: ((x.Arthur, Not[x.Arthur])) => Nothing = x_R2(xSay)\n",
    "                \n",
    "                             \n",
    "                //x_R3((??? : x.Arthur, ({xArthur: x.Arthur => ??? : Nothing}))): Nothing\n",
    "                /*({t: ((x.Arthur, Not[x.Arthur])) => \n",
    "                    t._1: x.Arthur\n",
    "                    t._2: (x.Arthur => Nothing)\n",
    "                    t._2(t._1): Nothing\n",
    "                })*/\n",
    "                \n",
    "                \n",
    "               \n",
    "                ??? : Nothing\n",
    "        }\n",
    "        ??? : Nothing\n",
    "               \n",
    "    }): (x.Says[(x.Arthur, Not[x.Arthur])] => Nothing)"
   ]
  },
  {
   "cell_type": "code",
   "execution_count": null,
   "metadata": {},
   "outputs": [],
   "source": []
  },
  {
   "cell_type": "code",
   "execution_count": 9,
   "metadata": {},
   "outputs": [],
   "source": [
    "/*\n",
    "SEGUNDO RAZONAMIENTO\n",
    "\n",
    "d = defendant\n",
    "y = Arthur\n",
    "\n",
    "Craig: The last suspect was a queer bird; he actually claimed to be Arthur York! \n",
    "Did you ever claim to be Arthur York? DEFENDANT: NO.\n",
    "\n",
    "Esto seria: el defendant dice que el no ha dicho que sea Arthur -> d.Says[Not[d.Says[d == y]]]\n",
    "\n",
    "Craig: Did you ever claim that you are not Arthur York? DEFENDANT: Yes.\n",
    "\n",
    "Esto seria: el defendant dice que el ha dicho que no es Arthur -> d.Says[d.Says[d == y]]\n",
    "\n",
    "We now see that regardless of whether he is a knight or a knave, he cannot be Arthur York. \n",
    "And so he was acquitted. Incidentally, it cannot be determined whether he is a knight or a knave.\n",
    "\n",
    "Esto seria que, si no se puede saber, ¿entonces devuelvo Nothing? Diria que no porque Nothing es una contradiccion\n",
    "¿QUE DEVUELVO ENTONCES?\n",
    "\n",
    "Quedaria:\n",
    "\n",
    "((d.Says[Not[d.Says[d == y]]], d.Says[d.Says[d == y]])) => ?¿?¿?\n",
    "\n",
    "*/"
   ]
  },
  {
   "cell_type": "code",
   "execution_count": null,
   "metadata": {},
   "outputs": [],
   "source": []
  },
  {
   "cell_type": "code",
   "execution_count": 9,
   "metadata": {},
   "outputs": [],
   "source": [
    "/*\n",
    "TERCER RAZONAMIENTO\n",
    "\n",
    "(1)Craig: The last suspect was a queer bird; he actually claimed to be Arthur York! Did you ever claim to be Arthur York? \n",
    "DEFENDANT: NO.\n",
    "(2)Craig: Did you ever claim that you are not Arthur York? \n",
    "DEFENDANT: Yes.\n",
    "Craig’s first guess was that the defendant was not Arthur York, but are there really sufficient grounds for acquitting him?\n",
    "\n",
    "De aqui saco que:\n",
    "\n",
    "x = Defendant\n",
    "a = Arthur\n",
    "\n",
    "(1) Not[x.Says[x.Arthur]] -> El defendant NO dice que es Arthur York\n",
    "(2) x.Says[Not[x.Arthur]] -> El defendant dice que NO es Arthur York\n",
    "\n",
    "SOLUCION\n",
    "\n",
    "The defendant is either a knight or a knave.\n",
    "Suppose he is a knight: \n",
    "Then his answers were both truthful; in particular, his second answer was truthful, \n",
    "so he did once claim that he is not Arthur York. His claim was true, since he is a knight; thus he is not Arthur York. \n",
    "This proves that if he is a knight, then he is not Arthur York.\n",
    "\n",
    "Suppose he is a knave: \n",
    "Then his answers were both lies; in particular, his first answer was a lie, \n",
    "which means that he did once claim to be Arthur York. But since he is a knave, \n",
    "he lied when he claimed to be Arthur York, hence he is not Arthur York. \n",
    "And so we have proved that if he is a knave, then he is not Arthur York.\n",
    "\n",
    "We now see that regardless of whether he is a knight or a knave, \n",
    "he cannot be Arthur York. And so he was acquitted. \n",
    "Incidentally, it cannot be determined whether he is a knight or a knave.\n",
    "\n",
    "Tanto si es un Knight, como un Knave, lo unico que se puede afirmar es que el defendant NO es Arthur York\n",
    "(1) Si x.Knight -> Not[x.Arthur] \n",
    "(2) Si x.Knave -> Not[x.Arthur]\n",
    "\n",
    "Por tanto:\n",
    "\n",
    "PREDICADO                         SOLUCION\n",
    "((Not[x.Says[x.Arthur]], x.Says[Not[x.Arthur]])) => Not[x.Arthur]\n",
    "\n",
    "*/"
   ]
  },
  {
   "cell_type": "code",
   "execution_count": 13,
   "metadata": {
    "scrolled": true
   },
   "outputs": [
    {
     "data": {
      "text/plain": [
       "defined \u001b[32mfunction\u001b[39m \u001b[36mproblem2\u001b[39m"
      ]
     },
     "execution_count": 13,
     "metadata": {},
     "output_type": "execute_result"
    }
   ],
   "source": [
    "def problem2(premises: KnightsKnaves)(x: Inhabitant): ((Not[x.Says[x.Arthur]], x.Says[Not[x.Arthur]])) => Not[x.Arthur] = ???"
   ]
  },
  {
   "cell_type": "code",
   "execution_count": 14,
   "metadata": {
    "scrolled": true
   },
   "outputs": [
    {
     "data": {
      "text/plain": [
       "defined \u001b[32mfunction\u001b[39m \u001b[36mproblem2\u001b[39m"
      ]
     },
     "execution_count": 14,
     "metadata": {},
     "output_type": "execute_result"
    }
   ],
   "source": [
    "def problem2(premises: KnightsKnaves)(x: Inhabitant): ((Not[x.Says[x.Arthur]], x.Says[Not[x.Arthur]])) => Not[x.Arthur] = \n",
    "    ({t: ((Not[x.Says[x.Arthur]], x.Says[Not[x.Arthur]])) =>\n",
    "        ??? : Not[x.Arthur]\n",
    "    }): (((Not[x.Says[x.Arthur]], x.Says[Not[x.Arthur]])) => Not[x.Arthur])"
   ]
  },
  {
   "cell_type": "code",
   "execution_count": 20,
   "metadata": {
    "scrolled": true
   },
   "outputs": [
    {
     "data": {
      "text/plain": [
       "defined \u001b[32mfunction\u001b[39m \u001b[36mproblem2\u001b[39m"
      ]
     },
     "execution_count": 20,
     "metadata": {},
     "output_type": "execute_result"
    }
   ],
   "source": [
    "def problem2(premises: KnightsKnaves)(x: Inhabitant): ((Not[x.Says[x.Arthur]], x.Says[Not[x.Arthur]])) => Not[x.Arthur] = \n",
    "    ({t: ((Not[x.Says[x.Arthur]], x.Says[Not[x.Arthur]])) =>\n",
    "        //t._1: Not[x.Says[x.Arthur]] \n",
    "        t._1: (x.Says[x.Arthur] => Nothing)\n",
    "        //t._2: x.Says[Not[x.Arthur]] \n",
    "        t._2: x.Says[(x.Arthur => Nothing)]\n",
    "        \n",
    "        premises.P1(x) match{\n",
    "            case Left(xKnight: x.Knight) => ??? : Not[x.Arthur]\n",
    "            case Right(xKnave: x.Knave) => ??? : Not[x.Arthur]\n",
    "        }\n",
    "        \n",
    "        \n",
    "        ??? : Not[x.Arthur]\n",
    "    }): (((Not[x.Says[x.Arthur]], x.Says[Not[x.Arthur]])) => Not[x.Arthur])"
   ]
  },
  {
   "cell_type": "code",
   "execution_count": 39,
   "metadata": {
    "scrolled": true
   },
   "outputs": [
    {
     "data": {
      "text/plain": [
       "defined \u001b[32mfunction\u001b[39m \u001b[36mproblem2\u001b[39m"
      ]
     },
     "execution_count": 39,
     "metadata": {},
     "output_type": "execute_result"
    }
   ],
   "source": [
    "def problem2(premises: KnightsKnaves)(x: Inhabitant)(a: Inhabitant): ((Not[x.Says[x.Arthur]], x.Says[Not[x.Arthur]])) => Not[x.Arthur] = \n",
    "    ({t: ((Not[x.Says[x.Arthur]], x.Says[Not[x.Arthur]])) =>\n",
    "        //t._1: Not[x.Says[x.Arthur]] \n",
    "        t._1: (x.Says[x.Arthur] => Nothing)\n",
    "        //t._2: x.Says[Not[x.Arthur]] \n",
    "        t._2: x.Says[(x.Arthur => Nothing)]\n",
    "        \n",
    "        premises.P1(x) match{\n",
    "            case Left(xKnight: x.Knight) => \n",
    "                // def P2[P](x: Inhabitant): x.Knight => x.Says[P] => P\n",
    "                val x_L1: x.Knight => x.Says[(x.Arthur => Nothing)] => (x.Arthur => Nothing) = premises.P2[(x.Arthur => Nothing)](x)\n",
    "                val x_L2: x.Says[(x.Arthur => Nothing)] => (x.Arthur => Nothing) = x_L1(xKnight)\n",
    "                val x_L3: x.Arthur => Nothing = x_L2(t._2)\n",
    "                x_L3: Not[x.Arthur]\n",
    "            \n",
    "            case Right(xKnave: x.Knave) => \n",
    "                //def P3[P](x: Inhabitant): x.Knave => x.Says[P] => ¬[P]\n",
    "                val x_R1: x.Knave => x.Says[(x.Arthur => Nothing)] => ¬[(x.Arthur => Nothing)] = premises.P3[(x.Arthur => Nothing)](x)\n",
    "                val x_R2: x.Says[(x.Arthur => Nothing)] => ¬[(x.Arthur => Nothing)] = x_R1(xKnave)\n",
    "                val x_R3: (x.Arthur => Nothing) => Nothing = x_R2(t._2)\n",
    "                \n",
    "                val x_R4: x.Says[x.Arthur] => Nothing = t._1\n",
    "            \n",
    "                //¿Como continuo? ¿Pruebo a meter \"a\"? No puedo porque no tengo un a.Says o un x.Arthur\n",
    "                \n",
    "                ??? : (x.Arthur => Nothing)\n",
    "        }\n",
    "        \n",
    "        \n",
    "        ??? : Not[x.Arthur]\n",
    "    }): (((Not[x.Says[x.Arthur]], x.Says[Not[x.Arthur]])) => Not[x.Arthur])"
   ]
  },
  {
   "cell_type": "code",
   "execution_count": null,
   "metadata": {},
   "outputs": [],
   "source": []
  },
  {
   "cell_type": "code",
   "execution_count": null,
   "metadata": {},
   "outputs": [],
   "source": []
  },
  {
   "cell_type": "code",
   "execution_count": null,
   "metadata": {},
   "outputs": [],
   "source": []
  },
  {
   "cell_type": "code",
   "execution_count": null,
   "metadata": {},
   "outputs": [],
   "source": []
  }
 ],
 "metadata": {
  "kernelspec": {
   "display_name": "Scala",
   "language": "scala",
   "name": "scala"
  },
  "language_info": {
   "codemirror_mode": "text/x-scala",
   "file_extension": ".sc",
   "mimetype": "text/x-scala",
   "name": "scala",
   "nbconvert_exporter": "script",
   "version": "2.13.3"
  }
 },
 "nbformat": 4,
 "nbformat_minor": 4
}
