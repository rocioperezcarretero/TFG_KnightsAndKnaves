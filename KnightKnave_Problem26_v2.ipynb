{
 "cells": [
  {
   "cell_type": "code",
   "execution_count": 1,
   "metadata": {},
   "outputs": [
    {
     "data": {
      "text/plain": [
       "defined \u001b[32mtype\u001b[39m \u001b[36m∨\u001b[39m\r\n",
       "defined \u001b[32mtype\u001b[39m \u001b[36m∧\u001b[39m\r\n",
       "defined \u001b[32mtype\u001b[39m \u001b[36m⟶\u001b[39m\r\n",
       "defined \u001b[32mtype\u001b[39m \u001b[36m⊥\u001b[39m\r\n",
       "defined \u001b[32mtype\u001b[39m \u001b[36mTrue\u001b[39m\r\n",
       "defined \u001b[32mtype\u001b[39m \u001b[36m¬\u001b[39m"
      ]
     },
     "execution_count": 1,
     "metadata": {},
     "output_type": "execute_result"
    }
   ],
   "source": [
    "type ∨[P, Q] = Either[P, Q]\n",
    "type ∧[P, Q] = Tuple2[P, Q]\n",
    "type ⟶[P, Q] = P => Q\n",
    "type ⊥ = Nothing\n",
    "type True = Unit\n",
    "type ¬[P] = P => ⊥"
   ]
  },
  {
   "cell_type": "code",
   "execution_count": 2,
   "metadata": {},
   "outputs": [
    {
     "data": {
      "text/plain": [
       "defined \u001b[32mtype\u001b[39m \u001b[36mOr\u001b[39m\r\n",
       "defined \u001b[32mtype\u001b[39m \u001b[36mAnd\u001b[39m\r\n",
       "defined \u001b[32mtype\u001b[39m \u001b[36mImplies\u001b[39m\r\n",
       "defined \u001b[32mtype\u001b[39m \u001b[36mFalse\u001b[39m\r\n",
       "defined \u001b[32mtype\u001b[39m \u001b[36mTrue\u001b[39m\r\n",
       "defined \u001b[32mtype\u001b[39m \u001b[36mNot\u001b[39m"
      ]
     },
     "execution_count": 2,
     "metadata": {},
     "output_type": "execute_result"
    }
   ],
   "source": [
    "type Or[P, Q] = Either[P, Q]\n",
    "type And[P, Q] = Tuple2[P, Q]\n",
    "type Implies[P, Q] = P => Q\n",
    "type False = Nothing\n",
    "type True = Unit\n",
    "type Not[P] = P => ⊥"
   ]
  },
  {
   "cell_type": "code",
   "execution_count": 3,
   "metadata": {},
   "outputs": [
    {
     "data": {
      "text/plain": [
       "defined \u001b[32mclass\u001b[39m \u001b[36mInhabitant\u001b[39m"
      ]
     },
     "execution_count": 3,
     "metadata": {},
     "output_type": "execute_result"
    }
   ],
   "source": [
    "class Inhabitant{ x => \n",
    "    // Knight(x) -- `x` is a Knight\n",
    "    // \n",
    "    type Knight\n",
    "    \n",
    "    // Knave(x) -- `x` is a Knave (i.e. is not a Knight)\n",
    "    // \n",
    "    type Knave = ¬[Knight]\n",
    "    \n",
    "    // Says(x, P) -- `x` says that `P` holds, i.e. asserts proposition `P`\n",
    "    // \n",
    "    type Says[P]\n",
    "}"
   ]
  },
  {
   "cell_type": "code",
   "execution_count": 4,
   "metadata": {},
   "outputs": [
    {
     "data": {
      "text/plain": [
       "defined \u001b[32mtrait\u001b[39m \u001b[36mKnightsKnaves\u001b[39m"
      ]
     },
     "execution_count": 4,
     "metadata": {},
     "output_type": "execute_result"
    }
   ],
   "source": [
    "trait KnightsKnaves{\n",
    "    // P1. Inhabitants are knights or knaves\n",
    "    // \n",
    "    //     ∀ x. Inhabitant(x) ⟶ Knight(x) ∨ Knave(x) \n",
    "    // \n",
    "    def P1(x: Inhabitant): x.Knight ∨ x.Knave\n",
    "    \n",
    "    // In Scala 3\n",
    "    // val P1: (x: Inhabitant) => Either[x.Knight, x.Knave]\n",
    "    \n",
    "    // P2. Knights are truth tellers\n",
    "    // \n",
    "    //     ∀ P. ∀ x. Knight(x) ⟶ Says(x, P) ⟶ P\n",
    "    // \n",
    "    def P2[P](x: Inhabitant): x.Knight => x.Says[P] => P\n",
    "    \n",
    "    // In Scala 3\n",
    "    // val P2: [P] => (x: Inhabitant) => x.Knight => x.Says[P] => P\n",
    "    \n",
    "    // P3. Knaves are persistent liers\n",
    "    // \n",
    "    //     ∀ P. ∀ x. Knight(x) ⟶ Says(x, P) ⟶ ¬P\n",
    "    // \n",
    "    def P3[P](x: Inhabitant): x.Knave => x.Says[P] => ¬[P]\n",
    "}"
   ]
  },
  {
   "cell_type": "markdown",
   "metadata": {},
   "source": [
    "# Puzzle 1 - Ejemplo.\n",
    "Is it possible for any inhabitant of this island to claim that he is a knave?\n",
    "\n",
    "\n",
    "No; no inhabitant can claim to be a knave because no knight would lie and say he is a knave and no knave would truthfully admit to being a knave."
   ]
  },
  {
   "cell_type": "code",
   "execution_count": 5,
   "metadata": {},
   "outputs": [
    {
     "data": {
      "text/plain": [
       "defined \u001b[32mfunction\u001b[39m \u001b[36mpuzzle1\u001b[39m"
      ]
     },
     "execution_count": 5,
     "metadata": {},
     "output_type": "execute_result"
    }
   ],
   "source": [
    "// { P1, P2, P3 } ⊢ ∀ x. Inhabitant(x) ⟶ ¬Says(x, Knave(x))\n",
    "\n",
    "def puzzle1(premises: KnightsKnaves)(x: Inhabitant): ¬[x.Says[x.Knave]] = \n",
    "    // 1. Says(x, Knave(x))                                       ; hypothesis\n",
    "    ((_1: x.Says[x.Knave]) => \n",
    "         (premises.P1(x) match {\n",
    "             // 2. Knight(x)                                      ; hypothesis\n",
    "             case Left(_2: x.Knight) => \n",
    "                 //   3. Knight(x) → Says(x, Knave(x)) → Knave(x) ; P2[Knave(x),x]\n",
    "                 val _3: x.Knight => x.Says[x.Knave] => x.Knave = premises.P2[x.Knave](x)\n",
    "                 //   4. Says(x, Knave(x)) → Knave(x)             ; ⟶E(3,2)\n",
    "                 val _4: x.Says[x.Knave] => x.Knave = _3(_2)\n",
    "                 //   5. Knave(x)                                 ; ⟶E(4,1)\n",
    "                 //   5. ¬ Knight(x)                              ; ≝ Knave\n",
    "                 //   5. Knight(x) → ⊥                            ; ≝ ¬ \n",
    "                 val _5: x.Knight => ⊥ = _4(_1)\n",
    "                 //   6. ⊥                                        ; ⟶E(5,2)\n",
    "                 _5(_2) : ⊥\n",
    "\n",
    "             //  _7. Knave(x)                                     ; hypothesis\n",
    "             case Right(_7: x.Knave) => \n",
    "                 //   8. Knave(x) → Says(x, Knave(x)) → ¬ Knave(x) ; P3[Knave(x),x]\n",
    "                 val _8: x.Knave => x.Says[x.Knave] => ¬[x.Knave] = premises.P3[x.Knave](x)\n",
    "                 //   9. Says(x, Knave(x)) → ¬ Knave(x)            ; ⟶E(8,7)\n",
    "                 val _9: x.Says[x.Knave] => ¬[x.Knave] = _8(_7)\n",
    "                 //   10. ¬ Knave(x)                               ; ⟶E(9,1)\n",
    "                 //   10. Knave(x) → ⊥                             ; ≝ ¬ \n",
    "                 val _10: x.Knave => ⊥ = _9(_1)\n",
    "                 //  11. ⊥                                         ; ⟶E(10,7)\n",
    "                 _10(_7) : ⊥\n",
    "\n",
    "        // _12. ⊥                                                  ; ∨E(P1, 2-6, 7-11)\n",
    "        }) : False\n",
    "\n",
    "    // _13. Says(x, Knave(x)) ⟶ ⊥                                  ; ⟶I(1-12)\n",
    "    // _13. ¬ Says(x, Knave(x))                                    ; ≝ ¬ \n",
    "    ) : ¬[x.Says[x.Knave]]"
   ]
  },
  {
   "cell_type": "code",
   "execution_count": 6,
   "metadata": {},
   "outputs": [
    {
     "data": {
      "text/plain": [
       "defined \u001b[32mfunction\u001b[39m \u001b[36mpuzzle1\u001b[39m"
      ]
     },
     "execution_count": 6,
     "metadata": {},
     "output_type": "execute_result"
    }
   ],
   "source": [
    "// { P1, P2, P3 } ⊢ ∀ x. Inhabitant(x) ⟶ ¬Says(x, Knave(x))\n",
    "\n",
    "def puzzle1(premises: KnightsKnaves)(x: Inhabitant): x.Says[x.Knave] => Nothing =\n",
    "    // 1. Says(x, Knave(x))                                       ; hypothesis\n",
    "    ((_1: x.Says[x.Knave]) => \n",
    "         (premises.P1(x) match {\n",
    "             // 2. Knight(x)                                      ; hypothesis\n",
    "             case Left(_2: x.Knight) => \n",
    "                 //   3. Knight(x) → Says(x, Knave(x)) → Knave(x) ; P2[Knave(x),x]\n",
    "                 val _3: x.Knight => x.Says[x.Knave] => x.Knave = premises.P2[x.Knave](x)\n",
    "                 //   4. Says(x, Knave(x)) → Knave(x)             ; ⟶E(3,2)\n",
    "                 val _4: x.Says[x.Knave] => x.Knave = _3(_2)\n",
    "                 //   5. Knave(x)                                 ; ⟶E(4,1)\n",
    "                 //   5. ¬ Knight(x)                              ; ≝ Knave\n",
    "                 //   5. Knight(x) → ⊥                            ; ≝ ¬ \n",
    "                 val _5: x.Knight => ⊥ = _4(_1)\n",
    "                 //   6. ⊥                                        ; ⟶E(5,2)\n",
    "                 _5(_2) : ⊥\n",
    "\n",
    "             //  _7. Knave(x)                                     ; hypothesis\n",
    "             case Right(_7: x.Knave) => \n",
    "                 //   8. Knave(x) → Says(x, Knave(x)) → ¬ Knave(x) ; P3[Knave(x),x]\n",
    "                 val _8: x.Knave => x.Says[x.Knave] => ¬[x.Knave] = premises.P3[x.Knave](x)\n",
    "                 //   9. Says(x, Knave(x)) → ¬ Knave(x)            ; ⟶E(8,7)\n",
    "                 val _9: x.Says[x.Knave] => ¬[x.Knave] = _8(_7)\n",
    "                 //   10. ¬ Knave(x)                               ; ⟶E(9,1)\n",
    "                 //   10. Knave(x) → ⊥                             ; ≝ ¬ \n",
    "                 val _10: x.Knave => ⊥ = _9(_1)\n",
    "                 //  11. ⊥                                         ; ⟶E(10,7)\n",
    "                 _10(_7) : ⊥\n",
    "\n",
    "        // _12. ⊥                                                  ; ∨E(P1, 2-6, 7-11)\n",
    "        }) : False\n",
    "\n",
    "    // _13. Says(x, Knave(x)) ⟶ ⊥                                  ; ⟶I(1-12)\n",
    "    // _13. ¬ Says(x, Knave(x))                                    ; ≝ ¬ \n",
    "    ) : ¬[x.Says[x.Knave]]"
   ]
  },
  {
   "cell_type": "code",
   "execution_count": 7,
   "metadata": {},
   "outputs": [
    {
     "data": {
      "text/plain": [
       "defined \u001b[32mclass\u001b[39m \u001b[36mSomeSugar\u001b[39m"
      ]
     },
     "execution_count": 7,
     "metadata": {},
     "output_type": "execute_result"
    }
   ],
   "source": [
    "implicit class SomeSugar(P: KnightsKnaves){    \n",
    "    def eitherKnightOrKnave(x: Inhabitant): x.Knight Or x.Knave = P.P1(x)\n",
    "    def knightsAreTruthTellers[P](x: Inhabitant) = P.P2[P](x)\n",
    "    def knavesAreLiers[P](x: Inhabitant) = P.P3[P](x)\n",
    "    \n",
    "    def noKnightLies[P](x: Inhabitant): x.Knight => x.Says[Not[P]] => P => False = \n",
    "        xIsKnight => xSaysNotP => p => \n",
    "            P.P2[Not[P]](x)(xIsKnight)(xSaysNotP)(p)\n",
    "    \n",
    "    def noKnaveTellsTruth[P](x: Inhabitant): x.Knave => x.Says[P] => P => False = \n",
    "        xIsKnave => xSaysP => p => \n",
    "            P.P3[P](x)(xIsKnave)(xSaysP)(p)\n",
    "}"
   ]
  },
  {
   "cell_type": "code",
   "execution_count": 8,
   "metadata": {},
   "outputs": [
    {
     "data": {
      "text/plain": [
       "defined \u001b[32mfunction\u001b[39m \u001b[36mpuzzle1\u001b[39m"
      ]
     },
     "execution_count": 8,
     "metadata": {},
     "output_type": "execute_result"
    }
   ],
   "source": [
    "// { P1, P2, P3 } ⊢ ∀ x. Inhabitant(x) ⟶ ¬ Says(x, Knave(x))\n",
    "\n",
    "def puzzle1(premises: KnightsKnaves)(x: Inhabitant): Not[x.Says[x.Knave]] =\n",
    "    xSaysIsKnave =>\n",
    "        premises.eitherKnightOrKnave(x).fold(\n",
    "            xIsKnight => \n",
    "                // no knight would lie\n",
    "                premises.noKnightLies(x)(xIsKnight)(xSaysIsKnave)(xIsKnight),\n",
    "            xIsKnave => \n",
    "                // no knave would tell the truth\n",
    "                premises.noKnaveTellsTruth(x)(xIsKnave)(xSaysIsKnave)(xIsKnave)\n",
    "        )"
   ]
  },
  {
   "cell_type": "markdown",
   "metadata": {},
   "source": [
    "# Puzzle 26 - Knight and Knave"
   ]
  },
  {
   "cell_type": "code",
   "execution_count": 8,
   "metadata": {},
   "outputs": [],
   "source": [
    "/* Según este viejo problema, tres de los habitantes - A, B, C - se encontraban en un jardin.\n",
    "Un extranjero pasó por allí y le preguntó a A, \"¿Eres caballero o escudero?\".\n",
    "A respondió, pero tan confusamente, que el extranjero no pudo enterarse de lo que decía.\n",
    "Entonces el extranjero preguntó a B, \"¿Que ha dicho A?\". Y B le respondió \"A ha dicho que es escudero\".\n",
    "Pero en ese instante el tercer hombre, C, dijo \"¡No creas a B, que está mintiendo!\"\n",
    "\n",
    "Pregunta: ¿que son B y C?\n",
    "\n",
    "Opcion1: B - escudero\n",
    "         C - escudero\n",
    "SOLUCION CORRECTA ---------------->  Opcion2: B - escudero\n",
    "                                              C - caballero\n",
    "Opcion3: B - caballero\n",
    "         C - escudero\n",
    "Opcion4: B - caballero\n",
    "         C - caballero  \n",
    "*/         "
   ]
  },
  {
   "cell_type": "code",
   "execution_count": 8,
   "metadata": {},
   "outputs": [],
   "source": [
    "/* Detalle de la Solucion:\n",
    "\n",
    "Es imposible que un caballero o un escudero digan: \"Yo soy escudero\", porque un caballero emitiría el enunciado\n",
    "falso de que él es escudero, y un escudero no emitiría el enunciado verdadero de que él es un escudero.\n",
    "Por lo tanto, A nunca diría que era un escudero. Así, B mentía cuando dijo que A habia dicho que él era escudero.\n",
    "Por lo tanto B es escudero. Puesto que C dijo que B estaba mintiendo, y B estaba ciertamente mintiendo, C dijo la verdad, \n",
    "de aquí que se tratara de un caballero. Asi pues, B es un escudero y C un caballero. (Es imposible saber que es A).\n",
    "\n",
    "*/"
   ]
  },
  {
   "cell_type": "code",
   "execution_count": 8,
   "metadata": {},
   "outputs": [],
   "source": [
    "/* Definicion en LPO:\n",
    "\n",
    "A - 1\n",
    "B - 2\n",
    "C - 3\n",
    "\n",
    "Says(P[2], Says(P[1], P[1] = Knave)) ∧ Says(P[3], P[2] = Knave)\n",
    "B: A says he is a knave ---> Says(P[2], Says(P[1], P[1] = Knave))\n",
    "C: B is a knave         ---> Says(P[3], P[2] = Knave)\n",
    "\n",
    "Pseudo ejemplo:\n",
    "\n",
    "Says(B, Says(A, knave(A))) ∧ Says(C, knave(B)) => (knave(B) ∧ knight(C))\n",
    "\n",
    "*/"
   ]
  },
  {
   "cell_type": "code",
   "execution_count": 8,
   "metadata": {
    "scrolled": true
   },
   "outputs": [],
   "source": [
    "/*def puzzle26(premises: KnightsKnaves)(a: Inhabitant)(b: Inhabitant)(c: Inhabitant): \n",
    "    (b.Says[a.Says[a.knave]] And c.Says[b.knave]) => (b.knave And c.knave)\n",
    "\n",
    "\n",
    "*/"
   ]
  },
  {
   "cell_type": "code",
   "execution_count": 10,
   "metadata": {},
   "outputs": [
    {
     "data": {
      "text/plain": [
       "defined \u001b[32mfunction\u001b[39m \u001b[36mpuzzle26\u001b[39m"
      ]
     },
     "execution_count": 10,
     "metadata": {},
     "output_type": "execute_result"
    }
   ],
   "source": [
    "//NUEVA VERSION\n",
    "//DEFINICION INCORRECTA\n",
    "\n",
    "def puzzle26(premises: KnightsKnaves)(a: Inhabitant)(b: Inhabitant)(c: Inhabitant):\n",
    "    b.Says[(a.Says[a.Knave], c.Says[b.Knave])] => (b.Knave, c.Knight) = \n",
    "    ({bSay: b.Says[(a.Says[a.Knave], c.Says[b.Knave])] => \n",
    "        (premises.P1(b) match{\n",
    "            case Left(bKnight: b.Knight) => \n",
    "                //def P2[P](x: Inhabitant): x.Knight => x.Says[P] => P\n",
    "                val b_1L: b.Knight => \n",
    "                            b.Says[(a.Says[a.Knave], c.Says[b.Knave])] => \n",
    "                                (a.Says[a.Knave], c.Says[b.Knave]) = premises.P2[(a.Says[a.Knave], c.Says[b.Knave])](b)\n",
    "                val b_2L: b.Says[(a.Says[a.Knave], c.Says[b.Knave])] => \n",
    "                                (a.Says[a.Knave], c.Says[b.Knave]) = b_1L(bKnight)\n",
    "                val b_3L: (a.Says[a.Knave], c.Says[b.Knave]) = b_2L(bSay)\n",
    "                b_3L._1: a.Says[a.Knave] \n",
    "                b_3L._2: c.Says[b.Knave]\n",
    "                \n",
    "                (premises.P1(c) match{\n",
    "                    case Left(cKnight: c.Knight) =>\n",
    "                        //def P2[P](x: Inhabitant): x.Knight => x.Says[P] => P\n",
    "                        val c_1L: c.Knight => c.Says[b.Knave] => b.Knave = premises.P2[b.Knave](c)\n",
    "                        val c_2L: c.Says[b.Knave] => b.Knave = c_1L(cKnight)\n",
    "                        val c_3L: b.Knave = c_2L(b_3L._2)\n",
    "                                                       \n",
    "                        (c_3L: b.Knave, cKnight : c.Knight) : (b.Knave, c.Knight)\n",
    "                    //¿Seria necesaria esta rama Right si ya tengo la solcuion en Left?\n",
    "                    case Right(cKnave: c.Knave) => \n",
    "                        //def P3[P](x: Inhabitant): x.Knave => x.Says[P] => ¬[P]\n",
    "                        val c_1R: c.Knave => c.Says[b.Knave] => Not[b.Knave] = premises.P3[b.Knave](c)\n",
    "                        val c_2R: c.Says[b.Knave] => Not[b.Knave] = c_1R(cKnave)\n",
    "                        //val c_3R: Not[b.Knave] = c_2R(csayR)\n",
    "                        val c_3R: b.Knave => Nothing = c_2R(b_3L._2)\n",
    "                        \n",
    "                        c_4R: b.Knave => \n",
    "                            c_3R(c_4R) : Nothing\n",
    "                            \n",
    "                        (c_3R(c_4R), c_3R(c_4R)) : (b.Knave, c.Knight)\n",
    "                        // ¿Porqué teniendo ya algo de tipo (b.Knave, c.Knight) no puedo quitar las ultimas ??? ?\n",
    "                        // ¿No obtengo solucion en esta rama porque solo es correcta si b es un knave?\n",
    "                })\n",
    "            ??? : (b.Knave, c.Knight)\n",
    "            \n",
    "            case Right(bKnave: b.Knave) => \n",
    "                //def P3[P](x: Inhabitant): x.Knave => x.Says[P] => ¬[P]\n",
    "                val b_1R: b.Knave => \n",
    "                            b.Says[(a.Says[a.Knave], c.Says[b.Knave])] => \n",
    "                                Not[(a.Says[a.Knave], c.Says[b.Knave])] = premises.P3[(a.Says[a.Knave], c.Says[b.Knave])](b)\n",
    "                val b_2R: b.Says[(a.Says[a.Knave], c.Says[b.Knave])] => \n",
    "                                Not[(a.Says[a.Knave], c.Says[b.Knave])] = b_1R(bKnave)\n",
    "                //val b_3R: Not[(a.Says[a.Knave], c.Says[b.Knave])] = b_2R(bsayR)\n",
    "                val b_3R: ((a.Says[a.Knave], c.Says[b.Knave])) => Nothing = b_2R(bSay) \n",
    "                \n",
    "                b_4R: ((a.Says[a.Knave], c.Says[b.Knave])) =>\n",
    "                    b_3R(b_4R): Nothing\n",
    "            \n",
    "            (bKnave, b_3R(b_4R)) : (b.Knave, c.Knight)\n",
    "        })\n",
    "    ??? : (b.Knave, c.Knight)})"
   ]
  },
  {
   "cell_type": "code",
   "execution_count": null,
   "metadata": {},
   "outputs": [],
   "source": []
  },
  {
   "cell_type": "code",
   "execution_count": null,
   "metadata": {},
   "outputs": [],
   "source": [
    "//DEFINICION CORRECTA PERO HAY QUE CORREGIR EL PARAMETRO DE ENTRADA QUE ES UNA TUPLA (( )) de ahi el error"
   ]
  },
  {
   "cell_type": "code",
   "execution_count": 11,
   "metadata": {},
   "outputs": [
    {
     "data": {
      "text/plain": [
       "defined \u001b[32mfunction\u001b[39m \u001b[36mpuzzle26\u001b[39m"
      ]
     },
     "execution_count": 11,
     "metadata": {},
     "output_type": "execute_result"
    }
   ],
   "source": [
    "def puzzle26(premises: KnightsKnaves)(a: Inhabitant)(b: Inhabitant)(c: Inhabitant):\n",
    "    (b.Says[a.Says[a.Knave]], c.Says[b.Knave]) => (b.Knave, c.Knight) = ???"
   ]
  },
  {
   "cell_type": "code",
   "execution_count": 12,
   "metadata": {},
   "outputs": [
    {
     "data": {
      "text/plain": [
       "defined \u001b[32mfunction\u001b[39m \u001b[36mpuzzle26\u001b[39m"
      ]
     },
     "execution_count": 12,
     "metadata": {},
     "output_type": "execute_result"
    }
   ],
   "source": [
    "def puzzle26(premises: KnightsKnaves)(a: Inhabitant)(b: Inhabitant)(c: Inhabitant):\n",
    "    ((b.Says[a.Says[a.Knave]], c.Says[b.Knave])) => (b.Knave, c.Knight) = \n",
    "    \n",
    "    ??? : (((b.Says[a.Says[a.Knave]], c.Says[b.Knave])) => (b.Knave, c.Knight))\n",
    "    "
   ]
  },
  {
   "cell_type": "code",
   "execution_count": 12,
   "metadata": {},
   "outputs": [
    {
     "name": "stderr",
     "output_type": "stream",
     "text": [
      "cmd12.sc:3: type mismatch;\n",
      " found   : ((b.Says[a.Says[a.Knave]], c.Says[b.Knave])) => (b.Knave, c.Knight)\n",
      "    (which expands to)  ((b.Says[a.Says[a.Knight => Nothing]], c.Says[b.Knight => Nothing])) => (b.Knight => Nothing, c.Knight)\n",
      " required: (b.Says[a.Says[a.Knave]], c.Says[b.Knave]) => (b.Knave, c.Knight)\n",
      "    (which expands to)  (b.Says[a.Says[a.Knight => Nothing]], c.Says[b.Knight => Nothing]) => (b.Knight => Nothing, c.Knight)\n",
      "    ({t: (b.Says[a.Says[a.Knave]], c.Says[b.Knave]) =>\n",
      "                                                    ^Compilation Failed"
     ]
    },
    {
     "ename": "",
     "evalue": "",
     "output_type": "error",
     "traceback": [
      "Compilation Failed"
     ]
    }
   ],
   "source": [
    "def puzzle26(premises: KnightsKnaves)(a: Inhabitant)(b: Inhabitant)(c: Inhabitant):\n",
    "    (b.Says[a.Says[a.Knave]], c.Says[b.Knave]) => (b.Knave, c.Knight) = \n",
    "    ({t: (b.Says[a.Says[a.Knave]], c.Says[b.Knave]) =>\n",
    "        \n",
    "        ??? : (b.Knave, c.Knight)\n",
    "        \n",
    "    }): ((b.Says[a.Says[a.Knave]], c.Says[b.Knave]) => (b.Knave, c.Knight))\n",
    "        \n",
    "    \n",
    "    "
   ]
  },
  {
   "cell_type": "code",
   "execution_count": 17,
   "metadata": {},
   "outputs": [
    {
     "data": {
      "text/plain": [
       "defined \u001b[32mfunction\u001b[39m \u001b[36mpuzzle26\u001b[39m"
      ]
     },
     "execution_count": 17,
     "metadata": {},
     "output_type": "execute_result"
    }
   ],
   "source": [
    "//DEFINICION CORRECTA CORREGIDA\n",
    "def puzzle26(premises: KnightsKnaves)(a: Inhabitant)(b: Inhabitant)(c: Inhabitant):\n",
    "    ((b.Says[a.Says[a.Knave]], c.Says[b.Knave])) => (b.Knave, c.Knight) = \n",
    "    ({t: ((b.Says[a.Says[a.Knave]], c.Says[b.Knave])) =>\n",
    "        t._1: b.Says[a.Says[a.Knave]]\n",
    "        t._2: c.Says[b.Knave]\n",
    "        \n",
    "        premises.P1(c) match{\n",
    "            case Left(cKnight: c.Knight) =>\n",
    "            \n",
    "                ??? : (b.Knave, c.Knight)\n",
    "            \n",
    "            case Right(cKnave: c.Knave) =>\n",
    "            \n",
    "                ??? : (b.Knave, c.Knight)\n",
    "        }\n",
    "         \n",
    "        \n",
    "        ??? : (b.Knave, c.Knight)\n",
    "        \n",
    "    }): (((b.Says[a.Says[a.Knave]], c.Says[b.Knave])) => (b.Knave, c.Knight))\n",
    "        \n",
    "    \n",
    "    "
   ]
  },
  {
   "cell_type": "code",
   "execution_count": 25,
   "metadata": {},
   "outputs": [
    {
     "data": {
      "text/plain": [
       "defined \u001b[32mfunction\u001b[39m \u001b[36mpuzzle26\u001b[39m"
      ]
     },
     "execution_count": 25,
     "metadata": {},
     "output_type": "execute_result"
    }
   ],
   "source": [
    "def puzzle26(premises: KnightsKnaves)(a: Inhabitant)(b: Inhabitant)(c: Inhabitant):\n",
    "    ((b.Says[a.Says[a.Knave]], c.Says[b.Knave])) => (b.Knave, c.Knight) = \n",
    "    ({t: ((b.Says[a.Says[a.Knave]], c.Says[b.Knave])) =>\n",
    "        t._1: b.Says[a.Says[a.Knave]]\n",
    "        t._2: c.Says[b.Knave]\n",
    "        \n",
    "        premises.P1(c) match{\n",
    "            case Left(cKnight: c.Knight) =>\n",
    "                // def P2[P](c: Inhabitant): c.Knight => c.Says[P] => P     \n",
    "                val c_L1: c.Knight => c.Says[b.Knave] => b.Knave = premises.P2[b.Knave](c)\n",
    "                val c_L2: c.Says[b.Knave] => b.Knave = c_L1(cKnight)\n",
    "                val c_L3: b.Knave = c_L2(t._2)\n",
    "            \n",
    "                (c_L2(t._2): b.Knave, cKnight: c.Knight)\n",
    "            \n",
    "            case Right(cKnave: c.Knave) =>\n",
    "                //def P3[P](c: Inhabitant): c.Knave => c.Says[P] => ¬[P]\n",
    "                val c_R1: c.Knave => c.Says[b.Knave] => ¬[b.Knave] = premises.P3[b.Knave](c)\n",
    "                val c_R2: c.Says[b.Knave] => ¬[b.Knave] = c_R1(cKnave)\n",
    "                val c_R3: b.Knave => Nothing = c_R2(t._2)\n",
    "            \n",
    "                ((premises.P1(b) match{\n",
    "                    case Right(bKnave: b.Knave) =>\n",
    "                        bKnave: b.Knave\n",
    "                }): b.Knave, ??? : c.Knight)\n",
    "        }\n",
    "         \n",
    "        \n",
    "        ??? : (b.Knave, c.Knight)\n",
    "        \n",
    "    }): (((b.Says[a.Says[a.Knave]], c.Says[b.Knave])) => (b.Knave, c.Knight))\n",
    "        \n",
    "    \n",
    "    "
   ]
  },
  {
   "cell_type": "code",
   "execution_count": 29,
   "metadata": {},
   "outputs": [
    {
     "data": {
      "text/plain": [
       "defined \u001b[32mfunction\u001b[39m \u001b[36mpuzzle26\u001b[39m"
      ]
     },
     "execution_count": 29,
     "metadata": {},
     "output_type": "execute_result"
    }
   ],
   "source": [
    "def puzzle26(premises: KnightsKnaves)(a: Inhabitant)(b: Inhabitant)(c: Inhabitant):\n",
    "    ((b.Says[a.Says[a.Knave]], c.Says[b.Knave])) => (b.Knave, c.Knight) = \n",
    "    ({t: ((b.Says[a.Says[a.Knave]], c.Says[b.Knave])) =>\n",
    "        t._1: b.Says[a.Says[a.Knave]]\n",
    "        t._2: c.Says[b.Knave]\n",
    "        \n",
    "        (premises.P1(c) match{\n",
    "            case Left(cKnight: c.Knight) =>\n",
    "                // def P2[P](c: Inhabitant): c.Knight => c.Says[P] => P     \n",
    "                val c_L1: c.Knight => c.Says[b.Knave] => b.Knave = premises.P2[b.Knave](c)\n",
    "                val c_L2: c.Says[b.Knave] => b.Knave = c_L1(cKnight)\n",
    "                val c_L3: b.Knave = c_L2(t._2)\n",
    "            \n",
    "                (c_L2(t._2): b.Knave, cKnight: c.Knight)\n",
    "            \n",
    "            case Right(cKnave: c.Knave) =>\n",
    "                //def P3[P](c: Inhabitant): c.Knave => c.Says[P] => ¬[P]\n",
    "                val c_R1: c.Knave => c.Says[b.Knave] => ¬[b.Knave] = premises.P3[b.Knave](c)\n",
    "                val c_R2: c.Says[b.Knave] => ¬[b.Knave] = c_R1(cKnave)\n",
    "                val c_R3: b.Knave => Nothing = c_R2(t._2)\n",
    "                \n",
    "                ((premises.P1(b) match{\n",
    "                    case Right(bKnave: b.Knave) =>\n",
    "                        bKnave: b.Knave\n",
    "                }): b.Knave, c_R3(premises.P1(b) match{\n",
    "                    case Right(bKnave: b.Knave) =>\n",
    "                        bKnave: b.Knave\n",
    "                }) : c.Knight)\n",
    "        }) : (b.Knave, c.Knight)\n",
    "        \n",
    "    }): (((b.Says[a.Says[a.Knave]], c.Says[b.Knave])) => (b.Knave, c.Knight))\n",
    "        \n",
    "    \n",
    "    "
   ]
  },
  {
   "cell_type": "code",
   "execution_count": null,
   "metadata": {},
   "outputs": [],
   "source": []
  }
 ],
 "metadata": {
  "kernelspec": {
   "display_name": "Scala",
   "language": "scala",
   "name": "scala"
  },
  "language_info": {
   "codemirror_mode": "text/x-scala",
   "file_extension": ".sc",
   "mimetype": "text/x-scala",
   "name": "scala",
   "nbconvert_exporter": "script",
   "version": "2.13.3"
  }
 },
 "nbformat": 4,
 "nbformat_minor": 4
}
