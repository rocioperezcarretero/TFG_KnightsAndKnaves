{
 "cells": [
  {
   "cell_type": "code",
   "execution_count": 1,
   "metadata": {},
   "outputs": [
    {
     "data": {
      "text/plain": [
       "defined \u001b[32mtype\u001b[39m \u001b[36m∨\u001b[39m\r\n",
       "defined \u001b[32mtype\u001b[39m \u001b[36m∧\u001b[39m\r\n",
       "defined \u001b[32mtype\u001b[39m \u001b[36m⟶\u001b[39m\r\n",
       "defined \u001b[32mtype\u001b[39m \u001b[36m⊥\u001b[39m\r\n",
       "defined \u001b[32mtype\u001b[39m \u001b[36mTrue\u001b[39m\r\n",
       "defined \u001b[32mtype\u001b[39m \u001b[36m¬\u001b[39m"
      ]
     },
     "execution_count": 1,
     "metadata": {},
     "output_type": "execute_result"
    }
   ],
   "source": [
    "type ∨[P, Q] = Either[P, Q]\n",
    "type ∧[P, Q] = Tuple2[P, Q]\n",
    "type ⟶[P, Q] = P => Q\n",
    "type ⊥ = Nothing\n",
    "type True = Unit\n",
    "type ¬[P] = P => ⊥"
   ]
  },
  {
   "cell_type": "code",
   "execution_count": 2,
   "metadata": {},
   "outputs": [
    {
     "data": {
      "text/plain": [
       "defined \u001b[32mtype\u001b[39m \u001b[36mOr\u001b[39m\r\n",
       "defined \u001b[32mtype\u001b[39m \u001b[36mAnd\u001b[39m\r\n",
       "defined \u001b[32mtype\u001b[39m \u001b[36mImplies\u001b[39m\r\n",
       "defined \u001b[32mtype\u001b[39m \u001b[36mFalse\u001b[39m\r\n",
       "defined \u001b[32mtype\u001b[39m \u001b[36mTrue\u001b[39m\r\n",
       "defined \u001b[32mtype\u001b[39m \u001b[36mNot\u001b[39m"
      ]
     },
     "execution_count": 2,
     "metadata": {},
     "output_type": "execute_result"
    }
   ],
   "source": [
    "type Or[P, Q] = Either[P, Q]\n",
    "type And[P, Q] = Tuple2[P, Q]\n",
    "type Implies[P, Q] = P => Q\n",
    "type False = Nothing\n",
    "type True = Unit\n",
    "type Not[P] = P => ⊥"
   ]
  },
  {
   "cell_type": "code",
   "execution_count": 3,
   "metadata": {},
   "outputs": [
    {
     "data": {
      "text/plain": [
       "defined \u001b[32mclass\u001b[39m \u001b[36mInhabitant\u001b[39m"
      ]
     },
     "execution_count": 3,
     "metadata": {},
     "output_type": "execute_result"
    }
   ],
   "source": [
    "class Inhabitant{ x => \n",
    "    // Knight(x) -- `x` is a Knight\n",
    "    // \n",
    "    type Knight\n",
    "    \n",
    "    // Knave(x) -- `x` is a Knave (i.e. is not a Knight)\n",
    "    // \n",
    "    type Knave = ¬[Knight]\n",
    "    \n",
    "    // Says(x, P) -- `x` says that `P` holds, i.e. asserts proposition `P`\n",
    "    // \n",
    "    type Says[P]\n",
    "}"
   ]
  },
  {
   "cell_type": "code",
   "execution_count": 4,
   "metadata": {},
   "outputs": [
    {
     "data": {
      "text/plain": [
       "defined \u001b[32mtrait\u001b[39m \u001b[36mKnightsKnaves\u001b[39m"
      ]
     },
     "execution_count": 4,
     "metadata": {},
     "output_type": "execute_result"
    }
   ],
   "source": [
    "trait KnightsKnaves{\n",
    "    // P1. Inhabitants are knights or knaves\n",
    "    // \n",
    "    //     ∀ x. Inhabitant(x) ⟶ Knight(x) ∨ Knave(x) \n",
    "    // \n",
    "    def P1(x: Inhabitant): x.Knight ∨ x.Knave\n",
    "    \n",
    "    // In Scala 3\n",
    "    // val P1: (x: Inhabitant) => Either[x.Knight, x.Knave]\n",
    "    \n",
    "    // P2. Knights are truth tellers\n",
    "    // \n",
    "    //     ∀ P. ∀ x. Knight(x) ⟶ Says(x, P) ⟶ P\n",
    "    // \n",
    "    def P2[P](x: Inhabitant): x.Knight => x.Says[P] => P\n",
    "    \n",
    "    // In Scala 3\n",
    "    // val P2: [P] => (x: Inhabitant) => x.Knight => x.Says[P] => P\n",
    "    \n",
    "    // P3. Knaves are persistent liers\n",
    "    // \n",
    "    //     ∀ P. ∀ x. Knight(x) ⟶ Says(x, P) ⟶ ¬P\n",
    "    // \n",
    "    def P3[P](x: Inhabitant): x.Knave => x.Says[P] => ¬[P]\n",
    "}"
   ]
  },
  {
   "cell_type": "markdown",
   "metadata": {},
   "source": [
    "# Puzzle 26 - Knight and Knave"
   ]
  },
  {
   "cell_type": "code",
   "execution_count": 8,
   "metadata": {},
   "outputs": [],
   "source": [
    "/* Según este viejo problema, tres de los habitantes - A, B, C - se encontraban en un jardin.\n",
    "Un extranjero pasó por allí y le preguntó a A, \"¿Eres caballero o escudero?\".\n",
    "A respondió, pero tan confusamente, que el extranjero no pudo enterarse de lo que decía.\n",
    "Entonces el extranjero preguntó a B, \"¿Que ha dicho A?\". Y B le respondió \"A ha dicho que es escudero\".\n",
    "Pero en ese instante el tercer hombre, C, dijo \"¡No creas a B, que está mintiendo!\"\n",
    "\n",
    "Pregunta: ¿que son B y C?\n",
    "\n",
    "Opcion1: B - escudero\n",
    "         C - escudero\n",
    "SOLUCION CORRECTA ---------------->  Opcion2: B - escudero\n",
    "                                              C - caballero\n",
    "Opcion3: B - caballero\n",
    "         C - escudero\n",
    "Opcion4: B - caballero\n",
    "         C - caballero  \n",
    "*/         "
   ]
  },
  {
   "cell_type": "code",
   "execution_count": 8,
   "metadata": {},
   "outputs": [],
   "source": [
    "/* Detalle de la Solucion:\n",
    "\n",
    "Es imposible que un caballero o un escudero digan: \"Yo soy escudero\", porque un caballero emitiría el enunciado\n",
    "falso de que él es escudero, y un escudero no emitiría el enunciado verdadero de que él es un escudero.\n",
    "Por lo tanto, A nunca diría que era un escudero. Así, B mentía cuando dijo que A habia dicho que él era escudero.\n",
    "Por lo tanto B es escudero. Puesto que C dijo que B estaba mintiendo, y B estaba ciertamente mintiendo, C dijo la verdad, \n",
    "de aquí que se tratara de un caballero. Asi pues, B es un escudero y C un caballero. (Es imposible saber que es A).\n",
    "\n",
    "*/"
   ]
  },
  {
   "cell_type": "code",
   "execution_count": 8,
   "metadata": {},
   "outputs": [],
   "source": [
    "/* Definicion en LPO:\n",
    "\n",
    "A - 1\n",
    "B - 2\n",
    "C - 3\n",
    "\n",
    "Says(P[2], Says(P[1], P[1] = Knave)) ∧ Says(P[3], P[2] = Knave)\n",
    "B: A says he is a knave ---> Says(P[2], Says(P[1], P[1] = Knave))\n",
    "C: B is a knave         ---> Says(P[3], P[2] = Knave)\n",
    "\n",
    "Pseudo ejemplo:\n",
    "\n",
    "Says(B, Says(A, knave(A))) ∧ Says(C, knave(B)) => (knave(B) ∧ knight(C))\n",
    "\n",
    "*/"
   ]
  },
  {
   "cell_type": "code",
   "execution_count": 12,
   "metadata": {},
   "outputs": [],
   "source": [
    "// VERSION 1 - SIGNATURA INCORRECTA \n",
    "\n",
    "/*\n",
    "def puzzle26(premises: KnightsKnaves)(a: Inhabitant)(b: Inhabitant)(c: Inhabitant):\n",
    "    (b.Says[a.Says[a.Knave]], c.Says[b.Knave]) => (b.Knave, c.Knight) = \n",
    "    ({t: (b.Says[a.Says[a.Knave]], c.Says[b.Knave]) =>\n",
    "        \n",
    "        ??? : (b.Knave, c.Knight)\n",
    "        \n",
    "    }): ((b.Says[a.Says[a.Knave]], c.Says[b.Knave]) => (b.Knave, c.Knight))\n",
    "*/    \n",
    "    "
   ]
  },
  {
   "cell_type": "code",
   "execution_count": 21,
   "metadata": {},
   "outputs": [
    {
     "data": {
      "text/plain": [
       "defined \u001b[32mfunction\u001b[39m \u001b[36mpuzzle26\u001b[39m"
      ]
     },
     "execution_count": 21,
     "metadata": {},
     "output_type": "execute_result"
    }
   ],
   "source": [
    "// VERSION 2\n",
    "// Primero P1 con b en lugar de c - CON ESTE SI OK\n",
    "def puzzle26(premises: KnightsKnaves)(a: Inhabitant)(b: Inhabitant)(c: Inhabitant):\n",
    "    ((b.Says[a.Says[a.Knave]], c.Says[b.Knave])) => (b.Knave, c.Knight) = \n",
    "    ({t: ((b.Says[a.Says[a.Knave]], c.Says[b.Knave])) =>\n",
    "        t._1: b.Says[a.Says[a.Knave]]\n",
    "        t._2: c.Says[b.Knave]\n",
    "        \n",
    "        (premises.P1(b) match{\n",
    "            case Left(bKnight: b.Knight) =>\n",
    "                // def P2[P](b: Inhabitant): b.Knight => b.Says[P] => P     \n",
    "                val b_L1: b.Knight => b.Says[a.Says[a.Knave]] => a.Says[a.Knave] = premises.P2[a.Says[a.Knave]](b)\n",
    "                val b_L2: b.Says[a.Says[a.Knave]] => a.Says[a.Knave] = b_L1(bKnight)\n",
    "                val b_L3: a.Says[a.Knave] = b_L2(t._1)\n",
    "                \n",
    "                (premises.P1(a) match{\n",
    "                    case Left(aKnight: a.Knight) => \n",
    "                        // def P2[P](a: Inhabitant): a.Knight => a.Says[P] => P \n",
    "                        val a_L1: a.Knight => a.Says[a.Knave] => a.Knave = premises.P2[a.Knave](a)\n",
    "                        val a_L2: a.Says[a.Knave] => a.Knave = a_L1(aKnight)\n",
    "                        val a_L3: a.Knave = a_L2(b_L3)\n",
    "                        a_L3(aKnight): Nothing\n",
    "                        a_L3(aKnight) : (b.Knave, c.Knight)\n",
    "                    case Right(aKnave: a.Knave) => \n",
    "                        //def P3[P](a: Inhabitant): a.Knave => a.Says[P] => ¬[P]\n",
    "                        val a_R1: a.Knave => a.Says[a.Knave] => ¬[a.Knave] = premises.P3[a.Knave](a)\n",
    "                        val a_R2: a.Says[a.Knave] => ¬[a.Knave] = a_R1(aKnave)\n",
    "                        val a_R3: a.Knave => Nothing = a_R2(b_L3)\n",
    "                        a_R3(aKnave): Nothing\n",
    "                        a_R3(aKnave) : (b.Knave, c.Knight)\n",
    "                }) : (b.Knave, c.Knight)\n",
    "            \n",
    "            case Right(bKnave: b.Knave) =>\n",
    "                //def P3[P](b: Inhabitant): b.Knave => b.Says[P] => ¬[P]\n",
    "                val b_R1: b.Knave => b.Says[a.Says[a.Knave]] => ¬[a.Says[a.Knave]] = premises.P3[a.Says[a.Knave]](b)\n",
    "                val b_R2: b.Says[a.Says[a.Knave]] => ¬[a.Says[a.Knave]] = b_R1(bKnave)\n",
    "                val b_R3: a.Says[a.Knave] => Nothing = b_R2(t._1)\n",
    "            \n",
    "                (premises.P1(c) match{\n",
    "                    case Left(cKnight: c.Knight) => \n",
    "                        // def P2[P](c: Inhabitant): c.Knight => c.Says[P] => P \n",
    "                        val c_L1: c.Knight => c.Says[b.Knave] => b.Knave = premises.P2[b.Knave](c)\n",
    "                        val c_L2: c.Says[b.Knave] => b.Knave = c_L1(cKnight)\n",
    "                        val c_L3: b.Knave = c_L2(t._2)\n",
    "                        (c_L2(t._2), cKnight) : (b.Knave, c.Knight)\n",
    "                    case Right(cKnave: c.Knave) => \n",
    "                        //def P3[P](c: Inhabitant): c.Knave => c.Says[P] => ¬[P]\n",
    "                        val c_R1: c.Knave => c.Says[b.Knave] => ¬[b.Knave] = premises.P3[b.Knave](c)\n",
    "                        val c_R2: c.Says[b.Knave] => ¬[b.Knave] = c_R1(cKnave)\n",
    "                        val c_R3: b.Knave => Nothing = c_R2(t._2)\n",
    "                        \n",
    "                        c_R3(bKnave): Nothing\n",
    "                    \n",
    "                        c_R3(bKnave) : (b.Knave, c.Knight)\n",
    "                }) : (b.Knave, c.Knight)\n",
    "        }) : (b.Knave, c.Knight)\n",
    "        \n",
    "    }): (((b.Says[a.Says[a.Knave]], c.Says[b.Knave])) => (b.Knave, c.Knight))\n",
    "        \n",
    "    \n",
    "    "
   ]
  },
  {
   "cell_type": "code",
   "execution_count": 22,
   "metadata": {},
   "outputs": [
    {
     "data": {
      "text/plain": [
       "defined \u001b[32mfunction\u001b[39m \u001b[36mpuzzle26\u001b[39m"
      ]
     },
     "execution_count": 22,
     "metadata": {},
     "output_type": "execute_result"
    }
   ],
   "source": [
    "// VERSION 3 - SIMPLIFICADO\n",
    "// Primero P1 con b en lugar de c - CON ESTE SI OK\n",
    "def puzzle26(premises: KnightsKnaves)(a: Inhabitant)(b: Inhabitant)(c: Inhabitant):\n",
    "    ((b.Says[a.Says[a.Knave]], c.Says[b.Knave])) => (b.Knave, c.Knight) = \n",
    "    ({t =>\n",
    "        (premises.P1(b) match{\n",
    "            case Left(bKnight) =>\n",
    "                // def P2[P](b: Inhabitant): b.Knight => b.Says[P] => P     \n",
    "                val b_L1: b.Knight => b.Says[a.Says[a.Knave]] => a.Says[a.Knave] = premises.P2[a.Says[a.Knave]](b)\n",
    "                val b_L2: b.Says[a.Says[a.Knave]] => a.Says[a.Knave] = b_L1(bKnight)\n",
    "                val b_L3: a.Says[a.Knave] = b_L2(t._1)\n",
    "                \n",
    "                (premises.P1(a) match{\n",
    "                    case Left(aKnight) => \n",
    "                        // def P2[P](a: Inhabitant): a.Knight => a.Says[P] => P \n",
    "                        val a_L1: a.Knight => a.Says[a.Knave] => a.Knave = premises.P2[a.Knave](a)\n",
    "                        val a_L2: a.Says[a.Knave] => a.Knave = a_L1(aKnight)\n",
    "                        val a_L3: a.Knave = a_L2(b_L3)\n",
    "                        a_L3(aKnight)\n",
    "                    case Right(aKnave) => \n",
    "                        //def P3[P](a: Inhabitant): a.Knave => a.Says[P] => ¬[P]\n",
    "                        val a_R1: a.Knave => a.Says[a.Knave] => ¬[a.Knave] = premises.P3[a.Knave](a)\n",
    "                        val a_R2: a.Says[a.Knave] => ¬[a.Knave] = a_R1(aKnave)\n",
    "                        val a_R3: a.Knave => Nothing = a_R2(b_L3)\n",
    "                        a_R3(aKnave)\n",
    "                }) \n",
    "            \n",
    "            case Right(bKnave) =>\n",
    "                //def P3[P](b: Inhabitant): b.Knave => b.Says[P] => ¬[P]\n",
    "                val b_R1: b.Knave => b.Says[a.Says[a.Knave]] => ¬[a.Says[a.Knave]] = premises.P3[a.Says[a.Knave]](b)\n",
    "                val b_R2: b.Says[a.Says[a.Knave]] => ¬[a.Says[a.Knave]] = b_R1(bKnave)\n",
    "                val b_R3: a.Says[a.Knave] => Nothing = b_R2(t._1)\n",
    "            \n",
    "                (premises.P1(c) match{\n",
    "                    case Left(cKnight) => \n",
    "                        // def P2[P](c: Inhabitant): c.Knight => c.Says[P] => P \n",
    "                        val c_L1: c.Knight => c.Says[b.Knave] => b.Knave = premises.P2[b.Knave](c)\n",
    "                        val c_L2: c.Says[b.Knave] => b.Knave = c_L1(cKnight)\n",
    "                        val c_L3: b.Knave = c_L2(t._2)\n",
    "                        (c_L2(t._2), cKnight)\n",
    "                    case Right(cKnave) => \n",
    "                        //def P3[P](c: Inhabitant): c.Knave => c.Says[P] => ¬[P]\n",
    "                        val c_R1: c.Knave => c.Says[b.Knave] => ¬[b.Knave] = premises.P3[b.Knave](c)\n",
    "                        val c_R2: c.Says[b.Knave] => ¬[b.Knave] = c_R1(cKnave)\n",
    "                        val c_R3: b.Knave => Nothing = c_R2(t._2)\n",
    "                        c_R3(bKnave)\n",
    "                }) \n",
    "        }) \n",
    "    })\n",
    "        \n",
    "    \n",
    "    "
   ]
  },
  {
   "cell_type": "code",
   "execution_count": 22,
   "metadata": {},
   "outputs": [
    {
     "name": "stderr",
     "output_type": "stream",
     "text": [
      "(console):58:21 expected \")\"\r\n",
      "// Sugar version\n",
      "// Primero P1 con b en lugar de c - CON ESTE SI OK\n",
      "\n",
      "/*def puzzle26(premises: KnightsKnaves)(a: Inhabitant)(b: Inhabitant)(c: Inhabitant):\n",
      "    ((b.Says[a.Says[a.Knave]], c.Says[b.Knave])) => (b.Knave, c.Knight) = \n",
      "    ({t =>\n",
      "        (premises.P1(b) match{\n",
      "            case Left(bKnight) =>\n",
      "                // def P2[P](b: Inhabitant): b.Knight => b.Says[P] => P     \n",
      "                val b_L1: b.Knight => b.Says[a.Says[a.Knave]] => a.Says[a.Knave] = premises.P2[a.Says[a.Knave]](b)\n",
      "                val b_L2: b.Says[a.Says[a.Knave]] => a.Says[a.Knave] = b_L1(bKnight)\n",
      "                val b_L3: a.Says[a.Knave] = b_L2(t._1)\n",
      "                \n",
      "                (premises.P1(a) match{\n",
      "                    case Left(aKnight) => \n",
      "                        // def P2[P](a: Inhabitant): a.Knight => a.Says[P] => P \n",
      "                        val a_L1: a.Knight => a.Says[a.Knave] => a.Knave = premises.P2[a.Knave](a)\n",
      "                        val a_L2: a.Says[a.Knave] => a.Knave = a_L1(aKnight)\n",
      "                        val a_L3: a.Knave = a_L2(b_L3)\n",
      "                        a_L3(aKnight)\n",
      "                    case Right(aKnave) => \n",
      "                        //def P3[P](a: Inhabitant): a.Knave => a.Says[P] => ¬[P]\n",
      "                        val a_R1: a.Knave => a.Says[a.Knave] => ¬[a.Knave] = premises.P3[a.Knave](a)\n",
      "                        val a_R2: a.Says[a.Knave] => ¬[a.Knave] = a_R1(aKnave)\n",
      "                        val a_R3: a.Knave => Nothing = a_R2(b_L3)\n",
      "                        a_R3(aKnave)\n",
      "                }) \n",
      "            \n",
      "            case Right(bKnave) =>\n",
      "                //def P3[P](b: Inhabitant): b.Knave => b.Says[P] => ¬[P]\n",
      "                val b_R1: b.Knave => b.Says[a.Says[a.Knave]] => ¬[a.Says[a.Knave]] = premises.P3[a.Says[a.Knave]](b)\n",
      "                val b_R2: b.Says[a.Says[a.Knave]] => ¬[a.Says[a.Knave]] = b_R1(bKnave)\n",
      "                val b_R3: a.Says[a.Knave] => Nothing = b_R2(t._1)\n",
      "            \n",
      "                (premises.P1(c) match{\n",
      "                    case Left(cKnight) => \n",
      "                        // def P2[P](c: Inhabitant): c.Knight => c.Says[P] => P \n",
      "                        val c_L1: c.Knight => c.Says[b.Knave] => b.Knave = premises.P2[b.Knave](c)\n",
      "                        val c_L2: c.Says[b.Knave] => b.Knave = c_L1(cKnight)\n",
      "                        val c_L3: b.Knave = c_L2(t._2)\n",
      "                        (c_L2(t._2), cKnight)\n",
      "                    case Right(cKnave) => \n",
      "                        //def P3[P](c: Inhabitant): c.Knave => c.Says[P] => ¬[P]\n",
      "                        val c_R1: c.Knave => c.Says[b.Knave] => ¬[b.Knave] = premises.P3[b.Knave](c)\n",
      "                        val c_R2: c.Says[b.Knave] => ¬[b.Knave] = c_R1(cKnave)\n",
      "                        val c_R3: b.Knave => Nothing = c_R2(t._2)\n",
      "                        c_R3(bKnave)\n",
      "                }) \n",
      "        }) \n",
      "    })\n",
      "*/\n",
      "\n",
      "def puzzle26(premises: KnightsKnaves)(a: Inhabitant)(b: Inhabitant)(c: Inhabitant):\n",
      "    ((b.Says[a.Says[a.Knave]], c.Says[b.Knave])) => (b.Knave, c.Knight) = \n",
      "        bSaycSay =>\n",
      "            premises.eitherKnightOrKnave(b).fold(\n",
      "                bIsKnight =>\n",
      "                    val aux1 = premises.noKnightLies(b)(bIsKnight)(bSaycSay._1): a.Says[a.Knave]\n",
      "                    premises.eitherKnightOrKnave(a).fold(\n",
      "                        aIsKnight =>\n",
      "                            val aux1_1 = premises.noKnightLies(a)(aIsKnight)(aux1): a.Knave\n",
      "                            aux1_1(aIsKnight)\n",
      "                        ,\n",
      "                        aIsKnave => \n",
      "                            val aux1_2 = premises.noKnaveTellsTruth(a)(aIsKnave)(aux1): Not[a.Knave]\n",
      "                            aux1_2(aIsKnave)\n",
      "                    )\n",
      "                ,\n",
      "                bIsKnave =>\n",
      "                    val aux2 = premises.noKnightLies(b)(bIsKnave)(bSaycSay._1): Not[a.Says[a.Knave]]\n",
      "                    premises.eitherKnightOrKnave(c).fold(\n",
      "                        cIsKnight =>\n",
      "                            val aux2_1 = premises.noKnightLies(c)(cIsKnight)(bSaycSay._2): b.Knave\n",
      "                            (aux2_1, cIsKnight)\n",
      "                        ,\n",
      "                        cIsKnave => \n",
      "                            val aux2_2 = premises.noKnaveTellsTruth(c)(cIsKnave)(bSaycSay._2): Not[b.Knave]\n",
      "                            aux2_2(bIsKnave)\n",
      "                    )\n",
      "           )\n",
      "    \n",
      "    \r\n",
      "                                                                                                                                                                                                                                                                                                                                                                                                                                                                                                                                                                                                                                                                                                                                                                                                                                                                                                                                                                                                                                                                                                                                                                                                                                                                                                                                                                                                                                                                                                                                                                                                                                                                                                                                                                                                                                                                                                                                                                                                                                                                                                                                                                                                                                                                                                                                                                                                                                                                                                                                                                                                                                                                                                                                                                                                                                                                                                                                                                                                                                                                                                                                                                                                             ^"
     ]
    },
    {
     "ename": "",
     "evalue": "",
     "output_type": "error",
     "traceback": [
      "(console):58:21 expected \")\"\r\n// Sugar version\n// Primero P1 con b en lugar de c - CON ESTE SI OK\n\n/*def puzzle26(premises: KnightsKnaves)(a: Inhabitant)(b: Inhabitant)(c: Inhabitant):\n    ((b.Says[a.Says[a.Knave]], c.Says[b.Knave])) => (b.Knave, c.Knight) = \n    ({t =>\n        (premises.P1(b) match{\n            case Left(bKnight) =>\n                // def P2[P](b: Inhabitant): b.Knight => b.Says[P] => P     \n                val b_L1: b.Knight => b.Says[a.Says[a.Knave]] => a.Says[a.Knave] = premises.P2[a.Says[a.Knave]](b)\n                val b_L2: b.Says[a.Says[a.Knave]] => a.Says[a.Knave] = b_L1(bKnight)\n                val b_L3: a.Says[a.Knave] = b_L2(t._1)\n                \n                (premises.P1(a) match{\n                    case Left(aKnight) => \n                        // def P2[P](a: Inhabitant): a.Knight => a.Says[P] => P \n                        val a_L1: a.Knight => a.Says[a.Knave] => a.Knave = premises.P2[a.Knave](a)\n                        val a_L2: a.Says[a.Knave] => a.Knave = a_L1(aKnight)\n                        val a_L3: a.Knave = a_L2(b_L3)\n                        a_L3(aKnight)\n                    case Right(aKnave) => \n                        //def P3[P](a: Inhabitant): a.Knave => a.Says[P] => ¬[P]\n                        val a_R1: a.Knave => a.Says[a.Knave] => ¬[a.Knave] = premises.P3[a.Knave](a)\n                        val a_R2: a.Says[a.Knave] => ¬[a.Knave] = a_R1(aKnave)\n                        val a_R3: a.Knave => Nothing = a_R2(b_L3)\n                        a_R3(aKnave)\n                }) \n            \n            case Right(bKnave) =>\n                //def P3[P](b: Inhabitant): b.Knave => b.Says[P] => ¬[P]\n                val b_R1: b.Knave => b.Says[a.Says[a.Knave]] => ¬[a.Says[a.Knave]] = premises.P3[a.Says[a.Knave]](b)\n                val b_R2: b.Says[a.Says[a.Knave]] => ¬[a.Says[a.Knave]] = b_R1(bKnave)\n                val b_R3: a.Says[a.Knave] => Nothing = b_R2(t._1)\n            \n                (premises.P1(c) match{\n                    case Left(cKnight) => \n                        // def P2[P](c: Inhabitant): c.Knight => c.Says[P] => P \n                        val c_L1: c.Knight => c.Says[b.Knave] => b.Knave = premises.P2[b.Knave](c)\n                        val c_L2: c.Says[b.Knave] => b.Knave = c_L1(cKnight)\n                        val c_L3: b.Knave = c_L2(t._2)\n                        (c_L2(t._2), cKnight)\n                    case Right(cKnave) => \n                        //def P3[P](c: Inhabitant): c.Knave => c.Says[P] => ¬[P]\n                        val c_R1: c.Knave => c.Says[b.Knave] => ¬[b.Knave] = premises.P3[b.Knave](c)\n                        val c_R2: c.Says[b.Knave] => ¬[b.Knave] = c_R1(cKnave)\n                        val c_R3: b.Knave => Nothing = c_R2(t._2)\n                        c_R3(bKnave)\n                }) \n        }) \n    })\n*/\n\ndef puzzle26(premises: KnightsKnaves)(a: Inhabitant)(b: Inhabitant)(c: Inhabitant):\n    ((b.Says[a.Says[a.Knave]], c.Says[b.Knave])) => (b.Knave, c.Knight) = \n        bSaycSay =>\n            premises.eitherKnightOrKnave(b).fold(\n                bIsKnight =>\n                    val aux1 = premises.noKnightLies(b)(bIsKnight)(bSaycSay._1): a.Says[a.Knave]\n                    premises.eitherKnightOrKnave(a).fold(\n                        aIsKnight =>\n                            val aux1_1 = premises.noKnightLies(a)(aIsKnight)(aux1): a.Knave\n                            aux1_1(aIsKnight)\n                        ,\n                        aIsKnave => \n                            val aux1_2 = premises.noKnaveTellsTruth(a)(aIsKnave)(aux1): Not[a.Knave]\n                            aux1_2(aIsKnave)\n                    )\n                ,\n                bIsKnave =>\n                    val aux2 = premises.noKnightLies(b)(bIsKnave)(bSaycSay._1): Not[a.Says[a.Knave]]\n                    premises.eitherKnightOrKnave(c).fold(\n                        cIsKnight =>\n                            val aux2_1 = premises.noKnightLies(c)(cIsKnight)(bSaycSay._2): b.Knave\n                            (aux2_1, cIsKnight)\n                        ,\n                        cIsKnave => \n                            val aux2_2 = premises.noKnaveTellsTruth(c)(cIsKnave)(bSaycSay._2): Not[b.Knave]\n                            aux2_2(bIsKnave)\n                    )\n           )\n    \n    \r\n                                                                                                                                                                                                                                                                                                                                                                                                                                                                                                                                                                                                                                                                                                                                                                                                                                                                                                                                                                                                                                                                                                                                                                                                                                                                                                                                                                                                                                                                                                                                                                                                                                                                                                                                                                                                                                                                                                                                                                                                                                                                                                                                                                                                                                                                                                                                                                                                                                                                                                                                                                                                                                                                                                                                                                                                                                                                                                                                                                                                                                                                                                                                                                                                             ^"
     ]
    }
   ],
   "source": [
    "// Sugar version\n",
    "// Primero P1 con b en lugar de c - CON ESTE SI OK\n",
    "\n",
    "/*def puzzle26(premises: KnightsKnaves)(a: Inhabitant)(b: Inhabitant)(c: Inhabitant):\n",
    "    ((b.Says[a.Says[a.Knave]], c.Says[b.Knave])) => (b.Knave, c.Knight) = \n",
    "    ({t =>\n",
    "        (premises.P1(b) match{\n",
    "            case Left(bKnight) =>\n",
    "                // def P2[P](b: Inhabitant): b.Knight => b.Says[P] => P     \n",
    "                val b_L1: b.Knight => b.Says[a.Says[a.Knave]] => a.Says[a.Knave] = premises.P2[a.Says[a.Knave]](b)\n",
    "                val b_L2: b.Says[a.Says[a.Knave]] => a.Says[a.Knave] = b_L1(bKnight)\n",
    "                val b_L3: a.Says[a.Knave] = b_L2(t._1)\n",
    "                \n",
    "                (premises.P1(a) match{\n",
    "                    case Left(aKnight) => \n",
    "                        // def P2[P](a: Inhabitant): a.Knight => a.Says[P] => P \n",
    "                        val a_L1: a.Knight => a.Says[a.Knave] => a.Knave = premises.P2[a.Knave](a)\n",
    "                        val a_L2: a.Says[a.Knave] => a.Knave = a_L1(aKnight)\n",
    "                        val a_L3: a.Knave = a_L2(b_L3)\n",
    "                        a_L3(aKnight)\n",
    "                    case Right(aKnave) => \n",
    "                        //def P3[P](a: Inhabitant): a.Knave => a.Says[P] => ¬[P]\n",
    "                        val a_R1: a.Knave => a.Says[a.Knave] => ¬[a.Knave] = premises.P3[a.Knave](a)\n",
    "                        val a_R2: a.Says[a.Knave] => ¬[a.Knave] = a_R1(aKnave)\n",
    "                        val a_R3: a.Knave => Nothing = a_R2(b_L3)\n",
    "                        a_R3(aKnave)\n",
    "                }) \n",
    "            \n",
    "            case Right(bKnave) =>\n",
    "                //def P3[P](b: Inhabitant): b.Knave => b.Says[P] => ¬[P]\n",
    "                val b_R1: b.Knave => b.Says[a.Says[a.Knave]] => ¬[a.Says[a.Knave]] = premises.P3[a.Says[a.Knave]](b)\n",
    "                val b_R2: b.Says[a.Says[a.Knave]] => ¬[a.Says[a.Knave]] = b_R1(bKnave)\n",
    "                val b_R3: a.Says[a.Knave] => Nothing = b_R2(t._1)\n",
    "            \n",
    "                (premises.P1(c) match{\n",
    "                    case Left(cKnight) => \n",
    "                        // def P2[P](c: Inhabitant): c.Knight => c.Says[P] => P \n",
    "                        val c_L1: c.Knight => c.Says[b.Knave] => b.Knave = premises.P2[b.Knave](c)\n",
    "                        val c_L2: c.Says[b.Knave] => b.Knave = c_L1(cKnight)\n",
    "                        val c_L3: b.Knave = c_L2(t._2)\n",
    "                        (c_L2(t._2), cKnight)\n",
    "                    case Right(cKnave) => \n",
    "                        //def P3[P](c: Inhabitant): c.Knave => c.Says[P] => ¬[P]\n",
    "                        val c_R1: c.Knave => c.Says[b.Knave] => ¬[b.Knave] = premises.P3[b.Knave](c)\n",
    "                        val c_R2: c.Says[b.Knave] => ¬[b.Knave] = c_R1(cKnave)\n",
    "                        val c_R3: b.Knave => Nothing = c_R2(t._2)\n",
    "                        c_R3(bKnave)\n",
    "                }) \n",
    "        }) \n",
    "    })\n",
    "*/\n",
    "\n",
    "def puzzle26(premises: KnightsKnaves)(a: Inhabitant)(b: Inhabitant)(c: Inhabitant):\n",
    "    ((b.Says[a.Says[a.Knave]], c.Says[b.Knave])) => (b.Knave, c.Knight) = \n",
    "        bSaycSay =>\n",
    "            premises.eitherKnightOrKnave(b).fold(\n",
    "                bIsKnight =>\n",
    "                    val aux1 = premises.noKnightLies(b)(bIsKnight)(bSaycSay._1): a.Says[a.Knave]\n",
    "                    premises.eitherKnightOrKnave(a).fold(\n",
    "                        aIsKnight =>\n",
    "                            val aux1_1 = premises.noKnightLies(a)(aIsKnight)(aux1): a.Knave\n",
    "                            aux1_1(aIsKnight)\n",
    "                        ,\n",
    "                        aIsKnave => \n",
    "                            val aux1_2 = premises.noKnaveTellsTruth(a)(aIsKnave)(aux1): Not[a.Knave]\n",
    "                            aux1_2(aIsKnave)\n",
    "                    )\n",
    "                ,\n",
    "                bIsKnave =>\n",
    "                    val aux2 = premises.noKnightLies(b)(bIsKnave)(bSaycSay._1): Not[a.Says[a.Knave]]\n",
    "                    premises.eitherKnightOrKnave(c).fold(\n",
    "                        cIsKnight =>\n",
    "                            val aux2_1 = premises.noKnightLies(c)(cIsKnight)(bSaycSay._2): b.Knave\n",
    "                            (aux2_1, cIsKnight)\n",
    "                        ,\n",
    "                        cIsKnave => \n",
    "                            val aux2_2 = premises.noKnaveTellsTruth(c)(cIsKnave)(bSaycSay._2): Not[b.Knave]\n",
    "                            aux2_2(bIsKnave)\n",
    "                    )\n",
    "           )\n",
    "    \n",
    "    "
   ]
  },
  {
   "cell_type": "code",
   "execution_count": null,
   "metadata": {},
   "outputs": [],
   "source": []
  }
 ],
 "metadata": {
  "kernelspec": {
   "display_name": "Scala",
   "language": "scala",
   "name": "scala"
  },
  "language_info": {
   "codemirror_mode": "text/x-scala",
   "file_extension": ".sc",
   "mimetype": "text/x-scala",
   "name": "scala",
   "nbconvert_exporter": "script",
   "version": "2.13.3"
  }
 },
 "nbformat": 4,
 "nbformat_minor": 4
}
